{
 "cells": [
  {
   "cell_type": "code",
   "execution_count": 1,
   "metadata": {},
   "outputs": [
    {
     "name": "stdout",
     "output_type": "stream",
     "text": [
      "The count is: 0\n",
      "The count is: 1\n",
      "The count is: 2\n",
      "The count is: 3\n",
      "The count is: 4\n",
      "The count is: 5\n",
      "The count is: 6\n",
      "The count is: 7\n",
      "The count is: 8\n"
     ]
    }
   ],
   "source": [
    "# while - Condition\n",
    "\n",
    "count = 0\n",
    "\n",
    "while (count < 9):\n",
    "   print ('The count is:', count)\n",
    "   count = count + 1\n",
    "\n",
    "# care about infinity loop"
   ]
  },
  {
   "cell_type": "code",
   "execution_count": 2,
   "metadata": {},
   "outputs": [
    {
     "name": "stdout",
     "output_type": "stream",
     "text": [
      "0  is  less than 5\n",
      "1  is  less than 5\n",
      "2  is  less than 5\n",
      "3  is  less than 5\n",
      "4  is  less than 5\n",
      "5  is not less than 5\n"
     ]
    }
   ],
   "source": [
    "#while - else\n",
    "count = 0\n",
    "while count < 5:\n",
    "   print (count, \" is  less than 5\")\n",
    "   count = count + 1\n",
    "else:\n",
    "   print (count, \" is not less than 5\")"
   ]
  },
  {
   "cell_type": "code",
   "execution_count": 3,
   "metadata": {},
   "outputs": [
    {
     "name": "stdout",
     "output_type": "stream",
     "text": [
      "Current variable value : 10\n",
      "Current variable value : 9\n",
      "Current variable value : 8\n",
      "Current variable value : 7\n",
      "Current variable value : 6\n"
     ]
    }
   ],
   "source": [
    "# Break, Continue, Pass\n",
    "var = 10                    # Second Example\n",
    "while var > 0:              \n",
    "   print ('Current variable value :', var)\n",
    "   var = var -1\n",
    "   if var == 5:\n",
    "      break\n",
    "\n"
   ]
  },
  {
   "cell_type": "code",
   "execution_count": 4,
   "metadata": {},
   "outputs": [
    {
     "name": "stdout",
     "output_type": "stream",
     "text": [
      "Current variable value : 9\n",
      "Current variable value : 8\n",
      "Current variable value : 7\n",
      "Current variable value : 6\n",
      "Current variable value : 4\n",
      "Current variable value : 3\n",
      "Current variable value : 2\n",
      "Current variable value : 1\n",
      "Current variable value : 0\n"
     ]
    }
   ],
   "source": [
    "var = 10                    # Second Example\n",
    "while var > 0:              \n",
    "   var = var -1\n",
    "   if var == 5:\n",
    "      continue\n",
    "   print ('Current variable value :', var  )\n",
    "\n"
   ]
  },
  {
   "cell_type": "code",
   "execution_count": 5,
   "metadata": {},
   "outputs": [
    {
     "name": "stdout",
     "output_type": "stream",
     "text": [
      "C:\\ProgramData\\Anaconda3\\python.exe\n",
      "\n",
      "C:\\ProgramData\\Anaconda3\\python36.zip\n",
      "C:\\ProgramData\\Anaconda3\\DLLs\n",
      "C:\\ProgramData\\Anaconda3\\lib\n",
      "C:\\ProgramData\\Anaconda3\n",
      "C:\\ProgramData\\Anaconda3\\lib\\site-packages\n",
      "C:\\ProgramData\\Anaconda3\\lib\\site-packages\\win32\n",
      "C:\\ProgramData\\Anaconda3\\lib\\site-packages\\win32\\lib\n",
      "C:\\ProgramData\\Anaconda3\\lib\\site-packages\\Pythonwin\n",
      "C:\\ProgramData\\Anaconda3\\lib\\site-packages\\IPython\\extensions\n",
      "C:\\Users\\radha\\.ipython\n"
     ]
    }
   ],
   "source": [
    "import sys\n",
    "print(sys.executable)\n",
    "print ('\\n'.join(sys.path))"
   ]
  },
  {
   "cell_type": "code",
   "execution_count": 6,
   "metadata": {},
   "outputs": [
    {
     "name": "stdout",
     "output_type": "stream",
     "text": [
      "<module 'ntpath' from 'C:\\\\ProgramData\\\\Anaconda3\\\\lib\\\\ntpath.py'>\n"
     ]
    }
   ],
   "source": [
    "import os\n",
    "print(os.path)"
   ]
  },
  {
   "cell_type": "code",
   "execution_count": 9,
   "metadata": {},
   "outputs": [
    {
     "name": "stdout",
     "output_type": "stream",
     "text": [
      "Python\n",
      "R Script\n",
      "Java\n",
      "C,C++\n"
     ]
    }
   ],
   "source": [
    "list = [\"Python\", \"R Script\", \"Java\", \"C,C++\"]\n",
    "\n",
    "i = 0\n",
    "while i < len(list):\n",
    "    element = list[i]\n",
    "    print(element)\n",
    "    i += 1"
   ]
  },
  {
   "cell_type": "code",
   "execution_count": 10,
   "metadata": {},
   "outputs": [
    {
     "name": "stdout",
     "output_type": "stream",
     "text": [
      "Languages :: Python\n",
      "Languages :: R Script\n",
      "Languages :: C,C++\n"
     ]
    }
   ],
   "source": [
    "list = [\"Python\", \"R Script\", \"Java\", \"C,C++\"]\n",
    "\n",
    "i = 0\n",
    "while i < len(list):\n",
    "    element = list[i]\n",
    "    i += 1\n",
    "\n",
    "    # Test for this element.\n",
    "    if element == \"Java\":\n",
    "        continue\n",
    "\n",
    "    # Display element.\n",
    "    print(\"Languages ::\", element)"
   ]
  },
  {
   "cell_type": "code",
   "execution_count": 15,
   "metadata": {},
   "outputs": [
    {
     "name": "stdout",
     "output_type": "stream",
     "text": [
      "RANDOM 58\n",
      "RANDOM 16\n",
      "RANDOM 6\n",
      "RANDOM 26\n",
      "RANDOM 24\n",
      "RANDOM 89\n",
      "ODD\n"
     ]
    }
   ],
   "source": [
    "import random\n",
    "\n",
    "# TRUE/ FALSE\n",
    "while True:\n",
    "    # Get random int.\n",
    "    n = random.randint(0, 100)\n",
    "    print(\"RANDOM\", n)\n",
    "\n",
    "    if n % 2 != 0:\n",
    "        print(\"ODD\")\n",
    "        break"
   ]
  },
  {
   "cell_type": "markdown",
   "metadata": {},
   "source": [
    "<font color=\"red\"> While, in general not used for Dictionary </font>"
   ]
  },
  {
   "cell_type": "code",
   "execution_count": 16,
   "metadata": {},
   "outputs": [
    {
     "name": "stdout",
     "output_type": "stream",
     "text": [
      "Inside loop\n",
      "Inside loop\n",
      "Inside loop\n",
      "Inside else\n"
     ]
    }
   ],
   "source": [
    "counter = 0\n",
    "\n",
    "while counter < 3:\n",
    "    print(\"Inside loop\")\n",
    "    counter = counter + 1\n",
    "else:\n",
    "    print(\"Inside else\")"
   ]
  },
  {
   "cell_type": "code",
   "execution_count": 67,
   "metadata": {},
   "outputs": [
    {
     "name": "stdout",
     "output_type": "stream",
     "text": [
      "{1: 'Python', 2: 'R script', 3: 'SAS', 4: 'Java'}\n",
      "<dict_itemiterator object at 0x0000000709BE2F98>\n",
      "1 Python\n",
      "2 R script\n",
      "3 SAS\n",
      "4 Java\n",
      "******************************\n",
      "1 Python\n",
      "2 R script\n",
      "3 SAS\n",
      "4 Java\n"
     ]
    }
   ],
   "source": [
    "# Complex way !!! but possible from \"while\"\n",
    "\n",
    "my_dict = {1: 'Python', 2: 'R script', 3:'SAS',4:'Java'}\n",
    "print(my_dict)\n",
    "\n",
    "a = iter(my_dict.items())\n",
    "default = object()\n",
    "print(a)\n",
    "\n",
    "while a:\n",
    "    elem = next(a, default)\n",
    "    # This check is to know whether iterator is exhausted or not.\n",
    "    if elem is default:\n",
    "        break\n",
    "    print(\"{} {}\".format(*elem))\n",
    "    \n",
    "print(\"*\" * 30)\n",
    "while my_dict:\n",
    "  x = next(x for x in my_dict)\n",
    "  print(x, my_dict.pop(x))    \n",
    "    \n",
    "    "
   ]
  },
  {
   "cell_type": "code",
   "execution_count": null,
   "metadata": {},
   "outputs": [],
   "source": []
  }
 ],
 "metadata": {
  "kernelspec": {
   "display_name": "Python 3",
   "language": "python",
   "name": "python3"
  },
  "language_info": {
   "codemirror_mode": {
    "name": "ipython",
    "version": 3
   },
   "file_extension": ".py",
   "mimetype": "text/x-python",
   "name": "python",
   "nbconvert_exporter": "python",
   "pygments_lexer": "ipython3",
   "version": "3.6.5"
  }
 },
 "nbformat": 4,
 "nbformat_minor": 2
}
