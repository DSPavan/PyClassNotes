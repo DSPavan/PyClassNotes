{
 "cells": [
  {
   "cell_type": "code",
   "execution_count": 1,
   "metadata": {},
   "outputs": [
    {
     "name": "stdout",
     "output_type": "stream",
     "text": [
      "Perimter is =  14.5\n",
      "The area of the triangle is 93.71\n"
     ]
    }
   ],
   "source": [
    "# Integers, Numbers\n",
    "\n",
    "a = 5\n",
    "b = 6\n",
    "c = 7\n",
    " \n",
    "s = (a+b+c/2)\n",
    "perimeter = s\n",
    "print(\"Perimter is = \", perimeter)\n",
    "\n",
    "area = (s*(s-a)*(s-b)*(s-c)) ** 0.5\n",
    "print('The area of the triangle is %0.2f' %area)"
   ]
  },
  {
   "cell_type": "code",
   "execution_count": 2,
   "metadata": {},
   "outputs": [
    {
     "name": "stdout",
     "output_type": "stream",
     "text": [
      "93.7\n",
      "The area of the triangle is 93.71\n",
      "<class 'float'>\n"
     ]
    }
   ],
   "source": [
    "import math\n",
    "area2 =   math.sqrt(s*(s-a)*(s-b)*(s-c))\n",
    "print(round(area2,1))\n",
    "print('The area of the triangle is %0.2f'  %area2)\n",
    "print(type(area2))"
   ]
  },
  {
   "cell_type": "code",
   "execution_count": 3,
   "metadata": {},
   "outputs": [
    {
     "name": "stdout",
     "output_type": "stream",
     "text": [
      "100\n",
      "<class 'int'>\n",
      "100.0\n",
      "<class 'float'>\n",
      "(100+0j)\n",
      "<class 'complex'>\n"
     ]
    }
   ],
   "source": [
    "##\n",
    "'''\n",
    "int (signed integers) \n",
    "long (long integers ) \n",
    "float (floating point real values)\n",
    "complex (complex numbers\n",
    "'''\n",
    "\n",
    "## Type conversion\n",
    "'''\n",
    "int(x)\n",
    "long(x)  # his is not in python3\n",
    "float(x)\n",
    "complex(x)\n",
    "'''\n",
    "\n",
    "x = 100\n",
    "\n",
    "print(int(x))\n",
    "print(type(int(x)))\n",
    "\n",
    "#print(long(y))\n",
    "print(float(x))\n",
    "print(type(float(x)))\n",
    "\n",
    "print(complex(x))\n",
    "print(type(complex(x)))"
   ]
  },
  {
   "cell_type": "code",
   "execution_count": 4,
   "metadata": {},
   "outputs": [
    {
     "name": "stdout",
     "output_type": "stream",
     "text": [
      "101\n",
      "100\n",
      "100.3\n"
     ]
    }
   ],
   "source": [
    "y = 100.276\n",
    "print(math.ceil(y))\n",
    "print(math.floor(y))\n",
    "print(round(y,1))"
   ]
  },
  {
   "cell_type": "code",
   "execution_count": 5,
   "metadata": {},
   "outputs": [
    {
     "name": "stdout",
     "output_type": "stream",
     "text": [
      "100.276\n",
      "(4, 0)\n",
      "(4, 1)\n",
      "4\n",
      "1\n"
     ]
    }
   ],
   "source": [
    "y2 = -100.276\n",
    "print(abs(y2)) # No sign difference\n",
    "\n",
    "print(divmod(16,4)) # division, Remainder\n",
    "\n",
    "print(divmod(17,4)) # division, Remainder\n",
    "\n",
    "\n",
    "print(17 // 4) # quotient\n",
    "print(17 %  4) # remainder"
   ]
  },
  {
   "cell_type": "code",
   "execution_count": 6,
   "metadata": {},
   "outputs": [
    {
     "name": "stdout",
     "output_type": "stream",
     "text": [
      "16\n",
      "16\n"
     ]
    }
   ],
   "source": [
    "print(pow(2,4))\n",
    "print(2**4) \n"
   ]
  },
  {
   "cell_type": "code",
   "execution_count": 7,
   "metadata": {},
   "outputs": [
    {
     "name": "stdout",
     "output_type": "stream",
     "text": [
      "random() :  0.24712389606162144\n",
      "Random number with seed 10 :  0.5714025946899135\n"
     ]
    }
   ],
   "source": [
    "import random as rd\n",
    "\n",
    "# First random number\n",
    "print (\"random() : \", rd.random())\n",
    "\n",
    "rd.seed( 10 )\n",
    "print(\"Random number with seed 10 : \", rd.random())"
   ]
  },
  {
   "cell_type": "code",
   "execution_count": 8,
   "metadata": {},
   "outputs": [
    {
     "name": "stdout",
     "output_type": "stream",
     "text": [
      "10.392304845413264\n",
      "math.log10 :  2.0\n",
      "math.log :  4.605170185988092\n"
     ]
    }
   ],
   "source": [
    "#\n",
    "print(math.sqrt(108)) \n",
    "print(\"math.log10 : \", math.log10(100)) \n",
    "print(\"math.log : \", math.log(100)) # Natutal Log "
   ]
  },
  {
   "cell_type": "code",
   "execution_count": null,
   "metadata": {},
   "outputs": [],
   "source": []
  }
 ],
 "metadata": {
  "kernelspec": {
   "display_name": "Python 3",
   "language": "python",
   "name": "python3"
  },
  "language_info": {
   "codemirror_mode": {
    "name": "ipython",
    "version": 3
   },
   "file_extension": ".py",
   "mimetype": "text/x-python",
   "name": "python",
   "nbconvert_exporter": "python",
   "pygments_lexer": "ipython3",
   "version": "3.6.5"
  }
 },
 "nbformat": 4,
 "nbformat_minor": 2
}
