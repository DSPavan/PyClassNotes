{
 "cells": [
  {
   "cell_type": "code",
   "execution_count": 1,
   "metadata": {},
   "outputs": [
    {
     "name": "stdout",
     "output_type": "stream",
     "text": [
      "variable  100\n",
      "100\n"
     ]
    }
   ],
   "source": [
    "var1 = 100\n",
    "if var1:\n",
    "   print(\"variable \", var1)\n",
    "   print(var1)\n",
    "   \n",
    "#Note : No curly brackets "
   ]
  },
  {
   "cell_type": "code",
   "execution_count": 2,
   "metadata": {},
   "outputs": [
    {
     "name": "stdout",
     "output_type": "stream",
     "text": [
      "Higher than 50, actual data is 100\n"
     ]
    }
   ],
   "source": [
    "if var1 > 51:\n",
    "    print(\"Higher than 50, actual data is\", var1)"
   ]
  },
  {
   "cell_type": "code",
   "execution_count": 3,
   "metadata": {},
   "outputs": [],
   "source": [
    "var1 = 45\n",
    "if var1 > 51:\n",
    "    print(\"Higher than 50, actual data is\", var1)\n",
    "    \n",
    "## NO output. WE need another condition    "
   ]
  },
  {
   "cell_type": "code",
   "execution_count": 5,
   "metadata": {},
   "outputs": [
    {
     "name": "stdout",
     "output_type": "stream",
     "text": [
      "less than 50\n"
     ]
    }
   ],
   "source": [
    "# if-else    \n",
    "var2 = 45    \n",
    "if var2 > 50:\n",
    "    print(\"Higher than 50, actual data is\")\n",
    "else:\n",
    "    print (\"less than 50\")"
   ]
  },
  {
   "cell_type": "markdown",
   "metadata": {},
   "source": [
    "<h1> <font color=\"red\"> # If - elif - else </font></h1>"
   ]
  },
  {
   "cell_type": "code",
   "execution_count": 8,
   "metadata": {},
   "outputs": [
    {
     "name": "stdout",
     "output_type": "stream",
     "text": [
      "3 = above 100\n",
      "130\n"
     ]
    }
   ],
   "source": [
    "# If - elif - else\n",
    "var = 130\n",
    "if var >= 200:\n",
    "   print(\"1 = above 200\")\n",
    "   print(var)\n",
    "elif var >= 150:\n",
    "   print(\"2 = above 150\")\n",
    "   print(var)\n",
    "elif var >= 100:\n",
    "   print (\"3 = above 100\")\n",
    "   print (var)\n",
    "else:\n",
    "   print (\"4 = less than 100\")\n",
    "   print (var)"
   ]
  },
  {
   "cell_type": "markdown",
   "metadata": {},
   "source": [
    "<font color=\"red\"><h1> # Note: Importance of Indentation. Need more explanation to students </h1>\n",
    "<h1> Nested If </h1></font>"
   ]
  },
  {
   "cell_type": "code",
   "execution_count": 9,
   "metadata": {},
   "outputs": [
    {
     "name": "stdout",
     "output_type": "stream",
     "text": [
      "Above\n",
      "-19\n"
     ]
    }
   ],
   "source": [
    "## Nested\n",
    "varA = 101\n",
    "varB = 120\n",
    "\n",
    "if varA > 100:\n",
    "    print(\"Above\")\n",
    "    if varB > 150:\n",
    "        print(varA+varB)\n",
    "    else:\n",
    "        print(varA-varB)\n",
    "        \n",
    "else:\n",
    "    print (\"Below -  No calculation on this combination\")   \n",
    "\t \n",
    "# Note: Importance of Indentation. Need more explanation to students"
   ]
  },
  {
   "cell_type": "code",
   "execution_count": 10,
   "metadata": {},
   "outputs": [
    {
     "name": "stdout",
     "output_type": "stream",
     "text": [
      "Value of expression is  100\n"
     ]
    }
   ],
   "source": [
    "# One liner - Limitation\n",
    "var = 100\n",
    "if ( var == 100 ) : print (\"Value of expression is \" , var)"
   ]
  },
  {
   "cell_type": "code",
   "execution_count": null,
   "metadata": {},
   "outputs": [],
   "source": []
  }
 ],
 "metadata": {
  "kernelspec": {
   "display_name": "Python 3",
   "language": "python",
   "name": "python3"
  },
  "language_info": {
   "codemirror_mode": {
    "name": "ipython",
    "version": 3
   },
   "file_extension": ".py",
   "mimetype": "text/x-python",
   "name": "python",
   "nbconvert_exporter": "python",
   "pygments_lexer": "ipython3",
   "version": "3.6.5"
  }
 },
 "nbformat": 4,
 "nbformat_minor": 2
}
