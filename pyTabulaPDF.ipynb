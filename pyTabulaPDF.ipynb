{
 "cells": [
  {
   "cell_type": "code",
   "execution_count": 8,
   "metadata": {},
   "outputs": [],
   "source": [
    "# pip install tabula-py\n",
    "# JAVA JRE - WE have to download - First"
   ]
  },
  {
   "cell_type": "code",
   "execution_count": 1,
   "metadata": {},
   "outputs": [],
   "source": [
    "from tabula import read_pdf"
   ]
  },
  {
   "cell_type": "code",
   "execution_count": 4,
   "metadata": {},
   "outputs": [
    {
     "data": {
      "text/plain": [
       "[               0                  1                 2                3  \\\n",
       " 0  Degree/Course  Institute/College  University/Board  Percentage/CGPA   \n",
       " 1         B Tech            Kits(S)             JNTUH            62.5%   \n",
       " \n",
       "                  4  \n",
       " 0  Year of Passing  \n",
       " 1             2012  ,\n",
       "                  0                  1            2          3     4\n",
       " 0  Post Graduation  Badruka Institute    All India        NaN   NaN\n",
       " 1       Diploma In      Of Management   Management  3.22 CGPA  2014\n",
       " 2       Management            Studies  Association        NaN   NaN]"
      ]
     },
     "execution_count": 4,
     "metadata": {},
     "output_type": "execute_result"
    }
   ],
   "source": [
    "df = read_pdf(\"C:\\\\Users\\\\HP\\\\Downloads\\\\Data_Scientist_Resume_Format1.pdf\", multiple_tables=True,pages=\"1-2\")\n",
    "df"
   ]
  },
  {
   "cell_type": "code",
   "execution_count": 7,
   "metadata": {},
   "outputs": [
    {
     "data": {
      "text/plain": [
       "[                              0    1  2  3    4    5     6   7\n",
       " 0                     100%_Bran   70  4  1  130   10     5   6\n",
       " 1             100%_Natural_Bran  120  3  5   15    2     8   8\n",
       " 2                      All-Bran   70  4  1  260    9     7   5\n",
       " 3     All-Bran_with_Extra_Fiber   50  4  0  140   14     8   0\n",
       " 4                Almond_Delight  110  2  2  200    1    14   8\n",
       " 5       Apple_Cinnamon_Cheerios  110  2  2  180  1.5  10.5  10\n",
       " 6                   Apple_Jacks  110  2  0  125    1    11  14\n",
       " 7                       Basic_4  130  3  2  210    2    18   8\n",
       " 8                     Bran_Chex   90  2  1  200    4    15   6\n",
       " 9                   Bran_Flakes   90  3  0  210    5    13   5\n",
       " 10                 Cap'n'Crunch  120  1  2  220    0    12  12\n",
       " 11                     Cheerios  110  6  2  290    2    17   1\n",
       " 12        Cinnamon_Toast_Crunch  120  1  3  210    0    13   9\n",
       " 13                     Clusters  110  3  2  140    2    13   7\n",
       " 14                  Cocoa_Puffs  110  1  1  180    0    12  13\n",
       " 15                    Corn_Chex  110  2  0  280    0    22   3\n",
       " 16                  Corn_Flakes  100  2  0  290    1    21   2\n",
       " 17                    Corn_Pops  110  1  0   90    1    13  12\n",
       " 18                Count_Chocula  110  1  1  180    0    12  13\n",
       " 19           Cracklin'_Oat_Bran  110  3  3  140    4    10   7\n",
       " 20       Cream_of_Wheat_(Quick)  100  3  0   80    1    21   0\n",
       " 21                      Crispix  110  2  0  220    1    21   3\n",
       " 22       Crispy_Wheat_&_Raisins  100  2  1  140    2    11  10\n",
       " 23                  Double_Chex  100  2  0  190    1    18   5\n",
       " 24                  Froot_Loops  110  2  1  125    1    11  13\n",
       " 25               Frosted_Flakes  110  1  0  200    1    14  11\n",
       " 26          Frosted_Mini-Wheats  100  3  0    0    3    14   7\n",
       " 27                Fruitful_Bran  120  3  0  240    5    14  12\n",
       " 28               Fruity_Pebbles  110  1  1  135    0    13  12\n",
       " 29                 Golden_Crisp  100  2  0   45    0    11  15\n",
       " 30               Golden_Grahams  110  1  1  280    0    15   9\n",
       " 31            Grape_Nuts_Flakes  100  3  1  140    3    15   5\n",
       " 32                   Grape-Nuts  110  3  0  170    3    17   3\n",
       " 33           Great_Grains_Pecan  120  3  3   75    3    13   4\n",
       " 34             Honey_Graham_Ohs  120  1  2  220    1    12  11\n",
       " 35           Honey_Nut_Cheerios  110  3  1  250  1.5  11.5  10\n",
       " 36                   Honey-comb  110  1  0  180    0    14  11\n",
       " 37  Just_Right_Crunchy__Nuggets  110  2  1  170    1    17   6\n",
       " 38       Just_Right_Fruit_&_Nut  140  3  1  170    2    20   9\n",
       " 39                          Kix  110  2  1  260    0    21   3\n",
       " 40                         Life  100  4  2  150    2    12   6\n",
       " 41                 Lucky_Charms  110  2  1  180    0    12  12\n",
       " 42                        Maypo  100  4  1    0    0    16   3\n",
       " 43         Mueslix_Crispy_Blend  160  3  2  150    3    17  13\n",
       " 44         Multi-Grain_Cheerios  100  2  1  220    2    15   6\n",
       " 45             Nut&Honey_Crunch  120  2  1  190    0    15   9,\n",
       "                             0    1  2  3    4    5     6   7\n",
       " 0   Nutri-Grain_Almond-Raisin  140  3  2  220    3    21   7\n",
       " 1           Nutri-grain_Wheat   90  3  0  170    3    18   2\n",
       " 2        Oatmeal_Raisin_Crisp  130  3  2  170  1.5  13.5  10\n",
       " 3       Post_Nat._Raisin_Bran  120  3  1  200    6    11  14\n",
       " 4                  Product_19  100  3  0  320    1    20   3\n",
       " 5                 Puffed_Rice   50  1  0    0    0    13   0\n",
       " 6                Puffed_Wheat   50  2  0    0    1    10   0\n",
       " 7          Quaker_Oat_Squares  100  4  1  135    2    14   6\n",
       " 8              Quaker_Oatmeal  100  5  2    0  2.7    -1  -1\n",
       " 9                 Raisin_Bran  120  3  1  210    5    14  12\n",
       " 10            Raisin_Nut_Bran  100  3  2  140  2.5  10.5   8\n",
       " 11             Raisin_Squares   90  2  0    0    2    15   6\n",
       " 12                  Rice_Chex  110  1  0  240    0    23   2\n",
       " 13              Rice_Krispies  110  2  0  290    0    22   3\n",
       " 14             Shredded_Wheat   80  2  0    0    3    16   0\n",
       " 15     Shredded_Wheat_'n'Bran   90  3  0    0    4    19   0\n",
       " 16  Shredded_Wheat_spoon_size   90  3  0    0    3    20   0\n",
       " 17                     Smacks  110  2  1   70    1     9  15\n",
       " 18                  Special_K  110  6  0  230    1    16   3\n",
       " 19    Strawberry_Fruit_Wheats   90  2  0   15    3    15   5\n",
       " 20          Total_Corn_Flakes  110  2  1  200    0    21   3\n",
       " 21          Total_Raisin_Bran  140  3  1  190    4    15  14\n",
       " 22          Total_Whole_Grain  100  3  1  200    3    16   3\n",
       " 23                    Triples  110  2  1  250    0    21   3\n",
       " 24                       Trix  110  1  1  140    0    13  12\n",
       " 25                 Wheat_Chex  100  3  1  230    3    17   3\n",
       " 26                   Wheaties  100  3  1  200    3    17   3\n",
       " 27        Wheaties_Honey_Gold  110  2  1  200    1    16   8]"
      ]
     },
     "execution_count": 7,
     "metadata": {},
     "output_type": "execute_result"
    }
   ],
   "source": [
    "# Good file - cerealspga05\n",
    "\n",
    "df = read_pdf(\"C:\\\\Users\\\\HP\\\\Downloads\\\\cerealspga05.pdf\", multiple_tables=True,pages=\"1-2\")\n",
    "df"
   ]
  },
  {
   "cell_type": "code",
   "execution_count": null,
   "metadata": {},
   "outputs": [],
   "source": []
  }
 ],
 "metadata": {
  "kernelspec": {
   "display_name": "Python 3",
   "language": "python",
   "name": "python3"
  },
  "language_info": {
   "codemirror_mode": {
    "name": "ipython",
    "version": 3
   },
   "file_extension": ".py",
   "mimetype": "text/x-python",
   "name": "python",
   "nbconvert_exporter": "python",
   "pygments_lexer": "ipython3",
   "version": "3.6.5"
  }
 },
 "nbformat": 4,
 "nbformat_minor": 2
}
