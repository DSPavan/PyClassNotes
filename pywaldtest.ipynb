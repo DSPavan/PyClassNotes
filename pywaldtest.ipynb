{
 "cells": [
  {
   "cell_type": "code",
   "execution_count": 1,
   "metadata": {},
   "outputs": [],
   "source": [
    "# The Wald test (also called the Wald Chi-Squared Test) \n",
    "# is a way to find out if explanatory variables in a model are significant.\n",
    "\n",
    "#The test can be used for a multitude of different models including those with\n",
    "#binary variables or continuous variables.\n",
    "\n",
    "# If the Wald test shows that the parameters for certain explanatory variables are zero, \n",
    "# you can remove the variables from the model.\n",
    "\n",
    "# If the test shows the parameters are not zero, you should include the variables in the model.\n",
    "\n",
    "# Explanatory Variable & Response Variable\n"
   ]
  },
  {
   "cell_type": "markdown",
   "metadata": {},
   "source": [
    "An explanatory variable is a type of independent variable. The two terms are often used interchangeably. But there is a subtle difference between the two. When a variable is independent, it is not affected at all by any other variables. When a variable isn’t independent for certain, it’s an explanatory variable."
   ]
  },
  {
   "cell_type": "code",
   "execution_count": 2,
   "metadata": {},
   "outputs": [],
   "source": [
    "# Explanatory : One or more variables, which explains output\n",
    "# The response variable is the focus of a question in a study or experiment. \n",
    "# An explanatory variable is one that explains changes in that variable."
   ]
  },
  {
   "cell_type": "code",
   "execution_count": null,
   "metadata": {},
   "outputs": [],
   "source": [
    "# Statsmodel"
   ]
  },
  {
   "cell_type": "code",
   "execution_count": 6,
   "metadata": {},
   "outputs": [
    {
     "name": "stdout",
     "output_type": "stream",
     "text": [
      "                            OLS Regression Results                            \n",
      "==============================================================================\n",
      "Dep. Variable:                    LTh   R-squared:                       0.302\n",
      "Model:                            OLS   Adj. R-squared:                  0.302\n",
      "Method:                 Least Squares   F-statistic:                     1652.\n",
      "Date:                Sat, 23 Feb 2019   Prob (F-statistic):               0.00\n",
      "Time:                        08:47:53   Log-Likelihood:            -1.0360e+05\n",
      "No. Observations:               15290   AIC:                         2.072e+05\n",
      "Df Residuals:                   15285   BIC:                         2.072e+05\n",
      "Df Model:                           4                                         \n",
      "Covariance Type:            nonrobust                                         \n",
      "==============================================================================\n",
      "                 coef    std err          t      P>|t|      [0.025      0.975]\n",
      "------------------------------------------------------------------------------\n",
      "Intercept    639.2675      6.657     96.035      0.000     626.220     652.315\n",
      "Age           -6.1768      0.094    -65.842      0.000      -6.361      -5.993\n",
      "nVeh          -2.6999      1.798     -1.502      0.133      -6.224       0.825\n",
      "F            -93.6827      3.430    -27.313      0.000    -100.406     -86.959\n",
      "Single       134.9371      3.430     39.336      0.000     128.213     141.661\n",
      "==============================================================================\n",
      "Omnibus:                    11153.201   Durbin-Watson:                   1.807\n",
      "Prob(Omnibus):                  0.000   Jarque-Bera (JB):           540432.632\n",
      "Skew:                           2.999   Prob(JB):                         0.00\n",
      "Kurtosis:                      31.501   Cond. No.                         186.\n",
      "==============================================================================\n",
      "\n",
      "Warnings:\n",
      "[1] Standard Errors assume that the covariance matrix of the errors is correctly specified.\n"
     ]
    }
   ],
   "source": [
    "# Data Manupulation\n",
    "import numpy as np\n",
    "import pandas as pd\n",
    "# Plotting graphs\n",
    "import matplotlib.pyplot as plt\n",
    "\n",
    "# CSV File - Read\n",
    "df = pd.read_csv('C:\\\\Users\\\\HP\\\\Downloads\\LGD_DATA.csv')\n",
    "#  ,header=None ,skiprows=1 , names=['Cal', 'Pr', 'Fat', 'sod', 'Fib', 'Rting']\n",
    "#print(df.head(5)) \n",
    "# pd.get_dummies allows to convert a categorical variable into dummy variables\n",
    "# Create a set of dummy variables from the sex variable\n",
    "df_Gender = pd.get_dummies(df['Gender'])\n",
    "df_Married = pd.get_dummies(df['Married'])\n",
    "# Join the dummy variables to the main dataframe\n",
    "df_new = pd.concat([df, df_Gender], axis=1)\n",
    "df_new = pd.concat([df_new, df_Married], axis=1)         \n",
    "#df_new.head()\n",
    "dfClean = df_new[['Age','Number of Vehicles','F','Single','Losses in Thousands']].copy()\n",
    "#print(dfClean.head(5))\n",
    "\n",
    "dfClean = dfClean.rename(columns={'Number of Vehicles': 'nVeh', 'Losses in Thousands': 'LTh'})\n",
    "#print(dfClean.head(5)) \n",
    "\n",
    "import numpy as np\n",
    "import statsmodels.api as sm \n",
    "import statsmodels.formula.api as smf\n",
    "results = smf.ols('LTh ~ Age + nVeh + F + Single', data=dfClean).fit()\n",
    "print(results.summary())"
   ]
  },
  {
   "cell_type": "code",
   "execution_count": 7,
   "metadata": {},
   "outputs": [
    {
     "data": {
      "text/plain": [
       "<class 'statsmodels.stats.contrast.WaldTestResults'>\n",
       "                     F                     P>F  df constraint  df denom\n",
       "Intercept  9222.760335                     0.0              1   15285.0\n",
       "Age        4335.206519                     0.0              1   15285.0\n",
       "nVeh          2.254576      0.1332406337770106              1   15285.0\n",
       "F           745.975340  2.077775699530809e-160              1   15285.0\n",
       "Single     1547.284981                1.9e-322              1   15285.0"
      ]
     },
     "execution_count": 7,
     "metadata": {},
     "output_type": "execute_result"
    }
   ],
   "source": [
    "results.wald_test_terms()"
   ]
  },
  {
   "cell_type": "code",
   "execution_count": 10,
   "metadata": {},
   "outputs": [
    {
     "data": {
      "text/plain": [
       "array(1.)"
      ]
     },
     "execution_count": 10,
     "metadata": {},
     "output_type": "execute_result"
    }
   ],
   "source": [
    "from scipy.stats import wald\n",
    "mean, var, skew, kurt = wald.stats(moments='mvsk')\n",
    "var"
   ]
  },
  {
   "cell_type": "code",
   "execution_count": null,
   "metadata": {},
   "outputs": [],
   "source": [
    "# Hypothesis Testing\n",
    "# mean, var, skew, kurt = wald.stats(moments='mvsk')\n",
    "# Useful in Linear Regression etc."
   ]
  },
  {
   "cell_type": "code",
   "execution_count": 11,
   "metadata": {},
   "outputs": [],
   "source": [
    "# T-test\n"
   ]
  },
  {
   "cell_type": "code",
   "execution_count": 13,
   "metadata": {},
   "outputs": [],
   "source": [
    "# Likehood Ratio test \n",
    "# Does the model that includes the variable(s) in question tell us more about the outcome (or response) variable than a model that \n",
    "# does not include the variable(s)?\n",
    "\n",
    "# Likelihood ratio test to test whether restricted model is correct"
   ]
  },
  {
   "cell_type": "code",
   "execution_count": 14,
   "metadata": {},
   "outputs": [],
   "source": [
    "# Likelihood Ratio Test (Wilks Test),"
   ]
  },
  {
   "cell_type": "code",
   "execution_count": 22,
   "metadata": {},
   "outputs": [
    {
     "name": "stdout",
     "output_type": "stream",
     "text": [
      "     Weight       Feed  Time   Pig  Evit  Cu  Litter\n",
      "0  26.50000        NaN     1  4601     1   1       1\n",
      "1  27.59999   5.200005     2  4601     1   1       1\n",
      "2  36.50000  17.600000     3  4601     1   1       1\n",
      "3  40.29999  28.500000     4  4601     1   1       1\n",
      "4  49.09998  45.200001     5  4601     1   1       1\n",
      "         Mixed Linear Model Regression Results\n",
      "========================================================\n",
      "Model:            MixedLM Dependent Variable: Weight    \n",
      "No. Observations: 861     Method:             ML        \n",
      "No. Groups:       72      Scale:              11.3525   \n",
      "Min. group size:  11      Likelihood:         -2402.9325\n",
      "Max. group size:  12      Converged:          Yes       \n",
      "Mean group size:  12.0                                  \n",
      "--------------------------------------------------------\n",
      "             Coef.  Std.Err.    z    P>|z| [0.025 0.975]\n",
      "--------------------------------------------------------\n",
      "Intercept    15.724    0.783  20.083 0.000 14.189 17.258\n",
      "Time          6.943    0.033 208.071 0.000  6.877  7.008\n",
      "Group Var    39.821    2.107                            \n",
      "========================================================\n",
      "\n",
      "         Mixed Linear Model Regression Results\n",
      "========================================================\n",
      "Model:            MixedLM Dependent Variable: Weight    \n",
      "No. Observations: 861     Method:             ML        \n",
      "No. Groups:       72      Scale:              11.3525   \n",
      "Min. group size:  11      Likelihood:         -2402.8752\n",
      "Max. group size:  12      Converged:          Yes       \n",
      "Mean group size:  12.0                                  \n",
      "--------------------------------------------------------\n",
      "             Coef.  Std.Err.    z    P>|z| [0.025 0.975]\n",
      "--------------------------------------------------------\n",
      "Intercept    16.140    1.458  11.073 0.000 13.283 18.997\n",
      "Time          6.943    0.033 208.071 0.000  6.877  7.008\n",
      "Litter       -0.034    0.101  -0.339 0.735 -0.233  0.164\n",
      "Group Var    39.756    2.103                            \n",
      "========================================================\n",
      "\n",
      "LR test, p value: 0.11, 0.7350\n"
     ]
    }
   ],
   "source": [
    "import statsmodels.api as sm\n",
    "import statsmodels.formula.api as smf\n",
    "from scipy import stats\n",
    "stats.chisqprob = lambda chisq, df: stats.chi2.sf(chisq, df)\n",
    "\n",
    "def lrtest(llmin, llmax):\n",
    "    lr = 2 * (llmax - llmin)\n",
    "    p = stats.chisqprob(lr, 1) # llmax has 1 dof more than llmin\n",
    "    return lr, p\n",
    "\n",
    "# import example dataset\n",
    "data = sm.datasets.get_rdataset(\"dietox\", \"geepack\").data\n",
    "print(data.head())\n",
    "# fit time only to pig weight\n",
    "md = smf.mixedlm(\"Weight ~ Time\", data, groups=data[\"Pig\"])\n",
    "mdf = md.fit(reml=False)\n",
    "print(mdf.summary())\n",
    "llf = mdf.llf\n",
    "\n",
    "\n",
    "# fit time and litter to pig weight\n",
    "mdlitter = smf.mixedlm(\"Weight ~ Time + Litter\", data, groups=data[\"Pig\"])\n",
    "mdflitter = mdlitter.fit(reml=False)\n",
    "print(mdflitter.summary())\n",
    "llflitter = mdflitter.llf\n",
    "\n",
    "lr, p = lrtest(llf, llflitter)\n",
    "print('LR test, p value: {:.2f}, {:.4f}'.format(lr, p))"
   ]
  },
  {
   "cell_type": "code",
   "execution_count": 17,
   "metadata": {},
   "outputs": [],
   "source": [
    "#The llf attribute is generated for each model—this is the log likelihood statistic. \n",
    "#The likelihood ratio test then compares the log likelihood values and tests\n",
    "#whether the alternative model is\n",
    "#significantly different to the null model."
   ]
  },
  {
   "cell_type": "code",
   "execution_count": 18,
   "metadata": {},
   "outputs": [],
   "source": [
    "# Since the likelihood ratio test was not statistically significant, the litter the pig was born in does not explain its weight, so we reject the alternative model because the growth in pig weight is \n",
    "# sufficiently explained by time."
   ]
  },
  {
   "cell_type": "code",
   "execution_count": 19,
   "metadata": {},
   "outputs": [],
   "source": [
    "#The likelihood ratio test compares how well a model with a potential predictor explains an\n",
    "#outcome, compared to a model without the predictor. That is, the test indicates \n",
    "#whether a potential predictor is associated with an outcome.\n",
    "#If the predictor is not associated with the outcome,\n",
    "# we reject the alternative model in favour of the null model."
   ]
  },
  {
   "cell_type": "code",
   "execution_count": 23,
   "metadata": {},
   "outputs": [],
   "source": [
    "# The Pearson’s chi-squared statistical hypothesis is an example of \n",
    "#a test for independence between categorical variables."
   ]
  },
  {
   "cell_type": "code",
   "execution_count": 24,
   "metadata": {},
   "outputs": [],
   "source": [
    "#        Science,\tMath,\tArt\n",
    "#Male         20,      30,    15\n",
    "#Female       20,      15,    30\n",
    "\n",
    "# Historically, \n",
    "#a table summarization of two categorical variables in this form is called a contingency table.\n",
    "#stat, p, dof, expected = chi2_contingency(table)\n",
    "\n",
    "#Historically, \n",
    "#a table summarization of two categorical variables in this form is called a contingency table."
   ]
  },
  {
   "cell_type": "code",
   "execution_count": 25,
   "metadata": {},
   "outputs": [
    {
     "name": "stdout",
     "output_type": "stream",
     "text": [
      "[[10, 20, 30], [6, 9, 17]]\n",
      "dof=2\n",
      "[[10.43478261 18.91304348 30.65217391]\n",
      " [ 5.56521739 10.08695652 16.34782609]]\n",
      "probability=0.950, critical=5.991, stat=0.272\n",
      "Independent (fail to reject H0)\n",
      "significance=0.050, p=0.873\n",
      "Independent (fail to reject H0)\n"
     ]
    }
   ],
   "source": [
    "# chi-squared test with similar proportions\n",
    "from scipy.stats import chi2_contingency\n",
    "from scipy.stats import chi2\n",
    "# contingency table\n",
    "table = [\t[10, 20, 30],\n",
    "\t\t\t[6,  9,  17]]\n",
    "print(table)\n",
    "stat, p, dof, expected = chi2_contingency(table)\n",
    "print('dof=%d' % dof)\n",
    "print(expected)\n",
    "# interpret test-statistic\n",
    "prob = 0.95\n",
    "critical = chi2.ppf(prob, dof)\n",
    "print('probability=%.3f, critical=%.3f, stat=%.3f' % (prob, critical, stat))\n",
    "if abs(stat) >= critical:\n",
    "\tprint('Dependent (reject H0)')\n",
    "else:\n",
    "\tprint('Independent (fail to reject H0)')\n",
    "# interpret p-value\n",
    "alpha = 1.0 - prob\n",
    "print('significance=%.3f, p=%.3f' % (alpha, p))\n",
    "if p <= alpha:\n",
    "\tprint('Dependent (reject H0)')\n",
    "else:\n",
    "\tprint('Independent (fail to reject H0)')"
   ]
  },
  {
   "cell_type": "code",
   "execution_count": null,
   "metadata": {},
   "outputs": [],
   "source": []
  }
 ],
 "metadata": {
  "kernelspec": {
   "display_name": "Python 3",
   "language": "python",
   "name": "python3"
  },
  "language_info": {
   "codemirror_mode": {
    "name": "ipython",
    "version": 3
   },
   "file_extension": ".py",
   "mimetype": "text/x-python",
   "name": "python",
   "nbconvert_exporter": "python",
   "pygments_lexer": "ipython3",
   "version": "3.6.5"
  }
 },
 "nbformat": 4,
 "nbformat_minor": 2
}
