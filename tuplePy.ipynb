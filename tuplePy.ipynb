{
 "cells": [
  {
   "cell_type": "code",
   "execution_count": 1,
   "metadata": {},
   "outputs": [
    {
     "name": "stdout",
     "output_type": "stream",
     "text": [
      "('India', 'USA', 'UK', 'Australia', 'Canada')\n",
      "('India', 'USA', 'UK', 'Australia', 'Canada')\n"
     ]
    }
   ],
   "source": [
    "# Tuple\n",
    "\n",
    "# without using list keyword [] -> ()\n",
    "countries1 = (\"India\",\"USA\",\"UK\",\"Australia\",\"Canada\")\n",
    "print(countries1)\n",
    "\n",
    "# usibg Tuple ((  )) # note double brackets\n",
    "countries = tuple((\"India\",\"USA\",\"UK\",\"Australia\",\"Canada\"))\n",
    "print(countries) "
   ]
  },
  {
   "cell_type": "markdown",
   "metadata": {},
   "source": [
    "<h1>### ## Remove, insert, append , update , deletion  - Not allowed </h1>"
   ]
  },
  {
   "cell_type": "code",
   "execution_count": 2,
   "metadata": {},
   "outputs": [
    {
     "ename": "AttributeError",
     "evalue": "'tuple' object has no attribute 'remove'",
     "output_type": "error",
     "traceback": [
      "\u001b[1;31m---------------------------------------------------------------------------\u001b[0m",
      "\u001b[1;31mAttributeError\u001b[0m                            Traceback (most recent call last)",
      "\u001b[1;32m<ipython-input-2-f9deafc0c83a>\u001b[0m in \u001b[0;36m<module>\u001b[1;34m()\u001b[0m\n\u001b[1;32m----> 1\u001b[1;33m \u001b[0mx\u001b[0m \u001b[1;33m=\u001b[0m \u001b[0mcountries\u001b[0m\u001b[1;33m.\u001b[0m\u001b[0mremove\u001b[0m\u001b[1;33m(\u001b[0m\u001b[1;34m\"USA\"\u001b[0m\u001b[1;33m)\u001b[0m\u001b[1;33m\u001b[0m\u001b[0m\n\u001b[0m\u001b[0;32m      2\u001b[0m \u001b[0mprint\u001b[0m\u001b[1;33m(\u001b[0m\u001b[0mx\u001b[0m\u001b[1;33m)\u001b[0m \u001b[1;31m# number of times of USA in the list\u001b[0m\u001b[1;33m\u001b[0m\u001b[0m\n",
      "\u001b[1;31mAttributeError\u001b[0m: 'tuple' object has no attribute 'remove'"
     ]
    }
   ],
   "source": [
    "x = countries.remove(\"USA\")\n",
    "print(x) # number of times of USA in the list"
   ]
  },
  {
   "cell_type": "code",
   "execution_count": 3,
   "metadata": {},
   "outputs": [
    {
     "name": "stdout",
     "output_type": "stream",
     "text": [
      "1\n",
      "5\n"
     ]
    }
   ],
   "source": [
    "x = countries.count(\"USA\")\n",
    "print(x) # number of times of USA in the list\n",
    "print(len(countries))"
   ]
  },
  {
   "cell_type": "code",
   "execution_count": 4,
   "metadata": {},
   "outputs": [
    {
     "name": "stdout",
     "output_type": "stream",
     "text": [
      "('Canada', 'Australia', 'UK', 'USA', 'India')\n",
      "['Australia', 'Canada', 'India', 'UK', 'USA']\n"
     ]
    }
   ],
   "source": [
    "# list or tuple\n",
    "print(tuple(reversed(countries)))\n",
    "\n",
    "print(list(sorted(countries))) "
   ]
  },
  {
   "cell_type": "code",
   "execution_count": 5,
   "metadata": {},
   "outputs": [
    {
     "name": "stdout",
     "output_type": "stream",
     "text": [
      "(1, 2, 3, 4, 5, 6)\n",
      "(1, 2, 3, 1, 2, 3, 1, 2, 3, 1, 2, 3)\n",
      "True\n",
      "True\n",
      "<class 'tuple'>\n"
     ]
    }
   ],
   "source": [
    "\n",
    "# join 2 tuples\n",
    "L1 = tuple((1, 2, 3))\n",
    "L2 =  tuple((4, 5, 6))\n",
    "print(L1+L2)\n",
    "\n",
    "# general\n",
    "print(L1  * 4)\n",
    "print(3 in L1) \n",
    "print(4 not in L1)\n",
    "\n",
    "# Type\n",
    "print(type(countries))"
   ]
  },
  {
   "cell_type": "markdown",
   "metadata": {},
   "source": [
    "<h1> NOTE: Other than Delete,Remove, insert, update, Remain all are same between TUPLE and LIST. TUPLE IS IMMUTABLE - NON modifiable.</h1>"
   ]
  },
  {
   "cell_type": "code",
   "execution_count": null,
   "metadata": {},
   "outputs": [],
   "source": []
  }
 ],
 "metadata": {
  "kernelspec": {
   "display_name": "Python 3",
   "language": "python",
   "name": "python3"
  },
  "language_info": {
   "codemirror_mode": {
    "name": "ipython",
    "version": 3
   },
   "file_extension": ".py",
   "mimetype": "text/x-python",
   "name": "python",
   "nbconvert_exporter": "python",
   "pygments_lexer": "ipython3",
   "version": "3.6.5"
  }
 },
 "nbformat": 4,
 "nbformat_minor": 2
}
