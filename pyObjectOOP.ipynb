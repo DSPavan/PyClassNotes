{
 "cells": [
  {
   "cell_type": "code",
   "execution_count": 1,
   "metadata": {},
   "outputs": [],
   "source": [
    "class Employee:\n",
    "   'Common base class for all employees'\n",
    "   empCount = 0\n",
    "\n",
    "   def __init__(self, name, salary):\n",
    "      self.name = name\n",
    "      self.salary = salary\n",
    "      Employee.empCount += 1\n",
    "   \n",
    "   def displayCount(self):\n",
    "     print( \"Total Employee %d\" % Employee.empCount)\n",
    "\n",
    "   def displayEmployee(self):\n",
    "      print(\"Name : \", self.name,  \", Salary: \", self.salary)\n"
   ]
  },
  {
   "cell_type": "code",
   "execution_count": 5,
   "metadata": {},
   "outputs": [
    {
     "data": {
      "text/plain": [
       "<__main__.Employee at 0x22d2f51c208>"
      ]
     },
     "execution_count": 5,
     "metadata": {},
     "output_type": "execute_result"
    }
   ],
   "source": [
    "emp1 = Employee(\"Pavan\", 2000)\n",
    "emp1"
   ]
  },
  {
   "cell_type": "code",
   "execution_count": 6,
   "metadata": {},
   "outputs": [
    {
     "name": "stdout",
     "output_type": "stream",
     "text": [
      "Name :  Pavan , Salary:  2000\n",
      "Total Employee 3\n"
     ]
    }
   ],
   "source": [
    "emp1.displayEmployee()\n",
    "\n",
    "print (\"Total Employee %d\" % Employee.empCount)\n"
   ]
  },
  {
   "cell_type": "markdown",
   "metadata": {},
   "source": [
    "Every Python class keeps following built-in attributes and they can be accessed using dot operator like any other attribute −\n",
    "__dict__ − Dictionary containing the class's namespace.\n",
    "__doc__ − Class documentation string or none, if undefined.\n",
    "__name__ − Class name.\n",
    "__module__ − Module name in which the class is defined. This attribute is \"__main__\" in interactive mode.\n",
    "__bases__ − A possibly empty tuple containing the base classes, in the order of their occurrence in the base class list.\n"
   ]
  },
  {
   "cell_type": "markdown",
   "metadata": {},
   "source": [
    "The self-argument refers to the object itself. Hence the use of the word self. So inside this method, self will refer to the specific instance of this object that's being operated on.\n",
    "\n",
    "Notice that when we call the method1 or method2, we don't have to supply the self-keyword. That's automatically handled for us by the Python runtime.\n"
   ]
  },
  {
   "cell_type": "code",
   "execution_count": 12,
   "metadata": {},
   "outputs": [
    {
     "name": "stdout",
     "output_type": "stream",
     "text": [
      "Employee Class = Employee\n"
     ]
    }
   ],
   "source": [
    "print (\"Employee Class =\",Employee.__name__)"
   ]
  },
  {
   "cell_type": "code",
   "execution_count": 27,
   "metadata": {},
   "outputs": [],
   "source": [
    "# It begins with a double underscore (_). It __init__() method\n",
    "# Constructors"
   ]
  },
  {
   "cell_type": "code",
   "execution_count": 13,
   "metadata": {},
   "outputs": [],
   "source": [
    "# Destroy\n",
    "#def __del__(self):\n",
    "#      class_name = self.__class__.__name__\n",
    "#      print class_name, \"destroyed\"\n"
   ]
  },
  {
   "cell_type": "code",
   "execution_count": 18,
   "metadata": {},
   "outputs": [],
   "source": [
    "# ModuleNotFoundError: No module named 'Employee'\n",
    "\n",
    "# Actually, You have to save - Clasas file in separate file, \n",
    "# not in JNOtebook\n",
    "\n",
    "# in E:\\\\pynotes , Please check function code"
   ]
  },
  {
   "cell_type": "code",
   "execution_count": 20,
   "metadata": {},
   "outputs": [
    {
     "data": {
      "text/plain": [
       "['',\n",
       " 'e:\\\\python\\\\python36.zip',\n",
       " 'e:\\\\python\\\\DLLs',\n",
       " 'e:\\\\python\\\\lib',\n",
       " 'e:\\\\python',\n",
       " 'e:\\\\python\\\\lib\\\\site-packages',\n",
       " 'e:\\\\python\\\\lib\\\\site-packages\\\\IPython\\\\extensions',\n",
       " 'C:\\\\Users\\\\HP\\\\.ipython',\n",
       " 'E:\\\\pynotes\\\\']"
      ]
     },
     "execution_count": 20,
     "metadata": {},
     "output_type": "execute_result"
    }
   ],
   "source": [
    "import sys\n",
    "#sys.path.append('E:\\\\pynotes\\\\')\n",
    "sys.path"
   ]
  },
  {
   "cell_type": "code",
   "execution_count": 21,
   "metadata": {},
   "outputs": [
    {
     "name": "stdout",
     "output_type": "stream",
     "text": [
      "Name :  pavan G , Salary:  2000\n",
      "Name :  kumar G , Salary:  5000\n"
     ]
    }
   ],
   "source": [
    "import Employee as Emp\n",
    "\"This would create first object of Employee class\"\n",
    "emp1 = Emp.Employee(\"pavan G\", 2000)\n",
    "\"This would create second object of Employee class\"\n",
    "emp2 = Emp.Employee(\"kumar G\", 5000)\n",
    "emp1.displayEmployee()\n",
    "emp2.displayEmployee()"
   ]
  },
  {
   "cell_type": "code",
   "execution_count": 24,
   "metadata": {},
   "outputs": [],
   "source": [
    "#Import classname as cname \n",
    "\n",
    "#print(cnmae.variable) # Accessing Object Variables\n",
    "\n",
    "#cnmae.function()\n"
   ]
  },
  {
   "cell_type": "code",
   "execution_count": 25,
   "metadata": {},
   "outputs": [
    {
     "name": "stdout",
     "output_type": "stream",
     "text": [
      "Fer is a red convertible worth $60000.00.\n",
      "Jump is a blue van worth $10000.00.\n"
     ]
    }
   ],
   "source": [
    "class Vehicle:\n",
    "    name = \"\"\n",
    "    kind = \"car\"\n",
    "    color = \"\"\n",
    "    value = 100.00\n",
    "    \n",
    "    def description(self):\n",
    "        desc_str = \"%s is a %s %s worth $%.2f.\" % (self.name, self.color, self.kind, self.value)\n",
    "        return desc_str\n",
    " \n",
    "# your code goes here\n",
    "car1 = Vehicle()\n",
    "car1.name = \"Fer\"\n",
    "car1.color = \"red\"\n",
    "car1.kind = \"convertible\"\n",
    "car1.value = 60000.00\n",
    " \n",
    "car2 = Vehicle()\n",
    "car2.name = \"Jump\"\n",
    "car2.color = \"blue\"\n",
    "car2.kind = \"van\"\n",
    "car2.value = 10000.00\n",
    " \n",
    "# test code\n",
    "print(car1.description())\n",
    "print(car2.description())\n"
   ]
  },
  {
   "cell_type": "code",
   "execution_count": 26,
   "metadata": {},
   "outputs": [],
   "source": [
    "#Base Class\n",
    "#Derived\n",
    "\n",
    "# supports multiple inheritances\n",
    "\n",
    "#class DerivedClass(BaseClass):\n",
    "#         body_of_derived_class\n",
    "\n",
    "\n",
    "#ParentClass.Method.\n"
   ]
  },
  {
   "cell_type": "code",
   "execution_count": 28,
   "metadata": {},
   "outputs": [
    {
     "name": "stdout",
     "output_type": "stream",
     "text": [
      "Groarrr\n",
      "Woof woof!\n"
     ]
    }
   ],
   "source": [
    "# polymorphism\n",
    "class Bear(object):\n",
    "    def sound(self):\n",
    "        print( \"Groarrr\")\n",
    " \n",
    "class Dog(object):\n",
    "    def sound(self):\n",
    "        print( \"Woof woof!\")\n",
    " \n",
    "def makeSound(animalType):\n",
    "    animalType.sound()\n",
    " \n",
    " \n",
    "bearObj = Bear()\n",
    "dogObj = Dog()\n",
    " \n",
    "makeSound(bearObj)\n",
    "makeSound(dogObj)\n"
   ]
  },
  {
   "cell_type": "code",
   "execution_count": 30,
   "metadata": {},
   "outputs": [],
   "source": [
    "#class Human:\n",
    "\n",
    "# Create instance\n",
    "##obj = Human()\n",
    "\n",
    "# Call the method \n",
    "##obj.sayHello()\n",
    "\n",
    "# Call the method with a parameter\n",
    "##obj.sayHello('Guido')\n"
   ]
  },
  {
   "cell_type": "code",
   "execution_count": 33,
   "metadata": {},
   "outputs": [
    {
     "data": {
      "text/plain": [
       "<__main__.Employee at 0x22d2d0b5f28>"
      ]
     },
     "execution_count": 33,
     "metadata": {},
     "output_type": "execute_result"
    }
   ],
   "source": [
    "obj = Employee('hai','8000')\n",
    "obj"
   ]
  },
  {
   "cell_type": "code",
   "execution_count": 34,
   "metadata": {},
   "outputs": [],
   "source": [
    "# Over loading\n",
    "\n",
    "# Encapsulation : you can restrict access to methods and variables.\n",
    "\n",
    "#this can prevent the data \n",
    "#from being modified by accident and is known as encapsulation"
   ]
  },
  {
   "cell_type": "code",
   "execution_count": 40,
   "metadata": {},
   "outputs": [
    {
     "name": "stdout",
     "output_type": "stream",
     "text": [
      "updating software\n",
      "driving\n"
     ]
    }
   ],
   "source": [
    "# Private variable : _ _Var\n",
    "\n",
    "class Car:\n",
    " \n",
    "    def __init__(self):\n",
    "        self.__updateSoftware()\n",
    " \n",
    "    def drive(self):\n",
    "        print('driving')\n",
    " \n",
    "    def __updateSoftware(self):\n",
    "        print('updating software')\n",
    " \n",
    "\n",
    "redcar = Car()\n",
    "redcar.drive()\n",
    "#redcar.__updateSoftware()\n"
   ]
  },
  {
   "cell_type": "code",
   "execution_count": 42,
   "metadata": {},
   "outputs": [
    {
     "name": "stdout",
     "output_type": "stream",
     "text": [
      "driving. maxspeed 200\n",
      "driving. maxspeed 200\n"
     ]
    }
   ],
   "source": [
    "#A private variable can only be changed \n",
    "# within a class method and not outside of the class.\n",
    "\n",
    "class Car:\n",
    " \n",
    "    __maxspeed = 0\n",
    "    __name = \"\"\n",
    " \n",
    "    def __init__(self):\n",
    "        self.__maxspeed = 200\n",
    "        self.__name = \"Supercar\"\n",
    " \n",
    "    def drive(self):\n",
    "        print('driving. maxspeed ' + str(self.__maxspeed))\n",
    " \n",
    "redcar = Car()\n",
    "redcar.drive()\n",
    "redcar.__maxspeed = 10  # will not change variable because its private\n",
    "redcar.drive()\n"
   ]
  },
  {
   "cell_type": "code",
   "execution_count": null,
   "metadata": {},
   "outputs": [],
   "source": [
    "# Magic Methods\n",
    "\n",
    "# if __name__ == \"__main__\":\n",
    "\n",
    "#Dunder or magic methods\n",
    "#Dunder here means “Double Under (Underscores)”\n",
    "\n",
    "#for example __init__ \n"
   ]
  }
 ],
 "metadata": {
  "kernelspec": {
   "display_name": "Python 3",
   "language": "python",
   "name": "python3"
  },
  "language_info": {
   "codemirror_mode": {
    "name": "ipython",
    "version": 3
   },
   "file_extension": ".py",
   "mimetype": "text/x-python",
   "name": "python",
   "nbconvert_exporter": "python",
   "pygments_lexer": "ipython3",
   "version": "3.6.5"
  }
 },
 "nbformat": 4,
 "nbformat_minor": 2
}
