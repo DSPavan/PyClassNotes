{
 "cells": [
  {
   "cell_type": "code",
   "execution_count": 1,
   "metadata": {},
   "outputs": [],
   "source": [
    "class Polygon:\n",
    "    def __init__(self, no_of_sides):\n",
    "        self.n = no_of_sides\n",
    "        self.sides = [0 for i in range(no_of_sides)]\n",
    "\n",
    "    def inputSides(self):\n",
    "        self.sides = [float(input(\"Enter side \"+str(i+1)+\" : \")) for i in range(self.n)]\n",
    "\n",
    "    def dispSides(self):\n",
    "        for i in range(self.n):\n",
    "            print(\"Side\",i+1,\"is\",self.sides[i])\n",
    "            "
   ]
  },
  {
   "cell_type": "code",
   "execution_count": 2,
   "metadata": {},
   "outputs": [],
   "source": [
    "class Triangle(Polygon):\n",
    "    def __init__(self):\n",
    "        Polygon.__init__(self,3)\n",
    "\n",
    "    def findArea(self):\n",
    "        a, b, c = self.sides\n",
    "        # calculate the semi-perimeter\n",
    "        s = (a + b + c) / 2\n",
    "        area = (s*(s-a)*(s-b)*(s-c)) ** 0.5\n",
    "        print('The area of the triangle is %0.2f' %area)"
   ]
  },
  {
   "cell_type": "code",
   "execution_count": 4,
   "metadata": {},
   "outputs": [
    {
     "name": "stdout",
     "output_type": "stream",
     "text": [
      "Enter side 1 : 3\n",
      "Enter side 2 : 3\n",
      "Enter side 3 : 3\n"
     ]
    }
   ],
   "source": [
    "t = Triangle()\n",
    "t.inputSides()"
   ]
  },
  {
   "cell_type": "code",
   "execution_count": 5,
   "metadata": {},
   "outputs": [
    {
     "name": "stdout",
     "output_type": "stream",
     "text": [
      "Side 1 is 3.0\n",
      "Side 2 is 3.0\n",
      "Side 3 is 3.0\n"
     ]
    }
   ],
   "source": [
    "t.dispSides()"
   ]
  },
  {
   "cell_type": "code",
   "execution_count": 6,
   "metadata": {},
   "outputs": [
    {
     "name": "stdout",
     "output_type": "stream",
     "text": [
      "The area of the triangle is 3.90\n"
     ]
    }
   ],
   "source": [
    "t.findArea()"
   ]
  },
  {
   "cell_type": "code",
   "execution_count": 7,
   "metadata": {},
   "outputs": [],
   "source": [
    "#In the above example, notice that __init__() method was defined in both classes, \n",
    "#Triangle as well Polygon. When this happens, the method in the derived class overrides that in the base class. \n",
    "#This is to say, __init__()\n",
    "#in Triangle gets preference over the same in Polygon."
   ]
  },
  {
   "cell_type": "code",
   "execution_count": 8,
   "metadata": {},
   "outputs": [],
   "source": [
    "class Base1:\n",
    "    pass\n",
    "\n",
    "class Base2:\n",
    "    pass\n",
    "\n",
    "class MultiDerived(Base1, Base2):\n",
    "    pass"
   ]
  },
  {
   "cell_type": "code",
   "execution_count": 9,
   "metadata": {},
   "outputs": [],
   "source": [
    "#Python Inheritance Terminologies\n",
    "##Superclass: The class from which attributes and methods will be inherited.\n",
    "#Subclass: The class which inherits the members from superclass.\n",
    "#Method Overloading: Redefining the definitions of methods in subclass which was already defined in superclass."
   ]
  },
  {
   "cell_type": "code",
   "execution_count": 10,
   "metadata": {},
   "outputs": [
    {
     "name": "stdout",
     "output_type": "stream",
     "text": [
      "23\n",
      "102\n",
      "Max\n"
     ]
    }
   ],
   "source": [
    "\n",
    "        \n",
    "#Line:1, definition of the superclass starts here  \n",
    "class Person:  \n",
    "    #initializing the variables  \n",
    "    name = \"\"  \n",
    "    age = 0  \n",
    "  \n",
    "    #defining constructor  \n",
    "    def __init__(self, personName, personAge):  \n",
    "        self.name = personName  \n",
    "        self.age = personAge  \n",
    "  \n",
    "    #defining class methods  \n",
    "    def showName(self):  \n",
    "        print(self.name)  \n",
    "  \n",
    "    def showAge(self):  \n",
    "        print(self.age)  \n",
    "  \n",
    "    #Line: 19, end of superclass definition  \n",
    "  \n",
    "#definition of subclass starts here\n",
    "class Student(Person): #Line: 22, Person is the  superclass and Student is the subclass\n",
    "    studentId = \"\"  \n",
    "  \n",
    "    def __init__(self, studentName, studentAge, studentId):  \n",
    "        Person.__init__(self, studentName, studentAge)  #Line: 26, Calling the superclass constructor and sending values of attributes.\n",
    "        self.studentId = studentId  \n",
    "  \n",
    "    def getId(self):  \n",
    "        return self.studentId  #returns the value of student id\n",
    "#end of subclass definition\n",
    "  \n",
    "  \n",
    "# Create an object of the superclass  \n",
    "person1 = Person(\"Richard\", 23)  #Line: 35\n",
    "#call member methods of the objects  \n",
    "person1.showAge()  \n",
    "# Create an object of the subclass  \n",
    "student1 = Student(\"Max\", 22, \"102\")  #Line: 39\n",
    "print(student1.getId())  \n",
    "student1.showName()  #Line: 41\n"
   ]
  },
  {
   "cell_type": "code",
   "execution_count": 45,
   "metadata": {},
   "outputs": [],
   "source": [
    "class FatherName:  \n",
    "    #initializing the variables  \n",
    "    name = \"\"  \n",
    "     \n",
    "    #defining constructor  \n",
    "    def __init__(self, personName):  \n",
    "        self.name = personName  \n",
    "        \n",
    "  \n",
    "    #defining class methods  \n",
    "    def showName(self):  \n",
    "        print(self.name+\"F\")  \n",
    "  \n",
    "\n",
    "class ChildName(FatherName):  \n",
    "    #initializing the variables  \n",
    "    name = \"\"  \n",
    "     \n",
    "    #defining constructor  \n",
    "    def __init__(self, personName):\n",
    "        super().__init__(personName)\n",
    "        self.name = personName\n",
    "        \n",
    "  \n",
    "    #defining class methods  \n",
    "    def showName(self): \n",
    "        print(self.name+\"C\") \n",
    "        \n",
    "    "
   ]
  },
  {
   "cell_type": "code",
   "execution_count": 46,
   "metadata": {},
   "outputs": [
    {
     "name": "stdout",
     "output_type": "stream",
     "text": [
      "Father NameF\n",
      "Child NameC\n"
     ]
    },
    {
     "data": {
      "text/plain": [
       "(__main__.ChildName, __main__.FatherName, object)"
      ]
     },
     "execution_count": 46,
     "metadata": {},
     "output_type": "execute_result"
    }
   ],
   "source": [
    "# Create an object of the superclass  \n",
    "person1 = FatherName(\"Father Name\")  #Line: 35\n",
    "#call member methods of the objects  \n",
    "person1.showName()  \n",
    "\n",
    "# Create an object of the subclass  \n",
    "student1 = ChildName(\"Child Name\")  #Line: 39\n",
    "student1.showName()  #Line: 41\n",
    "\n",
    "ChildName.__mro__  # Method Resolution Order"
   ]
  },
  {
   "cell_type": "code",
   "execution_count": 70,
   "metadata": {},
   "outputs": [
    {
     "name": "stdout",
     "output_type": "stream",
     "text": [
      "Child has four legs 3.\n"
     ]
    },
    {
     "ename": "TypeError",
     "evalue": "__init__() takes 1 positional argument but 2 were given",
     "output_type": "error",
     "traceback": [
      "\u001b[1;31m---------------------------------------------------------------------------\u001b[0m",
      "\u001b[1;31mTypeError\u001b[0m                                 Traceback (most recent call last)",
      "\u001b[1;32m<ipython-input-70-7a38d745af36>\u001b[0m in \u001b[0;36m<module>\u001b[1;34m()\u001b[0m\n\u001b[0;32m     20\u001b[0m \u001b[1;33m\u001b[0m\u001b[0m\n\u001b[0;32m     21\u001b[0m \u001b[1;33m\u001b[0m\u001b[0m\n\u001b[1;32m---> 22\u001b[1;33m \u001b[0md1\u001b[0m \u001b[1;33m=\u001b[0m \u001b[0mChild\u001b[0m\u001b[1;33m(\u001b[0m\u001b[1;33m)\u001b[0m\u001b[1;33m\u001b[0m\u001b[0m\n\u001b[0m\u001b[0;32m     23\u001b[0m \u001b[0md1\u001b[0m\u001b[1;33m.\u001b[0m\u001b[0mshowName\u001b[0m\u001b[1;33m(\u001b[0m\u001b[1;33m)\u001b[0m\u001b[1;33m\u001b[0m\u001b[0m\n",
      "\u001b[1;32m<ipython-input-70-7a38d745af36>\u001b[0m in \u001b[0;36m__init__\u001b[1;34m(self)\u001b[0m\n\u001b[0;32m     12\u001b[0m   \u001b[1;32mdef\u001b[0m \u001b[0m__init__\u001b[0m\u001b[1;33m(\u001b[0m\u001b[0mself\u001b[0m\u001b[1;33m)\u001b[0m\u001b[1;33m:\u001b[0m\u001b[1;33m\u001b[0m\u001b[0m\n\u001b[0;32m     13\u001b[0m     \u001b[0mprint\u001b[0m\u001b[1;33m(\u001b[0m\u001b[1;34m'Child has four legs 3.'\u001b[0m\u001b[1;33m)\u001b[0m\u001b[1;33m\u001b[0m\u001b[0m\n\u001b[1;32m---> 14\u001b[1;33m     \u001b[0msuper\u001b[0m\u001b[1;33m(\u001b[0m\u001b[1;33m)\u001b[0m\u001b[1;33m.\u001b[0m\u001b[0m__init__\u001b[0m\u001b[1;33m(\u001b[0m\u001b[1;34m'Child'\u001b[0m\u001b[1;33m)\u001b[0m\u001b[1;33m\u001b[0m\u001b[0m\n\u001b[0m\u001b[0;32m     15\u001b[0m \u001b[1;33m\u001b[0m\u001b[0m\n\u001b[0;32m     16\u001b[0m   \u001b[1;31m#defining class methods\u001b[0m\u001b[1;33m\u001b[0m\u001b[1;33m\u001b[0m\u001b[0m\n",
      "\u001b[1;31mTypeError\u001b[0m: __init__() takes 1 positional argument but 2 were given"
     ]
    }
   ],
   "source": [
    "class Father(object):\n",
    "  name = \"\"\n",
    "  def __init__(self):\n",
    "    print('is a warm-blooded animal 3.')\n",
    "    \n",
    "  #defining class methods  \n",
    "  def showName(self):  \n",
    "        print(self.name+\"F\")  \n",
    "\n",
    "class Child(Father):\n",
    "  name = \"\"\n",
    "  def __init__(self):\n",
    "    print('Child has four legs 3.')\n",
    "    super().__init__('Child')\n",
    "    \n",
    "  #defining class methods  \n",
    "  def showName(self):  \n",
    "        print(self.name+\"C\")\n",
    "        super().__init__('Child')\n",
    "    \n",
    "\n",
    "d1 = Child()\n",
    "d1.showName()\n"
   ]
  },
  {
   "cell_type": "code",
   "execution_count": 71,
   "metadata": {},
   "outputs": [
    {
     "name": "stdout",
     "output_type": "stream",
     "text": [
      "Initializing: class C\n",
      "Initializing: class B\n",
      "Initializing: class A\n",
      "Printing from class C : 3\n",
      "Printing from class B : 4\n",
      "Printing from class A : 5\n"
     ]
    }
   ],
   "source": [
    "\n",
    "class A:\n",
    "    def __init__(self):\n",
    "        print('Initializing: class A')\n",
    "\n",
    "    def sub_method(self, b):\n",
    "        print('Printing from class A :', b)\n",
    "\n",
    "\n",
    "class B(A):\n",
    "    def __init__(self):\n",
    "        print('Initializing: class B')\n",
    "        super().__init__()\n",
    "\n",
    "    def sub_method(self, b):\n",
    "        print('Printing from class B :', b)\n",
    "        super().sub_method(b + 1)\n",
    "\n",
    "\n",
    "class C(B):\n",
    "    def __init__(self):\n",
    "        print('Initializing: class C')\n",
    "        super().__init__()\n",
    "\n",
    "    def sub_method(self, b):\n",
    "        print('Printing from class C :', b)\n",
    "        super().sub_method(b + 1)\n",
    "\n",
    "\n",
    "if __name__ == '__main__':\n",
    "    c = C()\n",
    "    c.sub_method(3)\n"
   ]
  },
  {
   "cell_type": "code",
   "execution_count": 1,
   "metadata": {},
   "outputs": [
    {
     "name": "stdout",
     "output_type": "stream",
     "text": [
      "Printing from class Child : 3\n",
      "Printing from class Super : 4\n"
     ]
    }
   ],
   "source": [
    "class A:\n",
    "    def __init__(self):\n",
    "        #print('Initializing: class A')\n",
    "        pass\n",
    "\n",
    "    def sub_method(self, b):\n",
    "        print('Printing from class Super :', b)\n",
    "\n",
    "\n",
    "class B(A):\n",
    "    def __init__(self):\n",
    "        #print('Initializing: class B')\n",
    "        super().__init__()\n",
    "\n",
    "    def sub_method(self, b):\n",
    "        print('Printing from class Child :', b)\n",
    "        super().sub_method(b + 1)\n",
    "\n",
    "\n",
    "\n",
    "\n",
    "if __name__ == '__main__':\n",
    "    c = B()\n",
    "    c.sub_method(3)"
   ]
  },
  {
   "cell_type": "code",
   "execution_count": 76,
   "metadata": {},
   "outputs": [
    {
     "name": "stdout",
     "output_type": "stream",
     "text": [
      "Printing from class Child : 8\n",
      "Printing from class Super : 9\n"
     ]
    }
   ],
   "source": [
    "out = B()\n",
    "out.sub_method(8)"
   ]
  },
  {
   "cell_type": "code",
   "execution_count": 7,
   "metadata": {},
   "outputs": [
    {
     "name": "stdout",
     "output_type": "stream",
     "text": [
      "Printing from class Child : Pavan\n",
      "Printing from class Super :  Father\n"
     ]
    }
   ],
   "source": [
    "class E:\n",
    "    \n",
    "    def __init__(self):\n",
    "        #print('Initializing: class A')\n",
    "        pass\n",
    "\n",
    "    def sub_method(self, name2):\n",
    "        name2 = \" Father\"\n",
    "        print('Printing from class Super :', name2)\n",
    "\n",
    "\n",
    "class F(E):\n",
    "    \n",
    "    def __init__(self):\n",
    "        #print('Initializing: class B')\n",
    "        super().__init__()\n",
    "\n",
    "    def sub_method(self, name):\n",
    "        print('Printing from class Child :', name)\n",
    "        super().sub_method(name)\n",
    "        \n",
    "out = F()\n",
    "out.sub_method(\"Pavan\")        "
   ]
  },
  {
   "cell_type": "code",
   "execution_count": 3,
   "metadata": {},
   "outputs": [],
   "source": [
    "# if __name__ == '__main__':\n",
    "#When the Python interpreter reads a source file, it executes all of the code found in it.\n",
    "\n",
    "#Before executing the code, it will define a few special variables.\n",
    "#For example, if the Python interpreter is running that module (the source file) as the main program, \n",
    "#it sets the special __name__ variable to have a value \"__main__\". \n",
    "#If this file is being imported from another module, __name__ will be set to the module's name."
   ]
  },
  {
   "cell_type": "code",
   "execution_count": null,
   "metadata": {},
   "outputs": [],
   "source": []
  }
 ],
 "metadata": {
  "kernelspec": {
   "display_name": "Python 3",
   "language": "python",
   "name": "python3"
  },
  "language_info": {
   "codemirror_mode": {
    "name": "ipython",
    "version": 3
   },
   "file_extension": ".py",
   "mimetype": "text/x-python",
   "name": "python",
   "nbconvert_exporter": "python",
   "pygments_lexer": "ipython3",
   "version": "3.6.5"
  }
 },
 "nbformat": 4,
 "nbformat_minor": 2
}
