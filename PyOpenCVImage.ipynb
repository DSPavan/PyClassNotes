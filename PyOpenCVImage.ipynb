{
 "cells": [
  {
   "cell_type": "code",
   "execution_count": 1,
   "metadata": {},
   "outputs": [],
   "source": [
    "# python-OpenCV, Numpy, and Matplotlib.\n",
    "# face detection\n",
    "\n",
    "# OpenCV that you will not be able to do without a full installation of OpenCV (about 3GB in size),\n",
    "\n",
    "# conda install cv2 - No\n",
    "# pip install cv2 -No"
   ]
  },
  {
   "cell_type": "code",
   "execution_count": 8,
   "metadata": {},
   "outputs": [],
   "source": [
    "#setup OpenCV-Python in your Windows system\n",
    "\n",
    "# conda install -c conda-forge opencv  ( OR) conda install -c conda-forge/label/broken opencv\n",
    "\n",
    "# Computer vision and machine learning software library.\n",
    "\n",
    "# https://www.youtube.com/watch?v=PkpKaUIZUd8\n",
    "\n",
    "# other : https://opencv-python-tutroals.readthedocs.io/en/latest/py_tutorials/py_setup/py_setup_in_windows/py_setup_in_windows.html"
   ]
  },
  {
   "cell_type": "code",
   "execution_count": 6,
   "metadata": {},
   "outputs": [],
   "source": [
    "# images and Videos are almost same, as video is X number of frames of Images ( 24 Images per second)\n",
    "\n",
    "# Background Subtracting \n",
    "\n",
    "# Color filtering\n",
    "\n",
    "# Edge detection\n",
    "\n",
    "# Feature matching for object recognition \n",
    "\n",
    "# General object recognition"
   ]
  },
  {
   "cell_type": "code",
   "execution_count": 9,
   "metadata": {},
   "outputs": [],
   "source": [
    "#import cv2\n",
    "#import matplotlib\n",
    "#import numpy"
   ]
  },
  {
   "cell_type": "code",
   "execution_count": 1,
   "metadata": {},
   "outputs": [
    {
     "data": {
      "text/plain": [
       "True"
      ]
     },
     "execution_count": 1,
     "metadata": {},
     "output_type": "execute_result"
    }
   ],
   "source": [
    "import cv2\n",
    "import numpy as np\n",
    "from matplotlib import pyplot as plt\n",
    "\n",
    "img = cv2.imread(\"C:\\\\Users\\\\pavan\\\\Downloads\\\\watch1.jpg\",cv2.IMREAD_GRAYSCALE)\n",
    "\n",
    "cv2.imshow('image',img)\n",
    "cv2.waitKey(1)\n",
    "cv2.destroyAllWindows()\n",
    "cv2.imwrite('C:\\\\Users\\\\pavan\\\\Downloads\\\\watchgray.png',img)"
   ]
  },
  {
   "cell_type": "code",
   "execution_count": null,
   "metadata": {},
   "outputs": [],
   "source": []
  }
 ],
 "metadata": {
  "kernelspec": {
   "display_name": "Python 3",
   "language": "python",
   "name": "python3"
  },
  "language_info": {
   "codemirror_mode": {
    "name": "ipython",
    "version": 3
   },
   "file_extension": ".py",
   "mimetype": "text/x-python",
   "name": "python",
   "nbconvert_exporter": "python",
   "pygments_lexer": "ipython3",
   "version": "3.7.0"
  }
 },
 "nbformat": 4,
 "nbformat_minor": 2
}
