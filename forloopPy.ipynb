{
 "cells": [
  {
   "cell_type": "markdown",
   "metadata": {},
   "source": [
    "'''\n",
    "when you need to execute a block of code several number of times\n",
    "\n",
    "A loop statement allows us to execute a statement or group of statements multiple times\n",
    "'''"
   ]
  },
  {
   "cell_type": "code",
   "execution_count": 1,
   "metadata": {},
   "outputs": [
    {
     "name": "stdout",
     "output_type": "stream",
     "text": [
      "Current Letter : P\n",
      "Current Letter : y\n",
      "Current Letter : t\n",
      "Current Letter : h\n",
      "Current Letter : o\n",
      "Current Letter : n\n"
     ]
    }
   ],
   "source": [
    "for letter in 'Python':     # First Example\n",
    "   print ('Current Letter :', letter)"
   ]
  },
  {
   "cell_type": "markdown",
   "metadata": {},
   "source": [
    "syntax : <font color=\"red\"> FOR  XITEM in LIST </font>"
   ]
  },
  {
   "cell_type": "code",
   "execution_count": 3,
   "metadata": {},
   "outputs": [
    {
     "name": "stdout",
     "output_type": "stream",
     "text": [
      "Current fruit : banana\n",
      "Current fruit : apple\n",
      "Current fruit : mango\n"
     ]
    }
   ],
   "source": [
    "# Second Example\n",
    "fruits = ['banana', 'apple',  'mango']\n",
    "for fruit in fruits:        \n",
    "   print ('Current fruit :', fruit)"
   ]
  },
  {
   "cell_type": "code",
   "execution_count": 4,
   "metadata": {},
   "outputs": [
    {
     "name": "stdout",
     "output_type": "stream",
     "text": [
      "Current fruit : banana\n",
      "Current fruit : apple\n",
      "Current fruit : mango\n"
     ]
    }
   ],
   "source": [
    "for index in range(len(fruits)):\n",
    "   print ('Current fruit :', fruits[index])"
   ]
  },
  {
   "cell_type": "markdown",
   "metadata": {},
   "source": [
    "<h1> For Loop and Else </h1>"
   ]
  },
  {
   "cell_type": "code",
   "execution_count": 17,
   "metadata": {},
   "outputs": [
    {
     "name": "stdout",
     "output_type": "stream",
     "text": [
      "Prime numbers between 10 and 20 are:\n",
      "11 is a prime number \n",
      "\n",
      "13 is a prime number \n",
      "\n",
      "17 is a prime number \n",
      "\n",
      "19 is a prime number \n",
      "\n"
     ]
    }
   ],
   "source": [
    "## For Loop and Else\n",
    "lower = 10\n",
    "upper = 20\n",
    "\n",
    "print(\"Prime numbers between\",lower,\"and\",upper,\"are:\")\n",
    "\n",
    "for num in range(lower,upper):\n",
    "   for i in range(2,num):\n",
    "      if (num % i) == 0:\n",
    "         break\n",
    "   else:\n",
    "       print( '%d is a prime number \\n' %(num),  )\n",
    "        \n",
    "\n",
    "# explain – Else, and problem with indentation !!    "
   ]
  },
  {
   "cell_type": "code",
   "execution_count": 9,
   "metadata": {},
   "outputs": [
    {
     "name": "stdout",
     "output_type": "stream",
     "text": [
      "{1: 'Python', 2: 'R script', 3: 'SAS', 4: 'Java'}\n",
      "1 = Python\n",
      "2 = R script\n",
      "3 = SAS\n",
      "4 = Java\n",
      "done\n"
     ]
    }
   ],
   "source": [
    "# For loop for Dict\n",
    "# dictionary with integer keys\n",
    "my_dict = {1: 'Python', 2: 'R script', 3:'SAS',4:'Java'}\n",
    "print(my_dict)\n",
    "for k, v in my_dict.items():\n",
    "    print(k,\"=\",v)\n",
    "\n",
    "print(\"done\")    "
   ]
  },
  {
   "cell_type": "code",
   "execution_count": 11,
   "metadata": {},
   "outputs": [
    {
     "name": "stdout",
     "output_type": "stream",
     "text": [
      "1\n",
      "2\n",
      "3\n",
      "4\n",
      "done\n"
     ]
    }
   ],
   "source": [
    "for k in my_dict:\n",
    "    print(k)\n",
    "\n",
    "print(\"done\")"
   ]
  },
  {
   "cell_type": "code",
   "execution_count": 13,
   "metadata": {},
   "outputs": [
    {
     "name": "stdout",
     "output_type": "stream",
     "text": [
      "1 corresponds to  Python\n",
      "2 corresponds to  R script\n",
      "3 corresponds to  SAS\n",
      "4 corresponds to  Java\n"
     ]
    }
   ],
   "source": [
    "for key, vak in my_dict.items():\n",
    "     print(key, 'corresponds to ',my_dict[key]) "
   ]
  },
  {
   "cell_type": "code",
   "execution_count": 14,
   "metadata": {},
   "outputs": [
    {
     "name": "stdout",
     "output_type": "stream",
     "text": [
      "1 corresponds to  Python\n"
     ]
    }
   ],
   "source": [
    "for key, vak in my_dict.items():\n",
    "    if(my_dict[key]==\"Python\"):\n",
    "        print(key, 'corresponds to ',my_dict[key]) \n",
    "    else:\n",
    "        pass\n",
    "    \n",
    "    "
   ]
  },
  {
   "cell_type": "code",
   "execution_count": 15,
   "metadata": {},
   "outputs": [
    {
     "name": "stdout",
     "output_type": "stream",
     "text": [
      "1  ::  Python\n",
      "2  ::  R script\n",
      "3  ::  SAS\n",
      "4  ::  Java\n"
     ]
    }
   ],
   "source": [
    "# Not efficient, but works !!\n",
    "for key in my_dict:\n",
    "    value = my_dict[key]\n",
    "    print(key, \" :: \", value)"
   ]
  },
  {
   "cell_type": "code",
   "execution_count": null,
   "metadata": {},
   "outputs": [],
   "source": []
  }
 ],
 "metadata": {
  "kernelspec": {
   "display_name": "Python 3",
   "language": "python",
   "name": "python3"
  },
  "language_info": {
   "codemirror_mode": {
    "name": "ipython",
    "version": 3
   },
   "file_extension": ".py",
   "mimetype": "text/x-python",
   "name": "python",
   "nbconvert_exporter": "python",
   "pygments_lexer": "ipython3",
   "version": "3.6.5"
  }
 },
 "nbformat": 4,
 "nbformat_minor": 2
}
