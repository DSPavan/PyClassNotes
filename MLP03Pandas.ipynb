{
 "cells": [
  {
   "cell_type": "code",
   "execution_count": 1,
   "metadata": {},
   "outputs": [
    {
     "name": "stdout",
     "output_type": "stream",
     "text": [
      "                        name mfr type  calories  protein  fat  sodium  fiber  \\\n",
      "0                  100%_Bran   N    C        70        4    1     130   10.0   \n",
      "1          100%_Natural_Bran   Q    C       120        3    5      15    2.0   \n",
      "2                   All-Bran   K    C        70        4    1     260    9.0   \n",
      "3  All-Bran_with_Extra_Fiber   K    C        50        4    0     140   14.0   \n",
      "4             Almond_Delight   R    C       110        2    2     200    1.0   \n",
      "\n",
      "   carbo  sugars  potass  vitamins  shelf  weight  cups     rating  \n",
      "0    5.0       6     280        25      3     1.0  0.33  68.402973  \n",
      "1    8.0       8     135         0      3     1.0  1.00  33.983679  \n",
      "2    7.0       5     320        25      3     1.0  0.33  59.425505  \n",
      "3    8.0       0     330        25      3     1.0  0.50  93.704912  \n",
      "4   14.0       8      -1        25      3     1.0  0.75  34.384843  \n",
      "2\n",
      "(74, 16)\n"
     ]
    }
   ],
   "source": [
    "\n",
    "import pandas as pd\n",
    "# CSV File - Read\n",
    "df = pd.read_csv('C:\\\\Users\\\\HP\\\\Downloads\\cereals2.csv')\n",
    "#  ,header=None ,skiprows=1 , names=['Cal', 'Pr', 'Fat', 'sod', 'Fib', 'Rting']\n",
    "\n",
    "print(df.head(5)) \n",
    "\n",
    "print(df.ndim)\n",
    "\n",
    "print(df.shape)"
   ]
  },
  {
   "cell_type": "code",
   "execution_count": 2,
   "metadata": {},
   "outputs": [
    {
     "name": "stdout",
     "output_type": "stream",
     "text": [
      "[RangeIndex(start=0, stop=74, step=1), Index(['name', 'mfr', 'type', 'calories', 'protein', 'fat', 'sodium', 'fiber',\n",
      "       'carbo', 'sugars', 'potass', 'vitamins', 'shelf', 'weight', 'cups',\n",
      "       'rating'],\n",
      "      dtype='object')]\n"
     ]
    }
   ],
   "source": [
    "print(df.axes)"
   ]
  },
  {
   "cell_type": "code",
   "execution_count": null,
   "metadata": {},
   "outputs": [],
   "source": [
    "print(df['protein']) # Better use .loc or .iloc\n",
    "\n",
    "#select all rows for a specific column\n",
    "print(df.loc[:,'protein'])\n",
    "\n",
    "# Select all rows for multiple columns, say list[]\n",
    "print(df.loc[:,['protein','calories']])\n",
    "\n",
    "newdf = df.loc[:,['protein','calories']]\n",
    "print(newdf.head())"
   ]
  },
  {
   "cell_type": "code",
   "execution_count": 9,
   "metadata": {},
   "outputs": [
    {
     "name": "stdout",
     "output_type": "stream",
     "text": [
      "   protein  fat\n",
      "5        2    2\n",
      "6        2    0\n",
      "7        3    2\n",
      "8        2    1\n",
      "9        3    0\n"
     ]
    }
   ],
   "source": [
    "print(df.iloc[5:10,[4,5]])"
   ]
  },
  {
   "cell_type": "code",
   "execution_count": 10,
   "metadata": {},
   "outputs": [
    {
     "name": "stdout",
     "output_type": "stream",
     "text": [
      "         calories    protein        fat      sodium      fiber      carbo  \\\n",
      "count   74.000000  74.000000  74.000000   74.000000  74.000000  74.000000   \n",
      "mean   105.540541   2.500000   0.945946  160.675676   2.090541  14.594595   \n",
      "std     18.442201   1.088546   0.963610   85.188447   2.404002   4.349205   \n",
      "min     50.000000   1.000000   0.000000    0.000000   0.000000  -1.000000   \n",
      "25%    100.000000   2.000000   0.000000  131.250000   0.250000  12.000000   \n",
      "50%    110.000000   2.000000   1.000000  180.000000   1.500000  14.000000   \n",
      "75%    110.000000   3.000000   1.000000  217.500000   3.000000  17.000000   \n",
      "max    160.000000   6.000000   5.000000  320.000000  14.000000  23.000000   \n",
      "\n",
      "          sugars      potass    vitamins      shelf     weight       cups  \\\n",
      "count  74.000000   74.000000   74.000000  74.000000  74.000000  74.000000   \n",
      "mean    6.770270   92.675676   28.378378   2.175676   1.027432   0.818243   \n",
      "std     4.467684   70.578065   22.787104   0.833512   0.151260   0.234914   \n",
      "min    -1.000000   -1.000000    0.000000   1.000000   0.500000   0.250000   \n",
      "25%     3.000000   40.000000   25.000000   1.000000   1.000000   0.670000   \n",
      "50%     6.000000   90.000000   25.000000   2.000000   1.000000   0.750000   \n",
      "75%    10.750000  113.750000   25.000000   3.000000   1.000000   1.000000   \n",
      "max    15.000000  330.000000  100.000000   3.000000   1.500000   1.500000   \n",
      "\n",
      "          rating  \n",
      "count  74.000000  \n",
      "mean   42.879265  \n",
      "std    14.280511  \n",
      "min    18.042851  \n",
      "25%    32.449210  \n",
      "50%    40.424490  \n",
      "75%    51.401243  \n",
      "max    93.704912  \n"
     ]
    }
   ],
   "source": [
    "print(df.describe())"
   ]
  },
  {
   "cell_type": "code",
   "execution_count": 14,
   "metadata": {},
   "outputs": [
    {
     "name": "stdout",
     "output_type": "stream",
     "text": [
      "         protein    calories\n",
      "count  74.000000   74.000000\n",
      "mean    2.500000  105.540541\n",
      "std     1.088546   18.442201\n",
      "min     1.000000   50.000000\n",
      "25%     2.000000  100.000000\n",
      "50%     2.000000  110.000000\n",
      "75%     3.000000  110.000000\n",
      "max     6.000000  160.000000\n"
     ]
    }
   ],
   "source": [
    "ndf = df.loc[:,['protein','calories']]\n",
    "print(ndf.describe())"
   ]
  },
  {
   "cell_type": "code",
   "execution_count": 16,
   "metadata": {},
   "outputs": [
    {
     "name": "stdout",
     "output_type": "stream",
     "text": [
      "             name mfr type\n",
      "count          74  74   74\n",
      "unique         74   7    2\n",
      "top     Rice_Chex   K    C\n",
      "freq            1  23   71\n"
     ]
    }
   ],
   "source": [
    "print(df.describe(include=['object']))"
   ]
  },
  {
   "cell_type": "code",
   "execution_count": 22,
   "metadata": {},
   "outputs": [
    {
     "name": "stdout",
     "output_type": "stream",
     "text": [
      "protein       2.500000\n",
      "calories    105.540541\n",
      "dtype: float64\n"
     ]
    }
   ],
   "source": [
    "print(ndf.mean()) #  count in each column"
   ]
  },
  {
   "cell_type": "code",
   "execution_count": 28,
   "metadata": {},
   "outputs": [
    {
     "name": "stdout",
     "output_type": "stream",
     "text": [
      "Pandas(Index=0, name='100%_Bran', mfr='N', type='C', calories=70, protein=4, fat=1, sodium=130, fiber=10.0, carbo=5.0, sugars=6, potass=280, vitamins=25, shelf=3, weight=1.0, cups=0.33, rating=68.402973)\n",
      "Pandas(Index=1, name='100%_Natural_Bran', mfr='Q', type='C', calories=120, protein=3, fat=5, sodium=15, fiber=2.0, carbo=8.0, sugars=8, potass=135, vitamins=0, shelf=3, weight=1.0, cups=1.0, rating=33.983678999999995)\n",
      "Pandas(Index=2, name='All-Bran', mfr='K', type='C', calories=70, protein=4, fat=1, sodium=260, fiber=9.0, carbo=7.0, sugars=5, potass=320, vitamins=25, shelf=3, weight=1.0, cups=0.33, rating=59.425505)\n",
      "Pandas(Index=3, name='All-Bran_with_Extra_Fiber', mfr='K', type='C', calories=50, protein=4, fat=0, sodium=140, fiber=14.0, carbo=8.0, sugars=0, potass=330, vitamins=25, shelf=3, weight=1.0, cups=0.5, rating=93.704912)\n",
      "Pandas(Index=4, name='Almond_Delight', mfr='R', type='C', calories=110, protein=2, fat=2, sodium=200, fiber=1.0, carbo=14.0, sugars=8, potass=-1, vitamins=25, shelf=3, weight=1.0, cups=0.75, rating=34.384843)\n",
      "Pandas(Index=5, name='Apple_Cinnamon_Cheerios', mfr='G', type='C', calories=110, protein=2, fat=2, sodium=180, fiber=1.5, carbo=10.5, sugars=10, potass=70, vitamins=25, shelf=1, weight=1.0, cups=0.75, rating=29.509541)\n",
      "Pandas(Index=6, name='Apple_Jacks', mfr='K', type='C', calories=110, protein=2, fat=0, sodium=125, fiber=1.0, carbo=11.0, sugars=14, potass=30, vitamins=25, shelf=2, weight=1.0, cups=1.0, rating=33.174094000000004)\n",
      "Pandas(Index=7, name='Basic_4', mfr='G', type='C', calories=130, protein=3, fat=2, sodium=210, fiber=2.0, carbo=18.0, sugars=8, potass=100, vitamins=25, shelf=3, weight=1.33, cups=0.75, rating=37.038562)\n",
      "Pandas(Index=8, name='Bran_Chex', mfr='R', type='C', calories=90, protein=2, fat=1, sodium=200, fiber=4.0, carbo=15.0, sugars=6, potass=125, vitamins=25, shelf=1, weight=1.0, cups=0.67, rating=49.120253000000005)\n",
      "Pandas(Index=9, name='Bran_Flakes', mfr='P', type='C', calories=90, protein=3, fat=0, sodium=210, fiber=5.0, carbo=13.0, sugars=5, potass=190, vitamins=25, shelf=3, weight=1.0, cups=0.67, rating=53.313813)\n",
      "Pandas(Index=10, name=\"Cap'n'Crunch\", mfr='Q', type='C', calories=120, protein=1, fat=2, sodium=220, fiber=0.0, carbo=12.0, sugars=12, potass=35, vitamins=25, shelf=2, weight=1.0, cups=0.75, rating=18.042851000000002)\n",
      "Pandas(Index=11, name='Cheerios', mfr='G', type='C', calories=110, protein=6, fat=2, sodium=290, fiber=2.0, carbo=17.0, sugars=1, potass=105, vitamins=25, shelf=1, weight=1.0, cups=1.25, rating=50.764998999999996)\n",
      "Pandas(Index=12, name='Cinnamon_Toast_Crunch', mfr='G', type='C', calories=120, protein=1, fat=3, sodium=210, fiber=0.0, carbo=13.0, sugars=9, potass=45, vitamins=25, shelf=2, weight=1.0, cups=0.75, rating=19.823573)\n",
      "Pandas(Index=13, name='Clusters', mfr='G', type='C', calories=110, protein=3, fat=2, sodium=140, fiber=2.0, carbo=13.0, sugars=7, potass=105, vitamins=25, shelf=3, weight=1.0, cups=0.5, rating=40.400208)\n",
      "Pandas(Index=14, name='Cocoa_Puffs', mfr='G', type='C', calories=110, protein=1, fat=1, sodium=180, fiber=0.0, carbo=12.0, sugars=13, potass=55, vitamins=25, shelf=2, weight=1.0, cups=1.0, rating=22.736446)\n",
      "Pandas(Index=15, name='Corn_Chex', mfr='R', type='C', calories=110, protein=2, fat=0, sodium=280, fiber=0.0, carbo=22.0, sugars=3, potass=25, vitamins=25, shelf=1, weight=1.0, cups=1.0, rating=41.445019)\n",
      "Pandas(Index=16, name='Corn_Flakes', mfr='K', type='C', calories=100, protein=2, fat=0, sodium=290, fiber=1.0, carbo=21.0, sugars=2, potass=35, vitamins=25, shelf=1, weight=1.0, cups=1.0, rating=45.863324)\n",
      "Pandas(Index=17, name='Corn_Pops', mfr='K', type='C', calories=110, protein=1, fat=0, sodium=90, fiber=1.0, carbo=13.0, sugars=12, potass=20, vitamins=25, shelf=2, weight=1.0, cups=1.0, rating=35.782790999999996)\n",
      "Pandas(Index=18, name='Count_Chocula', mfr='G', type='C', calories=110, protein=1, fat=1, sodium=180, fiber=0.0, carbo=12.0, sugars=13, potass=65, vitamins=25, shelf=2, weight=1.0, cups=1.0, rating=22.396513)\n",
      "Pandas(Index=19, name=\"Cracklin'_Oat_Bran\", mfr='K', type='C', calories=110, protein=3, fat=3, sodium=140, fiber=4.0, carbo=10.0, sugars=7, potass=160, vitamins=25, shelf=3, weight=1.0, cups=0.5, rating=40.448772)\n",
      "Pandas(Index=20, name='Cream_of_Wheat_(Quick)', mfr='N', type='H', calories=100, protein=3, fat=0, sodium=80, fiber=1.0, carbo=21.0, sugars=0, potass=-1, vitamins=0, shelf=2, weight=1.0, cups=1.0, rating=64.533816)\n",
      "Pandas(Index=21, name='Crispix', mfr='K', type='C', calories=110, protein=2, fat=0, sodium=220, fiber=1.0, carbo=21.0, sugars=3, potass=30, vitamins=25, shelf=3, weight=1.0, cups=1.0, rating=46.895644)\n",
      "Pandas(Index=22, name='Crispy_Wheat_&_Raisins', mfr='G', type='C', calories=100, protein=2, fat=1, sodium=140, fiber=2.0, carbo=11.0, sugars=10, potass=120, vitamins=25, shelf=3, weight=1.0, cups=0.75, rating=36.176196000000004)\n",
      "Pandas(Index=23, name='Double_Chex', mfr='R', type='C', calories=100, protein=2, fat=0, sodium=190, fiber=1.0, carbo=18.0, sugars=5, potass=80, vitamins=25, shelf=3, weight=1.0, cups=0.75, rating=44.330856)\n",
      "Pandas(Index=24, name='Froot_Loops', mfr='K', type='C', calories=110, protein=2, fat=1, sodium=125, fiber=1.0, carbo=11.0, sugars=13, potass=30, vitamins=25, shelf=2, weight=1.0, cups=1.0, rating=32.207582)\n",
      "Pandas(Index=25, name='Frosted_Flakes', mfr='K', type='C', calories=110, protein=1, fat=0, sodium=200, fiber=1.0, carbo=14.0, sugars=11, potass=25, vitamins=25, shelf=1, weight=1.0, cups=0.75, rating=31.435972999999997)\n",
      "Pandas(Index=26, name='Frosted_Mini-Wheats', mfr='K', type='C', calories=100, protein=3, fat=0, sodium=0, fiber=3.0, carbo=14.0, sugars=7, potass=100, vitamins=25, shelf=2, weight=1.0, cups=0.8, rating=58.345141000000005)\n",
      "Pandas(Index=27, name='Fruitful_Bran', mfr='K', type='C', calories=120, protein=3, fat=0, sodium=240, fiber=5.0, carbo=14.0, sugars=12, potass=190, vitamins=25, shelf=3, weight=1.33, cups=0.67, rating=41.015492)\n",
      "Pandas(Index=28, name='Fruity_Pebbles', mfr='P', type='C', calories=110, protein=1, fat=1, sodium=135, fiber=0.0, carbo=13.0, sugars=12, potass=25, vitamins=25, shelf=2, weight=1.0, cups=0.75, rating=28.025765000000003)\n",
      "Pandas(Index=29, name='Golden_Crisp', mfr='P', type='C', calories=100, protein=2, fat=0, sodium=45, fiber=0.0, carbo=11.0, sugars=15, potass=40, vitamins=25, shelf=1, weight=1.0, cups=0.88, rating=35.252444)\n",
      "Pandas(Index=30, name='Golden_Grahams', mfr='G', type='C', calories=110, protein=1, fat=1, sodium=280, fiber=0.0, carbo=15.0, sugars=9, potass=45, vitamins=25, shelf=2, weight=1.0, cups=0.75, rating=23.804043)\n",
      "Pandas(Index=31, name='Grape_Nuts_Flakes', mfr='P', type='C', calories=100, protein=3, fat=1, sodium=140, fiber=3.0, carbo=15.0, sugars=5, potass=85, vitamins=25, shelf=3, weight=1.0, cups=0.88, rating=52.076896999999995)\n",
      "Pandas(Index=32, name='Grape-Nuts', mfr='P', type='C', calories=110, protein=3, fat=0, sodium=170, fiber=3.0, carbo=17.0, sugars=3, potass=90, vitamins=25, shelf=3, weight=1.0, cups=0.25, rating=53.37100699999999)\n",
      "Pandas(Index=33, name='Great_Grains_Pecan', mfr='P', type='C', calories=120, protein=3, fat=3, sodium=75, fiber=3.0, carbo=13.0, sugars=4, potass=100, vitamins=25, shelf=3, weight=1.0, cups=0.33, rating=45.811716)\n",
      "Pandas(Index=34, name='Honey_Graham_Ohs', mfr='Q', type='C', calories=120, protein=1, fat=2, sodium=220, fiber=1.0, carbo=12.0, sugars=11, potass=45, vitamins=25, shelf=2, weight=1.0, cups=1.0, rating=21.871292)\n",
      "Pandas(Index=35, name='Honey_Nut_Cheerios', mfr='G', type='C', calories=110, protein=3, fat=1, sodium=250, fiber=1.5, carbo=11.5, sugars=10, potass=90, vitamins=25, shelf=1, weight=1.0, cups=0.75, rating=31.072217)\n",
      "Pandas(Index=36, name='Honey-comb', mfr='P', type='C', calories=110, protein=1, fat=0, sodium=180, fiber=0.0, carbo=14.0, sugars=11, potass=35, vitamins=25, shelf=1, weight=1.0, cups=1.33, rating=28.742414)\n",
      "Pandas(Index=37, name='Just_Right_Crunchy__Nuggets', mfr='K', type='C', calories=110, protein=2, fat=1, sodium=170, fiber=1.0, carbo=17.0, sugars=6, potass=60, vitamins=100, shelf=3, weight=1.0, cups=1.0, rating=36.523683)\n",
      "Pandas(Index=38, name='Just_Right_Fruit_&_Nut', mfr='K', type='C', calories=140, protein=3, fat=1, sodium=170, fiber=2.0, carbo=20.0, sugars=9, potass=95, vitamins=100, shelf=3, weight=1.3, cups=0.75, rating=36.471512)\n",
      "Pandas(Index=39, name='Kix', mfr='G', type='C', calories=110, protein=2, fat=1, sodium=260, fiber=0.0, carbo=21.0, sugars=3, potass=40, vitamins=25, shelf=2, weight=1.0, cups=1.5, rating=39.241114)\n",
      "Pandas(Index=40, name='Life', mfr='Q', type='C', calories=100, protein=4, fat=2, sodium=150, fiber=2.0, carbo=12.0, sugars=6, potass=95, vitamins=25, shelf=2, weight=1.0, cups=0.67, rating=45.328074)\n",
      "Pandas(Index=41, name='Lucky_Charms', mfr='G', type='C', calories=110, protein=2, fat=1, sodium=180, fiber=0.0, carbo=12.0, sugars=12, potass=55, vitamins=25, shelf=2, weight=1.0, cups=1.0, rating=26.734515000000002)\n",
      "Pandas(Index=42, name='Maypo', mfr='A', type='H', calories=100, protein=4, fat=1, sodium=0, fiber=0.0, carbo=16.0, sugars=3, potass=95, vitamins=25, shelf=2, weight=1.0, cups=1.0, rating=54.850917)\n",
      "Pandas(Index=43, name='Mueslix_Crispy_Blend', mfr='K', type='C', calories=160, protein=3, fat=2, sodium=150, fiber=3.0, carbo=17.0, sugars=13, potass=160, vitamins=25, shelf=3, weight=1.5, cups=0.67, rating=30.313351)\n",
      "Pandas(Index=44, name='Multi-Grain_Cheerios', mfr='G', type='C', calories=100, protein=2, fat=1, sodium=220, fiber=2.0, carbo=15.0, sugars=6, potass=90, vitamins=25, shelf=1, weight=1.0, cups=1.0, rating=40.105965000000005)\n",
      "Pandas(Index=45, name='Nut&Honey_Crunch', mfr='K', type='C', calories=120, protein=2, fat=1, sodium=190, fiber=0.0, carbo=15.0, sugars=9, potass=40, vitamins=25, shelf=2, weight=1.0, cups=0.67, rating=29.924284999999998)\n",
      "Pandas(Index=46, name='Nutri-Grain_Almond-Raisin', mfr='K', type='C', calories=140, protein=3, fat=2, sodium=220, fiber=3.0, carbo=21.0, sugars=7, potass=130, vitamins=25, shelf=3, weight=1.33, cups=0.67, rating=40.69232)\n",
      "Pandas(Index=47, name='Nutri-grain_Wheat', mfr='K', type='C', calories=90, protein=3, fat=0, sodium=170, fiber=3.0, carbo=18.0, sugars=2, potass=90, vitamins=25, shelf=3, weight=1.0, cups=1.0, rating=59.642837)\n",
      "Pandas(Index=48, name='Oatmeal_Raisin_Crisp', mfr='G', type='C', calories=130, protein=3, fat=2, sodium=170, fiber=1.5, carbo=13.5, sugars=10, potass=120, vitamins=25, shelf=3, weight=1.25, cups=0.5, rating=30.450843)\n",
      "Pandas(Index=49, name='Post_Nat._Raisin_Bran', mfr='P', type='C', calories=120, protein=3, fat=1, sodium=200, fiber=6.0, carbo=11.0, sugars=14, potass=260, vitamins=25, shelf=3, weight=1.33, cups=0.67, rating=37.840594)\n",
      "Pandas(Index=50, name='Product_19', mfr='K', type='C', calories=100, protein=3, fat=0, sodium=320, fiber=1.0, carbo=20.0, sugars=3, potass=45, vitamins=100, shelf=3, weight=1.0, cups=1.0, rating=41.50354)\n",
      "Pandas(Index=51, name='Puffed_Rice', mfr='Q', type='C', calories=50, protein=1, fat=0, sodium=0, fiber=0.0, carbo=13.0, sugars=0, potass=15, vitamins=0, shelf=3, weight=0.5, cups=1.0, rating=60.756112)\n",
      "Pandas(Index=52, name='Puffed_Wheat', mfr='Q', type='C', calories=50, protein=2, fat=0, sodium=0, fiber=1.0, carbo=10.0, sugars=0, potass=50, vitamins=0, shelf=3, weight=0.5, cups=1.0, rating=63.005644999999994)\n",
      "Pandas(Index=53, name='Quaker_Oat_Squares', mfr='Q', type='C', calories=100, protein=4, fat=1, sodium=135, fiber=2.0, carbo=14.0, sugars=6, potass=110, vitamins=25, shelf=3, weight=1.0, cups=0.5, rating=49.511874)\n",
      "Pandas(Index=54, name='Quaker_Oatmeal', mfr='Q', type='H', calories=100, protein=5, fat=2, sodium=0, fiber=2.7, carbo=-1.0, sugars=-1, potass=110, vitamins=0, shelf=1, weight=1.0, cups=0.67, rating=50.828392)\n",
      "Pandas(Index=55, name='Raisin_Bran', mfr='K', type='C', calories=120, protein=3, fat=1, sodium=210, fiber=5.0, carbo=14.0, sugars=12, potass=240, vitamins=25, shelf=2, weight=1.33, cups=0.75, rating=39.259197)\n",
      "Pandas(Index=56, name='Raisin_Nut_Bran', mfr='G', type='C', calories=100, protein=3, fat=2, sodium=140, fiber=2.5, carbo=10.5, sugars=8, potass=140, vitamins=25, shelf=3, weight=1.0, cups=0.5, rating=39.7034)\n",
      "Pandas(Index=57, name='Raisin_Squares', mfr='K', type='C', calories=90, protein=2, fat=0, sodium=0, fiber=2.0, carbo=15.0, sugars=6, potass=110, vitamins=25, shelf=3, weight=1.0, cups=0.5, rating=55.333142)\n",
      "Pandas(Index=58, name='Rice_Chex', mfr='R', type='C', calories=110, protein=1, fat=0, sodium=240, fiber=0.0, carbo=23.0, sugars=2, potass=30, vitamins=25, shelf=1, weight=1.0, cups=1.13, rating=41.998933)\n",
      "Pandas(Index=59, name='Rice_Krispies', mfr='K', type='C', calories=110, protein=2, fat=0, sodium=290, fiber=0.0, carbo=22.0, sugars=3, potass=35, vitamins=25, shelf=1, weight=1.0, cups=1.0, rating=40.560159000000006)\n",
      "Pandas(Index=60, name='Shredded_Wheat', mfr='N', type='C', calories=80, protein=2, fat=0, sodium=0, fiber=3.0, carbo=16.0, sugars=0, potass=95, vitamins=0, shelf=1, weight=0.83, cups=1.0, rating=68.235885)\n",
      "Pandas(Index=61, name=\"Shredded_Wheat_'n'Bran\", mfr='N', type='C', calories=90, protein=3, fat=0, sodium=0, fiber=4.0, carbo=19.0, sugars=0, potass=140, vitamins=0, shelf=1, weight=1.0, cups=0.67, rating=74.472949)\n",
      "Pandas(Index=62, name='Shredded_Wheat_spoon_size', mfr='N', type='C', calories=90, protein=3, fat=0, sodium=0, fiber=3.0, carbo=20.0, sugars=0, potass=120, vitamins=0, shelf=1, weight=1.0, cups=0.67, rating=72.801787)\n",
      "Pandas(Index=63, name='Smacks', mfr='K', type='C', calories=110, protein=2, fat=1, sodium=70, fiber=1.0, carbo=9.0, sugars=15, potass=40, vitamins=25, shelf=2, weight=1.0, cups=0.75, rating=31.230054)\n",
      "Pandas(Index=64, name='Special_K', mfr='K', type='C', calories=110, protein=6, fat=0, sodium=230, fiber=1.0, carbo=16.0, sugars=3, potass=55, vitamins=25, shelf=1, weight=1.0, cups=1.0, rating=53.131324)\n",
      "Pandas(Index=65, name='Strawberry_Fruit_Wheats', mfr='N', type='C', calories=90, protein=2, fat=0, sodium=15, fiber=3.0, carbo=15.0, sugars=5, potass=90, vitamins=25, shelf=2, weight=1.0, cups=1.0, rating=59.36399300000001)\n",
      "Pandas(Index=66, name='Total_Corn_Flakes', mfr='G', type='C', calories=110, protein=2, fat=1, sodium=200, fiber=0.0, carbo=21.0, sugars=3, potass=35, vitamins=100, shelf=3, weight=1.0, cups=1.0, rating=38.839746000000005)\n",
      "Pandas(Index=67, name='Total_Raisin_Bran', mfr='G', type='C', calories=140, protein=3, fat=1, sodium=190, fiber=4.0, carbo=15.0, sugars=14, potass=230, vitamins=100, shelf=3, weight=1.5, cups=1.0, rating=28.592785)\n",
      "Pandas(Index=68, name='Total_Whole_Grain', mfr='G', type='C', calories=100, protein=3, fat=1, sodium=200, fiber=3.0, carbo=16.0, sugars=3, potass=110, vitamins=100, shelf=3, weight=1.0, cups=1.0, rating=46.658844)\n",
      "Pandas(Index=69, name='Triples', mfr='G', type='C', calories=110, protein=2, fat=1, sodium=250, fiber=0.0, carbo=21.0, sugars=3, potass=60, vitamins=25, shelf=3, weight=1.0, cups=0.75, rating=39.106173999999996)\n",
      "Pandas(Index=70, name='Trix', mfr='G', type='C', calories=110, protein=1, fat=1, sodium=140, fiber=0.0, carbo=13.0, sugars=12, potass=25, vitamins=25, shelf=2, weight=1.0, cups=1.0, rating=27.753301)\n",
      "Pandas(Index=71, name='Wheat_Chex', mfr='R', type='C', calories=100, protein=3, fat=1, sodium=230, fiber=3.0, carbo=17.0, sugars=3, potass=115, vitamins=25, shelf=1, weight=1.0, cups=0.67, rating=49.787445)\n",
      "Pandas(Index=72, name='Wheaties', mfr='G', type='C', calories=100, protein=3, fat=1, sodium=200, fiber=3.0, carbo=17.0, sugars=3, potass=110, vitamins=25, shelf=1, weight=1.0, cups=1.0, rating=51.592193)\n",
      "Pandas(Index=73, name='Wheaties_Honey_Gold', mfr='G', type='C', calories=110, protein=2, fat=1, sodium=200, fiber=1.0, carbo=16.0, sugars=8, potass=60, vitamins=25, shelf=1, weight=1.0, cups=0.75, rating=36.187559)\n"
     ]
    }
   ],
   "source": [
    "for row in df.itertuples():\n",
    "    print(row)"
   ]
  },
  {
   "cell_type": "code",
   "execution_count": 29,
   "metadata": {},
   "outputs": [
    {
     "name": "stdout",
     "output_type": "stream",
     "text": [
      "54 name        Quaker_Oatmeal\n",
      "mfr                      Q\n",
      "type                     H\n",
      "calories               100\n",
      "protein                  5\n",
      "fat                      2\n",
      "sodium                   0\n",
      "fiber                  2.7\n",
      "carbo                   -1\n",
      "sugars                  -1\n",
      "potass                 110\n",
      "vitamins                 0\n",
      "shelf                    1\n",
      "weight                   1\n",
      "cups                  0.67\n",
      "rating             50.8284\n",
      "Name: 54, dtype: object\n"
     ]
    }
   ],
   "source": [
    "for row_index,row in df.iterrows():\n",
    "    if(row_index == 54):\n",
    "        print(row_index,row)"
   ]
  },
  {
   "cell_type": "code",
   "execution_count": 32,
   "metadata": {},
   "outputs": [
    {
     "name": "stdout",
     "output_type": "stream",
     "text": [
      "                        name mfr type  calories  protein  fat  sodium  fiber  \\\n",
      "0                  100%_Bran   N    C        70        4    1     130   10.0   \n",
      "1          100%_Natural_Bran   Q    C       120        3    5      15    2.0   \n",
      "2                   All-Bran   K    C        70        4    1     260    9.0   \n",
      "3  All-Bran_with_Extra_Fiber   K    C        50        4    0     140   14.0   \n",
      "4             Almond_Delight   R    C       110        2    2     200    1.0   \n",
      "\n",
      "   carbo  sugars  potass  vitamins  shelf  weight  cups     rating  calpro  \n",
      "0    5.0       6     280        25      3     1.0  0.33  68.402973    8.75  \n",
      "1    8.0       8     135         0      3     1.0  1.00  33.983679   20.00  \n",
      "2    7.0       5     320        25      3     1.0  0.33  59.425505    8.75  \n",
      "3    8.0       0     330        25      3     1.0  0.50  93.704912    6.25  \n",
      "4   14.0       8      -1        25      3     1.0  0.75  34.384843   27.50  \n"
     ]
    }
   ],
   "source": [
    "# ALternate - Assign\n",
    "df3 = df.assign(calpro = (df[\"calories\"]/df[\"protein\"])*0.5)\n",
    "print(df3.head())"
   ]
  },
  {
   "cell_type": "code",
   "execution_count": 35,
   "metadata": {},
   "outputs": [
    {
     "name": "stdout",
     "output_type": "stream",
     "text": [
      "0                    100%_Bran N\n",
      "1            100%_Natural_Bran Q\n",
      "2                     All-Bran K\n",
      "3    All-Bran_with_Extra_Fiber K\n",
      "4               Almond_Delight R\n",
      "Name: text Join, dtype: object\n"
     ]
    }
   ],
   "source": [
    "df[\"text Join\"] = df[\"name\"].map(str) +\" \"+ df[\"mfr\"]\n",
    "#print(sales.head())\n",
    "print(df[\"text Join\"].head())"
   ]
  },
  {
   "cell_type": "code",
   "execution_count": 41,
   "metadata": {},
   "outputs": [
    {
     "name": "stdout",
     "output_type": "stream",
     "text": [
      "0                    100%_Bran N\n",
      "1            100%_Natural_Bran Q\n",
      "2                     All-Bran K\n",
      "3    All-Bran_with_Extra_Fiber K\n",
      "4               Almond_Delight R\n",
      "Name: text Join, dtype: object\n"
     ]
    }
   ],
   "source": [
    "df[\"text Join\"] = df[\"name\"].map(str) +\" \"+ df[\"mfr\"]\n",
    "#print(sales.head())\n",
    "print(df[\"text Join\"].head())"
   ]
  },
  {
   "cell_type": "code",
   "execution_count": 52,
   "metadata": {},
   "outputs": [
    {
     "name": "stdout",
     "output_type": "stream",
     "text": [
      "-48.49059449629765\n"
     ]
    }
   ],
   "source": [
    "# covariance\n",
    "df4cov = df['sugars'].cov(df['rating'])\n",
    "print(df4cov)"
   ]
  },
  {
   "cell_type": "code",
   "execution_count": 51,
   "metadata": {},
   "outputs": [
    {
     "name": "stdout",
     "output_type": "stream",
     "text": [
      "-0.7600310368816149\n"
     ]
    }
   ],
   "source": [
    "df4cov = df['sugars'].corr(df['rating'])\n",
    "print(df4cov)"
   ]
  },
  {
   "cell_type": "code",
   "execution_count": 53,
   "metadata": {},
   "outputs": [
    {
     "data": {
      "text/html": [
       "<div>\n",
       "<style scoped>\n",
       "    .dataframe tbody tr th:only-of-type {\n",
       "        vertical-align: middle;\n",
       "    }\n",
       "\n",
       "    .dataframe tbody tr th {\n",
       "        vertical-align: top;\n",
       "    }\n",
       "\n",
       "    .dataframe thead th {\n",
       "        text-align: right;\n",
       "    }\n",
       "</style>\n",
       "<table border=\"1\" class=\"dataframe\">\n",
       "  <thead>\n",
       "    <tr style=\"text-align: right;\">\n",
       "      <th></th>\n",
       "      <th>calories</th>\n",
       "      <th>protein</th>\n",
       "      <th>fat</th>\n",
       "      <th>sodium</th>\n",
       "      <th>fiber</th>\n",
       "      <th>carbo</th>\n",
       "      <th>sugars</th>\n",
       "      <th>potass</th>\n",
       "      <th>vitamins</th>\n",
       "      <th>shelf</th>\n",
       "      <th>weight</th>\n",
       "      <th>cups</th>\n",
       "      <th>rating</th>\n",
       "    </tr>\n",
       "  </thead>\n",
       "  <tbody>\n",
       "    <tr>\n",
       "      <th>calories</th>\n",
       "      <td>340.114772</td>\n",
       "      <td>-1.438356</td>\n",
       "      <td>7.563865</td>\n",
       "      <td>556.479082</td>\n",
       "      <td>-15.782488</td>\n",
       "      <td>20.564606</td>\n",
       "      <td>45.125879</td>\n",
       "      <td>-206.945576</td>\n",
       "      <td>124.861163</td>\n",
       "      <td>0.520178</td>\n",
       "      <td>2.117160</td>\n",
       "      <td>0.223565</td>\n",
       "      <td>-187.529398</td>\n",
       "    </tr>\n",
       "    <tr>\n",
       "      <th>protein</th>\n",
       "      <td>-1.438356</td>\n",
       "      <td>1.184932</td>\n",
       "      <td>0.150685</td>\n",
       "      <td>-3.698630</td>\n",
       "      <td>1.304795</td>\n",
       "      <td>-0.678082</td>\n",
       "      <td>-1.856164</td>\n",
       "      <td>40.890411</td>\n",
       "      <td>0.342466</td>\n",
       "      <td>0.089041</td>\n",
       "      <td>0.036781</td>\n",
       "      <td>-0.071164</td>\n",
       "      <td>7.835768</td>\n",
       "    </tr>\n",
       "    <tr>\n",
       "      <th>fat</th>\n",
       "      <td>7.563865</td>\n",
       "      <td>0.150685</td>\n",
       "      <td>0.928545</td>\n",
       "      <td>1.612366</td>\n",
       "      <td>-0.047094</td>\n",
       "      <td>-1.467419</td>\n",
       "      <td>0.987412</td>\n",
       "      <td>8.776749</td>\n",
       "      <td>-0.499815</td>\n",
       "      <td>0.174010</td>\n",
       "      <td>0.032325</td>\n",
       "      <td>-0.050781</td>\n",
       "      <td>-5.603623</td>\n",
       "    </tr>\n",
       "    <tr>\n",
       "      <th>sodium</th>\n",
       "      <td>556.479082</td>\n",
       "      <td>-3.698630</td>\n",
       "      <td>1.612366</td>\n",
       "      <td>7257.071455</td>\n",
       "      <td>-13.788041</td>\n",
       "      <td>134.387264</td>\n",
       "      <td>43.650500</td>\n",
       "      <td>-124.572381</td>\n",
       "      <td>701.453165</td>\n",
       "      <td>-4.229915</td>\n",
       "      <td>4.023676</td>\n",
       "      <td>2.616272</td>\n",
       "      <td>-498.229750</td>\n",
       "    </tr>\n",
       "    <tr>\n",
       "      <th>fiber</th>\n",
       "      <td>-15.782488</td>\n",
       "      <td>1.304795</td>\n",
       "      <td>-0.047094</td>\n",
       "      <td>-13.788041</td>\n",
       "      <td>5.779224</td>\n",
       "      <td>-3.712107</td>\n",
       "      <td>-1.781655</td>\n",
       "      <td>153.809219</td>\n",
       "      <td>-1.577194</td>\n",
       "      <td>0.563328</td>\n",
       "      <td>0.084263</td>\n",
       "      <td>-0.294702</td>\n",
       "      <td>20.606104</td>\n",
       "    </tr>\n",
       "    <tr>\n",
       "      <th>carbo</th>\n",
       "      <td>20.564606</td>\n",
       "      <td>-0.678082</td>\n",
       "      <td>-1.467419</td>\n",
       "      <td>134.387264</td>\n",
       "      <td>-3.712107</td>\n",
       "      <td>18.915587</td>\n",
       "      <td>-6.614957</td>\n",
       "      <td>-110.201777</td>\n",
       "      <td>25.703443</td>\n",
       "      <td>-0.379859</td>\n",
       "      <td>0.099561</td>\n",
       "      <td>0.365031</td>\n",
       "      <td>3.465905</td>\n",
       "    </tr>\n",
       "    <tr>\n",
       "      <th>sugars</th>\n",
       "      <td>45.125879</td>\n",
       "      <td>-1.856164</td>\n",
       "      <td>0.987412</td>\n",
       "      <td>43.650500</td>\n",
       "      <td>-1.781655</td>\n",
       "      <td>-6.614957</td>\n",
       "      <td>19.960200</td>\n",
       "      <td>-6.007034</td>\n",
       "      <td>13.457979</td>\n",
       "      <td>0.260089</td>\n",
       "      <td>0.307484</td>\n",
       "      <td>-0.048902</td>\n",
       "      <td>-48.490594</td>\n",
       "    </tr>\n",
       "    <tr>\n",
       "      <th>potass</th>\n",
       "      <td>-206.945576</td>\n",
       "      <td>40.890411</td>\n",
       "      <td>8.776749</td>\n",
       "      <td>-124.572381</td>\n",
       "      <td>153.809219</td>\n",
       "      <td>-110.201777</td>\n",
       "      <td>-6.007034</td>\n",
       "      <td>4981.263236</td>\n",
       "      <td>45.973713</td>\n",
       "      <td>19.441318</td>\n",
       "      <td>4.387923</td>\n",
       "      <td>-8.709756</td>\n",
       "      <td>413.795560</td>\n",
       "    </tr>\n",
       "    <tr>\n",
       "      <th>vitamins</th>\n",
       "      <td>124.861163</td>\n",
       "      <td>0.342466</td>\n",
       "      <td>-0.499815</td>\n",
       "      <td>701.453165</td>\n",
       "      <td>-1.577194</td>\n",
       "      <td>25.703443</td>\n",
       "      <td>13.457979</td>\n",
       "      <td>45.973713</td>\n",
       "      <td>519.252129</td>\n",
       "      <td>5.905220</td>\n",
       "      <td>1.128656</td>\n",
       "      <td>0.704646</td>\n",
       "      <td>-79.328967</td>\n",
       "    </tr>\n",
       "    <tr>\n",
       "      <th>shelf</th>\n",
       "      <td>0.520178</td>\n",
       "      <td>0.089041</td>\n",
       "      <td>0.174010</td>\n",
       "      <td>-4.229915</td>\n",
       "      <td>0.563328</td>\n",
       "      <td>-0.379859</td>\n",
       "      <td>0.260089</td>\n",
       "      <td>19.441318</td>\n",
       "      <td>5.905220</td>\n",
       "      <td>0.694743</td>\n",
       "      <td>0.023060</td>\n",
       "      <td>-0.069961</td>\n",
       "      <td>0.484771</td>\n",
       "    </tr>\n",
       "    <tr>\n",
       "      <th>weight</th>\n",
       "      <td>2.117160</td>\n",
       "      <td>0.036781</td>\n",
       "      <td>0.032325</td>\n",
       "      <td>4.023676</td>\n",
       "      <td>0.084263</td>\n",
       "      <td>0.099561</td>\n",
       "      <td>0.307484</td>\n",
       "      <td>4.387923</td>\n",
       "      <td>1.128656</td>\n",
       "      <td>0.023060</td>\n",
       "      <td>0.022880</td>\n",
       "      <td>-0.006681</td>\n",
       "      <td>-0.656019</td>\n",
       "    </tr>\n",
       "    <tr>\n",
       "      <th>cups</th>\n",
       "      <td>0.223565</td>\n",
       "      <td>-0.071164</td>\n",
       "      <td>-0.050781</td>\n",
       "      <td>2.616272</td>\n",
       "      <td>-0.294702</td>\n",
       "      <td>0.365031</td>\n",
       "      <td>-0.048902</td>\n",
       "      <td>-8.709756</td>\n",
       "      <td>0.704646</td>\n",
       "      <td>-0.069961</td>\n",
       "      <td>-0.006681</td>\n",
       "      <td>0.055185</td>\n",
       "      <td>-0.659987</td>\n",
       "    </tr>\n",
       "    <tr>\n",
       "      <th>rating</th>\n",
       "      <td>-187.529398</td>\n",
       "      <td>7.835768</td>\n",
       "      <td>-5.603623</td>\n",
       "      <td>-498.229750</td>\n",
       "      <td>20.606104</td>\n",
       "      <td>3.465905</td>\n",
       "      <td>-48.490594</td>\n",
       "      <td>413.795560</td>\n",
       "      <td>-79.328967</td>\n",
       "      <td>0.484771</td>\n",
       "      <td>-0.656019</td>\n",
       "      <td>-0.659987</td>\n",
       "      <td>203.932984</td>\n",
       "    </tr>\n",
       "  </tbody>\n",
       "</table>\n",
       "</div>"
      ],
      "text/plain": [
       "            calories    protein       fat       sodium       fiber  \\\n",
       "calories  340.114772  -1.438356  7.563865   556.479082  -15.782488   \n",
       "protein    -1.438356   1.184932  0.150685    -3.698630    1.304795   \n",
       "fat         7.563865   0.150685  0.928545     1.612366   -0.047094   \n",
       "sodium    556.479082  -3.698630  1.612366  7257.071455  -13.788041   \n",
       "fiber     -15.782488   1.304795 -0.047094   -13.788041    5.779224   \n",
       "carbo      20.564606  -0.678082 -1.467419   134.387264   -3.712107   \n",
       "sugars     45.125879  -1.856164  0.987412    43.650500   -1.781655   \n",
       "potass   -206.945576  40.890411  8.776749  -124.572381  153.809219   \n",
       "vitamins  124.861163   0.342466 -0.499815   701.453165   -1.577194   \n",
       "shelf       0.520178   0.089041  0.174010    -4.229915    0.563328   \n",
       "weight      2.117160   0.036781  0.032325     4.023676    0.084263   \n",
       "cups        0.223565  -0.071164 -0.050781     2.616272   -0.294702   \n",
       "rating   -187.529398   7.835768 -5.603623  -498.229750   20.606104   \n",
       "\n",
       "               carbo     sugars       potass    vitamins      shelf    weight  \\\n",
       "calories   20.564606  45.125879  -206.945576  124.861163   0.520178  2.117160   \n",
       "protein    -0.678082  -1.856164    40.890411    0.342466   0.089041  0.036781   \n",
       "fat        -1.467419   0.987412     8.776749   -0.499815   0.174010  0.032325   \n",
       "sodium    134.387264  43.650500  -124.572381  701.453165  -4.229915  4.023676   \n",
       "fiber      -3.712107  -1.781655   153.809219   -1.577194   0.563328  0.084263   \n",
       "carbo      18.915587  -6.614957  -110.201777   25.703443  -0.379859  0.099561   \n",
       "sugars     -6.614957  19.960200    -6.007034   13.457979   0.260089  0.307484   \n",
       "potass   -110.201777  -6.007034  4981.263236   45.973713  19.441318  4.387923   \n",
       "vitamins   25.703443  13.457979    45.973713  519.252129   5.905220  1.128656   \n",
       "shelf      -0.379859   0.260089    19.441318    5.905220   0.694743  0.023060   \n",
       "weight      0.099561   0.307484     4.387923    1.128656   0.023060  0.022880   \n",
       "cups        0.365031  -0.048902    -8.709756    0.704646  -0.069961 -0.006681   \n",
       "rating      3.465905 -48.490594   413.795560  -79.328967   0.484771 -0.656019   \n",
       "\n",
       "              cups      rating  \n",
       "calories  0.223565 -187.529398  \n",
       "protein  -0.071164    7.835768  \n",
       "fat      -0.050781   -5.603623  \n",
       "sodium    2.616272 -498.229750  \n",
       "fiber    -0.294702   20.606104  \n",
       "carbo     0.365031    3.465905  \n",
       "sugars   -0.048902  -48.490594  \n",
       "potass   -8.709756  413.795560  \n",
       "vitamins  0.704646  -79.328967  \n",
       "shelf    -0.069961    0.484771  \n",
       "weight   -0.006681   -0.656019  \n",
       "cups      0.055185   -0.659987  \n",
       "rating   -0.659987  203.932984  "
      ]
     },
     "execution_count": 53,
     "metadata": {},
     "output_type": "execute_result"
    }
   ],
   "source": [
    "df.cov()"
   ]
  },
  {
   "cell_type": "code",
   "execution_count": null,
   "metadata": {},
   "outputs": [],
   "source": []
  }
 ],
 "metadata": {
  "kernelspec": {
   "display_name": "Python 3",
   "language": "python",
   "name": "python3"
  },
  "language_info": {
   "codemirror_mode": {
    "name": "ipython",
    "version": 3
   },
   "file_extension": ".py",
   "mimetype": "text/x-python",
   "name": "python",
   "nbconvert_exporter": "python",
   "pygments_lexer": "ipython3",
   "version": "3.6.5"
  }
 },
 "nbformat": 4,
 "nbformat_minor": 2
}
