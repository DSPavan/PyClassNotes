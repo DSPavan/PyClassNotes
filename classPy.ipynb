{
 "cells": [
  {
   "cell_type": "code",
   "execution_count": 63,
   "metadata": {},
   "outputs": [],
   "source": [
    "# Class , Objects, methods\n",
    "# Magic Methods\n",
    "# Inheritance\n",
    "# Polymorphism\n",
    "# Encapsulation\n",
    "# Overloading\n",
    "# Private Variables \n",
    "# Public and Private methods\n",
    "# Class variables"
   ]
  },
  {
   "cell_type": "code",
   "execution_count": 60,
   "metadata": {},
   "outputs": [
    {
     "name": "stdout",
     "output_type": "stream",
     "text": [
      "Name :  pavan , Salary:  2000\n"
     ]
    }
   ],
   "source": [
    "## OOP concepts\n",
    "# Class - method - Objects\n",
    "class Employee:\n",
    "   'Common base class for all employees'\n",
    "   empCount = 0\n",
    "\n",
    "   def __init__(self, name, salary):\n",
    "      self.name = name\n",
    "      self.salary = salary\n",
    "      Employee.empCount += 1\n",
    "   \n",
    "   def displayCount(self):\n",
    "     print( \"Total Employee %d\" % Employee.empCount)\n",
    "\n",
    "   def displayEmployee(self):\n",
    "      print(\"Name : \", self.name,  \", Salary: \", self.salary)\n",
    "        \n",
    "\n",
    "# Create instance\n",
    "obj = Employee(\"pavan\", 2000)\n",
    "\n",
    "# Call the method \n",
    "obj.displayEmployee()\n",
    "\n",
    "# Call the method with a parameter\n",
    "#obj.sayHello('Guido')        "
   ]
  },
  {
   "cell_type": "code",
   "execution_count": 61,
   "metadata": {},
   "outputs": [
    {
     "name": "stdout",
     "output_type": "stream",
     "text": [
      "Name :  sachin , Salary:  3000\n",
      "Total Employee 3\n"
     ]
    }
   ],
   "source": [
    "# Calling , using Class  methods\n",
    "emp1 = Employee(\"pavan\", 2000)\n",
    "emp1 = Employee(\"sachin\", 3000)\n",
    "\n",
    "emp1.displayEmployee()\n",
    "\n",
    "print (\"Total Employee %d\" % Employee.empCount)\n"
   ]
  },
  {
   "cell_type": "code",
   "execution_count": 75,
   "metadata": {},
   "outputs": [
    {
     "name": "stdout",
     "output_type": "stream",
     "text": [
      "{'__module__': '__main__', '__doc__': 'Common base class for all employees', 'empCount': 3, '__init__': <function Employee.__init__ at 0x000000AD3507C840>, 'displayCount': <function Employee.displayCount at 0x000000AD3507CAE8>, 'displayEmployee': <function Employee.displayEmployee at 0x000000AD3507CBF8>, '__dict__': <attribute '__dict__' of 'Employee' objects>, '__weakref__': <attribute '__weakref__' of 'Employee' objects>}\n"
     ]
    }
   ],
   "source": [
    "##   MAGIC METHODS\n",
    "#They are special methods with fixed names\n",
    "\n",
    "#So what's magic about the __init__ method? The answer is, you don't have to invoke it directly.\n",
    "#The invocation is realized behind the scenes. \n",
    "#When you create an instance x of a class A with the statement \"x = A()\", \n",
    "#python will do the necessary calls to __new__ and __init__. \n",
    "\n",
    "# getattr , setattr\n",
    "# __dict__  , __doc__ , __name__  , __module__ , __bases__\n",
    "\n",
    "# Dunder or magic methods - DUNDER - Double Underscore\n",
    "\n",
    "print(Employee.__dict__)\n",
    "\n"
   ]
  },
  {
   "cell_type": "code",
   "execution_count": 36,
   "metadata": {},
   "outputs": [
    {
     "name": "stdout",
     "output_type": "stream",
     "text": [
      "Common base class for all employees\n",
      "Employee\n",
      "__main__\n",
      "(<class 'object'>,)\n"
     ]
    }
   ],
   "source": [
    "print(Employee.__doc__)\n",
    "\n",
    "print(Employee.__name__)\n",
    "\n",
    "print(Employee.__module__)\n",
    "\n",
    "print(Employee.__bases__)\n",
    "\n"
   ]
  },
  {
   "cell_type": "code",
   "execution_count": null,
   "metadata": {},
   "outputs": [],
   "source": [
    "# __call__ method\n",
    "#The __call__ method enables Python programmers to write classes where the instances behave like functions.\n",
    "#Both functions and the instances of such classes are called callables\n",
    "\n",
    "#_ _XX_ _\n",
    "# if __name__ == \"__main__\":\n"
   ]
  },
  {
   "cell_type": "code",
   "execution_count": null,
   "metadata": {},
   "outputs": [],
   "source": [
    "# Destroying Objects (Garbage Collection)"
   ]
  },
  {
   "cell_type": "code",
   "execution_count": 54,
   "metadata": {},
   "outputs": [
    {
     "name": "stdout",
     "output_type": "stream",
     "text": [
      "Name :  pavan , Salary:  2000\n",
      "Total Employee 0\n"
     ]
    }
   ],
   "source": [
    "import sys\n",
    "sys.path.append('D:\\\\PyFunctions\\\\')\n",
    "sys.path\n",
    "import Employee as Emp\n",
    "# save employee class, not in J Notebook\n",
    "#separate\n",
    "# Calling , using Class  methods\n",
    "emp1 = Employee(\"pavan\", 2000)\n",
    "emp2 = Employee(\"sachin\", 3000)\n",
    "\n",
    "emp1.displayEmployee()\n",
    "print (\"Total Employee %d\" % Emp.Employee.empCount)\n",
    "#Display List"
   ]
  },
  {
   "cell_type": "code",
   "execution_count": 4,
   "metadata": {},
   "outputs": [
    {
     "name": "stdout",
     "output_type": "stream",
     "text": [
      "Benz Car is a red convertible worth $60000.00\n",
      "Audi car is a blue van worth $10000.00\n",
      " is a  car worth $100.00\n"
     ]
    }
   ],
   "source": [
    "class Vehicle:\n",
    "    name = \"\"\n",
    "    kind = \"car\"\n",
    "    color = \"\"\n",
    "    value = 100.00\n",
    "    def description(self):\n",
    "        desc_str = \"%s is a %s %s worth $%.2f\" % (self.name, self.color, self.kind, self.value)\n",
    "        return desc_str\n",
    " \n",
    "\n",
    "# your code goes here\n",
    "car1 = Vehicle()\n",
    "car1.name = \"Benz Car\"\n",
    "car1.color = \"red\"\n",
    "car1.kind = \"convertible\"\n",
    "car1.value = 60000.00\n",
    " \n",
    "car2 = Vehicle()\n",
    "car2.name = \"Audi car\"\n",
    "car2.color = \"blue\"\n",
    "car2.kind = \"van\"\n",
    "car2.value = 10000.00\n",
    " \n",
    "# test code\n",
    "print(car1.description())\n",
    "print(car2.description())\n",
    "\n",
    "car3 = Vehicle()\n",
    "print(car3.description())"
   ]
  },
  {
   "cell_type": "code",
   "execution_count": null,
   "metadata": {},
   "outputs": [],
   "source": []
  },
  {
   "cell_type": "code",
   "execution_count": 6,
   "metadata": {},
   "outputs": [
    {
     "name": "stdout",
     "output_type": "stream",
     "text": [
      "Welcome to , Imarticus\n"
     ]
    }
   ],
   "source": [
    "class User:\n",
    "    name = \"\"\n",
    "\n",
    "    def __init__(self, name):\n",
    "        self.name = name\n",
    "\n",
    "    def sayHello(self):\n",
    "        print(\"Welcome to , \" + self.name)\n",
    "\n",
    "User1 = User(\"Imarticus\")\n",
    "User1.sayHello()"
   ]
  },
  {
   "cell_type": "code",
   "execution_count": 7,
   "metadata": {},
   "outputs": [
    {
     "name": "stdout",
     "output_type": "stream",
     "text": [
      "Groarrr - Bear\n",
      "Woof woof! - Dog\n"
     ]
    }
   ],
   "source": [
    "#Polymorphism\n",
    "class Bear(object):\n",
    "    def sound(self):\n",
    "        print( \"Groarrr - Bear\")\n",
    "class Dog(object):\n",
    "    def sound(self):\n",
    "        print( \"Woof woof! - Dog\")\n",
    "\n",
    "def makeSound(animalType):\n",
    "    animalType.sound()\n",
    " \n",
    " \n",
    "bearObj = Bear()\n",
    "dogObj = Dog()\n",
    " \n",
    "makeSound(bearObj)\n",
    "makeSound(dogObj)\n"
   ]
  },
  {
   "cell_type": "code",
   "execution_count": 57,
   "metadata": {},
   "outputs": [
    {
     "ename": "SyntaxError",
     "evalue": "invalid character in identifier (<ipython-input-57-645925116ad5>, line 5)",
     "output_type": "error",
     "traceback": [
      "\u001b[1;36m  File \u001b[1;32m\"<ipython-input-57-645925116ad5>\"\u001b[1;36m, line \u001b[1;32m5\u001b[0m\n\u001b[1;33m    print(\"Executing as main program\")\u001b[0m\n\u001b[1;37m    ^\u001b[0m\n\u001b[1;31mSyntaxError\u001b[0m\u001b[1;31m:\u001b[0m invalid character in identifier\n"
     ]
    }
   ],
   "source": [
    "#It begins with a double underscore (_). It __init__() method\n",
    "\n",
    "\n",
    "if __name__ == \"__main__\":\n",
    "    print(\"Executing as main program\")\n",
    "    print(\"Value of __name__ is: \", __name__)\n",
    "    hello()\n",
    "\n"
   ]
  },
  {
   "cell_type": "code",
   "execution_count": 56,
   "metadata": {},
   "outputs": [],
   "source": [
    "#Inheritance\n",
    "#Base Class\n",
    "#Derived\n",
    "\n",
    "#supports multiple inheritances\n",
    "\n",
    "#class DerivedClass(BaseClass):\n",
    "#         body_of_derived_class\n",
    "\n",
    "\n",
    "#ParentClass.Method.\n"
   ]
  },
  {
   "cell_type": "code",
   "execution_count": 62,
   "metadata": {},
   "outputs": [],
   "source": [
    "#overloading \n",
    "#We create a class with one method sayHello(). \n",
    "#The first parameter of this method is set to None, \n",
    "#this gives us the option to call it with or without a parameter"
   ]
  },
  {
   "cell_type": "code",
   "execution_count": 64,
   "metadata": {},
   "outputs": [
    {
     "name": "stdout",
     "output_type": "stream",
     "text": [
      "updating software\n",
      "driving\n"
     ]
    }
   ],
   "source": [
    "# Encapsulation  with \"_\" underscore\n",
    "#you can restrict access to methods and variables.\n",
    "\n",
    "#this can prevent the data from being modified by accident and is known as encapsulation.   \n",
    "\n",
    "#This function cannot be called on the object directly, only from within the class.\n",
    "\n",
    "#Encapsulation prevents from accessing accidentally, but not intentionally\n",
    "class Car:\n",
    " \n",
    "    def __init__(self):\n",
    "        self.__updateSoftware()\n",
    " \n",
    "    def drive(self):\n",
    "        print('driving')\n",
    " \n",
    "    def __updateSoftware(self):\n",
    "        print('updating software')\n",
    " \n",
    "redcar = Car()\n",
    "redcar.drive()\n",
    "#redcar.__updateSoftware()  not accesible from object.\n"
   ]
  },
  {
   "cell_type": "code",
   "execution_count": 68,
   "metadata": {},
   "outputs": [
    {
     "name": "stdout",
     "output_type": "stream",
     "text": [
      "driving. maxspeed 200\n",
      "driving. maxspeed 200\n"
     ]
    }
   ],
   "source": [
    "# private Variables\n",
    "#A private variable can only be changed within a class method and not outside of the class.\n",
    "class Car:\n",
    " \n",
    "    __maxspeed = 0\n",
    "    __name = \"\"\n",
    " \n",
    "    def __init__(self):\n",
    "        self.__maxspeed = 200\n",
    "        self.__name = \"Supercar\"\n",
    " \n",
    "    def drive(self):\n",
    "        print('driving. maxspeed ' + str(self.__maxspeed))\n",
    " \n",
    "redcar = Car()\n",
    "redcar.drive()\n",
    "redcar.__maxspeed = 10  # will not change variable because its private\n",
    "redcar.drive()"
   ]
  },
  {
   "cell_type": "code",
   "execution_count": 71,
   "metadata": {},
   "outputs": [
    {
     "name": "stdout",
     "output_type": "stream",
     "text": [
      "driving. maxspeed 200\n",
      "driving. maxspeed 320\n"
     ]
    }
   ],
   "source": [
    "#If you want to change the value of a private variable, a setter method is used. \n",
    "#This is simply a method that sets the value of a private variable.\n",
    "#def setMaxSpeed(self,speed):\n",
    "#        self.__maxspeed = speed\n",
    "class Car:\n",
    " \n",
    "    __maxspeed = 0\n",
    "    __name = \"\"\n",
    " \n",
    "    def __init__(self):\n",
    "        self.__maxspeed = 200\n",
    "        self.__name = \"Supercar\"\n",
    " \n",
    "    def drive(self):\n",
    "        print( 'driving. maxspeed ' + str(self.__maxspeed))\n",
    " \n",
    "    def setMaxSpeed(self,speed):\n",
    "        self.__maxspeed = speed\n",
    " \n",
    "redcar = Car()\n",
    "redcar.drive()\n",
    "redcar.setMaxSpeed(320)\n",
    "redcar.drive()\n"
   ]
  },
  {
   "cell_type": "code",
   "execution_count": 73,
   "metadata": {},
   "outputs": [
    {
     "name": "stdout",
     "output_type": "stream",
     "text": [
      "Duck walks on a water\n"
     ]
    }
   ],
   "source": [
    "class Animal:\n",
    "    def __init__(self,name):\n",
    "        self.name = name\n",
    " \n",
    "    def walk(self):\n",
    "        print(self.name + ' walks on a water')\n",
    " \n",
    "duck = Animal('Duck')\n",
    "duck.walk()\n"
   ]
  },
  {
   "cell_type": "code",
   "execution_count": null,
   "metadata": {},
   "outputs": [],
   "source": [
    "\n",
    "#To list the attributes of an instance/object, we have two functions:- \n",
    "#    vars()- This function displays the attribute of an instance in the form of an dictionary.\n",
    "#    dir()- This function displays more attributes than vars function,as it is not limited to instance. \n",
    "#    It displays the class attributes as well.\n"
   ]
  }
 ],
 "metadata": {
  "kernelspec": {
   "display_name": "Python 3",
   "language": "python",
   "name": "python3"
  },
  "language_info": {
   "codemirror_mode": {
    "name": "ipython",
    "version": 3
   },
   "file_extension": ".py",
   "mimetype": "text/x-python",
   "name": "python",
   "nbconvert_exporter": "python",
   "pygments_lexer": "ipython3",
   "version": "3.6.5"
  }
 },
 "nbformat": 4,
 "nbformat_minor": 2
}
