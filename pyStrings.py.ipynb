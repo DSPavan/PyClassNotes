{
 "cells": [
  {
   "cell_type": "code",
   "execution_count": 1,
   "metadata": {},
   "outputs": [
    {
     "name": "stdout",
     "output_type": "stream",
     "text": [
      "Indian cricket team\n",
      "Bank of America \n"
     ]
    }
   ],
   "source": [
    "var1 = 'Indian cricket team'\n",
    "var2 = \"Bank of America \"\n",
    "var3 = \"*\"\n",
    "print(var1)\n",
    "print(var2)"
   ]
  },
  {
   "cell_type": "code",
   "execution_count": 2,
   "metadata": {},
   "outputs": [
    {
     "name": "stdout",
     "output_type": "stream",
     "text": [
      "************************************************************\n",
      "Bank of America Add to Bank of India\n",
      "[0]:  I\n",
      "[0:4]:  Bank\n",
      "var in   True\n",
      "var in   False\n"
     ]
    }
   ],
   "source": [
    "'''\n",
    "Triple quotes\n",
    "# string Operators\n",
    "#  + , * , [], [:] , in, not in,\n",
    "# r - Raw string \n",
    "#  % = string format \n",
    "'''\n",
    "\n",
    "print(var3 * 60 )     # Prints string two times\n",
    "print(var2 + \"Add to Bank of India\" )# Prints concatenated string\n",
    "print( \"[0]: \", var1[0]) # index, extract\n",
    "print(\"[0:4]: \", var2[0:4])  # slicing\n",
    "print(\"var in  \", \"of\" in var2)  # in - True / false \n",
    "print(\"var in  \", \"of\" not in var2)  # in - True / false\n"
   ]
  },
  {
   "cell_type": "code",
   "execution_count": 3,
   "metadata": {},
   "outputs": [
    {
     "name": "stdout",
     "output_type": "stream",
     "text": [
      "My name is Pavan and my score is 69 runs!\n",
      "My name is Pavan and my score is 69.000 runs!\n"
     ]
    }
   ],
   "source": [
    "\n",
    "print(\"My name is %s and my score is %d runs!\" % ('Pavan', 69)) \n",
    "print(\"My name is %s and my score is %0.3f runs!\" % ('Pavan', 69))\n",
    "\n",
    "# %s = string , %d = digits  , %f = floating point number\n",
    "# %e  = exponetial"
   ]
  },
  {
   "cell_type": "code",
   "execution_count": 4,
   "metadata": {},
   "outputs": [
    {
     "name": "stdout",
     "output_type": "stream",
     "text": [
      "C:\\\\nowhere\n",
      "C:\\nowhere\n"
     ]
    }
   ],
   "source": [
    "# Raw string\n",
    "print(r'C:\\\\nowhere')\n",
    "print('C:\\\\nowhere')"
   ]
  },
  {
   "cell_type": "code",
   "execution_count": 5,
   "metadata": {},
   "outputs": [
    {
     "name": "stdout",
     "output_type": "stream",
     "text": [
      "capitalize() :  Indian cricket team\n",
      "lower :  indian cricket team\n",
      "upper:  INDIAN CRICKET TEAM\n",
      "Count of string(s) :  1\n",
      "Length of a string:  19\n",
      "Title:  Indian Cricket Team\n",
      "remove First and end white spaces -  Indian cricket team\n"
     ]
    }
   ],
   "source": [
    "# string functions\n",
    "\n",
    "print( \"capitalize() : \", var1.capitalize())\n",
    "print( \"lower : \", var1.lower())\n",
    "print( \"upper: \", var1.upper())\n",
    "print( \"Count of string(s) : \", var1.count(\"cricket\")) \n",
    "print( \"Length of a string: \", len(var1))\n",
    "print( \"Title: \", var1.title())\n",
    "print(\"remove First and end white spaces - \", var1.strip())"
   ]
  },
  {
   "cell_type": "code",
   "execution_count": 6,
   "metadata": {},
   "outputs": [
    {
     "name": "stdout",
     "output_type": "stream",
     "text": [
      "split ['Indian', 'cricket', 'team']\n",
      "Join indian_cricket_team\n"
     ]
    }
   ],
   "source": [
    "print( \"split\", var1.split(' ') )\n",
    "\n",
    "str = \"_\"\n",
    "str1 = ( \"indian\", \"cricket\", \"team\" )\n",
    "print (\"Join\",  str.join(str1))\n"
   ]
  },
  {
   "cell_type": "code",
   "execution_count": 7,
   "metadata": {},
   "outputs": [
    {
     "name": "stdout",
     "output_type": "stream",
     "text": [
      "Indian cricket team\n",
      "InPython\n",
      "Updated String :-  IndianPython\n"
     ]
    }
   ],
   "source": [
    "\n",
    "# string immutable ? ? \n",
    "print(var1)       # output is displayed\n",
    "##var1[2] = 'E'\n",
    "#print(var1)       # causes error\n",
    "print(var1[:2] + 'Python')\n",
    "print(\"Updated String :- \", var1[:6] + 'Python')\n"
   ]
  },
  {
   "cell_type": "code",
   "execution_count": 8,
   "metadata": {},
   "outputs": [
    {
     "name": "stdout",
     "output_type": "stream",
     "text": [
      "text -  Indian cricket team \t Bank of America  \n",
      "\n",
      "text -  Indian cricket team \n",
      "\n"
     ]
    }
   ],
   "source": [
    "# escape characters\n",
    "# \\n, \\t\n",
    "\n",
    "print(\"text - \", var1 ,\"\\t\" , var2, \"\\n\")\n",
    "print(\"text - \", var1 ,\"\\n\")"
   ]
  },
  {
   "cell_type": "code",
   "execution_count": null,
   "metadata": {},
   "outputs": [],
   "source": []
  }
 ],
 "metadata": {
  "kernelspec": {
   "display_name": "Python 3",
   "language": "python",
   "name": "python3"
  },
  "language_info": {
   "codemirror_mode": {
    "name": "ipython",
    "version": 3
   },
   "file_extension": ".py",
   "mimetype": "text/x-python",
   "name": "python",
   "nbconvert_exporter": "python",
   "pygments_lexer": "ipython3",
   "version": "3.6.5"
  }
 },
 "nbformat": 4,
 "nbformat_minor": 2
}
