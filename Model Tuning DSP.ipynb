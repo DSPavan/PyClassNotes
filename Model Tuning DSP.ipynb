{
 "cells": [
  {
   "cell_type": "code",
   "execution_count": 107,
   "id": "515c586a",
   "metadata": {},
   "outputs": [],
   "source": [
    "# MODEL TUNING\n",
    "# PERFORMANCE MEASURE - PERFORMANCE MEASURE\n",
    "# BIAS VARIANCE TRADE_OFF\n",
    "\n",
    "# OVER FITTING\n",
    "# UNDER FITTING\n",
    "# OPTIMIZATION TECHNIQQUES\n"
   ]
  },
  {
   "cell_type": "code",
   "execution_count": 101,
   "id": "314aee9c",
   "metadata": {},
   "outputs": [],
   "source": [
    "# Performance Metrics\n",
    "# Confusion matrix\n",
    "# Precision\n",
    "# Recall\n",
    "# Accuracy\n",
    "# F1 score\n",
    "\n",
    "# https://subscription.packtpub.com/book/data/9781838552862/1/ch01lvl1sec14/performance-metrics"
   ]
  },
  {
   "cell_type": "code",
   "execution_count": 103,
   "id": "096e0ee7",
   "metadata": {},
   "outputs": [
    {
     "name": "stdout",
     "output_type": "stream",
     "text": [
      "Confusion Matrix\n",
      "[[88 11]\n",
      " [28 27]]\n"
     ]
    }
   ],
   "source": [
    "# Data Manupulation\n",
    "# DUMMY VARIABLE DISCUSSION LATER\n",
    "import numpy as np\n",
    "import pandas as pd\n",
    "# Plotting graphs\n",
    "import matplotlib.pyplot as plt\n",
    "# Machine learning\n",
    "from sklearn.linear_model import LogisticRegression\n",
    "from sklearn import metrics\n",
    "#from sklearn.cross_validation import cross_val_score\n",
    "from sklearn.model_selection import cross_val_score\n",
    "# CSV File - Read\n",
    "df = pd.read_csv('C:\\\\Users\\\\radha\\\\Desktop\\\\dsp27 Class\\\\diabetes.csv')\n",
    "#  ,header=None ,skiprows=1 , names=['Cal', 'Pr', 'Fat', 'sod', 'Fib', 'Rting']\n",
    "#print(df.head(5)) \n",
    "dfInput = df.iloc[:,1:7] # 0  is not required\n",
    "dfoutput = df.iloc[:,-1]\n",
    "\n",
    "split = int(0.8*len(df))\n",
    "X_train, X_test, Y_train, Y_test = dfInput[:split], dfInput[split:], dfoutput[:split], dfoutput[split:]\n",
    "\n",
    "model = LogisticRegression()\n",
    "from sklearn import preprocessing\n",
    "from sklearn import utils\n",
    "# .MultiLabelBinarizer()  LabelEncoder LabelBinarizer\n",
    "lab_enc = preprocessing.LabelEncoder()\n",
    "encoded = lab_enc.fit_transform(Y_train)\n",
    "#print(encoded)\n",
    "model = model.fit(X_train,encoded)\n",
    "\n",
    "print(\"Confusion Matrix\")\n",
    "predicted = model.predict(X_test)\n",
    "print(metrics.confusion_matrix(Y_test , predicted))\n",
    "\n"
   ]
  },
  {
   "cell_type": "code",
   "execution_count": 104,
   "id": "f1fa5af5",
   "metadata": {},
   "outputs": [
    {
     "name": "stdout",
     "output_type": "stream",
     "text": [
      "Precision: 0.711\n"
     ]
    }
   ],
   "source": [
    "from sklearn.metrics import precision_score\n",
    "# calculate prediction\n",
    "precision = precision_score(Y_test, predicted, average='binary')\n",
    "print('Precision: %.3f' % precision)"
   ]
  },
  {
   "cell_type": "code",
   "execution_count": 105,
   "id": "da8a3b52",
   "metadata": {},
   "outputs": [
    {
     "name": "stdout",
     "output_type": "stream",
     "text": [
      "Recall: 0.491\n"
     ]
    }
   ],
   "source": [
    "from sklearn.metrics import recall_score\n",
    "# calculate recall\n",
    "recall = recall_score(Y_test, predicted, average='binary')\n",
    "print('Recall: %.3f' % recall)"
   ]
  },
  {
   "cell_type": "code",
   "execution_count": 106,
   "id": "668e0506",
   "metadata": {},
   "outputs": [
    {
     "name": "stdout",
     "output_type": "stream",
     "text": [
      "F-Measure: 0.581\n"
     ]
    }
   ],
   "source": [
    "from sklearn.metrics import f1_score\n",
    "# calculate score\n",
    "score = f1_score(Y_test, predicted, average='binary')\n",
    "print('F-Measure: %.3f' % score)"
   ]
  },
  {
   "cell_type": "code",
   "execution_count": 2,
   "id": "b08cf807",
   "metadata": {},
   "outputs": [],
   "source": [
    "#  CROSS VALIDATION\n",
    "\n",
    "# GRID SEARCH"
   ]
  },
  {
   "cell_type": "code",
   "execution_count": 3,
   "id": "1a520719",
   "metadata": {},
   "outputs": [],
   "source": [
    "#https://medium.com/@sebastiannorena/some-model-tuning-methods-bfef3e6544f0"
   ]
  },
  {
   "cell_type": "code",
   "execution_count": 6,
   "id": "017820ab",
   "metadata": {},
   "outputs": [],
   "source": [
    "#In order to avoid manually setting different percentages for training and testing sets, \n",
    "#you can give this task to the cross_validate function, which will divide the training set into k folds \n",
    "#and then try the different combinations where each of the combinations will use a different fold as the test set and \n",
    "#the remaining k-1 folds as the train set. \n",
    "#k is the desired number of folds, I have seen it usually works well with k=5."
   ]
  },
  {
   "cell_type": "code",
   "execution_count": 40,
   "id": "63b233a8",
   "metadata": {},
   "outputs": [],
   "source": [
    "#A few common methods used for cross validation\n",
    "#The Validation set Approach\n",
    "#Leave out one cross validation (LOOCV)\n",
    "#k-fold cross validation\n",
    "#Stratified k-fold cross validation\n",
    "#Adversarial validation\n",
    "#Cross validation for time series\n",
    "#Custom cross validation techniques"
   ]
  },
  {
   "cell_type": "code",
   "execution_count": 50,
   "id": "274b14fe",
   "metadata": {},
   "outputs": [
    {
     "name": "stdout",
     "output_type": "stream",
     "text": [
      "TRAIN: [0 1] TEST: [2 3]\n",
      "TRAIN: [2 3] TEST: [0 1]\n",
      "TRAIN: [1 2] TEST: [0 3]\n",
      "TRAIN: [0 3] TEST: [1 2]\n"
     ]
    }
   ],
   "source": [
    "from sklearn.model_selection import KFold \n",
    "import numpy as np\n",
    "from sklearn.model_selection import RepeatedKFold\n",
    "\n",
    "X = np.array([[1, 2], [3, 4], [1, 2], [3, 4]])\n",
    "y = np.array([0, 0, 1, 1])\n",
    "rkf = RepeatedKFold(n_splits=2, n_repeats=2, random_state=2652124)\n",
    "for train_index, test_index in rkf.split(X):\n",
    "    print(\"TRAIN:\", train_index, \"TEST:\", test_index)\n",
    "    X_train, X_test = X[train_index], X[test_index]\n",
    "    y_train, y_test = y[train_index], y[test_index]\n",
    "   "
   ]
  },
  {
   "cell_type": "code",
   "execution_count": 55,
   "id": "fa2edb49",
   "metadata": {},
   "outputs": [
    {
     "name": "stdout",
     "output_type": "stream",
     "text": [
      "StratifiedKFold(n_splits=2, random_state=None, shuffle=False)\n",
      "TRAIN: [1 3] TEST: [0 2]\n",
      "TRAIN: [0 2] TEST: [1 3]\n"
     ]
    }
   ],
   "source": [
    "import numpy as np\n",
    "from sklearn.model_selection import StratifiedKFold\n",
    "X = np.array([[1, 2], [3, 4], [1, 2], [3, 4]])\n",
    "y = np.array([0, 0, 1, 1])\n",
    "skf = StratifiedKFold(n_splits=2)\n",
    "skf.get_n_splits(X, y)\n",
    "\n",
    "print(skf)\n",
    "\n",
    "for train_index, test_index in skf.split(X, y):\n",
    "    print(\"TRAIN:\", train_index, \"TEST:\", test_index)\n",
    "    X_train, X_test = X[train_index], X[test_index]\n",
    "    y_train, y_test = y[train_index], y[test_index]\n",
    "    "
   ]
  },
  {
   "cell_type": "code",
   "execution_count": 81,
   "id": "859f4f99",
   "metadata": {},
   "outputs": [
    {
     "data": {
      "text/plain": [
       "<AxesSubplot:title={'center':'Modal Coefficients'}>"
      ]
     },
     "execution_count": 81,
     "metadata": {},
     "output_type": "execute_result"
    },
    {
     "data": {
      "image/png": "[encoded data removed]",
      "text/plain": [
       "<Figure size 432x288 with 1 Axes>"
      ]
     },
     "metadata": {
      "needs_background": "light"
     },
     "output_type": "display_data"
    }
   ],
   "source": [
    "#checking the magnitude of coefficients\n",
    "\n",
    "import pandas as pd\n",
    "from pandas import Series, DataFrame\n",
    "# Plotting graphs\n",
    "import matplotlib.pyplot as plt\n",
    "# Machine learning\n",
    "from sklearn.linear_model import LogisticRegression\n",
    "from sklearn.linear_model import LinearRegression\n",
    "from sklearn import metrics\n",
    "#from sklearn.cross_validation import cross_val_score\n",
    "from sklearn.model_selection import cross_val_score\n",
    "\n",
    "lreg = LinearRegression()\n",
    "\n",
    "#lreg = LogisticRegression()\n",
    "# CSV File - Read\n",
    "df = pd.read_csv('C:\\\\Users\\\\radha\\\\Desktop\\\\dsp27 Class\\\\cerealspga05.csv')\n",
    "# cerealspga05.csv  - diabetes.csv\n",
    "X = df.iloc[:,3:12] # 0  is not required\n",
    "Y = df.iloc[:,-1]\n",
    "df.head(5)\n",
    "\n",
    "split = int(0.8*len(df))\n",
    "X_train, X_test, Y_train, Y_test = X[:split], X[split:], Y[:split], Y[split:]\n",
    "\n",
    "lreg.fit(X_train,Y_train)\n",
    "#print(lreg)\n",
    "\n",
    "predictors = X_train.columns\n",
    "coef = Series(lreg.coef_,predictors).sort_values()\n",
    "coef.plot(kind='bar', title='Modal Coefficients')\n",
    "\n",
    "#We can see that coefficients of FAT and FIBER\n",
    "#is much higher as compared to rest of the coefficients. \n",
    "#Therefore the total RATING of an item would be more driven by these two features."
   ]
  },
  {
   "cell_type": "code",
   "execution_count": 84,
   "id": "757b4e96",
   "metadata": {},
   "outputs": [
    {
     "data": {
      "text/plain": [
       "47.737221545498905"
      ]
     },
     "execution_count": 84,
     "metadata": {},
     "output_type": "execute_result"
    }
   ],
   "source": [
    "# Ridge Regression\n",
    "# Lasso REgression\n",
    "from sklearn.linear_model import Ridge\n",
    "## training the model\n",
    "ridgeReg = Ridge(alpha=0.05, normalize=True)\n",
    "ridgeReg.fit(X_train,Y_train)\n",
    "pred = ridgeReg.predict(X_test)\n",
    "pred.mean()\n"
   ]
  },
  {
   "cell_type": "code",
   "execution_count": 85,
   "id": "d8166d44",
   "metadata": {},
   "outputs": [
    {
     "data": {
      "text/plain": [
       "44.99474537624702"
      ]
     },
     "execution_count": 85,
     "metadata": {},
     "output_type": "execute_result"
    }
   ],
   "source": [
    "#LASSO (Least Absolute Shrinkage Selector Operator), is quite similar to ridge, \n",
    "#but lets understand the difference them by implementing it in our big mart problem.\n",
    "\n",
    "from sklearn.linear_model import Lasso\n",
    "lassoReg = Lasso(alpha=0.3, normalize=True)\n",
    "lassoReg.fit(X_train,Y_train)\n",
    "pred = lassoReg.predict(X_test)\n",
    "pred.mean()"
   ]
  },
  {
   "cell_type": "markdown",
   "id": "0955857c",
   "metadata": {},
   "source": [
    "# model’s bias-variance\n",
    "\n",
    "After k-fold cross validation, we’ll get k different model estimation errors (e1, e2 …..ek). In an ideal scenario, these error values should sum up to zero. To return the model’s bias, we take the average of all the errors. Lower the average value, better the model.\n",
    "\n",
    "Similarly for calculating the model variance, we take standard deviation of all the errors. A low value of standard deviation suggests our model does not vary a lot with different subsets of training data.\n",
    "\n",
    "We should focus on achieving a balance between bias and variance. This can be done by reducing the variance and controlling bias to an extent. It’ll result in a better predictive model. This trade-off usually leads to building less complex predictive models as well."
   ]
  },
  {
   "cell_type": "code",
   "execution_count": 41,
   "id": "7e247c50",
   "metadata": {},
   "outputs": [],
   "source": [
    "# https://www.analyticsvidhya.com/blog/2018/05/improve-model-performance-cross-validation-in-python-r/\n",
    "\n",
    "# OVERFITTING\n",
    "\n",
    "# UNDER FITTING"
   ]
  },
  {
   "cell_type": "code",
   "execution_count": 38,
   "id": "f690befc",
   "metadata": {},
   "outputs": [],
   "source": [
    "# MODEL PARAMETRS< HYPER PARAMETERS\n",
    "# REGULARIZATION\n",
    "# regularization, Penalty, L1, L2\n",
    "# GridSearchCV\n",
    "# warnings"
   ]
  },
  {
   "cell_type": "code",
   "execution_count": 23,
   "id": "110cee80",
   "metadata": {},
   "outputs": [],
   "source": [
    "#Model parameters are the values that get defined \n",
    "#after doing some training on a dataset, and are defined directly according to the data."
   ]
  },
  {
   "cell_type": "code",
   "execution_count": 24,
   "id": "6f5c2a38",
   "metadata": {},
   "outputs": [],
   "source": [
    "#The coefficients on a logistic regression or linear regression model\n",
    "#The weights in a neural network\n",
    "\n",
    "#Model hyper-parameters are values that get defined before training a dataset and can not be learned directly \n",
    "#from the data. Hyper-parameters are defined for the model at a higher level so the model\n",
    "#can be train on the data set according to them and then determine the model parameters.\n",
    "\n",
    "#The learning rate of the model\n",
    "#The number of folds on a k-fold cross validation"
   ]
  },
  {
   "cell_type": "code",
   "execution_count": 26,
   "id": "2f61750a",
   "metadata": {},
   "outputs": [],
   "source": [
    "# Data Manupulation\n",
    "# DUMMY VARIABLE DISCUSSION LATER\n",
    "import numpy as np\n",
    "import pandas as pd\n",
    "# Plotting graphs\n",
    "import matplotlib.pyplot as plt\n",
    "# Machine learning\n",
    "from sklearn.linear_model import LogisticRegression\n",
    "from sklearn import metrics\n",
    "#from sklearn.cross_validation import cross_val_score\n",
    "from sklearn.model_selection import cross_val_score\n",
    "# CSV File - Read\n",
    "df = pd.read_csv('C:\\\\Users\\\\radha\\\\Desktop\\\\dsp27 Class\\\\diabetes.csv')\n",
    "#  ,header=None ,skiprows=1 , names=['Cal', 'Pr', 'Fat', 'sod', 'Fib', 'Rting']\n",
    "#print(df.head(5)) "
   ]
  },
  {
   "cell_type": "code",
   "execution_count": 52,
   "id": "49019690",
   "metadata": {},
   "outputs": [],
   "source": [
    "dfInput = df.iloc[:,1:7] # 0  is not required\n",
    "dfoutput = df.iloc[:,-1]\n",
    "X = dfInput\n",
    "Y = dfoutput"
   ]
  },
  {
   "cell_type": "code",
   "execution_count": null,
   "id": "32fe2b88",
   "metadata": {},
   "outputs": [],
   "source": [
    "#Penalty Terms\n",
    "#Regularization works by biasing data towards particular values (such as small values near zero). \n",
    "#The bias is achieved by adding a tuning parameter to encourage those values:\n",
    "\n",
    "#L1 regularization adds an L1 penalty equal to the absolute value of the magnitude of coefficients. \n",
    "#In other words, it limits the size of the coefficients. L1 can yield sparse models (i.e. models with few coefficients); \n",
    "#Some coefficients can become zero and eliminated. Lasso regression uses this method.\n",
    "\n",
    "#L2 regularization adds an L2 penalty equal to the square of the magnitude of coefficients.\n",
    "#L2 will not yield sparse models and all coefficients are shrunk by the same factor (none are eliminated).\n",
    "#Ridge regression and SVMs use this method.\n",
    "#Elastic nets combine L1 & L2 methods, but do add a hyperparameter (see this paper by Zou and Hastie)."
   ]
  },
  {
   "cell_type": "code",
   "execution_count": 35,
   "id": "0e76a503",
   "metadata": {},
   "outputs": [],
   "source": [
    "#What is Regularization?\n",
    "#Regularization is a way to avoid overfitting by penalizing high-valued regression coefficients. \n",
    "#In simple terms, it reduces parameters and shrinks (simplifies) the model. This more streamlined,\n",
    "#more parsimonious model will likely perform better at predictions. Regularization adds penalties \n",
    "#to more complex models and then sorts potential models from least overfit to greatest; \n",
    "#The model with the lowest “overfitting” score is usually the best choice for predictive power."
   ]
  },
  {
   "cell_type": "code",
   "execution_count": 54,
   "id": "2c442ea2",
   "metadata": {},
   "outputs": [
    {
     "name": "stdout",
     "output_type": "stream",
     "text": [
      "Fitting 5 folds for each of 14 candidates, totalling 70 fits\n",
      "Best Parameters {'C': 1, 'penalty': 'l2'}\n",
      "Best Penalty: l2\n",
      "Best C: 1\n"
     ]
    }
   ],
   "source": [
    "# Create logistic regression object\n",
    "import warnings\n",
    "warnings.filterwarnings(\"ignore\")\n",
    "\n",
    "\n",
    "logistic = LogisticRegression()\n",
    "from sklearn.model_selection import GridSearchCV\n",
    "# Create a list of all of the different penalty values that you want to test and save them to a variable called 'penalty'\n",
    "penalty = ['l1', 'l2']\n",
    "# Create a list of all of the different C values that you want to test and save them to a variable called 'C'\n",
    "C = [0.0001, 0.001, 0.01, 1, 100,0.05, 0.1]\n",
    "# Now that you have two lists each holding the different values that you want test, use the dict() function to combine them into a dictionary. \n",
    "# Save your new dictionary to the variable 'hyperparameters'\n",
    "hyperparameters = dict(C=C, penalty=penalty)\n",
    "# Fit your model using gridsearch\n",
    "clf = GridSearchCV(logistic, hyperparameters, cv=5, verbose=1)\n",
    "best_model = clf.fit(X, Y)\n",
    "#Print all the Parameters that gave the best results:\n",
    "print('Best Parameters',clf.best_params_)\n",
    "# You can also print the best penalty and C value individually from best_model.best_estimator_.get_params()\n",
    "print('Best Penalty:', best_model.best_estimator_.get_params()['penalty'])\n",
    "print('Best C:', best_model.best_estimator_.get_params()['C'])"
   ]
  },
  {
   "cell_type": "code",
   "execution_count": 86,
   "id": "35cdb869",
   "metadata": {},
   "outputs": [],
   "source": [
    "# PYTHON UNDERFITTING VS OVERFITTING"
   ]
  },
  {
   "cell_type": "code",
   "execution_count": 87,
   "id": "adbd7312",
   "metadata": {},
   "outputs": [
    {
     "name": "stdout",
     "output_type": "stream",
     "text": [
      "Automatically created module for IPython interactive environment\n"
     ]
    },
    {
     "data": {
      "image/png": "[encoded data removed]",
      "text/plain": [
       "<Figure size 1008x360 with 3 Axes>"
      ]
     },
     "metadata": {},
     "output_type": "display_data"
    }
   ],
   "source": [
    "\n",
    "print(__doc__)\n",
    "\n",
    "import numpy as np\n",
    "import matplotlib.pyplot as plt\n",
    "from sklearn.pipeline import Pipeline\n",
    "from sklearn.preprocessing import PolynomialFeatures\n",
    "from sklearn.linear_model import LinearRegression\n",
    "from sklearn.model_selection import cross_val_score\n",
    "\n",
    "\n",
    "def true_fun(X):\n",
    "    return np.cos(1.5 * np.pi * X)\n",
    "\n",
    "\n",
    "np.random.seed(0)\n",
    "\n",
    "n_samples = 30\n",
    "degrees = [1, 4, 15]\n",
    "\n",
    "X = np.sort(np.random.rand(n_samples))\n",
    "y = true_fun(X) + np.random.randn(n_samples) * 0.1\n",
    "\n",
    "plt.figure(figsize=(14, 5))\n",
    "for i in range(len(degrees)):\n",
    "    ax = plt.subplot(1, len(degrees), i + 1)\n",
    "    plt.setp(ax, xticks=(), yticks=())\n",
    "\n",
    "    polynomial_features = PolynomialFeatures(degree=degrees[i],\n",
    "                                             include_bias=False)\n",
    "    linear_regression = LinearRegression()\n",
    "    pipeline = Pipeline([(\"polynomial_features\", polynomial_features),\n",
    "                         (\"linear_regression\", linear_regression)])\n",
    "    pipeline.fit(X[:, np.newaxis], y)\n",
    "\n",
    "    # Evaluate the models using crossvalidation\n",
    "    scores = cross_val_score(pipeline, X[:, np.newaxis], y,\n",
    "                             scoring=\"neg_mean_squared_error\", cv=10)\n",
    "\n",
    "    X_test = np.linspace(0, 1, 100)\n",
    "    plt.plot(X_test, pipeline.predict(X_test[:, np.newaxis]), label=\"Model\")\n",
    "    plt.plot(X_test, true_fun(X_test), label=\"True function\")\n",
    "    plt.scatter(X, y, edgecolor='b', s=20, label=\"Samples\")\n",
    "    plt.xlabel(\"x\")\n",
    "    plt.ylabel(\"y\")\n",
    "    plt.xlim((0, 1))\n",
    "    plt.ylim((-2, 2))\n",
    "    plt.legend(loc=\"best\")\n",
    "    plt.title(\"Degree {}\\nMSE = {:.2e}(+/- {:.2e})\".format(\n",
    "        degrees[i], -scores.mean(), scores.std()))\n",
    "plt.show()"
   ]
  },
  {
   "cell_type": "code",
   "execution_count": 89,
   "id": "2bcb85cd",
   "metadata": {},
   "outputs": [],
   "source": [
    "# BIAS VARIANCE TRADE_OFF\n",
    "\n",
    "# low bias and low variance\n",
    "\n",
    "#The performance of the model on the task can be described in \n",
    "#terms of the prediction error on all examples not used to train the model. We will refer to this as the model error.\n",
    "\n",
    "#Error(Model)\n",
    "\n",
    "#The model error can be decomposed into three sources of error: \n",
    "#    the variance of the model, the bias of the model, and the variance of the irreducible error in the data.\n",
    "\n",
    "#Error(Model) = Variance(Model) + Bias(Model) + Variance(Irreducible Error)"
   ]
  },
  {
   "cell_type": "code",
   "execution_count": 90,
   "id": "c30a0dc1",
   "metadata": {},
   "outputs": [],
   "source": [
    "#Low Bias: Weak assumptions regarding the functional form of the mapping of inputs to outputs.\n",
    "#High Bias: Strong assumptions regarding the functional form of the mapping of inputs to outputs."
   ]
  },
  {
   "cell_type": "code",
   "execution_count": 91,
   "id": "eadeaee7",
   "metadata": {},
   "outputs": [],
   "source": [
    "#Low Variance: Small changes to the model with changes to the training dataset.\n",
    "#High Variance: Large changes to the model with changes to the training dataset."
   ]
  },
  {
   "cell_type": "code",
   "execution_count": 93,
   "id": "5083b1c6",
   "metadata": {},
   "outputs": [],
   "source": [
    "\n",
    "# A model with high variance will change a lot with small changes to the training dataset.\n",
    "\n",
    "# Model Error = Reducible Error + Irreducible Error\n",
    "\n",
    "#The error is caused by elements outside our control, such as statistical noise in the observations"
   ]
  },
  {
   "cell_type": "code",
   "execution_count": 94,
   "id": "732ebd46",
   "metadata": {},
   "outputs": [],
   "source": [
    "# Bias-Variance Trade-off"
   ]
  },
  {
   "cell_type": "code",
   "execution_count": 95,
   "id": "cf431fb4",
   "metadata": {},
   "outputs": [],
   "source": [
    "#We cannot calculate the actual bias and variance for a predictive modeling problem.\n",
    "\n",
    "#This is because we do not know the true mapping function for a predictive modeling problem."
   ]
  },
  {
   "cell_type": "code",
   "execution_count": 96,
   "id": "87cb3728",
   "metadata": {},
   "outputs": [],
   "source": [
    "#The mlxtend library by Sebastian Raschka provides the bias_variance_decomp() function \n",
    "#that can estimate the bias and variance for a model over multiple bootstrap samples."
   ]
  },
  {
   "cell_type": "code",
   "execution_count": 100,
   "id": "14a0f95b",
   "metadata": {},
   "outputs": [
    {
     "name": "stdout",
     "output_type": "stream",
     "text": [
      "MSE: 20.048\n",
      "Bias: 19.422\n",
      "Variance: 0.626\n"
     ]
    }
   ],
   "source": [
    "# estimate the bias and variance for a regression model\n",
    "from pandas import read_csv\n",
    "from sklearn.model_selection import train_test_split\n",
    "from sklearn.linear_model import LinearRegression\n",
    "from mlxtend.evaluate import bias_variance_decomp\n",
    "# load dataset\n",
    "'''\n",
    "url = 'https://raw.githubusercontent.com/jbrownlee/Datasets/master/housing.csv'\n",
    "dataframe = read_csv(url, header=None)\n",
    "# separate into inputs and outputs\n",
    "data = dataframe.values\n",
    "X, y = data[:, :-1], data[:, -1]\n",
    "'''\n",
    "\n",
    "df = pd.read_csv('C:\\\\Users\\\\radha\\\\Desktop\\\\dsp27 Class\\\\cerealspga05.csv')\n",
    "# DF is not suitable\n",
    "data = df.values\n",
    "X, Y = data[:, 4:10], data[:, -1]\n",
    "\n",
    "# split the data\n",
    "X_train, X_test, y_train, y_test = train_test_split(X, Y, test_size=0.33, random_state=1)\n",
    "# define the model\n",
    "model = LinearRegression()\n",
    "# estimate bias and variance\n",
    "mse, bias, var = bias_variance_decomp(model, X_train, y_train, X_test, y_test, loss='mse', num_rounds=200, random_seed=1)\n",
    "# summarize results\n",
    "print('MSE: %.3f' % mse)\n",
    "print('Bias: %.3f' % bias)\n",
    "print('Variance: %.3f' % var)"
   ]
  },
  {
   "cell_type": "code",
   "execution_count": 108,
   "id": "73ade03b",
   "metadata": {},
   "outputs": [],
   "source": [
    "# OPTIMIZATION TECHNIQQUES\n",
    "\n",
    "# Understand Data\n",
    "# Proper use of FOR Loop, LIST COMPREHEMSIONS\n",
    "#  simple split, Train test split, Cross Validation or our own tech\n",
    "# Built in Module, Function, use first.\n",
    "\n",
    "# Functions - REUSE\n",
    "\n",
    "# SMaller sample - upto 5000 Records\n",
    "# Diversified data\n",
    "# stratified data\n",
    "\n",
    "# FEATURE EXTRACTION / ENGINEERING"
   ]
  },
  {
   "cell_type": "code",
   "execution_count": null,
   "id": "7f944f60",
   "metadata": {},
   "outputs": [],
   "source": []
  },
  {
   "cell_type": "code",
   "execution_count": null,
   "id": "bf319d54",
   "metadata": {},
   "outputs": [],
   "source": []
  },
  {
   "cell_type": "code",
   "execution_count": null,
   "id": "a6259462",
   "metadata": {},
   "outputs": [],
   "source": []
  }
 ],
 "metadata": {
  "kernelspec": {
   "display_name": "Python 3",
   "language": "python",
   "name": "python3"
  },
  "language_info": {
   "codemirror_mode": {
    "name": "ipython",
    "version": 3
   },
   "file_extension": ".py",
   "mimetype": "text/x-python",
   "name": "python",
   "nbconvert_exporter": "python",
   "pygments_lexer": "ipython3",
   "version": "3.8.8"
  }
 },
 "nbformat": 4,
 "nbformat_minor": 5
}
