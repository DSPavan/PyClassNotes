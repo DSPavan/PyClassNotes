{
 "cells": [
  {
   "cell_type": "code",
   "execution_count": 6,
   "metadata": {},
   "outputs": [],
   "source": [
    "#https://pypi.org/project/pytesseract/\n",
    "\n",
    "# https://github.com/tesseract-ocr/tesseract/wiki/Downloads\n",
    "\n",
    "# pip install Pillow\n",
    "#pip install pytesseract"
   ]
  },
  {
   "cell_type": "code",
   "execution_count": 1,
   "metadata": {},
   "outputs": [
    {
     "name": "stdout",
     "output_type": "stream",
     "text": [
      "regress zholesberol nm_:v\n",
      "\n",
      " \n",
      "\n",
      "Smlrce 55 at us Number mi ab: mu\n",
      "Fl 1, 95> 17.47\n",
      "\n",
      "Made) 5.n49n2329 1 5.n49n2329 Prub > F — n.nnm\n",
      "Residual 2a.322n135 as .2a9nnn137 n—sq-area n.1513\n",
      "Ad) |1~:q'IIared n.u26\n",
      "\n",
      "Inca) 33.371n3s7 99 .337na1179 Run: H51: .5375;\n",
      "zzhulescernl Cuef. sm. Err. : mm :25: Cunf. Interval]\n",
      "m..e_:v .nuns91 .mn54:4 4.15 n.nnn .n23us1 .ns49921\n",
      "_mn: —2.::n-n l.Bl3ﬂ99 —1.1a n.242 —5.732a12 1.453259\n"
     ]
    }
   ],
   "source": [
    "try:\n",
    "    from PIL import Image\n",
    "except ImportError:\n",
    "    import Image\n",
    "import pytesseract\n",
    "\n",
    "# If you don't have tesseract executable in your PATH, include the following:\n",
    "#  r'<full_path_to_your_tesseract_executable>'\n",
    "pytesseract.pytesseract.tesseract_cmd = r'C:\\Program Files (x86)\\Tesseract-OCR\\tesseract'\n",
    "# Example tesseract_cmd = r'C:\\Program Files (x86)\\Tesseract-OCR\\tesseract'\n",
    "\n",
    "# Simple image to string\n",
    "print(pytesseract.image_to_string(Image.open('C:\\\\Users\\\\HP\\\\Downloads\\\\output-linear-regression.png')))"
   ]
  },
  {
   "cell_type": "code",
   "execution_count": 7,
   "metadata": {},
   "outputs": [
    {
     "name": "stdout",
     "output_type": "stream",
     "text": [
      "Regressmn Analysis: Score? vexsus Score!\n",
      "\n",
      "1115 ragressxon equztmn 15\n",
      "\n",
      "Score? = 1.12 + 0.213 Score!\n",
      "\n",
      "Predxctor coax SE Coef 1 P\n",
      "Constant 1.1171 0.1093 10.23 0.000\n",
      "\n",
      "Score] 0.21761 0.01740 12.51 0.000\n",
      "\n",
      "s = 0 127419 n—sq = 05.7‘/. R—Sq(adJ) = 95.1‘/.\n",
      "Analysss of Varxance\n",
      "\n",
      "Souxca nr ss :15 1: P\n",
      "Ragrtsxuon 1 2.5419 2.5119 155.55 0.000\n",
      "11.113111...-11 Error 1 0.1135 0 mm\n",
      "\n",
      "Total 5 2 ssss\n"
     ]
    }
   ],
   "source": [
    "print(pytesseract.image_to_string(Image.open('C:\\\\Users\\\\HP\\\\Downloads\\\\regression2.gif'), config='-psm 6',lang='eng'))"
   ]
  },
  {
   "cell_type": "code",
   "execution_count": null,
   "metadata": {},
   "outputs": [],
   "source": []
  }
 ],
 "metadata": {
  "kernelspec": {
   "display_name": "Python 3",
   "language": "python",
   "name": "python3"
  },
  "language_info": {
   "codemirror_mode": {
    "name": "ipython",
    "version": 3
   },
   "file_extension": ".py",
   "mimetype": "text/x-python",
   "name": "python",
   "nbconvert_exporter": "python",
   "pygments_lexer": "ipython3",
   "version": "3.6.5"
  }
 },
 "nbformat": 4,
 "nbformat_minor": 2
}
