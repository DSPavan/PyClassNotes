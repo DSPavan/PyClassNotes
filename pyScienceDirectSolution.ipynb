{
 "cells": [
  {
   "cell_type": "code",
   "execution_count": 11,
   "metadata": {},
   "outputs": [],
   "source": [
    "#science Direct Page save as HTML only\n",
    "\n",
    "#https://www.sciencedirect.com/science/article/pii/S0277379118307261\n",
    "\n",
    "path = 'c:\\\\users\\\\hp\\\\downloads\\\\Earth system impacts of the European arrival and Great Dying in the Americas after 1492.html'\n",
    "\n",
    "page = open(path,'r')\n",
    "page = page.read()\n"
   ]
  },
  {
   "cell_type": "code",
   "execution_count": 12,
   "metadata": {},
   "outputs": [],
   "source": [
    "from bs4 import BeautifulSoup\n",
    "soup = BeautifulSoup(page, 'html.parser')"
   ]
  },
  {
   "cell_type": "code",
   "execution_count": 17,
   "metadata": {},
   "outputs": [],
   "source": [
    "dataList = []\n",
    "for link in soup.find_all('title'):\n",
    "    dataList.append(link.text)\n",
    "    \n",
    "    "
   ]
  },
  {
   "cell_type": "code",
   "execution_count": 18,
   "metadata": {},
   "outputs": [
    {
     "name": "stdout",
     "output_type": "stream",
     "text": [
      "Earth system impacts of the European arrival and Great Dying in the Americas after 1492 - ScienceDirect \n",
      "\n",
      "ScienceDirect \n",
      "\n"
     ]
    }
   ],
   "source": [
    "for x in dataList:\n",
    "    print(x,\"\\n\")\n"
   ]
  },
  {
   "cell_type": "code",
   "execution_count": 19,
   "metadata": {},
   "outputs": [],
   "source": [
    "#'r' : use for reading\n",
    "#'w' : use for writing\n",
    "#'x' : use for creating and writing to a new file\n",
    "#'a' : use for appending to a file\n",
    "#'r+' : use for reading and writing to the same file"
   ]
  },
  {
   "cell_type": "code",
   "execution_count": null,
   "metadata": {},
   "outputs": [],
   "source": []
  }
 ],
 "metadata": {
  "kernelspec": {
   "display_name": "Python 3",
   "language": "python",
   "name": "python3"
  },
  "language_info": {
   "codemirror_mode": {
    "name": "ipython",
    "version": 3
   },
   "file_extension": ".py",
   "mimetype": "text/x-python",
   "name": "python",
   "nbconvert_exporter": "python",
   "pygments_lexer": "ipython3",
   "version": "3.6.5"
  }
 },
 "nbformat": 4,
 "nbformat_minor": 2
}
