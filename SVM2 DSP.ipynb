{
 "cells": [
  {
   "cell_type": "code",
   "execution_count": 1,
   "id": "3b2c271a",
   "metadata": {},
   "outputs": [],
   "source": [
    "# SVM -Support Vector MAchines\n",
    "\n",
    "# VECTOR\n",
    "# UNDERSTANDING HYPERPLANE\n",
    "\n",
    "# PERCEPTRON ALGORITHM\n",
    "\n",
    "# SVM KERNELS\n",
    "\n",
    "# SVM OPTIMIZATION\n",
    "\n",
    "# APPLICATION OF SVM\n",
    "\n",
    "\n"
   ]
  },
  {
   "cell_type": "code",
   "execution_count": 2,
   "id": "775589ee",
   "metadata": {},
   "outputs": [],
   "source": [
    "# missing Values\n",
    "#GET Dummies\n",
    "# Label encoder\n",
    "# Counter - Number\n",
    "\n",
    "# GridSearchCV"
   ]
  },
  {
   "cell_type": "code",
   "execution_count": 3,
   "id": "1ef87366",
   "metadata": {},
   "outputs": [],
   "source": [
    "# VECTOR\n",
    "#Support Vectors. Support vectors are data points that are closer to the hyperplane and \n",
    "#influence the position and orientation of the hyperplane.\n",
    "\n",
    "\n",
    "# hyperplane\n",
    "# A hyperplane in an n-dimensional Euclidean space is a flat, \n",
    "# n-1 dimensional subset of that space that divides the space into two disconnected parts\n",
    "\n",
    "# Perceptron algorithm\n",
    "#The Perceptron algorithm is a two-class (binary) classification machine learning algorithm. \n",
    "#It is a type of neural network model, perhaps the simplest type of neural network model. \n",
    "#It consists of a single node or neuron that takes a row of data as input and predicts a class label.\n",
    "\n"
   ]
  },
  {
   "cell_type": "code",
   "execution_count": 4,
   "id": "36b60320",
   "metadata": {},
   "outputs": [],
   "source": [
    "# KERNEL\n",
    "#linear, nonlinear, polynomial, Gaussian kernel, Radial basis function (RBF), sigmoid etc.\n",
    "\n",
    "# Define kernel or a window function\n",
    "\n",
    "#Kernel Function is a method used to take data as input and transform into the required form of processing data. \n",
    "#“Kernel” is used due to set of mathematical functions used in Support Vector Machine \n",
    "\n",
    "#Gaussian Kernel: It is used to perform transformation, when there is no prior knowledge about data.\n",
    "\n",
    "#Gaussian Kernel Radial Basis Function (RBF) : \n",
    "#    Same as above kernel function, adding radial basis method to improve the transformation.\n",
    "\n",
    "#Sigmoid Kernel: this function is equivalent to a two-layer,\n",
    "#perceptron model of neural network, which is used as activation function for artificial neurons.\n",
    "\n",
    "#Polynomial Kernel: It represents the similarity of vectors in training set of data in a \n",
    "#    feature space over polynomials of the original variables used in kernel.\n",
    "\n",
    "# Linear Kernel: used when data is linearly separable."
   ]
  },
  {
   "cell_type": "raw",
   "id": "c25e01f2",
   "metadata": {},
   "source": [
    "# DONOT EXECUTE NOW\n",
    "from sklearn.svm import SVC\n",
    "classifier = SVC(kernel ='rbf', random_state = 0)\n",
    "classifier = SVC(kernel ='sigmoid')\n",
    "classifier = SVC(kernel ='poly', degree = 4)\n",
    "classifier = SVC(kernel ='linear')\n",
    "\n",
    " # training set in x, y axis\n",
    "classifier.fit(x_train, y_train)"
   ]
  },
  {
   "cell_type": "code",
   "execution_count": 42,
   "id": "cdd13a55",
   "metadata": {},
   "outputs": [],
   "source": [
    "#SVM OPTIMIZATION\n",
    "# C\n",
    "# Gamma\n",
    "\n",
    "# C- It is a hypermeter in SVM to control error.\n",
    "#  we have low C means low error and if we have large C means large error.\n",
    "\n",
    "# LOW C means, not necessary for Good Descision Boundary\n",
    "\n",
    "\n",
    "# Gamma is used when we use the Gaussian RBF kernel.\n",
    "\n",
    "#if you use linear or polynomial kernel then you do not need gamma only you need C hypermeter.\n",
    "\n",
    "# Gamma decides that how much curvature we want in a decision boundary.\n",
    "# Gamma high means MORE curvature.\n",
    "# Gamma low means LESS curvature.\n",
    "\n",
    "\n",
    "#For choosing C we generally choose the value like 0.001, 0.01, 0.1, 1, 10, 100\n",
    "#and same for Gamma 0.001, 0.01, 0.1, 1, 10, 100\n",
    "\n",
    "\n",
    "#Intuitively, the gamma parameter defines how far the influence of a single training example reaches,\n",
    "#with low values meaning ‘far’ and high values meaning ‘close’. \n",
    "#The gamma parameters can be seen as the inverse of the radius of influence of samples selected by the model as support vectors.\n",
    "\n",
    "# https://scikit-learn.org/stable/auto_examples/svm/plot_rbf_parameters.html"
   ]
  },
  {
   "cell_type": "code",
   "execution_count": 6,
   "id": "be2ef620",
   "metadata": {},
   "outputs": [
    {
     "name": "stdout",
     "output_type": "stream",
     "text": [
      "    Loan_ID Gender Married Dependents     Education Self_Employed  \\\n",
      "0  LP001002   Male      No          0      Graduate            No   \n",
      "1  LP001003   Male     Yes          1      Graduate            No   \n",
      "2  LP001005   Male     Yes          0      Graduate           Yes   \n",
      "3  LP001006   Male     Yes          0  Not Graduate            No   \n",
      "4  LP001008   Male      No          0      Graduate            No   \n",
      "\n",
      "   ApplicantIncome  CoapplicantIncome  LoanAmount  Loan_Amount_Term  \\\n",
      "0             5849                0.0         NaN             360.0   \n",
      "1             4583             1508.0       128.0             360.0   \n",
      "2             3000                0.0        66.0             360.0   \n",
      "3             2583             2358.0       120.0             360.0   \n",
      "4             6000                0.0       141.0             360.0   \n",
      "\n",
      "   Credit_History Property_Area Loan_Status  \n",
      "0             1.0         Urban           Y  \n",
      "1             1.0         Rural           N  \n",
      "2             1.0         Urban           Y  \n",
      "3             1.0         Urban           Y  \n",
      "4             1.0         Urban           Y  \n"
     ]
    }
   ],
   "source": [
    "# Data Manupulation\n",
    "import numpy as np\n",
    "import pandas as pd\n",
    "# Plotting graphs\n",
    "import matplotlib.pyplot as plt\n",
    "import seaborn as sns\n",
    "from sklearn import metrics\n",
    "\n",
    "\n",
    "# CSV File - Read\n",
    "df = pd.read_csv('C:\\\\Users\\\\radha\\\\Desktop\\\\dsp27 Class\\\\CreditRiskTrainData.csv')\n",
    "#  ,header=None ,skiprows=1 , names=['Cal', 'Pr', 'Fat', 'sod', 'Fib', 'Rting']\n",
    "\n",
    "print(df.head(5)) \n",
    "\n"
   ]
  },
  {
   "cell_type": "code",
   "execution_count": 7,
   "id": "55c11318",
   "metadata": {},
   "outputs": [
    {
     "data": {
      "text/plain": [
       "Loan_ID               0\n",
       "Gender               13\n",
       "Married               3\n",
       "Dependents           15\n",
       "Education             0\n",
       "Self_Employed        32\n",
       "ApplicantIncome       0\n",
       "CoapplicantIncome     0\n",
       "LoanAmount           22\n",
       "Loan_Amount_Term     14\n",
       "Credit_History       50\n",
       "Property_Area         0\n",
       "Loan_Status           0\n",
       "dtype: int64"
      ]
     },
     "execution_count": 7,
     "metadata": {},
     "output_type": "execute_result"
    }
   ],
   "source": [
    "# DATA CLREANING for MISSING VALUES\n",
    "df.isnull().sum()\n",
    "# find missing values"
   ]
  },
  {
   "cell_type": "code",
   "execution_count": 8,
   "id": "be0ec947",
   "metadata": {},
   "outputs": [],
   "source": [
    "#df2 = df.dropna()\n",
    "#print(sales2)\n",
    "#print(df2.shape)"
   ]
  },
  {
   "cell_type": "code",
   "execution_count": 9,
   "id": "1ea5eecd",
   "metadata": {},
   "outputs": [
    {
     "data": {
      "text/plain": [
       "Counter({'Male': 489, 'Female': 112, nan: 13})"
      ]
     },
     "execution_count": 9,
     "metadata": {},
     "output_type": "execute_result"
    }
   ],
   "source": [
    "from collections import Counter\n",
    "Counter(df['Gender'])"
   ]
  },
  {
   "cell_type": "code",
   "execution_count": 10,
   "id": "6fd8b30b",
   "metadata": {},
   "outputs": [
    {
     "name": "stderr",
     "output_type": "stream",
     "text": [
      "C:\\ProgramData\\Anaconda3\\lib\\site-packages\\pandas\\core\\indexing.py:1637: SettingWithCopyWarning: \n",
      "A value is trying to be set on a copy of a slice from a DataFrame\n",
      "\n",
      "See the caveats in the documentation: https://pandas.pydata.org/pandas-docs/stable/user_guide/indexing.html#returning-a-view-versus-a-copy\n",
      "  self._setitem_single_block(indexer, value, name)\n"
     ]
    },
    {
     "data": {
      "text/plain": [
       "Counter({'Male': 502, 'Female': 112})"
      ]
     },
     "execution_count": 10,
     "metadata": {},
     "output_type": "execute_result"
    }
   ],
   "source": [
    "# Fill Empty data to Male\n",
    "gender_null = df[df['Gender'].isnull()].index.tolist()\n",
    "df['Gender'].iloc[gender_null] = \"Male\"\n",
    "Counter(df['Gender'])"
   ]
  },
  {
   "cell_type": "code",
   "execution_count": 11,
   "id": "fd3533c5",
   "metadata": {},
   "outputs": [
    {
     "data": {
      "text/plain": [
       "Counter({'No': 213, 'Yes': 398, nan: 3})"
      ]
     },
     "execution_count": 11,
     "metadata": {},
     "output_type": "execute_result"
    }
   ],
   "source": [
    "Counter(df['Married'])"
   ]
  },
  {
   "cell_type": "code",
   "execution_count": 12,
   "id": "3c7c25a4",
   "metadata": {},
   "outputs": [],
   "source": [
    "gender_null = df[df['Married'].isnull()].index.tolist()\n",
    "df['Married'].iloc[gender_null] = \"Yes\""
   ]
  },
  {
   "cell_type": "code",
   "execution_count": 13,
   "id": "e1a7bb56",
   "metadata": {},
   "outputs": [
    {
     "data": {
      "text/plain": [
       "Counter({'0': 345, '1': 102, '2': 101, '3+': 51, nan: 15})"
      ]
     },
     "execution_count": 13,
     "metadata": {},
     "output_type": "execute_result"
    }
   ],
   "source": [
    "Counter(df['Dependents'])"
   ]
  },
  {
   "cell_type": "code",
   "execution_count": 14,
   "id": "93a523f1",
   "metadata": {},
   "outputs": [],
   "source": [
    "gender_null = df[df['Dependents'].isnull()].index.tolist()\n",
    "df['Dependents'].iloc[gender_null] = \"0\""
   ]
  },
  {
   "cell_type": "code",
   "execution_count": 15,
   "id": "3403937b",
   "metadata": {},
   "outputs": [
    {
     "data": {
      "text/plain": [
       "Counter({'No': 500, 'Yes': 82, nan: 32})"
      ]
     },
     "execution_count": 15,
     "metadata": {},
     "output_type": "execute_result"
    }
   ],
   "source": [
    "Counter(df['Self_Employed'])"
   ]
  },
  {
   "cell_type": "code",
   "execution_count": 16,
   "id": "594997ee",
   "metadata": {},
   "outputs": [],
   "source": [
    "gender_null = df[df['Self_Employed'].isnull()].index.tolist()\n",
    "df['Self_Employed'].iloc[gender_null] = \"No\""
   ]
  },
  {
   "cell_type": "code",
   "execution_count": 17,
   "id": "e065d8cd",
   "metadata": {},
   "outputs": [
    {
     "data": {
      "text/plain": [
       "Loan_Amount_Term\n",
       "12.0     111.000000\n",
       "36.0     117.500000\n",
       "60.0     140.000000\n",
       "84.0     132.250000\n",
       "120.0     22.333333\n",
       "180.0    147.523810\n",
       "240.0    118.333333\n",
       "300.0    185.153846\n",
       "360.0    147.245436\n",
       "480.0    151.800000\n",
       "Name: LoanAmount, dtype: float64"
      ]
     },
     "execution_count": 17,
     "metadata": {},
     "output_type": "execute_result"
    }
   ],
   "source": [
    "df.groupby(df['Loan_Amount_Term'])['LoanAmount'].mean()"
   ]
  },
  {
   "cell_type": "code",
   "execution_count": 18,
   "id": "d5b0f52c",
   "metadata": {},
   "outputs": [
    {
     "name": "stderr",
     "output_type": "stream",
     "text": [
      "<ipython-input-18-16e9d55a4c1d>:1: SettingWithCopyWarning: \n",
      "A value is trying to be set on a copy of a slice from a DataFrame\n",
      "\n",
      "See the caveats in the documentation: https://pandas.pydata.org/pandas-docs/stable/user_guide/indexing.html#returning-a-view-versus-a-copy\n",
      "  df['LoanAmount'][ ( df['LoanAmount'].isnull())] = 130\n"
     ]
    }
   ],
   "source": [
    "df['LoanAmount'][ ( df['LoanAmount'].isnull())] = 130"
   ]
  },
  {
   "cell_type": "code",
   "execution_count": 19,
   "id": "ae87b0d7",
   "metadata": {},
   "outputs": [
    {
     "data": {
      "text/html": [
       "<div>\n",
       "<style scoped>\n",
       "    .dataframe tbody tr th:only-of-type {\n",
       "        vertical-align: middle;\n",
       "    }\n",
       "\n",
       "    .dataframe tbody tr th {\n",
       "        vertical-align: top;\n",
       "    }\n",
       "\n",
       "    .dataframe thead th {\n",
       "        text-align: right;\n",
       "    }\n",
       "</style>\n",
       "<table border=\"1\" class=\"dataframe\">\n",
       "  <thead>\n",
       "    <tr style=\"text-align: right;\">\n",
       "      <th>Loan_Amount_Term</th>\n",
       "      <th>12.0</th>\n",
       "      <th>36.0</th>\n",
       "      <th>60.0</th>\n",
       "      <th>84.0</th>\n",
       "      <th>120.0</th>\n",
       "      <th>180.0</th>\n",
       "      <th>240.0</th>\n",
       "      <th>300.0</th>\n",
       "      <th>360.0</th>\n",
       "      <th>480.0</th>\n",
       "    </tr>\n",
       "    <tr>\n",
       "      <th>LoanAmount</th>\n",
       "      <th></th>\n",
       "      <th></th>\n",
       "      <th></th>\n",
       "      <th></th>\n",
       "      <th></th>\n",
       "      <th></th>\n",
       "      <th></th>\n",
       "      <th></th>\n",
       "      <th></th>\n",
       "      <th></th>\n",
       "    </tr>\n",
       "  </thead>\n",
       "  <tbody>\n",
       "    <tr>\n",
       "      <th>False</th>\n",
       "      <td>1</td>\n",
       "      <td>2</td>\n",
       "      <td>2</td>\n",
       "      <td>4</td>\n",
       "      <td>3</td>\n",
       "      <td>44</td>\n",
       "      <td>4</td>\n",
       "      <td>13</td>\n",
       "      <td>512</td>\n",
       "      <td>15</td>\n",
       "    </tr>\n",
       "  </tbody>\n",
       "</table>\n",
       "</div>"
      ],
      "text/plain": [
       "Loan_Amount_Term  12.0   36.0   60.0   84.0   120.0  180.0  240.0  300.0  \\\n",
       "LoanAmount                                                                 \n",
       "False                 1      2      2      4      3     44      4     13   \n",
       "\n",
       "Loan_Amount_Term  360.0  480.0  \n",
       "LoanAmount                      \n",
       "False               512     15  "
      ]
     },
     "execution_count": 19,
     "metadata": {},
     "output_type": "execute_result"
    }
   ],
   "source": [
    "pd.crosstab( df['LoanAmount'].isnull(), df['Loan_Amount_Term'])"
   ]
  },
  {
   "cell_type": "code",
   "execution_count": 20,
   "id": "9f210a54",
   "metadata": {},
   "outputs": [
    {
     "name": "stderr",
     "output_type": "stream",
     "text": [
      "<ipython-input-20-1881097f4870>:1: SettingWithCopyWarning: \n",
      "A value is trying to be set on a copy of a slice from a DataFrame\n",
      "\n",
      "See the caveats in the documentation: https://pandas.pydata.org/pandas-docs/stable/user_guide/indexing.html#returning-a-view-versus-a-copy\n",
      "  df['Loan_Amount_Term'][ ( df['Loan_Amount_Term'].isnull())] = 360\n"
     ]
    }
   ],
   "source": [
    "df['Loan_Amount_Term'][ ( df['Loan_Amount_Term'].isnull())] = 360"
   ]
  },
  {
   "cell_type": "code",
   "execution_count": 21,
   "id": "915626cf",
   "metadata": {},
   "outputs": [
    {
     "name": "stderr",
     "output_type": "stream",
     "text": [
      "<ipython-input-21-cc1614a82fcf>:2: SettingWithCopyWarning: \n",
      "A value is trying to be set on a copy of a slice from a DataFrame\n",
      "\n",
      "See the caveats in the documentation: https://pandas.pydata.org/pandas-docs/stable/user_guide/indexing.html#returning-a-view-versus-a-copy\n",
      "  df['Credit_History'][ ( df['Credit_History'].isnull())] = 0\n"
     ]
    }
   ],
   "source": [
    "(df['Credit_History']).value_counts()\n",
    "df['Credit_History'][ ( df['Credit_History'].isnull())] = 0"
   ]
  },
  {
   "cell_type": "code",
   "execution_count": 22,
   "id": "6c6e0934",
   "metadata": {},
   "outputs": [
    {
     "data": {
      "text/plain": [
       "Loan_ID              0\n",
       "Gender               0\n",
       "Married              0\n",
       "Dependents           0\n",
       "Education            0\n",
       "Self_Employed        0\n",
       "ApplicantIncome      0\n",
       "CoapplicantIncome    0\n",
       "LoanAmount           0\n",
       "Loan_Amount_Term     0\n",
       "Credit_History       0\n",
       "Property_Area        0\n",
       "Loan_Status          0\n",
       "dtype: int64"
      ]
     },
     "execution_count": 22,
     "metadata": {},
     "output_type": "execute_result"
    }
   ],
   "source": [
    "df.isnull().sum()"
   ]
  },
  {
   "cell_type": "code",
   "execution_count": 23,
   "id": "1bd7a691",
   "metadata": {},
   "outputs": [
    {
     "data": {
      "text/html": [
       "<div>\n",
       "<style scoped>\n",
       "    .dataframe tbody tr th:only-of-type {\n",
       "        vertical-align: middle;\n",
       "    }\n",
       "\n",
       "    .dataframe tbody tr th {\n",
       "        vertical-align: top;\n",
       "    }\n",
       "\n",
       "    .dataframe thead th {\n",
       "        text-align: right;\n",
       "    }\n",
       "</style>\n",
       "<table border=\"1\" class=\"dataframe\">\n",
       "  <thead>\n",
       "    <tr style=\"text-align: right;\">\n",
       "      <th></th>\n",
       "      <th>ApplicantIncome</th>\n",
       "      <th>CoapplicantIncome</th>\n",
       "      <th>LoanAmount</th>\n",
       "      <th>Loan_Amount_Term</th>\n",
       "      <th>Credit_History</th>\n",
       "      <th>Gender_Male</th>\n",
       "      <th>Married_Yes</th>\n",
       "      <th>Dependents_1</th>\n",
       "      <th>Dependents_2</th>\n",
       "      <th>Dependents_3+</th>\n",
       "      <th>Education_Not Graduate</th>\n",
       "      <th>Self_Employed_Yes</th>\n",
       "      <th>Property_Area_Semiurban</th>\n",
       "      <th>Property_Area_Urban</th>\n",
       "      <th>Loan_Status_Y</th>\n",
       "    </tr>\n",
       "  </thead>\n",
       "  <tbody>\n",
       "    <tr>\n",
       "      <th>0</th>\n",
       "      <td>5849</td>\n",
       "      <td>0.0</td>\n",
       "      <td>130.0</td>\n",
       "      <td>360.0</td>\n",
       "      <td>1.0</td>\n",
       "      <td>1</td>\n",
       "      <td>0</td>\n",
       "      <td>0</td>\n",
       "      <td>0</td>\n",
       "      <td>0</td>\n",
       "      <td>0</td>\n",
       "      <td>0</td>\n",
       "      <td>0</td>\n",
       "      <td>1</td>\n",
       "      <td>1</td>\n",
       "    </tr>\n",
       "    <tr>\n",
       "      <th>1</th>\n",
       "      <td>4583</td>\n",
       "      <td>1508.0</td>\n",
       "      <td>128.0</td>\n",
       "      <td>360.0</td>\n",
       "      <td>1.0</td>\n",
       "      <td>1</td>\n",
       "      <td>1</td>\n",
       "      <td>1</td>\n",
       "      <td>0</td>\n",
       "      <td>0</td>\n",
       "      <td>0</td>\n",
       "      <td>0</td>\n",
       "      <td>0</td>\n",
       "      <td>0</td>\n",
       "      <td>0</td>\n",
       "    </tr>\n",
       "    <tr>\n",
       "      <th>2</th>\n",
       "      <td>3000</td>\n",
       "      <td>0.0</td>\n",
       "      <td>66.0</td>\n",
       "      <td>360.0</td>\n",
       "      <td>1.0</td>\n",
       "      <td>1</td>\n",
       "      <td>1</td>\n",
       "      <td>0</td>\n",
       "      <td>0</td>\n",
       "      <td>0</td>\n",
       "      <td>0</td>\n",
       "      <td>1</td>\n",
       "      <td>0</td>\n",
       "      <td>1</td>\n",
       "      <td>1</td>\n",
       "    </tr>\n",
       "    <tr>\n",
       "      <th>3</th>\n",
       "      <td>2583</td>\n",
       "      <td>2358.0</td>\n",
       "      <td>120.0</td>\n",
       "      <td>360.0</td>\n",
       "      <td>1.0</td>\n",
       "      <td>1</td>\n",
       "      <td>1</td>\n",
       "      <td>0</td>\n",
       "      <td>0</td>\n",
       "      <td>0</td>\n",
       "      <td>1</td>\n",
       "      <td>0</td>\n",
       "      <td>0</td>\n",
       "      <td>1</td>\n",
       "      <td>1</td>\n",
       "    </tr>\n",
       "    <tr>\n",
       "      <th>4</th>\n",
       "      <td>6000</td>\n",
       "      <td>0.0</td>\n",
       "      <td>141.0</td>\n",
       "      <td>360.0</td>\n",
       "      <td>1.0</td>\n",
       "      <td>1</td>\n",
       "      <td>0</td>\n",
       "      <td>0</td>\n",
       "      <td>0</td>\n",
       "      <td>0</td>\n",
       "      <td>0</td>\n",
       "      <td>0</td>\n",
       "      <td>0</td>\n",
       "      <td>1</td>\n",
       "      <td>1</td>\n",
       "    </tr>\n",
       "  </tbody>\n",
       "</table>\n",
       "</div>"
      ],
      "text/plain": [
       "   ApplicantIncome  CoapplicantIncome  LoanAmount  Loan_Amount_Term  \\\n",
       "0             5849                0.0       130.0             360.0   \n",
       "1             4583             1508.0       128.0             360.0   \n",
       "2             3000                0.0        66.0             360.0   \n",
       "3             2583             2358.0       120.0             360.0   \n",
       "4             6000                0.0       141.0             360.0   \n",
       "\n",
       "   Credit_History  Gender_Male  Married_Yes  Dependents_1  Dependents_2  \\\n",
       "0             1.0            1            0             0             0   \n",
       "1             1.0            1            1             1             0   \n",
       "2             1.0            1            1             0             0   \n",
       "3             1.0            1            1             0             0   \n",
       "4             1.0            1            0             0             0   \n",
       "\n",
       "   Dependents_3+  Education_Not Graduate  Self_Employed_Yes  \\\n",
       "0              0                       0                  0   \n",
       "1              0                       0                  0   \n",
       "2              0                       0                  1   \n",
       "3              0                       1                  0   \n",
       "4              0                       0                  0   \n",
       "\n",
       "   Property_Area_Semiurban  Property_Area_Urban  Loan_Status_Y  \n",
       "0                        0                    1              1  \n",
       "1                        0                    0              0  \n",
       "2                        0                    1              1  \n",
       "3                        0                    1              1  \n",
       "4                        0                    1              1  "
      ]
     },
     "execution_count": 23,
     "metadata": {},
     "output_type": "execute_result"
    }
   ],
   "source": [
    "dfNew2 = pd.get_dummies(df.drop(['Loan_ID'],axis=1) ,drop_first=True)\n",
    "dfNew2.head()\n",
    "\n",
    "#dfInput = dfNew.iloc[:,0:14] \n",
    "#print(dfInput.head())\n",
    "#dfoutput = dfNew.iloc[:,-1]"
   ]
  },
  {
   "cell_type": "code",
   "execution_count": 24,
   "id": "6fc4ef01",
   "metadata": {},
   "outputs": [],
   "source": [
    "from sklearn import preprocessing\n",
    "from sklearn import utils\n",
    "# .MultiLabelBinarizer()  LabelEncoder LabelBinarizer\n",
    "lab_enc = preprocessing.LabelEncoder()"
   ]
  },
  {
   "cell_type": "code",
   "execution_count": 25,
   "id": "b272edcd",
   "metadata": {},
   "outputs": [
    {
     "name": "stdout",
     "output_type": "stream",
     "text": [
      "  Gender Married Dependents     Education Self_Employed  ApplicantIncome  \\\n",
      "0   Male      No          0      Graduate            No             5849   \n",
      "1   Male     Yes          1      Graduate            No             4583   \n",
      "2   Male     Yes          0      Graduate           Yes             3000   \n",
      "3   Male     Yes          0  Not Graduate            No             2583   \n",
      "4   Male      No          0      Graduate            No             6000   \n",
      "\n",
      "   CoapplicantIncome  LoanAmount  Loan_Amount_Term  Credit_History  \\\n",
      "0                0.0       130.0             360.0             1.0   \n",
      "1             1508.0       128.0             360.0             1.0   \n",
      "2                0.0        66.0             360.0             1.0   \n",
      "3             2358.0       120.0             360.0             1.0   \n",
      "4                0.0       141.0             360.0             1.0   \n",
      "\n",
      "  Property_Area Loan_Status  \n",
      "0         Urban           Y  \n",
      "1         Rural           N  \n",
      "2         Urban           Y  \n",
      "3         Urban           Y  \n",
      "4         Urban           Y  \n"
     ]
    }
   ],
   "source": [
    "dfClean = df.drop(['Loan_ID'], axis=1)\n",
    "print(dfClean.head())\n"
   ]
  },
  {
   "cell_type": "code",
   "execution_count": 26,
   "id": "9da0b8e4",
   "metadata": {},
   "outputs": [],
   "source": [
    "#"
   ]
  },
  {
   "cell_type": "code",
   "execution_count": 27,
   "id": "cc84eee1",
   "metadata": {},
   "outputs": [],
   "source": [
    "# creating instance of labelencoder - BEST WAY\n",
    "from sklearn.preprocessing import LabelEncoder\n",
    "labelencoder = LabelEncoder()\n",
    "# Assigning numerical values and storing in another column\n",
    "dfClean['Gender_Cat'] = labelencoder.fit_transform(dfClean['Gender'])\n",
    "dfClean['Married_Cat'] = labelencoder.fit_transform(dfClean['Married'])\n",
    "dfClean['Education_Cat'] = labelencoder.fit_transform(dfClean['Education'])\n",
    "dfClean['Self_Employed_Cat'] = labelencoder.fit_transform(dfClean['Self_Employed'])\n",
    "\n",
    "dfClean['Property_Area_Cat'] = labelencoder.fit_transform(dfClean['Property_Area'])\n",
    "dfClean['Loan_Status_Cat'] = labelencoder.fit_transform(dfClean['Loan_Status'])\n",
    "\n",
    "# check _cat columns"
   ]
  },
  {
   "cell_type": "code",
   "execution_count": 28,
   "id": "8818b4ee",
   "metadata": {},
   "outputs": [
    {
     "data": {
      "text/html": [
       "<div>\n",
       "<style scoped>\n",
       "    .dataframe tbody tr th:only-of-type {\n",
       "        vertical-align: middle;\n",
       "    }\n",
       "\n",
       "    .dataframe tbody tr th {\n",
       "        vertical-align: top;\n",
       "    }\n",
       "\n",
       "    .dataframe thead th {\n",
       "        text-align: right;\n",
       "    }\n",
       "</style>\n",
       "<table border=\"1\" class=\"dataframe\">\n",
       "  <thead>\n",
       "    <tr style=\"text-align: right;\">\n",
       "      <th></th>\n",
       "      <th>Gender</th>\n",
       "      <th>Married</th>\n",
       "      <th>Dependents</th>\n",
       "      <th>Education</th>\n",
       "      <th>Self_Employed</th>\n",
       "      <th>ApplicantIncome</th>\n",
       "      <th>CoapplicantIncome</th>\n",
       "      <th>LoanAmount</th>\n",
       "      <th>Loan_Amount_Term</th>\n",
       "      <th>Credit_History</th>\n",
       "      <th>Property_Area</th>\n",
       "      <th>Loan_Status</th>\n",
       "      <th>Gender_Cat</th>\n",
       "      <th>Married_Cat</th>\n",
       "      <th>Education_Cat</th>\n",
       "      <th>Self_Employed_Cat</th>\n",
       "      <th>Property_Area_Cat</th>\n",
       "      <th>Loan_Status_Cat</th>\n",
       "    </tr>\n",
       "  </thead>\n",
       "  <tbody>\n",
       "    <tr>\n",
       "      <th>0</th>\n",
       "      <td>Male</td>\n",
       "      <td>No</td>\n",
       "      <td>0</td>\n",
       "      <td>Graduate</td>\n",
       "      <td>No</td>\n",
       "      <td>5849</td>\n",
       "      <td>0.0</td>\n",
       "      <td>130.0</td>\n",
       "      <td>360.0</td>\n",
       "      <td>1.0</td>\n",
       "      <td>Urban</td>\n",
       "      <td>Y</td>\n",
       "      <td>1</td>\n",
       "      <td>0</td>\n",
       "      <td>0</td>\n",
       "      <td>0</td>\n",
       "      <td>2</td>\n",
       "      <td>1</td>\n",
       "    </tr>\n",
       "    <tr>\n",
       "      <th>1</th>\n",
       "      <td>Male</td>\n",
       "      <td>Yes</td>\n",
       "      <td>1</td>\n",
       "      <td>Graduate</td>\n",
       "      <td>No</td>\n",
       "      <td>4583</td>\n",
       "      <td>1508.0</td>\n",
       "      <td>128.0</td>\n",
       "      <td>360.0</td>\n",
       "      <td>1.0</td>\n",
       "      <td>Rural</td>\n",
       "      <td>N</td>\n",
       "      <td>1</td>\n",
       "      <td>1</td>\n",
       "      <td>0</td>\n",
       "      <td>0</td>\n",
       "      <td>0</td>\n",
       "      <td>0</td>\n",
       "    </tr>\n",
       "    <tr>\n",
       "      <th>2</th>\n",
       "      <td>Male</td>\n",
       "      <td>Yes</td>\n",
       "      <td>0</td>\n",
       "      <td>Graduate</td>\n",
       "      <td>Yes</td>\n",
       "      <td>3000</td>\n",
       "      <td>0.0</td>\n",
       "      <td>66.0</td>\n",
       "      <td>360.0</td>\n",
       "      <td>1.0</td>\n",
       "      <td>Urban</td>\n",
       "      <td>Y</td>\n",
       "      <td>1</td>\n",
       "      <td>1</td>\n",
       "      <td>0</td>\n",
       "      <td>1</td>\n",
       "      <td>2</td>\n",
       "      <td>1</td>\n",
       "    </tr>\n",
       "    <tr>\n",
       "      <th>3</th>\n",
       "      <td>Male</td>\n",
       "      <td>Yes</td>\n",
       "      <td>0</td>\n",
       "      <td>Not Graduate</td>\n",
       "      <td>No</td>\n",
       "      <td>2583</td>\n",
       "      <td>2358.0</td>\n",
       "      <td>120.0</td>\n",
       "      <td>360.0</td>\n",
       "      <td>1.0</td>\n",
       "      <td>Urban</td>\n",
       "      <td>Y</td>\n",
       "      <td>1</td>\n",
       "      <td>1</td>\n",
       "      <td>1</td>\n",
       "      <td>0</td>\n",
       "      <td>2</td>\n",
       "      <td>1</td>\n",
       "    </tr>\n",
       "    <tr>\n",
       "      <th>4</th>\n",
       "      <td>Male</td>\n",
       "      <td>No</td>\n",
       "      <td>0</td>\n",
       "      <td>Graduate</td>\n",
       "      <td>No</td>\n",
       "      <td>6000</td>\n",
       "      <td>0.0</td>\n",
       "      <td>141.0</td>\n",
       "      <td>360.0</td>\n",
       "      <td>1.0</td>\n",
       "      <td>Urban</td>\n",
       "      <td>Y</td>\n",
       "      <td>1</td>\n",
       "      <td>0</td>\n",
       "      <td>0</td>\n",
       "      <td>0</td>\n",
       "      <td>2</td>\n",
       "      <td>1</td>\n",
       "    </tr>\n",
       "  </tbody>\n",
       "</table>\n",
       "</div>"
      ],
      "text/plain": [
       "  Gender Married Dependents     Education Self_Employed  ApplicantIncome  \\\n",
       "0   Male      No          0      Graduate            No             5849   \n",
       "1   Male     Yes          1      Graduate            No             4583   \n",
       "2   Male     Yes          0      Graduate           Yes             3000   \n",
       "3   Male     Yes          0  Not Graduate            No             2583   \n",
       "4   Male      No          0      Graduate            No             6000   \n",
       "\n",
       "   CoapplicantIncome  LoanAmount  Loan_Amount_Term  Credit_History  \\\n",
       "0                0.0       130.0             360.0             1.0   \n",
       "1             1508.0       128.0             360.0             1.0   \n",
       "2                0.0        66.0             360.0             1.0   \n",
       "3             2358.0       120.0             360.0             1.0   \n",
       "4                0.0       141.0             360.0             1.0   \n",
       "\n",
       "  Property_Area Loan_Status  Gender_Cat  Married_Cat  Education_Cat  \\\n",
       "0         Urban           Y           1            0              0   \n",
       "1         Rural           N           1            1              0   \n",
       "2         Urban           Y           1            1              0   \n",
       "3         Urban           Y           1            1              1   \n",
       "4         Urban           Y           1            0              0   \n",
       "\n",
       "   Self_Employed_Cat  Property_Area_Cat  Loan_Status_Cat  \n",
       "0                  0                  2                1  \n",
       "1                  0                  0                0  \n",
       "2                  1                  2                1  \n",
       "3                  0                  2                1  \n",
       "4                  0                  2                1  "
      ]
     },
     "execution_count": 28,
     "metadata": {},
     "output_type": "execute_result"
    }
   ],
   "source": [
    "\n",
    "dfClean.head()"
   ]
  },
  {
   "cell_type": "code",
   "execution_count": 29,
   "id": "40673fdb",
   "metadata": {},
   "outputs": [
    {
     "name": "stdout",
     "output_type": "stream",
     "text": [
      "   ApplicantIncome  LoanAmount\n",
      "0             5849       130.0\n",
      "1             4583       128.0\n",
      "2             3000        66.0\n",
      "3             2583       120.0\n",
      "4             6000       141.0\n",
      "0    1\n",
      "1    0\n",
      "2    1\n",
      "3    1\n",
      "4    1\n",
      "Name: Loan_Status_Cat, dtype: int32\n"
     ]
    }
   ],
   "source": [
    "dfClean = dfClean.query('ApplicantIncome < 10000')\n",
    "\n",
    "from sklearn.model_selection import cross_val_score\n",
    "dfInput = dfClean.iloc[:,[5,7]] \n",
    "print(dfInput.head())\n",
    "dfoutput = dfClean.iloc[:,17]\n",
    "print(dfoutput.head())\n",
    "\n"
   ]
  },
  {
   "cell_type": "code",
   "execution_count": 30,
   "id": "03e99746",
   "metadata": {},
   "outputs": [],
   "source": [
    "#split = int(0.8*len(dfNew))\n",
    "#X_train, X_test, Y_train, Y_test = dfInput[:split], dfInput[split:], dfoutput[:split], dfoutput[split:]\n",
    "\n",
    "from sklearn.model_selection import train_test_split\n",
    "x_train,x_test,y_train,y_test=train_test_split(dfInput,dfoutput,test_size=0.3)"
   ]
  },
  {
   "cell_type": "code",
   "execution_count": 31,
   "id": "b5f65997",
   "metadata": {},
   "outputs": [
    {
     "data": {
      "image/png": "[encoded data removed]",
      "text/plain": [
       "<Figure size 432x288 with 1 Axes>"
      ]
     },
     "metadata": {
      "needs_background": "light"
     },
     "output_type": "display_data"
    }
   ],
   "source": [
    "from sklearn import svm\n",
    "C = 1.0 # SVM regularization parameter\n",
    "X =  dfInput\n",
    "Y =  dfoutput\n",
    "svc = svm.SVC(kernel='linear', C=1,gamma=1).fit(X, Y)\n",
    "#####################################\n",
    "# create a mesh to plot in\n",
    "x_min, x_max = X.iloc[:, 0].min() - 1, X.iloc[:, 0].max() + 1\n",
    "y_min, y_max = X.iloc[:, 1].min() - 1, X.iloc[:, 1].max() + 1\n",
    "h = (x_max / x_min)/100\n",
    "#print(x_min, x_max, h)\n",
    "xx, yy = np.meshgrid(np.arange(x_min, x_max, h), np.arange(y_min, y_max, h))\n",
    "#print(xx,yy)\n",
    "Z = svc.predict(np.c_[xx.ravel(), yy.ravel()])\n",
    "Z = Z.reshape(xx.shape)\n",
    "plt.contourf(xx, yy, Z, cmap=plt.cm.rainbow_r, alpha=0.6)\n",
    "###################################\n",
    "plt.scatter(X.iloc[:, 0], X.iloc[:, 1], c=Y, cmap=plt.cm.rainbow_r)\n",
    "plt.xlabel('ApplicantIncome')\n",
    "plt.ylabel('LoanAmount')\n",
    "plt.xlim(xx.min(), xx.max())\n",
    "plt.title('SVC with linear , After Filter')\n",
    "plt.show()\n",
    "\n",
    "# more variables, more resources\n",
    "# MemoryError: Unable to allocate 1.70 GiB for an array with shape (114001545, 2) and data type float64\n",
    "\n",
    "# MemoryError: Unable to allocate 870. MiB for an array with shape (7665, 14873) and data type float64"
   ]
  },
  {
   "cell_type": "code",
   "execution_count": 32,
   "id": "fe12da04",
   "metadata": {},
   "outputs": [],
   "source": [
    "\n",
    "# Time consuming and Resource, But, Good\n",
    "\n",
    "#Support vector machines (SVMs) are a set of supervised learning methods \n",
    "#used for classification, regression and outliers detection.\n",
    "\n",
    "#The advantages of support vector machines are:\n",
    "\n",
    "#Effective in high dimensional spaces."
   ]
  },
  {
   "cell_type": "code",
   "execution_count": 33,
   "id": "6bcb23c7",
   "metadata": {},
   "outputs": [
    {
     "name": "stdout",
     "output_type": "stream",
     "text": [
      "              precision    recall  f1-score   support\n",
      "\n",
      "           0       0.00      0.00      0.00       172\n",
      "           1       0.69      1.00      0.82       387\n",
      "\n",
      "    accuracy                           0.69       559\n",
      "   macro avg       0.35      0.50      0.41       559\n",
      "weighted avg       0.48      0.69      0.57       559\n",
      "\n"
     ]
    },
    {
     "name": "stderr",
     "output_type": "stream",
     "text": [
      "C:\\ProgramData\\Anaconda3\\lib\\site-packages\\sklearn\\metrics\\_classification.py:1245: UndefinedMetricWarning: Precision and F-score are ill-defined and being set to 0.0 in labels with no predicted samples. Use `zero_division` parameter to control this behavior.\n",
      "  _warn_prf(average, modifier, msg_start, len(result))\n",
      "C:\\ProgramData\\Anaconda3\\lib\\site-packages\\sklearn\\metrics\\_classification.py:1245: UndefinedMetricWarning: Precision and F-score are ill-defined and being set to 0.0 in labels with no predicted samples. Use `zero_division` parameter to control this behavior.\n",
      "  _warn_prf(average, modifier, msg_start, len(result))\n",
      "C:\\ProgramData\\Anaconda3\\lib\\site-packages\\sklearn\\metrics\\_classification.py:1245: UndefinedMetricWarning: Precision and F-score are ill-defined and being set to 0.0 in labels with no predicted samples. Use `zero_division` parameter to control this behavior.\n",
      "  _warn_prf(average, modifier, msg_start, len(result))\n"
     ]
    }
   ],
   "source": [
    "from sklearn.svm import SVC\n",
    "model =SVC()\n",
    "model.fit(X,Y)\n",
    "pred = model.predict(X)\n",
    "\n",
    "from sklearn.metrics import classification_report,confusion_matrix\n",
    "\n",
    "print(classification_report(Y,pred))"
   ]
  },
  {
   "cell_type": "code",
   "execution_count": 34,
   "id": "47d6a34e",
   "metadata": {},
   "outputs": [
    {
     "name": "stdout",
     "output_type": "stream",
     "text": [
      "model score:: 0.6923076923076923\n"
     ]
    },
    {
     "data": {
      "image/png": "[encoded data removed]",
      "text/plain": [
       "<Figure size 360x360 with 2 Axes>"
      ]
     },
     "metadata": {
      "needs_background": "light"
     },
     "output_type": "display_data"
    }
   ],
   "source": [
    "#print(confusion_matrix(Y_test,pred))\n",
    "import matplotlib.pyplot as plt\n",
    "import seaborn as sns\n",
    "from sklearn import metrics\n",
    "\n",
    "cm = confusion_matrix(Y , pred)\n",
    "\n",
    "plt.figure(figsize=(5,5))\n",
    "sns.heatmap(cm, annot=True, fmt=\".0f\", linewidths=.8, square = True, cmap = 'rainbow_r');\n",
    "plt.ylabel('Actual label');\n",
    "plt.xlabel('Predicted label');\n",
    "\n",
    "ms = model.score(X,Y)\n",
    "print(\"model score::\",ms)\n",
    "all_sample_title = 'Accuracy Score:{:0.3f}'.format(ms)\n",
    "plt.title(all_sample_title, size = 15);"
   ]
  },
  {
   "cell_type": "code",
   "execution_count": 35,
   "id": "920da5c4",
   "metadata": {},
   "outputs": [
    {
     "name": "stderr",
     "output_type": "stream",
     "text": [
      "C:\\ProgramData\\Anaconda3\\lib\\site-packages\\mlxtend\\plotting\\decision_regions.py:243: UserWarning: No contour levels were found within the data range.\n",
      "  ax.contour(xx, yy, Z, cset.levels,\n"
     ]
    },
    {
     "data": {
      "text/plain": [
       "Text(0.5, 1.0, 'SVM Decision Region Boundary')"
      ]
     },
     "execution_count": 35,
     "metadata": {},
     "output_type": "execute_result"
    },
    {
     "data": {
      "image/png": "[encoded data removed]",
      "text/plain": [
       "<Figure size 432x288 with 1 Axes>"
      ]
     },
     "metadata": {
      "needs_background": "light"
     },
     "output_type": "display_data"
    }
   ],
   "source": [
    "from mlxtend.plotting import plot_decision_regions\n",
    "import matplotlib.pyplot as plt\n",
    "\n",
    "clf = svm.SVC(decision_function_shape='ovo')\n",
    "clf.fit(X.values, Y.values) \n",
    "\n",
    "# Plot Decision Region using mlxtend's awesome plotting function\n",
    "plot_decision_regions(X=X.values, \n",
    "                      y=Y.values,\n",
    "                      clf=clf, \n",
    "                      legend=2)\n",
    "\n",
    "# Update plot object with X/Y axis labels and Figure Title\n",
    "plt.xlabel(X.columns[0], size=14)\n",
    "plt.ylabel(X.columns[1], size=14)\n",
    "plt.title('SVM Decision Region Boundary', size=16)"
   ]
  },
  {
   "cell_type": "code",
   "execution_count": 36,
   "id": "affee1b9",
   "metadata": {},
   "outputs": [],
   "source": [
    "#pip install mlxtend \n",
    "#Successfully installed mlxtend-0.19.0"
   ]
  },
  {
   "cell_type": "code",
   "execution_count": 37,
   "id": "80d121ce",
   "metadata": {},
   "outputs": [],
   "source": [
    "#clf.support_vectors_\n",
    "\n",
    "#clf.support_\n",
    "\n",
    "#clf.n_support_"
   ]
  },
  {
   "cell_type": "code",
   "execution_count": 38,
   "id": "06773dcc",
   "metadata": {},
   "outputs": [
    {
     "name": "stdout",
     "output_type": "stream",
     "text": [
      "[  1   7  12  16  17  19  21  22  23  27  29  30  31  34  38  46  50  51\n",
      "  54  59  60  61  62  63  65  69  71  72  73  74  78  79  91 101 102 106\n",
      " 111 119 124 125 127 128 135 137 138 145 146 150 152 155 157 160 162 163\n",
      " 164 167 172 175 181 188 189 194 196 198 203 204 214 219 223 228 229 233\n",
      " 234 235 238 244 254 259 264 266 271 272 273 278 280 286 295 298 307 309\n",
      " 310 315 320 322 326 327 329 334 335 336 340 345 351 354 363 366 367 368\n",
      " 371 375 376 378 380 382 383 387 389 391 396 408 409 410 411 413 418 420\n",
      " 425 427 429 431 436 437 443 445 449 454 458 461 463 466 467 470 471 472\n",
      " 477 484 488 491 496 498 500 503 504 512 515 516 517 519 520 521 523 528\n",
      " 530 531 532 536 538 542 543 546 550 558   2   4   5  11  14  15  18  25\n",
      "  26  32  33  35  36  40  41  43  44  48  49  52  53  56  67  68  75  77\n",
      "  80  84  86  87  92  94  95  96  98  99 100 107 108 110 114 115 121 122\n",
      " 129 132 133 134 136 140 144 149 154 156 158 161 165 166 169 171 173 174\n",
      " 176 177 178 180 182 184 187 195 199 202 205 207 210 211 212 215 221 222\n",
      " 225 226 227 231 232 236 239 240 241 242 248 251 258 263 267 270 275 276\n",
      " 277 279 281 282 287 290 291 292 293 296 305 306 308 311 312 316 318 319\n",
      " 321 325 328 330 331 332 333 337 339 343 344 348 349 352 356 360 372 373\n",
      " 374 377 384 385 388 390 392 394 395 403 404 405 415 416 417 421 422 423\n",
      " 426 428 430 432 433 434 439 442 444 451 452 455 462 464 468 469 476 481\n",
      " 482 483 486 487 489 490 492 495 497 502 505 514 522 525 526 527 533 534\n",
      " 535 545 554 555]\n"
     ]
    }
   ],
   "source": [
    "# Get support vector indices\n",
    "support_vector_indices = clf.support_\n",
    "print(support_vector_indices)"
   ]
  },
  {
   "cell_type": "code",
   "execution_count": 39,
   "id": "5a4c2898",
   "metadata": {},
   "outputs": [
    {
     "name": "stdout",
     "output_type": "stream",
     "text": [
      "[172 192]\n"
     ]
    }
   ],
   "source": [
    "# Get number of support vectors per class\n",
    "support_vectors_per_class = clf.n_support_\n",
    "print(support_vectors_per_class)"
   ]
  },
  {
   "cell_type": "code",
   "execution_count": 40,
   "id": "42618fa1",
   "metadata": {},
   "outputs": [
    {
     "data": {
      "image/png": "[encoded data removed]",
      "text/plain": [
       "<Figure size 432x288 with 1 Axes>"
      ]
     },
     "metadata": {
      "needs_background": "light"
     },
     "output_type": "display_data"
    }
   ],
   "source": [
    "# Get support vectors themselves\n",
    "support_vectors = clf.support_vectors_\n",
    "\n",
    "# Visualize support vectors\n",
    "plt.scatter(x_train.iloc[:,0], x_train.iloc[:,1])\n",
    "plt.scatter(support_vectors[:,0], support_vectors[:,1], color='red')\n",
    "plt.title('Linearly separable data with support vectors')\n",
    "plt.xlabel('X1')\n",
    "plt.ylabel('X2')\n",
    "plt.show()"
   ]
  },
  {
   "cell_type": "code",
   "execution_count": null,
   "id": "32d991a3",
   "metadata": {},
   "outputs": [],
   "source": [
    "# RBF - "
   ]
  }
 ],
 "metadata": {
  "kernelspec": {
   "display_name": "Python 3",
   "language": "python",
   "name": "python3"
  },
  "language_info": {
   "codemirror_mode": {
    "name": "ipython",
    "version": 3
   },
   "file_extension": ".py",
   "mimetype": "text/x-python",
   "name": "python",
   "nbconvert_exporter": "python",
   "pygments_lexer": "ipython3",
   "version": "3.8.8"
  }
 },
 "nbformat": 4,
 "nbformat_minor": 5
}
