{
 "cells": [
  {
   "cell_type": "code",
   "execution_count": 5,
   "metadata": {},
   "outputs": [
    {
     "name": "stdout",
     "output_type": "stream",
     "text": [
      "['India', 'USA', 'UK', 'Australia', 'Canada']\n",
      "['India', 'USA', 'UK', 'Australia', 'Canada']\n"
     ]
    }
   ],
   "source": [
    "# lists\n",
    "\n",
    "# without using list keyword []\n",
    "countries1 = [\"India\",\"USA\",\"UK\",\"Australia\",\"Canada\"]\n",
    "print(countries1)\n",
    "\n",
    "# usibg list ((  )) # note double brackets\n",
    "countries = list((\"India\",\"USA\",\"UK\",\"Australia\",\"Canada\"))\n",
    "print(countries)\n",
    "\n",
    "##"
   ]
  },
  {
   "cell_type": "code",
   "execution_count": 6,
   "metadata": {},
   "outputs": [
    {
     "name": "stdout",
     "output_type": "stream",
     "text": [
      "['India', 'USA', 'UK', 'Canada']\n",
      "4\n"
     ]
    }
   ],
   "source": [
    "countries.remove(\"Australia\")\n",
    "print(countries)\n",
    "print(len(countries))\n"
   ]
  },
  {
   "cell_type": "code",
   "execution_count": 7,
   "metadata": {},
   "outputs": [
    {
     "name": "stdout",
     "output_type": "stream",
     "text": [
      "['India', 'Germany', 'USA', 'UK', 'Canada']\n"
     ]
    }
   ],
   "source": [
    "# insert at certain index\n",
    "countries.insert(1,\"Germany\")\n",
    "print(countries)"
   ]
  },
  {
   "cell_type": "code",
   "execution_count": 8,
   "metadata": {},
   "outputs": [
    {
     "name": "stdout",
     "output_type": "stream",
     "text": [
      "['India', 'Germany', 'USA', 'UK', 'Canada', 'France']\n"
     ]
    }
   ],
   "source": [
    "# ## append()\tAdds an element at the end of the list\n",
    "countries.append(\"France\")\n",
    "print(countries) "
   ]
  },
  {
   "cell_type": "code",
   "execution_count": 9,
   "metadata": {},
   "outputs": [
    {
     "name": "stdout",
     "output_type": "stream",
     "text": [
      "1\n",
      "6\n"
     ]
    }
   ],
   "source": [
    "x = countries.count(\"USA\")\n",
    "print(x) # number of times of USA in the list\n",
    "print(len(countries))"
   ]
  },
  {
   "cell_type": "code",
   "execution_count": 10,
   "metadata": {},
   "outputs": [
    {
     "name": "stdout",
     "output_type": "stream",
     "text": [
      "['Canada', 'France', 'Germany', 'India', 'UK', 'USA']\n"
     ]
    }
   ],
   "source": [
    "\n",
    "print(list(sorted(countries))) "
   ]
  },
  {
   "cell_type": "code",
   "execution_count": 11,
   "metadata": {},
   "outputs": [
    {
     "name": "stdout",
     "output_type": "stream",
     "text": [
      "['France', 'Canada', 'UK', 'USA', 'Germany', 'India']\n"
     ]
    }
   ],
   "source": [
    "print(list(reversed(countries)))"
   ]
  },
  {
   "cell_type": "code",
   "execution_count": 12,
   "metadata": {},
   "outputs": [
    {
     "name": "stdout",
     "output_type": "stream",
     "text": [
      "list  ['India', 'USA', 'UK']\n",
      "list  USA\n"
     ]
    }
   ],
   "source": [
    "# List Index\n",
    "print (\"list \", countries1[0:3])\n",
    "\n",
    "print (\"list \", countries1[1]) "
   ]
  },
  {
   "cell_type": "code",
   "execution_count": 13,
   "metadata": {},
   "outputs": [
    {
     "name": "stdout",
     "output_type": "stream",
     "text": [
      "['India', 'USA', 'UK', 'Australia', 'Spain']\n"
     ]
    }
   ],
   "source": [
    "## Update\n",
    "countries1[4] = \"Spain\"  # if 5, outside index\n",
    "print(countries1)"
   ]
  },
  {
   "cell_type": "code",
   "execution_count": 14,
   "metadata": {},
   "outputs": [
    {
     "name": "stdout",
     "output_type": "stream",
     "text": [
      "['India', 'USA', 'UK', 'Australia']\n"
     ]
    }
   ],
   "source": [
    "del(countries1[4])\n",
    "print(countries1)"
   ]
  },
  {
   "cell_type": "code",
   "execution_count": 15,
   "metadata": {},
   "outputs": [
    {
     "name": "stdout",
     "output_type": "stream",
     "text": [
      "[1, 2, 3, 4, 5, 6]\n"
     ]
    }
   ],
   "source": [
    "## List can be concatenated - Joined, Added\n",
    "L1 = [1, 2, 3] \n",
    "L2 =  [4, 5, 6] \n",
    "print(L1+L2)\n"
   ]
  },
  {
   "cell_type": "code",
   "execution_count": 16,
   "metadata": {},
   "outputs": [
    {
     "name": "stdout",
     "output_type": "stream",
     "text": [
      "[1, 2, 3, 1, 2, 3, 1, 2, 3, 1, 2, 3]\n",
      "True\n",
      "True\n"
     ]
    }
   ],
   "source": [
    "print(L1  * 4)\n",
    "print(3 in L1) \n",
    "print(4 not in L1)"
   ]
  },
  {
   "cell_type": "code",
   "execution_count": 17,
   "metadata": {},
   "outputs": [
    {
     "data": {
      "text/plain": [
       "['USA', 'UK', 'India', 'Australia']"
      ]
     },
     "execution_count": 17,
     "metadata": {},
     "output_type": "execute_result"
    }
   ],
   "source": [
    "# SORT DESCENDING\n",
    "sorted(countries1, reverse=True)"
   ]
  },
  {
   "cell_type": "code",
   "execution_count": 18,
   "metadata": {},
   "outputs": [
    {
     "data": {
      "text/plain": [
       "['Australia', 'India', 'UK', 'USA']"
      ]
     },
     "execution_count": 18,
     "metadata": {},
     "output_type": "execute_result"
    }
   ],
   "source": [
    "sorted(countries1, reverse=False)"
   ]
  },
  {
   "cell_type": "code",
   "execution_count": 24,
   "metadata": {},
   "outputs": [
    {
     "name": "stdout",
     "output_type": "stream",
     "text": [
      "['India', 'USA', 'UK', 'Australia']\n",
      "1\n"
     ]
    }
   ],
   "source": [
    "# element 'India' / USA' is searched\n",
    "print(countries1)\n",
    "index = countries1.index('USA')\n",
    "print(index)"
   ]
  },
  {
   "cell_type": "code",
   "execution_count": 28,
   "metadata": {},
   "outputs": [
    {
     "name": "stdout",
     "output_type": "stream",
     "text": [
      "['India', 'USA', 'UK', 'Australia']\n",
      "Index for:  0\n",
      "Index for :  1\n",
      "Index for :  2\n",
      "Index for :  3\n"
     ]
    }
   ],
   "source": [
    "print(countries1)\n",
    "print( \"Index for: \", countries1.index( 'India' ) )\n",
    "print(\"Index for : \", countries1.index( 'USA' ) )\n",
    "print(\"Index for : \", countries1.index( 'UK' ) )\n",
    "print(\"Index for : \", countries1.index( 'Australia' ) )\n",
    "\n",
    "\n",
    "\n"
   ]
  },
  {
   "cell_type": "code",
   "execution_count": null,
   "metadata": {},
   "outputs": [],
   "source": []
  }
 ],
 "metadata": {
  "kernelspec": {
   "display_name": "Python 3",
   "language": "python",
   "name": "python3"
  },
  "language_info": {
   "codemirror_mode": {
    "name": "ipython",
    "version": 3
   },
   "file_extension": ".py",
   "mimetype": "text/x-python",
   "name": "python",
   "nbconvert_exporter": "python",
   "pygments_lexer": "ipython3",
   "version": "3.6.5"
  }
 },
 "nbformat": 4,
 "nbformat_minor": 2
}
