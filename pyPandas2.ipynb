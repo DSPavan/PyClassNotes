{
 "cells": [
  {
   "cell_type": "code",
   "execution_count": 1,
   "metadata": {},
   "outputs": [],
   "source": [
    "import pandas as pd\n"
   ]
  },
  {
   "cell_type": "code",
   "execution_count": 2,
   "metadata": {},
   "outputs": [
    {
     "name": "stdout",
     "output_type": "stream",
     "text": [
      "                        name mfr type  calories  protein  fat  sodium  fiber  \\\n",
      "0                  100%_Bran   N    C        70        4    1     130   10.0   \n",
      "1          100%_Natural_Bran   Q    C       120        3    5      15    2.0   \n",
      "2                   All-Bran   K    C        70        4    1     260    9.0   \n",
      "3  All-Bran_with_Extra_Fiber   K    C        50        4    0     140   14.0   \n",
      "4             Almond_Delight   R    C       110        2    2     200    1.0   \n",
      "\n",
      "   carbo  sugars  potass  vitamins  shelf  weight  cups     rating  \n",
      "0    5.0       6     280        25      3     1.0  0.33  68.402973  \n",
      "1    8.0       8     135         0      3     1.0  1.00  33.983679  \n",
      "2    7.0       5     320        25      3     1.0  0.33  59.425505  \n",
      "3    8.0       0     330        25      3     1.0  0.50  93.704912  \n",
      "4   14.0       8      -1        25      3     1.0  0.75  34.384843  \n"
     ]
    }
   ],
   "source": [
    "# CSV File - Read\n",
    "df = pd.read_csv('C:\\\\Users\\\\HP\\\\Downloads\\\\cereals3b.csv')\n",
    "#  ,header=None ,skiprows=1 , names=['Cal', 'Pr', 'Fat', 'sod', 'Fib', 'Rting']\n",
    "\n",
    "print(df.head(5)) "
   ]
  },
  {
   "cell_type": "code",
   "execution_count": 4,
   "metadata": {},
   "outputs": [
    {
     "name": "stdout",
     "output_type": "stream",
     "text": [
      "(74, 16)\n",
      "2\n"
     ]
    }
   ],
   "source": [
    "print(df.shape)\n",
    "print(df.ndim)"
   ]
  },
  {
   "cell_type": "code",
   "execution_count": 5,
   "metadata": {},
   "outputs": [
    {
     "name": "stdout",
     "output_type": "stream",
     "text": [
      "[RangeIndex(start=0, stop=74, step=1), Index(['name', 'mfr', 'type', 'calories', 'protein', 'fat', 'sodium', 'fiber',\n",
      "       'carbo', 'sugars', 'potass', 'vitamins', 'shelf', 'weight', 'cups',\n",
      "       'rating'],\n",
      "      dtype='object')]\n"
     ]
    }
   ],
   "source": [
    "print(df.axes)"
   ]
  },
  {
   "cell_type": "code",
   "execution_count": 7,
   "metadata": {},
   "outputs": [
    {
     "name": "stdout",
     "output_type": "stream",
     "text": [
      "name         object\n",
      "mfr          object\n",
      "type         object\n",
      "calories      int64\n",
      "protein       int64\n",
      "fat           int64\n",
      "sodium        int64\n",
      "fiber       float64\n",
      "carbo       float64\n",
      "sugars        int64\n",
      "potass        int64\n",
      "vitamins      int64\n",
      "shelf         int64\n",
      "weight      float64\n",
      "cups        float64\n",
      "rating      float64\n",
      "dtype: object\n"
     ]
    }
   ],
   "source": [
    "print(df.dtypes)"
   ]
  },
  {
   "cell_type": "code",
   "execution_count": 8,
   "metadata": {},
   "outputs": [
    {
     "name": "stdout",
     "output_type": "stream",
     "text": [
      "                 0                  1         2                          3   \\\n",
      "name      100%_Bran  100%_Natural_Bran  All-Bran  All-Bran_with_Extra_Fiber   \n",
      "mfr               N                  Q         K                          K   \n",
      "type              C                  C         C                          C   \n",
      "calories         70                120        70                         50   \n",
      "protein           4                  3         4                          4   \n",
      "fat               1                  5         1                          0   \n",
      "sodium          130                 15       260                        140   \n",
      "fiber            10                  2         9                         14   \n",
      "carbo             5                  8         7                          8   \n",
      "sugars            6                  8         5                          0   \n",
      "potass          280                135       320                        330   \n",
      "vitamins         25                  0        25                         25   \n",
      "shelf             3                  3         3                          3   \n",
      "weight            1                  1         1                          1   \n",
      "cups           0.33                  1      0.33                        0.5   \n",
      "rating       68.403            33.9837   59.4255                    93.7049   \n",
      "\n",
      "                      4                        5            6        7   \\\n",
      "name      Almond_Delight  Apple_Cinnamon_Cheerios  Apple_Jacks  Basic_4   \n",
      "mfr                    R                        G            K        G   \n",
      "type                   C                        C            C        C   \n",
      "calories             110                      110          110      130   \n",
      "protein                2                        2            2        3   \n",
      "fat                    2                        2            0        2   \n",
      "sodium               200                      180          125      210   \n",
      "fiber                  1                      1.5            1        2   \n",
      "carbo                 14                     10.5           11       18   \n",
      "sugars                 8                       10           14        8   \n",
      "potass                -1                       70           30      100   \n",
      "vitamins              25                       25           25       25   \n",
      "shelf                  3                        1            2        3   \n",
      "weight                 1                        1            1     1.33   \n",
      "cups                0.75                     0.75            1     0.75   \n",
      "rating           34.3848                  29.5095      33.1741  37.0386   \n",
      "\n",
      "                 8            9          ...                  64  \\\n",
      "name      Bran_Chex  Bran_Flakes         ...           Special_K   \n",
      "mfr               R            P         ...                   K   \n",
      "type              C            C         ...                   C   \n",
      "calories         90           90         ...                 110   \n",
      "protein           2            3         ...                   6   \n",
      "fat               1            0         ...                   0   \n",
      "sodium          200          210         ...                 230   \n",
      "fiber             4            5         ...                   1   \n",
      "carbo            15           13         ...                  16   \n",
      "sugars            6            5         ...                   3   \n",
      "potass          125          190         ...                  55   \n",
      "vitamins         25           25         ...                  25   \n",
      "shelf             1            3         ...                   1   \n",
      "weight            1            1         ...                   1   \n",
      "cups           0.67         0.67         ...                   1   \n",
      "rating      49.1203      53.3138         ...             53.1313   \n",
      "\n",
      "                               65                 66                 67  \\\n",
      "name      Strawberry_Fruit_Wheats  Total_Corn_Flakes  Total_Raisin_Bran   \n",
      "mfr                             N                  G                  G   \n",
      "type                            C                  C                  C   \n",
      "calories                       90                110                140   \n",
      "protein                         2                  2                  3   \n",
      "fat                             0                  1                  1   \n",
      "sodium                         15                200                190   \n",
      "fiber                           3                  0                  4   \n",
      "carbo                          15                 21                 15   \n",
      "sugars                          5                  3                 14   \n",
      "potass                         90                 35                230   \n",
      "vitamins                       25                100                100   \n",
      "shelf                           2                  3                  3   \n",
      "weight                          1                  1                1.5   \n",
      "cups                            1                  1                  1   \n",
      "rating                     59.364            38.8397            28.5928   \n",
      "\n",
      "                         68       69       70          71        72  \\\n",
      "name      Total_Whole_Grain  Triples     Trix  Wheat_Chex  Wheaties   \n",
      "mfr                       G        G        G           R         G   \n",
      "type                      C        C        C           C         C   \n",
      "calories                100      110      110         100       100   \n",
      "protein                   3        2        1           3         3   \n",
      "fat                       1        1        1           1         1   \n",
      "sodium                  200      250      140         230       200   \n",
      "fiber                     3        0        0           3         3   \n",
      "carbo                    16       21       13          17        17   \n",
      "sugars                    3        3       12           3         3   \n",
      "potass                  110       60       25         115       110   \n",
      "vitamins                100       25       25          25        25   \n",
      "shelf                     3        3        2           1         1   \n",
      "weight                    1        1        1           1         1   \n",
      "cups                      1     0.75        1        0.67         1   \n",
      "rating              46.6588  39.1062  27.7533     49.7874   51.5922   \n",
      "\n",
      "                           73  \n",
      "name      Wheaties_Honey_Gold  \n",
      "mfr                         G  \n",
      "type                        C  \n",
      "calories                  110  \n",
      "protein                     2  \n",
      "fat                         1  \n",
      "sodium                    200  \n",
      "fiber                       1  \n",
      "carbo                      16  \n",
      "sugars                      8  \n",
      "potass                     60  \n",
      "vitamins                   25  \n",
      "shelf                       1  \n",
      "weight                      1  \n",
      "cups                     0.75  \n",
      "rating                36.1876  \n",
      "\n",
      "[16 rows x 74 columns]\n"
     ]
    }
   ],
   "source": [
    "df2 = df.T\n",
    "print(df2)"
   ]
  },
  {
   "cell_type": "code",
   "execution_count": 12,
   "metadata": {},
   "outputs": [
    {
     "name": "stdout",
     "output_type": "stream",
     "text": [
      "                       name mfr type  calories  protein  fat  sodium  fiber  \\\n",
      "5   Apple_Cinnamon_Cheerios   G    C       110        2    2     180    1.5   \n",
      "6               Apple_Jacks   K    C       110        2    0     125    1.0   \n",
      "7                   Basic_4   G    C       130        3    2     210    2.0   \n",
      "8                 Bran_Chex   R    C        90        2    1     200    4.0   \n",
      "9               Bran_Flakes   P    C        90        3    0     210    5.0   \n",
      "10             Cap'n'Crunch   Q    C       120        1    2     220    0.0   \n",
      "\n",
      "    carbo  sugars  potass  vitamins  shelf  weight  cups     rating  \n",
      "5    10.5      10      70        25      1    1.00  0.75  29.509541  \n",
      "6    11.0      14      30        25      2    1.00  1.00  33.174094  \n",
      "7    18.0       8     100        25      3    1.33  0.75  37.038562  \n",
      "8    15.0       6     125        25      1    1.00  0.67  49.120253  \n",
      "9    13.0       5     190        25      3    1.00  0.67  53.313813  \n",
      "10   12.0      12      35        25      2    1.00  0.75  18.042851  \n"
     ]
    }
   ],
   "source": [
    "#print(df['protein']) # Better use .loc or .iloc\n",
    "\n",
    "#select all rows for a specific column\n",
    "print(df.loc[5:10,])"
   ]
  },
  {
   "cell_type": "code",
   "execution_count": 41,
   "metadata": {},
   "outputs": [
    {
     "name": "stdout",
     "output_type": "stream",
     "text": [
      "   protein  calories\n",
      "0        4        70\n",
      "1        3       120\n",
      "2        4        70\n",
      "3        4        50\n",
      "4        2       110\n"
     ]
    }
   ],
   "source": [
    "newdf = df.loc[:,['protein','calories']]\n",
    "print(newdf.head())"
   ]
  },
  {
   "cell_type": "code",
   "execution_count": 29,
   "metadata": {},
   "outputs": [
    {
     "name": "stdout",
     "output_type": "stream",
     "text": [
      "  mfr type  calories  protein\n",
      "0   N    C        70        4\n",
      "1   Q    C       120        3\n",
      "2   K    C        70        4\n",
      "3   K    C        50        4\n",
      "4   R    C       110        2\n"
     ]
    }
   ],
   "source": [
    "#newdf = df.iloc[:,[1,2,3,4,5]]\n",
    "newdf = df.iloc[:, 1:5]\n",
    "print(newdf.head())"
   ]
  },
  {
   "cell_type": "code",
   "execution_count": 32,
   "metadata": {},
   "outputs": [
    {
     "data": {
      "text/plain": [
       "0    280\n",
       "1    360\n",
       "2    280\n",
       "3    200\n",
       "4    220\n",
       "Name: calpro, dtype: int64"
      ]
     },
     "execution_count": 32,
     "metadata": {},
     "output_type": "execute_result"
    }
   ],
   "source": [
    "df['calpro'] = df.apply(lambda row: row.protein * row.calories, axis=1)\n",
    "df['calpro'].head()"
   ]
  },
  {
   "cell_type": "code",
   "execution_count": 33,
   "metadata": {},
   "outputs": [
    {
     "name": "stdout",
     "output_type": "stream",
     "text": [
      "         calories    protein        fat      sodium      fiber      carbo  \\\n",
      "count   74.000000  74.000000  74.000000   74.000000  74.000000  74.000000   \n",
      "mean   105.540541   2.500000   0.945946  160.675676   2.090541  14.594595   \n",
      "std     18.442201   1.088546   0.963610   85.188447   2.404002   4.349205   \n",
      "min     50.000000   1.000000   0.000000    0.000000   0.000000  -1.000000   \n",
      "25%    100.000000   2.000000   0.000000  131.250000   0.250000  12.000000   \n",
      "50%    110.000000   2.000000   1.000000  180.000000   1.500000  14.000000   \n",
      "75%    110.000000   3.000000   1.000000  217.500000   3.000000  17.000000   \n",
      "max    160.000000   6.000000   5.000000  320.000000  14.000000  23.000000   \n",
      "\n",
      "          sugars      potass    vitamins      shelf     weight       cups  \\\n",
      "count  74.000000   74.000000   74.000000  74.000000  74.000000  74.000000   \n",
      "mean    6.770270   92.675676   28.378378   2.175676   1.027432   0.818243   \n",
      "std     4.467684   70.578065   22.787104   0.833512   0.151260   0.234914   \n",
      "min    -1.000000   -1.000000    0.000000   1.000000   0.500000   0.250000   \n",
      "25%     3.000000   40.000000   25.000000   1.000000   1.000000   0.670000   \n",
      "50%     6.000000   90.000000   25.000000   2.000000   1.000000   0.750000   \n",
      "75%    10.750000  113.750000   25.000000   3.000000   1.000000   1.000000   \n",
      "max    15.000000  330.000000  100.000000   3.000000   1.500000   1.500000   \n",
      "\n",
      "          rating           c     combine      calpro  \n",
      "count  74.000000   74.000000   74.000000   74.000000  \n",
      "mean   42.879265  108.040541  108.040541  262.432432  \n",
      "std    14.280511   18.396277   18.396277  121.810664  \n",
      "min    18.042851   51.000000   51.000000   50.000000  \n",
      "25%    32.449210  103.000000  103.000000  200.000000  \n",
      "50%    40.424490  111.000000  111.000000  220.000000  \n",
      "75%    51.401243  113.000000  113.000000  330.000000  \n",
      "max    93.704912  163.000000  163.000000  660.000000  \n"
     ]
    }
   ],
   "source": [
    "print(df.describe())\n"
   ]
  },
  {
   "cell_type": "code",
   "execution_count": 45,
   "metadata": {},
   "outputs": [
    {
     "name": "stdout",
     "output_type": "stream",
     "text": [
      "\n",
      "\n",
      "protein 0     4\n",
      "1     3\n",
      "2     4\n",
      "3     4\n",
      "4     2\n",
      "5     2\n",
      "6     2\n",
      "7     3\n",
      "8     2\n",
      "9     3\n",
      "10    1\n",
      "11    6\n",
      "12    1\n",
      "13    3\n",
      "14    1\n",
      "15    2\n",
      "16    2\n",
      "17    1\n",
      "18    1\n",
      "19    3\n",
      "20    3\n",
      "21    2\n",
      "22    2\n",
      "23    2\n",
      "24    2\n",
      "25    1\n",
      "26    3\n",
      "27    3\n",
      "28    1\n",
      "29    2\n",
      "     ..\n",
      "44    2\n",
      "45    2\n",
      "46    3\n",
      "47    3\n",
      "48    3\n",
      "49    3\n",
      "50    3\n",
      "51    1\n",
      "52    2\n",
      "53    4\n",
      "54    5\n",
      "55    3\n",
      "56    3\n",
      "57    2\n",
      "58    1\n",
      "59    2\n",
      "60    2\n",
      "61    3\n",
      "62    3\n",
      "63    2\n",
      "64    6\n",
      "65    2\n",
      "66    2\n",
      "67    3\n",
      "68    3\n",
      "69    2\n",
      "70    1\n",
      "71    3\n",
      "72    3\n",
      "73    2\n",
      "Name: protein, Length: 74, dtype: int64\n"
     ]
    }
   ],
   "source": [
    "#print(df.count())\n",
    "#print(df.isnull().sum())\n",
    "for key,value in newdf.iteritems():\n",
    "    #print(\"\\n\")\n",
    "    if key == \"protein\":\n",
    "        print(\"\\n\")\n",
    "        print(key,value)"
   ]
  },
  {
   "cell_type": "code",
   "execution_count": 46,
   "metadata": {},
   "outputs": [
    {
     "name": "stdout",
     "output_type": "stream",
     "text": [
      "Pandas(Index=0, protein=4, calories=70)\n",
      "Pandas(Index=1, protein=3, calories=120)\n",
      "Pandas(Index=2, protein=4, calories=70)\n",
      "Pandas(Index=3, protein=4, calories=50)\n",
      "Pandas(Index=4, protein=2, calories=110)\n",
      "Pandas(Index=5, protein=2, calories=110)\n",
      "Pandas(Index=6, protein=2, calories=110)\n",
      "Pandas(Index=7, protein=3, calories=130)\n",
      "Pandas(Index=8, protein=2, calories=90)\n",
      "Pandas(Index=9, protein=3, calories=90)\n",
      "Pandas(Index=10, protein=1, calories=120)\n",
      "Pandas(Index=11, protein=6, calories=110)\n",
      "Pandas(Index=12, protein=1, calories=120)\n",
      "Pandas(Index=13, protein=3, calories=110)\n",
      "Pandas(Index=14, protein=1, calories=110)\n",
      "Pandas(Index=15, protein=2, calories=110)\n",
      "Pandas(Index=16, protein=2, calories=100)\n",
      "Pandas(Index=17, protein=1, calories=110)\n",
      "Pandas(Index=18, protein=1, calories=110)\n",
      "Pandas(Index=19, protein=3, calories=110)\n",
      "Pandas(Index=20, protein=3, calories=100)\n",
      "Pandas(Index=21, protein=2, calories=110)\n",
      "Pandas(Index=22, protein=2, calories=100)\n",
      "Pandas(Index=23, protein=2, calories=100)\n",
      "Pandas(Index=24, protein=2, calories=110)\n",
      "Pandas(Index=25, protein=1, calories=110)\n",
      "Pandas(Index=26, protein=3, calories=100)\n",
      "Pandas(Index=27, protein=3, calories=120)\n",
      "Pandas(Index=28, protein=1, calories=110)\n",
      "Pandas(Index=29, protein=2, calories=100)\n",
      "Pandas(Index=30, protein=1, calories=110)\n",
      "Pandas(Index=31, protein=3, calories=100)\n",
      "Pandas(Index=32, protein=3, calories=110)\n",
      "Pandas(Index=33, protein=3, calories=120)\n",
      "Pandas(Index=34, protein=1, calories=120)\n",
      "Pandas(Index=35, protein=3, calories=110)\n",
      "Pandas(Index=36, protein=1, calories=110)\n",
      "Pandas(Index=37, protein=2, calories=110)\n",
      "Pandas(Index=38, protein=3, calories=140)\n",
      "Pandas(Index=39, protein=2, calories=110)\n",
      "Pandas(Index=40, protein=4, calories=100)\n",
      "Pandas(Index=41, protein=2, calories=110)\n",
      "Pandas(Index=42, protein=4, calories=100)\n",
      "Pandas(Index=43, protein=3, calories=160)\n",
      "Pandas(Index=44, protein=2, calories=100)\n",
      "Pandas(Index=45, protein=2, calories=120)\n",
      "Pandas(Index=46, protein=3, calories=140)\n",
      "Pandas(Index=47, protein=3, calories=90)\n",
      "Pandas(Index=48, protein=3, calories=130)\n",
      "Pandas(Index=49, protein=3, calories=120)\n",
      "Pandas(Index=50, protein=3, calories=100)\n",
      "Pandas(Index=51, protein=1, calories=50)\n",
      "Pandas(Index=52, protein=2, calories=50)\n",
      "Pandas(Index=53, protein=4, calories=100)\n",
      "Pandas(Index=54, protein=5, calories=100)\n",
      "Pandas(Index=55, protein=3, calories=120)\n",
      "Pandas(Index=56, protein=3, calories=100)\n",
      "Pandas(Index=57, protein=2, calories=90)\n",
      "Pandas(Index=58, protein=1, calories=110)\n",
      "Pandas(Index=59, protein=2, calories=110)\n",
      "Pandas(Index=60, protein=2, calories=80)\n",
      "Pandas(Index=61, protein=3, calories=90)\n",
      "Pandas(Index=62, protein=3, calories=90)\n",
      "Pandas(Index=63, protein=2, calories=110)\n",
      "Pandas(Index=64, protein=6, calories=110)\n",
      "Pandas(Index=65, protein=2, calories=90)\n",
      "Pandas(Index=66, protein=2, calories=110)\n",
      "Pandas(Index=67, protein=3, calories=140)\n",
      "Pandas(Index=68, protein=3, calories=100)\n",
      "Pandas(Index=69, protein=2, calories=110)\n",
      "Pandas(Index=70, protein=1, calories=110)\n",
      "Pandas(Index=71, protein=3, calories=100)\n",
      "Pandas(Index=72, protein=3, calories=100)\n",
      "Pandas(Index=73, protein=2, calories=110)\n"
     ]
    }
   ],
   "source": [
    "for row in newdf.itertuples():\n",
    "    print(row)"
   ]
  },
  {
   "cell_type": "code",
   "execution_count": 53,
   "metadata": {},
   "outputs": [
    {
     "name": "stdout",
     "output_type": "stream",
     "text": [
      "73 protein       2\n",
      "calories    110\n",
      "Name: 73, dtype: int64\n"
     ]
    }
   ],
   "source": [
    "for row_index,row in newdf.iterrows():\n",
    "    if(row_index == 73):\n",
    "        print(row_index,row)\n",
    "        #print(\"Hi\")\n",
    "        \n",
    "#print(\"Hi\")       "
   ]
  },
  {
   "cell_type": "markdown",
   "metadata": {},
   "source": [
    "<h1> Please check record 73 </h1>"
   ]
  },
  {
   "cell_type": "code",
   "execution_count": 59,
   "metadata": {},
   "outputs": [
    {
     "name": "stdout",
     "output_type": "stream",
     "text": [
      "   protein  calories  newcolumn\n",
      "0        4        70   0.057143\n",
      "1        3       120   0.025000\n",
      "2        4        70   0.057143\n",
      "3        4        50   0.080000\n",
      "4        2       110   0.018182\n",
      "   protein  calories  newcolumn   newclmn\n",
      "0        4        70   0.057143  0.057143\n",
      "1        3       120   0.025000  0.025000\n",
      "2        4        70   0.057143  0.057143\n",
      "3        4        50   0.080000  0.080000\n",
      "4        2       110   0.018182  0.018182\n"
     ]
    }
   ],
   "source": [
    "dfnew = df[['protein', 'calories']] \n",
    "dfnew = dfnew.copy()\n",
    "dfnew[\"newcolumn\"] = dfnew[\"protein\"]/dfnew[\"calories\"]\n",
    "print(dfnew.head())\n",
    "\n",
    "\n",
    "\n",
    "# ALternate - Assign\n",
    "df3 = dfnew.assign(newclmn= df[\"protein\"]/df[\"calories\"])\n",
    "print(df3.head())"
   ]
  },
  {
   "cell_type": "code",
   "execution_count": null,
   "metadata": {},
   "outputs": [],
   "source": []
  }
 ],
 "metadata": {
  "kernelspec": {
   "display_name": "Python 3",
   "language": "python",
   "name": "python3"
  },
  "language_info": {
   "codemirror_mode": {
    "name": "ipython",
    "version": 3
   },
   "file_extension": ".py",
   "mimetype": "text/x-python",
   "name": "python",
   "nbconvert_exporter": "python",
   "pygments_lexer": "ipython3",
   "version": "3.6.5"
  }
 },
 "nbformat": 4,
 "nbformat_minor": 2
}
