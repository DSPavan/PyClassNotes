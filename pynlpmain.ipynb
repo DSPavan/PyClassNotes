{
 "cells": [
  {
   "cell_type": "code",
   "execution_count": 1,
   "metadata": {},
   "outputs": [],
   "source": [
    "import nltk\n"
   ]
  },
  {
   "cell_type": "code",
   "execution_count": 32,
   "metadata": {},
   "outputs": [
    {
     "name": "stdout",
     "output_type": "stream",
     "text": [
      "[\" on Women’s Day this year year year,  womens's messages clogged my inbox.\", 'They offered tempting discounts in salons, on shoes, clothes and cosmetics, and even complimentary cocktails.', 'Despite women organising seminars on finance, sexual harassment and health problems across the country, tokenistic marketing threatened to reduce the day to hashtags and discounts.']\n"
     ]
    }
   ],
   "source": [
    "from nltk.tokenize import sent_tokenize, word_tokenize\n",
    "\n",
    "EXAMPLE_TEXT = \" on Women’s Day this year year year,  womens's messages clogged my inbox. They offered tempting discounts in salons, on shoes, clothes and cosmetics, and even complimentary cocktails. Despite women organising seminars on finance, sexual harassment and health problems across the country, tokenistic marketing threatened to reduce the day to hashtags and discounts.\"\n",
    "\n",
    "print(sent_tokenize(EXAMPLE_TEXT))\n"
   ]
  },
  {
   "cell_type": "code",
   "execution_count": 7,
   "metadata": {},
   "outputs": [
    {
     "name": "stdout",
     "output_type": "stream",
     "text": [
      "['on', 'Women', '’', 's', 'Day', 'this', 'year', ',', 'messages', 'clogged', 'my', 'inbox', '.', 'They', 'offered', 'tempting', 'discounts', 'in', 'salons', ',', 'on', 'shoes', ',', 'clothes', 'and', 'cosmetics', ',', 'and', 'even', 'complimentary', 'cocktails', '.', 'Despite', 'women', 'organising', 'seminars', 'on', 'finance', ',', 'sexual', 'harassment', 'and', 'health', 'problems', 'across', 'the', 'country', ',', 'tokenistic', 'marketing', 'threatened', 'to', 'reduce', 'the', 'day', 'to', 'hashtags', 'and', 'discounts', '.']\n"
     ]
    }
   ],
   "source": [
    "print(word_tokenize(EXAMPLE_TEXT))"
   ]
  },
  {
   "cell_type": "code",
   "execution_count": 33,
   "metadata": {},
   "outputs": [
    {
     "name": "stdout",
     "output_type": "stream",
     "text": [
      "{'himself', 'only', 'than', 'yourselves', 'aren', 'his', 'about', 'up', 'our', 'they', 'from', 'and', 'weren', 'while', 'mightn', 'my', 'y', 'can', \"mightn't\", 'does', 'been', 'each', 'should', 'yourself', 'herself', 'their', 'ma', 'into', 'wouldn', 'both', 'whom', 'now', 'above', \"mustn't\", 'hers', \"haven't\", 'shouldn', \"won't\", 'are', 'hadn', 'where', 'again', 'm', \"should've\", 'couldn', 'once', 'for', 'not', 'me', \"doesn't\", 'then', 'nor', 'doesn', 'ourselves', 'them', 'an', 'didn', 'hasn', 'those', \"aren't\", 'as', 'the', 'who', 't', 'you', \"don't\", 'just', 'that', 'did', 'below', 'too', 'its', 'itself', 'out', \"isn't\", 'with', 'through', 'under', 'no', \"that'll\", 'all', 'isn', 're', 'mustn', 'to', \"shan't\", 'before', 'or', 'very', 'your', 'haven', 'such', 'were', 'but', 'at', 'more', \"she's\", 'a', 'having', 'themselves', 'own', 'why', 'in', 'has', 'between', 'do', 'which', 'is', 's', 'these', 'further', 'he', 'because', 'd', \"needn't\", 'i', 'theirs', 'until', 'this', \"shouldn't\", 'wasn', \"wasn't\", \"didn't\", 'we', 'few', 'when', 'had', 'there', 've', \"couldn't\", 'of', 'll', 'what', 'same', 'myself', 'after', 'her', 'being', 'over', 'him', 'if', 'how', \"it's\", \"you'll\", 'on', 'any', 'be', 'ain', \"weren't\", 'by', 'other', \"you've\", \"hasn't\", \"wouldn't\", 'off', 'ours', 'some', 'needn', \"you'd\", 'down', 'most', 'she', 'during', 'have', 'so', 'will', \"hadn't\", 'doing', 'against', 'am', 'don', 'o', 'it', 'yours', 'was', \"you're\", 'shan', 'won', 'here'}\n"
     ]
    }
   ],
   "source": [
    "from nltk.corpus import stopwords\n",
    "example_sent = EXAMPLE_TEXT\n",
    "\n",
    "stop_words = set(stopwords.words('english'))\n",
    "print(stop_words)\n",
    "\n"
   ]
  },
  {
   "cell_type": "code",
   "execution_count": 34,
   "metadata": {},
   "outputs": [
    {
     "name": "stdout",
     "output_type": "stream",
     "text": [
      "['Women', '’', 'Day', 'year', 'year', 'year', ',', 'womens', \"'s\", 'messages', 'clogged', 'inbox', '.', 'They', 'offered', 'tempting', 'discounts', 'salons', ',', 'shoes', ',', 'clothes', 'cosmetics', ',', 'even', 'complimentary', 'cocktails', '.', 'Despite', 'women', 'organising', 'seminars', 'finance', ',', 'sexual', 'harassment', 'health', 'problems', 'across', 'country', ',', 'tokenistic', 'marketing', 'threatened', 'reduce', 'day', 'hashtags', 'discounts', '.']\n"
     ]
    }
   ],
   "source": [
    "word_tokens = word_tokenize(example_sent)\n",
    "\n",
    "#filtered_sentence = [w for w in word_tokens if not w in stop_words]\n",
    "\n",
    "filtered_sentence = []\n",
    "\n",
    "for w in word_tokens:\n",
    "    if w not in stop_words:\n",
    "        filtered_sentence.append(w)\n",
    "\n",
    "#print(word_tokens)\n",
    "print(filtered_sentence)"
   ]
  },
  {
   "cell_type": "code",
   "execution_count": 35,
   "metadata": {},
   "outputs": [
    {
     "name": "stdout",
     "output_type": "stream",
     "text": [
      "['i', 'me', 'my', 'myself', 'we', 'our', 'ours', 'ourselves', 'you', \"you're\", \"you've\", \"you'll\", \"you'd\", 'your', 'yours', 'yourself', 'yourselves', 'he', 'him', 'his', 'himself', 'she', \"she's\", 'her', 'hers', 'herself', 'it', \"it's\", 'its', 'itself', 'they', 'them', 'their', 'theirs', 'themselves', 'what', 'which', 'who', 'whom', 'this', 'that', \"that'll\", 'these', 'those', 'am', 'is', 'are', 'was', 'were', 'be', 'been', 'being', 'have', 'has', 'had', 'having', 'do', 'does', 'did', 'doing', 'a', 'an', 'the', 'and', 'but', 'if', 'or', 'because', 'as', 'until', 'while', 'of', 'at', 'by', 'for', 'with', 'about', 'against', 'between', 'into', 'through', 'during', 'before', 'after', 'above', 'below', 'to', 'from', 'up', 'down', 'in', 'out', 'on', 'off', 'over', 'under', 'again', 'further', 'then', 'once', 'here', 'there', 'when', 'where', 'why', 'how', 'all', 'any', 'both', 'each', 'few', 'more', 'most', 'other', 'some', 'such', 'no', 'nor', 'not', 'only', 'own', 'same', 'so', 'than', 'too', 'very', 's', 't', 'can', 'will', 'just', 'don', \"don't\", 'should', \"should've\", 'now', 'd', 'll', 'm', 'o', 're', 've', 'y', 'ain', 'aren', \"aren't\", 'couldn', \"couldn't\", 'didn', \"didn't\", 'doesn', \"doesn't\", 'hadn', \"hadn't\", 'hasn', \"hasn't\", 'haven', \"haven't\", 'isn', \"isn't\", 'ma', 'mightn', \"mightn't\", 'mustn', \"mustn't\", 'needn', \"needn't\", 'shan', \"shan't\", 'shouldn', \"shouldn't\", 'wasn', \"wasn't\", 'weren', \"weren't\", 'won', \"won't\", 'wouldn', \"wouldn't\", ',', '.', '?', 'inbox', 'even', 'They']\n"
     ]
    }
   ],
   "source": [
    "from nltk.text import Text\n",
    "\n",
    "stop_words = nltk.corpus.stopwords.words('english')\n",
    "newStopWords = [',', '.', \"?\",\"inbox\",\"even\",\"They\"]\n",
    "stop_words.extend(newStopWords)\n",
    "print(stop_words)\n"
   ]
  },
  {
   "cell_type": "code",
   "execution_count": 39,
   "metadata": {},
   "outputs": [
    {
     "name": "stdout",
     "output_type": "stream",
     "text": [
      "['Women', '’', 'Day', 'year', 'year', 'year', 'womens', \"'s\", 'messages', 'clogged', 'offered', 'tempting', 'discounts', 'salons', 'shoes', 'clothes', 'cosmetics', 'complimentary', 'cocktails', 'Despite', 'women', 'organising', 'seminars', 'finance', 'sexual', 'harassment', 'health', 'problems', 'across', 'country', 'tokenistic', 'marketing', 'threatened', 'reduce', 'day', 'hashtags', 'discounts']\n"
     ]
    }
   ],
   "source": [
    "filtered_sentence2 = []\n",
    "\n",
    "for w in word_tokens:\n",
    "    if w not in stop_words:\n",
    "        filtered_sentence2.append(w)\n",
    "\n",
    "#print(word_tokens)\n",
    "print(filtered_sentence2)"
   ]
  },
  {
   "cell_type": "code",
   "execution_count": 40,
   "metadata": {},
   "outputs": [
    {
     "name": "stdout",
     "output_type": "stream",
     "text": [
      "women\n",
      "’\n",
      "day\n",
      "year\n",
      "year\n",
      "year\n",
      "women\n",
      "'s\n",
      "messag\n",
      "clog\n",
      "offer\n",
      "tempt\n",
      "discount\n",
      "salon\n",
      "shoe\n",
      "cloth\n",
      "cosmet\n",
      "complimentari\n",
      "cocktail\n",
      "despit\n",
      "women\n",
      "organis\n",
      "seminar\n",
      "financ\n",
      "sexual\n",
      "harass\n",
      "health\n",
      "problem\n",
      "across\n",
      "countri\n",
      "tokenist\n",
      "market\n",
      "threaten\n",
      "reduc\n",
      "day\n",
      "hashtag\n",
      "discount\n"
     ]
    }
   ],
   "source": [
    "from nltk.stem import PorterStemmer\n",
    "ps = PorterStemmer()\n",
    "example_words = [\"python\",\"pythoner\",\"pythoning\",\"pythoned\",\"pythonly\"]\n",
    "for w in filtered_sentence2:\n",
    "    print(ps.stem(w))"
   ]
  },
  {
   "cell_type": "code",
   "execution_count": 41,
   "metadata": {},
   "outputs": [
    {
     "name": "stdout",
     "output_type": "stream",
     "text": [
      "Women\n",
      "’\n",
      "Day\n",
      "year\n",
      "year\n",
      "year\n",
      "woman\n",
      "'s\n",
      "message\n",
      "clogged\n",
      "offered\n",
      "tempting\n",
      "discount\n",
      "salon\n",
      "shoe\n",
      "clothes\n",
      "cosmetic\n",
      "complimentary\n",
      "cocktail\n",
      "Despite\n",
      "woman\n",
      "organising\n",
      "seminar\n",
      "finance\n",
      "sexual\n",
      "harassment\n",
      "health\n",
      "problem\n",
      "across\n",
      "country\n",
      "tokenistic\n",
      "marketing\n",
      "threatened\n",
      "reduce\n",
      "day\n",
      "hashtags\n",
      "discount\n"
     ]
    }
   ],
   "source": [
    "from nltk.stem import WordNetLemmatizer\n",
    "lemmatizer = WordNetLemmatizer()\n",
    "\n",
    "\n",
    "for word in filtered_sentence2:\n",
    "    print(lemmatizer.lemmatize(word))"
   ]
  },
  {
   "cell_type": "code",
   "execution_count": 42,
   "metadata": {},
   "outputs": [
    {
     "data": {
      "text/plain": [
       "FreqDist({'year': 3, 'discounts': 2, 'Women': 1, '’': 1, 'Day': 1, 'womens': 1, \"'s\": 1, 'messages': 1, 'clogged': 1, 'offered': 1, ...})"
      ]
     },
     "execution_count": 42,
     "metadata": {},
     "output_type": "execute_result"
    }
   ],
   "source": [
    "fdist = nltk.FreqDist(filtered_sentence2)\n",
    "fdist"
   ]
  },
  {
   "cell_type": "code",
   "execution_count": 29,
   "metadata": {},
   "outputs": [],
   "source": [
    "\n",
    "import matplotlib.pyplot as plt"
   ]
  },
  {
   "cell_type": "code",
   "execution_count": 48,
   "metadata": {},
   "outputs": [],
   "source": [
    "import nltk\n",
    "import matplotlib.pyplot as plt\n",
    "from wordcloud import WordCloud\n",
    "\n",
    "text = \"On the International Women’s Day 2019 website, the partners included McDonald’s, Amazon and Oracle. McDonald’s is facing flak in the U.S. for failing to pay its largely female workforce the minimum wage, Amazon is reported to have a huge gender diversity problem, and Oracle is facing a civil rights suit that alleges female employees were paid on average $13,000 less per year than men doing similar work. All three were apparently in support of the 2019 campaign theme, ‘Better the balance, better the world’. The irony of all this is particularly rich given that International Women’s Day has its origins in socialism. German socialist and feminist Clara Zetkin, who organised the first International Women’s Day, was a socialist first and a feminist next. In the magazine Die Gleichheit (Equality), Zetkin wrote in 1894: “Bourgeois feminism and the movement of proletarian women are two fundamentally different social movements.” Zetkin held that “bourgeois feminists” were not concerned with the conditions of working class women who were fighting not only against men who sought to suppress them, but also with men against a common oppressor, capitalism. She believed that as white, upper class feminists would only fight to better their own conditions, socialism was the only way to serve the needs of working class women.\"\n",
    "\n",
    "wordcloud = WordCloud().generate(EXAMPLE_TEXT)\n",
    "\n",
    "def plot_wordcloud(wordcloud):\n",
    "    plt.imshow(wordcloud)\n",
    "    plt.axis(\"off\")\n",
    "    plt.show()\n",
    "\n",
    "#wordcloud = WordCloud(stopwords={'to', 'of'}).generate(text)\n",
    "#plot_wordcloud(wordcloud)"
   ]
  },
  {
   "cell_type": "code",
   "execution_count": 49,
   "metadata": {},
   "outputs": [
    {
     "data": {
      "image/png": "[encoded data removed]",
      "text/plain": [
       "<Figure size 432x288 with 1 Axes>"
      ]
     },
     "metadata": {
      "needs_background": "light"
     },
     "output_type": "display_data"
    }
   ],
   "source": [
    "plot_wordcloud(wordcloud)"
   ]
  },
  {
   "cell_type": "code",
   "execution_count": null,
   "metadata": {},
   "outputs": [],
   "source": []
  }
 ],
 "metadata": {
  "kernelspec": {
   "display_name": "Python 3",
   "language": "python",
   "name": "python3"
  },
  "language_info": {
   "codemirror_mode": {
    "name": "ipython",
    "version": 3
   },
   "file_extension": ".py",
   "mimetype": "text/x-python",
   "name": "python",
   "nbconvert_exporter": "python",
   "pygments_lexer": "ipython3",
   "version": "3.6.5"
  }
 },
 "nbformat": 4,
 "nbformat_minor": 2
}
