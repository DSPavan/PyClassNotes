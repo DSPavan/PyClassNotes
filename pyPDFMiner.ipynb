{
 "cells": [
  {
   "cell_type": "code",
   "execution_count": null,
   "metadata": {},
   "outputs": [],
   "source": [
    "# https://www.blog.pythonlibrary.org/2018/05/03/exporting-data-from-pdfs-with-python/ = Pleaser read"
   ]
  },
  {
   "cell_type": "code",
   "execution_count": 1,
   "metadata": {},
   "outputs": [],
   "source": [
    "#pip install pdfminer.six  -- anaconda prompt"
   ]
  },
  {
   "cell_type": "code",
   "execution_count": 5,
   "metadata": {},
   "outputs": [
    {
     "name": "stdout",
     "output_type": "stream",
     "text": [
      "Analyzed What Precautions to take to avoid Issues Like sub-prime theory and NonNPA in India, steps take to control the ﬁnancial Crisis and how to overcome fromcurrent scenario .EDUCATIONDegree/CourseInstitute/CollegeUniversity/BoardPercentage/CGPAYear of PassingB TechKits(S)JNTUH62.5%2012\f",
      "Post GraduationDiploma InManagementBadruka InstituteOf ManagementStudiesAll IndiaManagementAssociation3.22 CGPA2014ACHIEVEMENTWitricityparticipated in a paper presentation conducted by vagdevi collegeand got ﬁrst pricePERSONAL DETAILSAddressFlat No 801 C Block, Raheja Vistas NacharamDate of Birth08/10/1990GenderFemaleNationalityIndiaMarital StatusMarriedLanguage KnowEnglish, Telugu, HindiDECLARATIONI do here by conﬁrm that the information given is true to the best of my knowledge and belief.       Rohini Kashojjala\f",
      "\n"
     ]
    }
   ],
   "source": [
    "import io\n",
    " \n",
    "from pdfminer.converter import TextConverter\n",
    "from pdfminer.pdfinterp import PDFPageInterpreter\n",
    "from pdfminer.pdfinterp import PDFResourceManager\n",
    "from pdfminer.pdfpage import PDFPage\n",
    " \n",
    "def extract_text_from_pdf(pdf_path):\n",
    "    resource_manager = PDFResourceManager()\n",
    "    fake_file_handle = io.StringIO()\n",
    "    converter = TextConverter(resource_manager, fake_file_handle)\n",
    "    page_interpreter = PDFPageInterpreter(resource_manager, converter)\n",
    " \n",
    "    with open(pdf_path, 'rb') as fh:\n",
    "        for page in PDFPage.get_pages(fh, \n",
    "                                      caching=True,\n",
    "                                      check_extractable=True):\n",
    "            page_interpreter.process_page(page)\n",
    " \n",
    "        text = fake_file_handle.getvalue()\n",
    " \n",
    "    # close open handles\n",
    "    converter.close()\n",
    "    fake_file_handle.close()\n",
    " \n",
    "    if text:\n",
    "        return text\n",
    " \n",
    "if __name__ == '__main__':\n",
    "    print(extract_text_from_pdf('C:\\\\Users\\\\HP\\\\Downloads\\\\Data_Scientist_Resume_Format1.pdf'))"
   ]
  },
  {
   "cell_type": "code",
   "execution_count": null,
   "metadata": {},
   "outputs": [],
   "source": []
  }
 ],
 "metadata": {
  "kernelspec": {
   "display_name": "Python 3",
   "language": "python",
   "name": "python3"
  },
  "language_info": {
   "codemirror_mode": {
    "name": "ipython",
    "version": 3
   },
   "file_extension": ".py",
   "mimetype": "text/x-python",
   "name": "python",
   "nbconvert_exporter": "python",
   "pygments_lexer": "ipython3",
   "version": "3.6.5"
  }
 },
 "nbformat": 4,
 "nbformat_minor": 2
}
