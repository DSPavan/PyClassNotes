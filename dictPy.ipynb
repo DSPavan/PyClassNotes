{
 "cells": [
  {
   "cell_type": "code",
   "execution_count": 3,
   "metadata": {},
   "outputs": [
    {
     "name": "stdout",
     "output_type": "stream",
     "text": [
      "{1: 'Python', 2: 'R script', 3: 'SAS', 4: 'Java'}\n",
      "{1: 'Python', 2: 'R script', 3: 'SAS', 4: 'Java'}\n"
     ]
    }
   ],
   "source": [
    "# empty dictionary\n",
    "my_dict = {}\n",
    "\n",
    "# dictionary with integer keys\n",
    "my_dict = {1: 'Python', 2: 'R script', 3:'SAS',4:'Java'}\n",
    "print(my_dict)\n",
    "\n",
    "\n",
    "# using dict()\n",
    "my_dict = dict({1:'Python', 2:'R script', 3:'SAS',4:'Java'}) \n",
    "print(my_dict)"
   ]
  },
  {
   "cell_type": "code",
   "execution_count": 79,
   "metadata": {},
   "outputs": [
    {
     "name": "stdout",
     "output_type": "stream",
     "text": [
      "{11: 'Python', 26: 'R script', 13: 'SAS', 44: 'java'}\n"
     ]
    }
   ],
   "source": [
    "# another way of creating DICT\n",
    "# from sequence having each item as a pair\n",
    "my_dict = dict([(11,'Python'), (26,'R script'), (13,'SAS') ,(44,'java')]) \n",
    "print(my_dict) \n",
    "\n",
    "\n",
    "\n",
    "\n"
   ]
  },
  {
   "cell_type": "markdown",
   "metadata": {},
   "source": [
    "'''\n",
    "Note:\n",
    "    No duplicate key is allowed. \n",
    "    When duplicate keys encountered during \n",
    "    assignment, the last assignment wins.\n",
    "'''"
   ]
  },
  {
   "cell_type": "code",
   "execution_count": 16,
   "metadata": {},
   "outputs": [
    {
     "name": "stdout",
     "output_type": "stream",
     "text": [
      "4\n"
     ]
    }
   ],
   "source": [
    "print(len(my_dict ))"
   ]
  },
  {
   "cell_type": "code",
   "execution_count": 17,
   "metadata": {},
   "outputs": [
    {
     "name": "stdout",
     "output_type": "stream",
     "text": [
      "[11, 13, 26, 44]\n"
     ]
    }
   ],
   "source": [
    "print(sorted(my_dict ))  # By KEYS"
   ]
  },
  {
   "cell_type": "code",
   "execution_count": 18,
   "metadata": {},
   "outputs": [
    {
     "name": "stdout",
     "output_type": "stream",
     "text": [
      "{11: None, 26: None, 13: None, 44: None}\n"
     ]
    }
   ],
   "source": [
    "dictOut = dict.fromkeys(my_dict)\n",
    "print(dictOut) # "
   ]
  },
  {
   "cell_type": "code",
   "execution_count": 19,
   "metadata": {},
   "outputs": [],
   "source": [
    "Dict1 = list(my_dict.keys())\n",
    "#print(\"sort not working\", Dict1.sort())"
   ]
  },
  {
   "cell_type": "code",
   "execution_count": 80,
   "metadata": {},
   "outputs": [
    {
     "name": "stdout",
     "output_type": "stream",
     "text": [
      "[(11, 'Python'), (13, 'SAS'), (26, 'R script'), (44, 'java')]\n",
      "[(11, 'Python'), (26, 'R script'), (13, 'SAS'), (44, 'java')]\n",
      "\n",
      "Correct sort Order in Values\n",
      "\n",
      "[(44, 'Java'), (11, 'Python'), (26, 'R Script'), (13, 'Sas')]\n"
     ]
    }
   ],
   "source": [
    "import operator\n",
    "# To sort dict based on KEYS\n",
    "sorted_x = sorted(my_dict.items(), key= operator.itemgetter(0))\n",
    "print(sorted_x)\n",
    "\n",
    "# To sort dict based on values\n",
    "sorted_y = sorted(my_dict.items(), key=operator.itemgetter(1))\n",
    "print(sorted_y) \n",
    "## this sorting _ Descending is Incorrect, specially case senistive Eg: Java and java - TRY\n",
    "\n",
    "\n",
    "# compliecated, I will explain in Other sections in Python\n",
    "#my_dict = dict((k, v.lower()) for k,v in my_dict.items())\n",
    "my_dict = dict((k, v.title()) for k,v in my_dict.items())\n",
    "#print(my_dict)\n",
    "# To sort dict based on values\n",
    "print(\"\\nCorrect sort Order in Values\\n\")\n",
    "sorted_y = sorted(my_dict.items(), key=operator.itemgetter(1))\n",
    "print(sorted_y) "
   ]
  },
  {
   "cell_type": "code",
   "execution_count": 81,
   "metadata": {},
   "outputs": [
    {
     "name": "stdout",
     "output_type": "stream",
     "text": [
      "dict_keys([11, 26, 13, 44])\n",
      "dict_values(['Python', 'R Script', 'Sas', 'Java'])\n"
     ]
    }
   ],
   "source": [
    "print(my_dict.keys())   # Prints all the keys\n",
    "print(my_dict.values()) # Prints all the values"
   ]
  },
  {
   "cell_type": "code",
   "execution_count": 100,
   "metadata": {},
   "outputs": [
    {
     "name": "stdout",
     "output_type": "stream",
     "text": [
      "Python\n",
      "Python\n"
     ]
    }
   ],
   "source": [
    "# access Dictonary Key - value\n",
    "# Giving KEY and getting Value\n",
    "Y = my_dict[11]\n",
    "print(Y)\n",
    "# my_dict[\"name\"] # if key is in Names/text/string. In our case it is number\n",
    "\n",
    "X = my_dict.get(11)\n",
    "print(X)\n"
   ]
  },
  {
   "cell_type": "code",
   "execution_count": 101,
   "metadata": {},
   "outputs": [
    {
     "name": "stdout",
     "output_type": "stream",
     "text": [
      "[44]\n"
     ]
    }
   ],
   "source": [
    "# List Comprehension Get KEY from VALUE\n",
    "KeyID = [key for key, value in my_dict.items() if value == \"Java\"]\n",
    "print(KeyID)"
   ]
  },
  {
   "cell_type": "code",
   "execution_count": null,
   "metadata": {},
   "outputs": [],
   "source": []
  }
 ],
 "metadata": {
  "kernelspec": {
   "display_name": "Python 3",
   "language": "python",
   "name": "python3"
  },
  "language_info": {
   "codemirror_mode": {
    "name": "ipython",
    "version": 3
   },
   "file_extension": ".py",
   "mimetype": "text/x-python",
   "name": "python",
   "nbconvert_exporter": "python",
   "pygments_lexer": "ipython3",
   "version": "3.6.5"
  }
 },
 "nbformat": 4,
 "nbformat_minor": 2
}
