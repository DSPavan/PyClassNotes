{
 "cells": [
  {
   "cell_type": "code",
   "execution_count": 1,
   "metadata": {},
   "outputs": [],
   "source": [
    "# fitz\n",
    "# Traits problem -\n",
    "# frontend problem\n",
    "# pip instal PyMuPDF\n",
    "\n",
    "# RuntimeError: pixmap must be grayscale or rgb to write as png"
   ]
  },
  {
   "cell_type": "code",
   "execution_count": 3,
   "metadata": {},
   "outputs": [
    {
     "name": "stdout",
     "output_type": "stream",
     "text": [
      "[4, 0, 1050, 1283, 8, 'DeviceRGB', '', 'Image0', '']\n",
      "[9, 0, 1050, 1283, 8, 'DeviceRGB', '', 'Image0', '']\n",
      "[22, 0, 543, 723, 8, 'DeviceRGB', '', 'Image0', '']\n",
      "[28, 0, 400, 400, 8, 'DeviceRGB', '', 'Image0', '']\n",
      "[31, 0, 600, 374, 8, 'DeviceRGB', '', 'Image0', '']\n",
      "[34, 0, 600, 563, 8, 'DeviceRGB', '', 'Image0', '']\n",
      "[39, 0, 600, 800, 8, 'DeviceRGB', '', 'Image0', '']\n",
      "[47, 0, 535, 535, 8, 'DeviceRGB', '', 'Image0', '']\n",
      "[50, 0, 360, 504, 8, 'DeviceRGB', '', 'Image0', '']\n",
      "[53, 0, 575, 575, 8, 'DeviceRGB', '', 'Image0', '']\n",
      "[56, 0, 500, 800, 8, 'DeviceRGB', '', 'Image0', '']\n",
      "[59, 0, 600, 306, 8, 'DeviceRGB', '', 'Image0', '']\n",
      "[60, 0, 600, 265, 8, 'DeviceRGB', '', 'Image1', '']\n",
      "[63, 0, 600, 337, 8, 'DeviceRGB', '', 'Image0', '']\n",
      "[68, 0, 378, 590, 8, 'DeviceRGB', '', 'Image0', '']\n",
      "[73, 0, 540, 720, 8, 'DeviceRGB', '', 'Image0', '']\n",
      "[78, 0, 600, 374, 8, 'DeviceRGB', '', 'Image0', '']\n"
     ]
    }
   ],
   "source": [
    "import fitz\n",
    "\n",
    "doc = fitz.open(\"C:\\\\Users\\\\HP\\\\Downloads\\\\eftos-ent-kingdom-of-a-thousand.pdf\")\n",
    "for i in range(len(doc)):\n",
    "    for img in doc.getPageImageList(i):\n",
    "        print(img)\n",
    "        xref = img[0]\n",
    "        pix = fitz.Pixmap(doc, xref)\n",
    "        if pix.n < 5:       # this is GRAY or RGB\n",
    "            pix.writePNG(\"E:\\\\pgaimg6\\\\p%s-%s.png\" % (i, xref))\n",
    "        else:               # CMYK: convert to RGB first\n",
    "            pix1 = fitz.Pixmap(fitz.csRGB, pix)\n",
    "            pix1.writePNG(\"E:\\\\pgaimg6\\\\p%s-%s.png\" % (i, xref))\n",
    "            pix1 = None\n",
    "        pix = None #pictures will be extracted in python local folder\n",
    "        \n",
    "        "
   ]
  },
  {
   "cell_type": "code",
   "execution_count": null,
   "metadata": {},
   "outputs": [],
   "source": []
  }
 ],
 "metadata": {
  "kernelspec": {
   "display_name": "Python 3",
   "language": "python",
   "name": "python3"
  },
  "language_info": {
   "codemirror_mode": {
    "name": "ipython",
    "version": 3
   },
   "file_extension": ".py",
   "mimetype": "text/x-python",
   "name": "python",
   "nbconvert_exporter": "python",
   "pygments_lexer": "ipython3",
   "version": "3.6.5"
  }
 },
 "nbformat": 4,
 "nbformat_minor": 2
}
