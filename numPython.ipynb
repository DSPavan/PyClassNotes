{
 "cells": [
  {
   "cell_type": "code",
   "execution_count": 1,
   "metadata": {},
   "outputs": [
    {
     "name": "stdout",
     "output_type": "stream",
     "text": [
      "[[ 0  1  2  3  4]\n",
      " [ 5  6  7  8  9]\n",
      " [10 11 12 13 14]]\n",
      "(3, 5)\n",
      "2\n",
      "int32\n",
      "4\n",
      "15\n",
      "<class 'numpy.ndarray'>\n"
     ]
    }
   ],
   "source": [
    "## Num PY\n",
    "\n",
    "# A - Range, not arrange\n",
    "import numpy as np\n",
    "a = np.arange(15).reshape(3, 5)\n",
    "print(a)\n",
    "print(a.shape)\n",
    "print(a.ndim)\n",
    "print(a.dtype.name)\n",
    "print(a.itemsize)\n",
    "print(a.size)\n",
    "print(type(a))\n"
   ]
  },
  {
   "cell_type": "code",
   "execution_count": 2,
   "metadata": {},
   "outputs": [
    {
     "name": "stdout",
     "output_type": "stream",
     "text": [
      "[2 3 4]\n",
      "[[1.2 3.5 5.1]\n",
      " [1.2 3.5 5.1]]\n",
      "[[1.+0.j 2.+0.j]\n",
      " [3.+0.j 4.+0.j]]\n"
     ]
    }
   ],
   "source": [
    "# This is not MATRIX !!\n",
    "\n",
    "a = np.array([2,3,4]) \n",
    "b = np.array( [ [1.2, 3.5, 5.1] , [1.2, 3.5, 5.1] ])\n",
    "\n",
    "print(a)\n",
    "print(b)\n",
    "c = np.array( [ [1,2], [3,4] ], dtype=complex )\n",
    "print(c) \n"
   ]
  },
  {
   "cell_type": "code",
   "execution_count": 3,
   "metadata": {},
   "outputs": [
    {
     "name": "stdout",
     "output_type": "stream",
     "text": [
      "[[0. 0. 0. 0.]\n",
      " [0. 0. 0. 0.]\n",
      " [0. 0. 0. 0.]]\n",
      "[[[1 1 1 1]\n",
      "  [1 1 1 1]\n",
      "  [1 1 1 1]]\n",
      "\n",
      " [[1 1 1 1]\n",
      "  [1 1 1 1]\n",
      "  [1 1 1 1]]]\n",
      "[[1.2 3.5 5.1]\n",
      " [1.2 3.5 5.1]]\n"
     ]
    }
   ],
   "source": [
    "d = np.zeros( (3,4) )\n",
    "print(d) \n",
    "# 2 arrays\n",
    "e = np.ones( (2,3,4), dtype=np.int16 ) \n",
    "print(e)\n",
    "\n",
    "f = np.empty( (2,3) )  \n",
    "print(f)"
   ]
  },
  {
   "cell_type": "code",
   "execution_count": 4,
   "metadata": {},
   "outputs": [
    {
     "name": "stdout",
     "output_type": "stream",
     "text": [
      "[10 15 20 25]\n"
     ]
    }
   ],
   "source": [
    "# To create sequences of numbers, NumPy provides a \n",
    "# function analogous to range that returns arrays instead of lists.\n",
    "\n",
    "# sequence\n",
    "g = np.arange( 10, 30, 5 )\n",
    "print(g)\n"
   ]
  },
  {
   "cell_type": "code",
   "execution_count": 5,
   "metadata": {},
   "outputs": [
    {
     "name": "stdout",
     "output_type": "stream",
     "text": [
      "[0.    0.375 0.75  1.125 1.5   1.875 2.25  2.625 3.   ]\n"
     ]
    }
   ],
   "source": [
    "# Beeter use function linspace that receives as an\n",
    "# argument the number of elements that we want, instead of the step:\n",
    "# For Floating point numbers\n",
    "## # 9 numbers from 0 to 2\n",
    "h = np.linspace( 0, 3, 9 ) \n",
    "print(h)"
   ]
  },
  {
   "cell_type": "code",
   "execution_count": 6,
   "metadata": {},
   "outputs": [
    {
     "name": "stdout",
     "output_type": "stream",
     "text": [
      "[-10 -10  10  40]\n",
      "[ 900 1600  900  100]\n",
      "[ 9.12945251 -9.88031624  7.4511316  -2.62374854]\n",
      "[ 600 1200 1200  500]\n"
     ]
    }
   ],
   "source": [
    "import numpy as np\n",
    "a = np.array( [20,30,40,50] )\n",
    "b = np.array( [30,40,30,10] )\n",
    "\n",
    "c = a-b\n",
    "print(c)\n",
    "\n",
    "\n",
    "c = b**2\n",
    "print(c)\n",
    "\n",
    "c = 10*np.sin(a)\n",
    "print(c)\n",
    "\n",
    "# elementwise\n",
    "x = a*b\n",
    "print(x)"
   ]
  },
  {
   "cell_type": "code",
   "execution_count": 7,
   "metadata": {},
   "outputs": [
    {
     "name": "stdout",
     "output_type": "stream",
     "text": [
      "[[5 4]\n",
      " [3 4]]\n",
      "[[5 4]\n",
      " [3 4]]\n"
     ]
    }
   ],
   "source": [
    "# dot product - Real Matrix Multiplication\n",
    "A = np.array( [[1,1],\n",
    "              [0,1]] )\n",
    "\n",
    "B = np.array( [[2,0],\n",
    "               [3,4]] )\n",
    "\n",
    "y = np.dot(A, B) \n",
    "print(y)\n",
    "\n",
    "y2= A.dot(B) \n",
    "print(y2)\n"
   ]
  },
  {
   "cell_type": "code",
   "execution_count": 8,
   "metadata": {},
   "outputs": [
    {
     "name": "stdout",
     "output_type": "stream",
     "text": [
      "140\n",
      "20\n",
      "50\n"
     ]
    }
   ],
   "source": [
    "print(a.sum())\n",
    "print(a.min())\n",
    "print(a.max())"
   ]
  },
  {
   "cell_type": "code",
   "execution_count": 9,
   "metadata": {},
   "outputs": [
    {
     "name": "stdout",
     "output_type": "stream",
     "text": [
      "[[0.67399272 0.35599922 0.30550536]\n",
      " [0.77066536 0.84489152 0.91506726]]\n",
      "[1.33549729 2.53062414]\n",
      "[[0.67399272 1.02999193 1.33549729]\n",
      " [0.77066536 1.61555688 2.53062414]]\n",
      "[[0.82097059 0.5966567  0.55272539]\n",
      " [0.87787548 0.91917981 0.95659148]]\n",
      "[[0.54691945 0.66295418 0.87747739]\n",
      " [0.14421617 0.38493425 0.48044914]]\n"
     ]
    }
   ],
   "source": [
    "b = np.random.random((2,3))\n",
    "print(b)\n",
    "print(b.sum(axis=1) ) # axis = 0 : Column; axis = 1: Row;\n",
    "print(b.cumsum(axis=1))\n",
    "\n",
    "print(np.sqrt(b))\n",
    "\n",
    "\n",
    "b = np.random.random((2,3))\n",
    "print(b)"
   ]
  },
  {
   "cell_type": "code",
   "execution_count": 13,
   "metadata": {},
   "outputs": [
    {
     "name": "stdout",
     "output_type": "stream",
     "text": [
      "[20 30 40 50]\n",
      "40\n",
      "[30 40]\n",
      "[20 30 40]\n",
      "[50]\n"
     ]
    }
   ],
   "source": [
    "import numpy as np\n",
    "a = np.array( [20,30,40,50] )\n",
    "b = np.array( [30,40,30,10] )\n",
    "\n",
    "print(a)\n",
    "\n",
    "print(a[2])\n",
    "\n",
    "print(a[1:3])\n",
    "\n",
    "print(a[:3])\n",
    "print(a[3:])\n"
   ]
  },
  {
   "cell_type": "code",
   "execution_count": 15,
   "metadata": {},
   "outputs": [
    {
     "name": "stdout",
     "output_type": "stream",
     "text": [
      "[[ 0  1  2  3  4]\n",
      " [ 5  6  7  8  9]\n",
      " [10 11 12 13 14]]\n",
      "[2 7]\n",
      "[ 2  7 12]\n"
     ]
    }
   ],
   "source": [
    "a = np.arange(15).reshape(3, 5)\n",
    "print(a)\n",
    "\n",
    "print(a[0:2,2])\n",
    "print(a[0:,2])"
   ]
  },
  {
   "cell_type": "code",
   "execution_count": 16,
   "metadata": {},
   "outputs": [
    {
     "name": "stdout",
     "output_type": "stream",
     "text": [
      "[ 0  1  2  3  4  5  6  7  8  9 10 11 12 13 14]\n",
      "[[ 0  1  2]\n",
      " [ 3  4  5]\n",
      " [ 6  7  8]\n",
      " [ 9 10 11]\n",
      " [12 13 14]]\n"
     ]
    }
   ],
   "source": [
    "print(a.ravel())  # returns the array, flattened\n",
    "\n",
    "print(a.reshape(5,3))  # returns the array with a modified shape\n",
    "\n"
   ]
  },
  {
   "cell_type": "code",
   "execution_count": 17,
   "metadata": {},
   "outputs": [
    {
     "name": "stdout",
     "output_type": "stream",
     "text": [
      "[[ 0  5 10]\n",
      " [ 1  6 11]\n",
      " [ 2  7 12]\n",
      " [ 3  8 13]\n",
      " [ 4  9 14]]\n"
     ]
    }
   ],
   "source": [
    "print(a.T) # Transpose"
   ]
  },
  {
   "cell_type": "code",
   "execution_count": 19,
   "metadata": {},
   "outputs": [
    {
     "name": "stdout",
     "output_type": "stream",
     "text": [
      "[[4. 3.]\n",
      " [2. 5.]]\n",
      "[[1. 3.]\n",
      " [8. 9.]]\n"
     ]
    }
   ],
   "source": [
    "a = np.floor(10*np.random.random((2,2)))\n",
    "b = np.floor(10*np.random.random((2,2)))\n",
    "\n",
    "print(a)\n",
    "print(b)\n"
   ]
  },
  {
   "cell_type": "code",
   "execution_count": 20,
   "metadata": {},
   "outputs": [
    {
     "name": "stdout",
     "output_type": "stream",
     "text": [
      "[[4. 3.]\n",
      " [2. 5.]\n",
      " [1. 3.]\n",
      " [8. 9.]]\n",
      "[[4. 3. 1. 3.]\n",
      " [2. 5. 8. 9.]]\n"
     ]
    }
   ],
   "source": [
    "print( np.vstack((a,b)))\n",
    "\n",
    "print(np.hstack((a,b)))"
   ]
  },
  {
   "cell_type": "code",
   "execution_count": 21,
   "metadata": {},
   "outputs": [
    {
     "name": "stdout",
     "output_type": "stream",
     "text": [
      "[[4. 3.]\n",
      " [2. 5.]]\n"
     ]
    }
   ],
   "source": [
    "# copy\n",
    "\n",
    "d = a.copy()   \n",
    "print(d)"
   ]
  },
  {
   "cell_type": "code",
   "execution_count": 22,
   "metadata": {},
   "outputs": [
    {
     "name": "stdout",
     "output_type": "stream",
     "text": [
      "[[3.  3.5]\n",
      " [3.2 3.6]]\n",
      "[[-9.    8.75]\n",
      " [ 8.   -7.5 ]]\n",
      "[118.4 135.2]\n",
      "[16. 22.]\n"
     ]
    }
   ],
   "source": [
    "# Linear Algebra\n",
    "import numpy as np\n",
    "c = np.array( [ [3,3.5], [3.2,3.6] ], dtype=float)\n",
    "print(c)\n",
    "\n",
    "#inverse\n",
    "result = np.linalg.inv(c)\n",
    "print(result)\n",
    "\n",
    "b = np.array([118.4,135.2])\n",
    "print(b)\n",
    "# dot product\n",
    "result = np.dot(b,result)\n",
    "print(result)"
   ]
  },
  {
   "cell_type": "code",
   "execution_count": 23,
   "metadata": {},
   "outputs": [
    {
     "name": "stdout",
     "output_type": "stream",
     "text": [
      "[83 63 37 75]\n"
     ]
    }
   ],
   "source": [
    "a = np.array([3,4,2])\n",
    "b = np.array( [ [13,9,7,15],\n",
    "             [8,7,4,6],\n",
    "                     [6,4,0,3] ]\n",
    "                     )\n",
    "\n",
    "\n",
    "result = np.dot(a,b)\n",
    "print(result)\n"
   ]
  },
  {
   "cell_type": "code",
   "execution_count": 24,
   "metadata": {},
   "outputs": [
    {
     "name": "stdout",
     "output_type": "stream",
     "text": [
      "[[13  9  7 15]\n",
      " [ 8  7  4  6]\n",
      " [ 6  4  0  3]]\n",
      "[[13  8  6]\n",
      " [ 9  7  4]\n",
      " [ 7  4  0]\n",
      " [15  6  3]]\n"
     ]
    }
   ],
   "source": [
    "print(b)\n",
    "print(b.T)"
   ]
  },
  {
   "cell_type": "code",
   "execution_count": 25,
   "metadata": {},
   "outputs": [
    {
     "name": "stdout",
     "output_type": "stream",
     "text": [
      "[[ 3.94117647]\n",
      " [ 0.29411765]\n",
      " [-1.76470588]]\n",
      "[[ 3.94117647]\n",
      " [ 0.29411765]\n",
      " [-1.76470588]]\n"
     ]
    }
   ],
   "source": [
    "#limear algebra equation\n",
    "A = np.array( [ [3,-1,2], [2,-2,3],[4,1,4] ], dtype=float)\n",
    "#inverse\n",
    "Ainv = np.linalg.inv(A)\n",
    "C =  np.array( [[ 8],[2],[9] ])\n",
    "r = np.dot(Ainv,C)\n",
    "print(r)\n",
    "x = np.linalg.solve(A,C) \n",
    "print(x)"
   ]
  },
  {
   "cell_type": "code",
   "execution_count": 26,
   "metadata": {},
   "outputs": [
    {
     "name": "stdout",
     "output_type": "stream",
     "text": [
      "[[ 5.]\n",
      " [ 3.]\n",
      " [-2.]]\n",
      "[[ 5.]\n",
      " [ 3.]\n",
      " [-2.]]\n",
      "<module 'numpy.linalg' from 'C:\\\\ProgramData\\\\Anaconda3\\\\lib\\\\site-packages\\\\numpy\\\\linalg\\\\__init__.py'>\n"
     ]
    }
   ],
   "source": [
    "a = np.array([[1,1,1],[0,2,5],[2,5,-1]]) \n",
    "ainv = np.linalg.inv(a) \n",
    "b = np.array([[6],[-4],[27]]) \n",
    "x = np.linalg.solve(a,b) \n",
    "print(x)\n",
    "x = np.dot(ainv,b)\n",
    "print(x)\n",
    "print(np.linalg)"
   ]
  },
  {
   "cell_type": "code",
   "execution_count": 27,
   "metadata": {},
   "outputs": [],
   "source": [
    "# instead of Inv and dot, use \"solve\"\n",
    "#inv, dot causes round problem\n",
    "# LU Decompositions - Solve\n"
   ]
  },
  {
   "cell_type": "code",
   "execution_count": 28,
   "metadata": {},
   "outputs": [
    {
     "name": "stdout",
     "output_type": "stream",
     "text": [
      "[[3.  3.5]\n",
      " [3.2 3.6]]\n"
     ]
    }
   ],
   "source": [
    "import numpy as np\n",
    "c = np.array( [ [3,3.5], [3.2,3.6] ], dtype=float)\n",
    "print(c)\n"
   ]
  },
  {
   "cell_type": "code",
   "execution_count": 30,
   "metadata": {},
   "outputs": [
    {
     "name": "stdout",
     "output_type": "stream",
     "text": [
      "3.0\n",
      "3.5\n",
      "3.2\n",
      "3.6\n"
     ]
    }
   ],
   "source": [
    "for x in np.nditer(c):\n",
    "    print (x)"
   ]
  },
  {
   "cell_type": "code",
   "execution_count": 31,
   "metadata": {},
   "outputs": [
    {
     "name": "stdout",
     "output_type": "stream",
     "text": [
      "[2 5 6 7 8 9]\n"
     ]
    }
   ],
   "source": [
    "# Unique in array    \n",
    "a = np.array([5,2,6,2,7,5,6,8,2,9]) \n",
    "u = np.unique(a) \n",
    "print(u)\n"
   ]
  },
  {
   "cell_type": "code",
   "execution_count": 32,
   "metadata": {},
   "outputs": [
    {
     "name": "stdout",
     "output_type": "stream",
     "text": [
      "   4      3      2\n",
      "9 x + 24 x + 46 x + 40 x + 25\n"
     ]
    }
   ],
   "source": [
    "# Polynomials\n",
    "from scipy import linalg, optimize\n",
    "from numpy import poly1d\n",
    "p = poly1d([3,4,5])\n",
    "print(p*p)"
   ]
  },
  {
   "cell_type": "code",
   "execution_count": 33,
   "metadata": {},
   "outputs": [
    {
     "name": "stdout",
     "output_type": "stream",
     "text": [
      "(1.1178179380783244, 7.866317216380707e-09)\n"
     ]
    }
   ],
   "source": [
    "# Integration equation\n",
    "import scipy.integrate as integrate\n",
    "import scipy.special as special\n",
    "result = integrate.quad(lambda x: special.jv(2.5,x), 0, 4.5)\n",
    "print(result)"
   ]
  },
  {
   "cell_type": "code",
   "execution_count": 34,
   "metadata": {},
   "outputs": [
    {
     "name": "stdout",
     "output_type": "stream",
     "text": [
      "[1 2 3 4 5]\n",
      "[1. 2. 3. 4. 5.]\n"
     ]
    }
   ],
   "source": [
    "a = np.array([1,2,3,4,5]) \n",
    "np.save('outfile',a)\n",
    "\n",
    "b = np.load('outfile.npy') \n",
    "print (b)\n",
    "\n",
    "np.savetxt('out.txt',a) \n",
    "b = np.loadtxt('out.txt') \n",
    "print(b)"
   ]
  },
  {
   "cell_type": "code",
   "execution_count": 81,
   "metadata": {},
   "outputs": [
    {
     "data": {
      "image/png": "[encoded data removed]",
      "text/plain": [
       "<Figure size 432x288 with 1 Axes>"
      ]
     },
     "metadata": {},
     "output_type": "display_data"
    }
   ],
   "source": [
    "# PLot - Maytplotlib - Numpy\n",
    "## matplotlib\n",
    "#Importing pyplot\n",
    "from matplotlib import pyplot as plt\n",
    "from matplotlib import style\n",
    "import pandas as pd\n",
    "style.use('ggplot') # R style\n",
    "import numpy as np\n",
    "fname =\"C:\\\\Users\\\\HP\\\\Downloads\\\\cereals2b.csv\"\n",
    "df3 = pd.read_csv(fname,skiprows=0)\n",
    " #print(df3['protein'].pct_change())\n",
    "\n",
    "##print(r)\n",
    "x =  df3['calories']\n",
    "y=    df3['rating']\n",
    "\n",
    "plt.scatter(x,y)\n",
    "\n",
    "plt.title('Epic Info')\n",
    "plt.ylabel('Y axis')\n",
    "plt.xlabel('X axis')\n",
    "\n",
    "plt.show()\n",
    "\n",
    "\n"
   ]
  },
  {
   "cell_type": "code",
   "execution_count": 82,
   "metadata": {},
   "outputs": [
    {
     "name": "stdout",
     "output_type": "stream",
     "text": [
      "-191.38898900900907\n",
      "-0.6943772894559791\n"
     ]
    }
   ],
   "source": [
    "# covariance\n",
    "df4cov = df3['calories'].cov(df3['rating'])\n",
    "print(df4cov)\n",
    "\n",
    "# correlation\n",
    "df4corr = df3['calories'].corr(df3['rating'])\n",
    "print(df4corr)"
   ]
  },
  {
   "cell_type": "code",
   "execution_count": 91,
   "metadata": {},
   "outputs": [
    {
     "data": {
      "image/png": "[encoded data removed]",
      "text/plain": [
       "<Figure size 432x288 with 1 Axes>"
      ]
     },
     "metadata": {},
     "output_type": "display_data"
    },
    {
     "name": "stdout",
     "output_type": "stream",
     "text": [
      "Coefficients: \n",
      " [[-0.80429048]]\n",
      "intercept: \n",
      " [124.7935461]\n"
     ]
    },
    {
     "data": {
      "image/png": "[encoded data removed]",
      "text/plain": [
       "<Figure size 432x288 with 1 Axes>"
      ]
     },
     "metadata": {},
     "output_type": "display_data"
    }
   ],
   "source": [
    "import matplotlib\n",
    "import matplotlib.pyplot as plt\n",
    "import numpy as np\n",
    "from sklearn import datasets, linear_model\n",
    "import pandas as pd\n",
    " \n",
    "# Load CSV and columns\n",
    "file = \"C:\\\\Users\\\\HP\\\\Downloads\\\\cereals2b.csv\"\n",
    "df = pd.read_csv(file)\n",
    "\n",
    "# print(df)\n",
    "\n",
    "Y = df['rating']\n",
    "X = df['calories']\n",
    " \n",
    "X=X.values.reshape(len(X),1)\n",
    "Y=Y.values.reshape(len(Y),1)\n",
    " \n",
    "# Split the data into training/testing sets\n",
    "X_train = X[:-50]\n",
    "\n",
    " \n",
    "# Split the targets into training/testing sets\n",
    "Y_train = Y[:-50]\n",
    "\n",
    " \n",
    "# Plot outputs\n",
    "plt.scatter(X_train, Y_train,  color='black')\n",
    "plt.title('Test Data')\n",
    "plt.ylabel('Rating')\n",
    "plt.xlabel('Calories')\n",
    "plt.xticks(())\n",
    "plt.yticks(())\n",
    " \n",
    "plt.show()\n",
    "\n",
    "# Create linear regression object\n",
    "regr = linear_model.LinearRegression()\n",
    " \n",
    "# Train the model using the training sets\n",
    "regr.fit(X_train, Y_train)\n",
    "# The coefficients\n",
    "print('Coefficients: \\n', regr.coef_)\n",
    "print('intercept: \\n', regr.intercept_)\n",
    "# The mean squared error\n",
    "plt.scatter(X_train,Y_train,color='blue')\n",
    "# Plot outputs\n",
    "plt.plot(X_train, regr.predict(X_train), color='red',linewidth=3)\n",
    "plt.show()\n",
    "#print( str(round(regr.predict(50))) )​"
   ]
  },
  {
   "cell_type": "code",
   "execution_count": null,
   "metadata": {},
   "outputs": [],
   "source": []
  }
 ],
 "metadata": {
  "kernelspec": {
   "display_name": "Python 3",
   "language": "python",
   "name": "python3"
  },
  "language_info": {
   "codemirror_mode": {
    "name": "ipython",
    "version": 3
   },
   "file_extension": ".py",
   "mimetype": "text/x-python",
   "name": "python",
   "nbconvert_exporter": "python",
   "pygments_lexer": "ipython3",
   "version": "3.6.5"
  }
 },
 "nbformat": 4,
 "nbformat_minor": 2
}
