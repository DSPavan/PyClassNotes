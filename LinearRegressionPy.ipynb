{
 "cells": [
  {
   "cell_type": "code",
   "execution_count": 1,
   "metadata": {},
   "outputs": [
    {
     "name": "stdout",
     "output_type": "stream",
     "text": [
      "    Ac_No  Age  Years of Experience  Number of Vehicles Gender  Married  \\\n",
      "0  150024   24                    5                   1      M  Married   \n",
      "1  144880   31                   10                   1      F   Single   \n",
      "2  133742   56                   37                   1      M  Married   \n",
      "3  151282   52                   31                   1      F  Married   \n",
      "4  174407   20                    3                   1      M   Single   \n",
      "\n",
      "   Losses in Thousands  \n",
      "0           203.319595  \n",
      "1           402.197302  \n",
      "2           553.132096  \n",
      "3           292.430579  \n",
      "4           246.540576  \n",
      "2\n",
      "(15290, 7)\n"
     ]
    }
   ],
   "source": [
    "# Data Manupulation\n",
    "import numpy as np\n",
    "import pandas as pd\n",
    "# Plotting graphs\n",
    "import matplotlib.pyplot as plt\n",
    "\n",
    "# CSV File - Read\n",
    "df = pd.read_csv('C:\\\\Users\\\\radha\\\\Downloads\\LGD_DATA.csv')\n",
    "#  ,header=None ,skiprows=1 , names=['Cal', 'Pr', 'Fat', 'sod', 'Fib', 'Rting']\n",
    "print(df.head(5)) \n",
    "print(df.ndim)\n",
    "print(df.shape)"
   ]
  },
  {
   "cell_type": "code",
   "execution_count": 3,
   "metadata": {},
   "outputs": [
    {
     "data": {
      "text/html": [
       "<div>\n",
       "<style scoped>\n",
       "    .dataframe tbody tr th:only-of-type {\n",
       "        vertical-align: middle;\n",
       "    }\n",
       "\n",
       "    .dataframe tbody tr th {\n",
       "        vertical-align: top;\n",
       "    }\n",
       "\n",
       "    .dataframe thead th {\n",
       "        text-align: right;\n",
       "    }\n",
       "</style>\n",
       "<table border=\"1\" class=\"dataframe\">\n",
       "  <thead>\n",
       "    <tr style=\"text-align: right;\">\n",
       "      <th></th>\n",
       "      <th>Ac_No</th>\n",
       "      <th>Age</th>\n",
       "      <th>Years of Experience</th>\n",
       "      <th>Number of Vehicles</th>\n",
       "      <th>Gender</th>\n",
       "      <th>Married</th>\n",
       "      <th>Losses in Thousands</th>\n",
       "      <th>F</th>\n",
       "      <th>M</th>\n",
       "      <th>Married</th>\n",
       "      <th>Single</th>\n",
       "    </tr>\n",
       "  </thead>\n",
       "  <tbody>\n",
       "    <tr>\n",
       "      <th>0</th>\n",
       "      <td>150024</td>\n",
       "      <td>24</td>\n",
       "      <td>5</td>\n",
       "      <td>1</td>\n",
       "      <td>M</td>\n",
       "      <td>Married</td>\n",
       "      <td>203.319595</td>\n",
       "      <td>0</td>\n",
       "      <td>1</td>\n",
       "      <td>1</td>\n",
       "      <td>0</td>\n",
       "    </tr>\n",
       "    <tr>\n",
       "      <th>1</th>\n",
       "      <td>144880</td>\n",
       "      <td>31</td>\n",
       "      <td>10</td>\n",
       "      <td>1</td>\n",
       "      <td>F</td>\n",
       "      <td>Single</td>\n",
       "      <td>402.197302</td>\n",
       "      <td>1</td>\n",
       "      <td>0</td>\n",
       "      <td>0</td>\n",
       "      <td>1</td>\n",
       "    </tr>\n",
       "    <tr>\n",
       "      <th>2</th>\n",
       "      <td>133742</td>\n",
       "      <td>56</td>\n",
       "      <td>37</td>\n",
       "      <td>1</td>\n",
       "      <td>M</td>\n",
       "      <td>Married</td>\n",
       "      <td>553.132096</td>\n",
       "      <td>0</td>\n",
       "      <td>1</td>\n",
       "      <td>1</td>\n",
       "      <td>0</td>\n",
       "    </tr>\n",
       "    <tr>\n",
       "      <th>3</th>\n",
       "      <td>151282</td>\n",
       "      <td>52</td>\n",
       "      <td>31</td>\n",
       "      <td>1</td>\n",
       "      <td>F</td>\n",
       "      <td>Married</td>\n",
       "      <td>292.430579</td>\n",
       "      <td>1</td>\n",
       "      <td>0</td>\n",
       "      <td>1</td>\n",
       "      <td>0</td>\n",
       "    </tr>\n",
       "    <tr>\n",
       "      <th>4</th>\n",
       "      <td>174407</td>\n",
       "      <td>20</td>\n",
       "      <td>3</td>\n",
       "      <td>1</td>\n",
       "      <td>M</td>\n",
       "      <td>Single</td>\n",
       "      <td>246.540576</td>\n",
       "      <td>0</td>\n",
       "      <td>1</td>\n",
       "      <td>0</td>\n",
       "      <td>1</td>\n",
       "    </tr>\n",
       "  </tbody>\n",
       "</table>\n",
       "</div>"
      ],
      "text/plain": [
       "    Ac_No  Age  Years of Experience  Number of Vehicles Gender  Married  \\\n",
       "0  150024   24                    5                   1      M  Married   \n",
       "1  144880   31                   10                   1      F   Single   \n",
       "2  133742   56                   37                   1      M  Married   \n",
       "3  151282   52                   31                   1      F  Married   \n",
       "4  174407   20                    3                   1      M   Single   \n",
       "\n",
       "   Losses in Thousands  F  M  Married  Single  \n",
       "0           203.319595  0  1        1       0  \n",
       "1           402.197302  1  0        0       1  \n",
       "2           553.132096  0  1        1       0  \n",
       "3           292.430579  1  0        1       0  \n",
       "4           246.540576  0  1        0       1  "
      ]
     },
     "execution_count": 3,
     "metadata": {},
     "output_type": "execute_result"
    }
   ],
   "source": [
    "# pd.get_dummies allows to convert a categorical variable into dummy variables\n",
    "# Create a set of dummy variables from the sex variable\n",
    "df_Gender = pd.get_dummies(df['Gender'])\n",
    "df_Married = pd.get_dummies(df['Married'])\n",
    "# Join the dummy variables to the main dataframe\n",
    "df_new = pd.concat([df, df_Gender], axis=1)\n",
    "df_new = pd.concat([df_new, df_Married], axis=1)         \n",
    "df_new.head()    "
   ]
  },
  {
   "cell_type": "code",
   "execution_count": 4,
   "metadata": {},
   "outputs": [
    {
     "name": "stdout",
     "output_type": "stream",
     "text": [
      "   Age  Number of Vehicles  F  Single  Losses in Thousands\n",
      "0   24                   1  0       0           203.319595\n",
      "1   31                   1  1       1           402.197302\n",
      "2   56                   1  0       0           553.132096\n",
      "3   52                   1  1       0           292.430579\n",
      "4   20                   1  0       1           246.540576\n"
     ]
    }
   ],
   "source": [
    "dfClean = df_new[['Age','Number of Vehicles','F','Single','Losses in Thousands']].copy()\n",
    "print(dfClean.head(5)) \n"
   ]
  },
  {
   "cell_type": "code",
   "execution_count": 14,
   "metadata": {},
   "outputs": [
    {
     "name": "stdout",
     "output_type": "stream",
     "text": [
      "   Age  nVeh  F  Single         LTh\n",
      "0   24     1  0       0  203.319595\n",
      "1   31     1  1       1  402.197302\n",
      "2   56     1  0       0  553.132096\n",
      "3   52     1  1       0  292.430579\n",
      "4   20     1  0       1  246.540576\n",
      "                            OLS Regression Results                            \n",
      "==============================================================================\n",
      "Dep. Variable:                    LTh   R-squared:                       0.302\n",
      "Model:                            OLS   Adj. R-squared:                  0.302\n",
      "Method:                 Least Squares   F-statistic:                     1652.\n",
      "Date:                Tue, 07 Aug 2018   Prob (F-statistic):               0.00\n",
      "Time:                        08:27:05   Log-Likelihood:            -1.0360e+05\n",
      "No. Observations:               15290   AIC:                         2.072e+05\n",
      "Df Residuals:                   15285   BIC:                         2.072e+05\n",
      "Df Model:                           4                                         \n",
      "Covariance Type:            nonrobust                                         \n",
      "==============================================================================\n",
      "                 coef    std err          t      P>|t|      [0.025      0.975]\n",
      "------------------------------------------------------------------------------\n",
      "Intercept    639.2675      6.657     96.035      0.000     626.220     652.315\n",
      "Age           -6.1768      0.094    -65.842      0.000      -6.361      -5.993\n",
      "nVeh          -2.6999      1.798     -1.502      0.133      -6.224       0.825\n",
      "F            -93.6827      3.430    -27.313      0.000    -100.406     -86.959\n",
      "Single       134.9371      3.430     39.336      0.000     128.213     141.661\n",
      "==============================================================================\n",
      "Omnibus:                    11153.201   Durbin-Watson:                   1.807\n",
      "Prob(Omnibus):                  0.000   Jarque-Bera (JB):           540432.632\n",
      "Skew:                           2.999   Prob(JB):                         0.00\n",
      "Kurtosis:                      31.501   Cond. No.                         186.\n",
      "==============================================================================\n",
      "\n",
      "Warnings:\n",
      "[1] Standard Errors assume that the covariance matrix of the errors is correctly specified.\n"
     ]
    }
   ],
   "source": [
    "dfClean = dfClean.rename(columns={'Number of Vehicles': 'nVeh', 'Losses in Thousands': 'LTh'})\n",
    "print(dfClean.head(5)) \n",
    "\n",
    "import numpy as np\n",
    "import statsmodels.api as sm \n",
    "import statsmodels.formula.api as smf\n",
    "results = smf.ols('LTh ~ Age + nVeh + F + Single', data=dfClean).fit()\n",
    "print(results.summary())"
   ]
  },
  {
   "cell_type": "code",
   "execution_count": 16,
   "metadata": {},
   "outputs": [
    {
     "data": {
      "image/png": "[encoded data removed]",
      "text/plain": [
       "<matplotlib.figure.Figure at 0xdbaa0e65c0>"
      ]
     },
     "metadata": {},
     "output_type": "display_data"
    }
   ],
   "source": [
    "import statsmodels.graphics.api as smg\n",
    "corr_matrix = np.corrcoef(dfClean.T)\n",
    "smg.plot_corr(corr_matrix, xnames=dfClean.columns)\n",
    "plt.show()"
   ]
  },
  {
   "cell_type": "code",
   "execution_count": 22,
   "metadata": {},
   "outputs": [
    {
     "data": {
      "image/png": "[encoded data removed]",
      "text/plain": [
       "<matplotlib.figure.Figure at 0xdbac025710>"
      ]
     },
     "metadata": {},
     "output_type": "display_data"
    }
   ],
   "source": [
    "fig, ax = plt.subplots()\n",
    "fig = sm.graphics.plot_fit(results, 4, ax=ax) # change 1 to 4\n",
    "plt.show()"
   ]
  },
  {
   "cell_type": "code",
   "execution_count": null,
   "metadata": {},
   "outputs": [],
   "source": []
  }
 ],
 "metadata": {
  "kernelspec": {
   "display_name": "Python 3",
   "language": "python",
   "name": "python3"
  },
  "language_info": {
   "codemirror_mode": {
    "name": "ipython",
    "version": 3
   },
   "file_extension": ".py",
   "mimetype": "text/x-python",
   "name": "python",
   "nbconvert_exporter": "python",
   "pygments_lexer": "ipython3",
   "version": "3.6.5"
  }
 },
 "nbformat": 4,
 "nbformat_minor": 2
}
