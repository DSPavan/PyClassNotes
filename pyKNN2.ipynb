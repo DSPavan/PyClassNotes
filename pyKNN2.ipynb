{
 "cells": [
  {
   "cell_type": "code",
   "execution_count": 1,
   "metadata": {},
   "outputs": [
    {
     "name": "stdout",
     "output_type": "stream",
     "text": [
      "(768, 9)\n",
      "(768, 8) (768,)\n",
      "(576, 8) (192, 8)\n"
     ]
    }
   ],
   "source": [
    "#Download the data from the UCI website using urllib \n",
    "import urllib \n",
    "import numpy as np\n",
    "url = \"https://gist.githubusercontent.com/ktisha/c21e73a1bd1700294ef790c56c8aec1f/raw/819b69b5736821ccee93d05b51de0510bea00294/pima-indians-diabetes.csv\"\n",
    "raw_data = urllib.request.urlopen(url) \n",
    "#The file is a CSV, let's read it into a numpy array #Note: not using Pandas to examine/clean the dataset at this point since this dataset is pretty well-cleansed. \n",
    "diab = np.genfromtxt(raw_data, delimiter=\",\") \n",
    "print(diab.shape )\n",
    "#This dataset has 9 columns, 9th one seems to be the labels, 1 or 0 for Diabetes or no Diabetes. \n",
    "#Let's split into X,y \n",
    "X,y = diab[:,:-1], diab[:,-1:].squeeze() #squeeze to flatten the labels into the vector y \n",
    "print(X.shape, y.shape )\n",
    "#Let's run the train/test split \n",
    "from sklearn.model_selection import train_test_split\n",
    "\n",
    "X_train, X_test, y_train, y_test = train_test_split(X,y) \n",
    "print(X_train.shape, X_test.shape )"
   ]
  },
  {
   "cell_type": "code",
   "execution_count": 2,
   "metadata": {},
   "outputs": [
    {
     "name": "stdout",
     "output_type": "stream",
     "text": [
      "Results with 3 Neighbors\n",
      "              precision    recall  f1-score   support\n",
      "\n",
      " No Diabetes       0.75      0.81      0.78       121\n",
      "    Diabetes       0.62      0.54      0.58        71\n",
      "\n",
      "   micro avg       0.71      0.71      0.71       192\n",
      "   macro avg       0.69      0.67      0.68       192\n",
      "weighted avg       0.70      0.71      0.70       192\n",
      "\n",
      "              precision    recall  f1-score   support\n",
      "\n",
      " No Diabetes       0.85      0.91      0.88       379\n",
      "    Diabetes       0.79      0.70      0.74       197\n",
      "\n",
      "   micro avg       0.84      0.84      0.84       576\n",
      "   macro avg       0.82      0.80      0.81       576\n",
      "weighted avg       0.83      0.84      0.83       576\n",
      "\n"
     ]
    }
   ],
   "source": [
    "\n",
    "from sklearn.neighbors import KNeighborsClassifier\n",
    "from sklearn import metrics\n",
    "## 3, 5  n_neighbors=3,\n",
    "diab_knn = KNeighborsClassifier(n_neighbors=3, algorithm=\"ball_tree\").fit(X_train, y_train) \n",
    "y_pred = diab_knn.predict(X_test) \n",
    "y_train_pred = diab_knn.predict(X_train) \n",
    "\n",
    "#Let's get the score summary \n",
    "print(\"Results with 3 Neighbors\" )\n",
    "print(metrics.classification_report(y_test, y_pred, target_names=['No Diabetes', 'Diabetes']) )\n",
    "print (metrics.classification_report(y_train, y_train_pred, target_names=['No Diabetes', 'Diabetes']))\n"
   ]
  },
  {
   "cell_type": "code",
   "execution_count": 3,
   "metadata": {},
   "outputs": [],
   "source": [
    "# Brute Force¶\n",
    "#  K-D Tree\n",
    "# Ball Tree"
   ]
  },
  {
   "cell_type": "code",
   "execution_count": 5,
   "metadata": {},
   "outputs": [
    {
     "data": {
      "text/plain": [
       "array([0., 0., 1., 1., 0., 0., 0., 1., 0., 0., 0., 1., 0., 0., 0., 1., 0.,\n",
       "       0., 0., 0., 1., 0., 0., 0., 0., 0., 1., 0., 0., 0., 0., 0., 1., 0.,\n",
       "       1., 0., 0., 0., 1., 0., 0., 0., 1., 1., 0., 1., 1., 0., 0., 0., 0.,\n",
       "       0., 1., 1., 1., 1., 0., 1., 0., 1., 1., 1., 0., 0., 0., 0., 1., 0.,\n",
       "       0., 0., 0., 0., 0., 0., 0., 1., 0., 0., 0., 1., 0., 0., 1., 0., 0.,\n",
       "       1., 0., 0., 1., 0., 0., 0., 1., 1., 0., 0., 1., 0., 0., 0., 0., 0.,\n",
       "       1., 1., 0., 0., 0., 0., 1., 0., 0., 0., 0., 1., 0., 0., 0., 0., 1.,\n",
       "       1., 0., 0., 0., 0., 0., 0., 1., 0., 0., 0., 0., 1., 1., 0., 0., 0.,\n",
       "       0., 1., 0., 0., 0., 0., 0., 1., 1., 0., 1., 1., 0., 1., 1., 0., 0.,\n",
       "       0., 0., 1., 0., 0., 0., 0., 0., 0., 0., 1., 1., 1., 1., 0., 0., 1.,\n",
       "       0., 1., 0., 0., 1., 0., 0., 1., 0., 1., 0., 0., 1., 1., 0., 0., 0.,\n",
       "       0., 0., 1., 0., 1.])"
      ]
     },
     "execution_count": 5,
     "metadata": {},
     "output_type": "execute_result"
    }
   ],
   "source": [
    "y_pred"
   ]
  },
  {
   "cell_type": "code",
   "execution_count": 8,
   "metadata": {},
   "outputs": [
    {
     "data": {
      "text/plain": [
       "0.8033854166666666"
      ]
     },
     "execution_count": 8,
     "metadata": {},
     "output_type": "execute_result"
    }
   ],
   "source": [
    "diab_knn.score(X,y)"
   ]
  },
  {
   "cell_type": "code",
   "execution_count": 12,
   "metadata": {},
   "outputs": [],
   "source": [
    "# Create color maps\n",
    "from matplotlib.colors import ListedColormap\n",
    "import numpy as np\n",
    "cmap_light = ListedColormap(['#FFAAAA', '#AAFFAA', '#AAAAFF'])\n",
    "cmap_bold = ListedColormap(['#FF0000', '#00FF00', '#0000FF'])\n",
    "n_neighbors = 15\n",
    "h = .02  # step size in the mesh\n",
    "#X,y = diab[:,:-1], diab[:,-1:].squeeze() #squeeze to flatten the labels into the vector y \n",
    "#print(X.shape, y.shape )\n",
    "\n"
   ]
  },
  {
   "cell_type": "code",
   "execution_count": 22,
   "metadata": {
    "scrolled": true
   },
   "outputs": [
    {
     "data": {
      "image/png": "[encoded data removed]",
      "text/plain": [
       "<Figure size 432x288 with 1 Axes>"
      ]
     },
     "metadata": {
      "needs_background": "light"
     },
     "output_type": "display_data"
    }
   ],
   "source": [
    "import matplotlib\n",
    "#matplotlib.use('GTK3Agg')\n",
    " \n",
    "import numpy as np\n",
    "import matplotlib.pyplot as plt\n",
    "from matplotlib.colors import ListedColormap\n",
    "from sklearn import neighbors, datasets\n",
    " \n",
    "n_neighbors = 6\n",
    " \n",
    "# import some data to play with\n",
    "iris = datasets.load_iris()\n",
    " \n",
    "# prepare data\n",
    "X = iris.data[:, :2]\n",
    "y = iris.target\n",
    "h = .02\n",
    " \n",
    "# Create color maps\n",
    "cmap_light = ListedColormap(['#FFAAAA', '#AAFFAA','#00AAFF'])\n",
    "cmap_bold = ListedColormap(['#FF0000', '#00FF00','#00AAFF'])\n",
    " \n",
    "# we create an instance of Neighbours Classifier and fit the data.\n",
    "clf = neighbors.KNeighborsClassifier(n_neighbors, weights='distance')\n",
    "clf.fit(X, y)\n",
    " \n",
    "# calculate min, max and limits\n",
    "x_min, x_max = X[:, 0].min() - 1, X[:, 0].max() + 1\n",
    "y_min, y_max = X[:, 1].min() - 1, X[:, 1].max() + 1\n",
    "xx, yy = np.meshgrid(np.arange(x_min, x_max, h),\n",
    "np.arange(y_min, y_max, h))\n",
    " \n",
    "# predict class using data and kNN classifier\n",
    "Z = clf.predict(np.c_[xx.ravel(), yy.ravel()])\n",
    " \n",
    "# Put the result into a color plot\n",
    "Z = Z.reshape(xx.shape)\n",
    "plt.figure()\n",
    "plt.pcolormesh(xx, yy, Z, cmap=cmap_light)\n",
    " \n",
    "# Plot also the training points\n",
    "plt.scatter(X[:, 0], X[:, 1], c=y, cmap=cmap_bold)\n",
    "plt.xlim(xx.min(), xx.max())\n",
    "plt.ylim(yy.min(), yy.max())\n",
    "plt.title(\"3-Class classification (k = %i)\" % (n_neighbors))\n",
    "plt.show()\n",
    "\n",
    "# cairocffi"
   ]
  },
  {
   "cell_type": "code",
   "execution_count": null,
   "metadata": {},
   "outputs": [],
   "source": []
  }
 ],
 "metadata": {
  "kernelspec": {
   "display_name": "Python 3",
   "language": "python",
   "name": "python3"
  },
  "language_info": {
   "codemirror_mode": {
    "name": "ipython",
    "version": 3
   },
   "file_extension": ".py",
   "mimetype": "text/x-python",
   "name": "python",
   "nbconvert_exporter": "python",
   "pygments_lexer": "ipython3",
   "version": "3.6.5"
  }
 },
 "nbformat": 4,
 "nbformat_minor": 2
}
