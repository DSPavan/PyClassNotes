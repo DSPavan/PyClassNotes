{
 "cells": [
  {
   "cell_type": "code",
   "execution_count": 2,
   "metadata": {},
   "outputs": [],
   "source": [
    "import pandas as pd\n",
    "import numpy as np\n",
    "\n",
    "df = pd.read_csv('C:\\\\Users\\\\HP\\\\Downloads\\cerealspga05.csv')\n",
    "\n",
    "dfnew = df[['calories',\n",
    "'protein',\n",
    "'fat',\n",
    "'sodium',\n",
    "'fiber',\n",
    "'carbo',\n",
    "'sugars',\n",
    "'potass',\n",
    "'vitamins','rating']]"
   ]
  },
  {
   "cell_type": "code",
   "execution_count": 3,
   "metadata": {},
   "outputs": [
    {
     "data": {
      "text/html": [
       "<div>\n",
       "<style scoped>\n",
       "    .dataframe tbody tr th:only-of-type {\n",
       "        vertical-align: middle;\n",
       "    }\n",
       "\n",
       "    .dataframe tbody tr th {\n",
       "        vertical-align: top;\n",
       "    }\n",
       "\n",
       "    .dataframe thead th {\n",
       "        text-align: right;\n",
       "    }\n",
       "</style>\n",
       "<table border=\"1\" class=\"dataframe\">\n",
       "  <thead>\n",
       "    <tr style=\"text-align: right;\">\n",
       "      <th></th>\n",
       "      <th>calories</th>\n",
       "      <th>protein</th>\n",
       "      <th>fat</th>\n",
       "      <th>sodium</th>\n",
       "      <th>fiber</th>\n",
       "      <th>carbo</th>\n",
       "      <th>sugars</th>\n",
       "      <th>potass</th>\n",
       "      <th>vitamins</th>\n",
       "      <th>rating</th>\n",
       "    </tr>\n",
       "  </thead>\n",
       "  <tbody>\n",
       "    <tr>\n",
       "      <th>0</th>\n",
       "      <td>70</td>\n",
       "      <td>4</td>\n",
       "      <td>1</td>\n",
       "      <td>130</td>\n",
       "      <td>10.0</td>\n",
       "      <td>5.0</td>\n",
       "      <td>6</td>\n",
       "      <td>280</td>\n",
       "      <td>25</td>\n",
       "      <td>68.402973</td>\n",
       "    </tr>\n",
       "    <tr>\n",
       "      <th>1</th>\n",
       "      <td>70</td>\n",
       "      <td>4</td>\n",
       "      <td>1</td>\n",
       "      <td>260</td>\n",
       "      <td>9.0</td>\n",
       "      <td>7.0</td>\n",
       "      <td>5</td>\n",
       "      <td>320</td>\n",
       "      <td>25</td>\n",
       "      <td>59.425505</td>\n",
       "    </tr>\n",
       "    <tr>\n",
       "      <th>2</th>\n",
       "      <td>50</td>\n",
       "      <td>4</td>\n",
       "      <td>0</td>\n",
       "      <td>140</td>\n",
       "      <td>14.0</td>\n",
       "      <td>8.0</td>\n",
       "      <td>0</td>\n",
       "      <td>330</td>\n",
       "      <td>25</td>\n",
       "      <td>93.704912</td>\n",
       "    </tr>\n",
       "    <tr>\n",
       "      <th>3</th>\n",
       "      <td>110</td>\n",
       "      <td>3</td>\n",
       "      <td>3</td>\n",
       "      <td>140</td>\n",
       "      <td>4.0</td>\n",
       "      <td>10.0</td>\n",
       "      <td>7</td>\n",
       "      <td>160</td>\n",
       "      <td>25</td>\n",
       "      <td>40.448772</td>\n",
       "    </tr>\n",
       "    <tr>\n",
       "      <th>4</th>\n",
       "      <td>120</td>\n",
       "      <td>3</td>\n",
       "      <td>1</td>\n",
       "      <td>200</td>\n",
       "      <td>6.0</td>\n",
       "      <td>11.0</td>\n",
       "      <td>14</td>\n",
       "      <td>260</td>\n",
       "      <td>25</td>\n",
       "      <td>37.840594</td>\n",
       "    </tr>\n",
       "  </tbody>\n",
       "</table>\n",
       "</div>"
      ],
      "text/plain": [
       "   calories  protein  fat  sodium  fiber  carbo  sugars  potass  vitamins  \\\n",
       "0        70        4    1     130   10.0    5.0       6     280        25   \n",
       "1        70        4    1     260    9.0    7.0       5     320        25   \n",
       "2        50        4    0     140   14.0    8.0       0     330        25   \n",
       "3       110        3    3     140    4.0   10.0       7     160        25   \n",
       "4       120        3    1     200    6.0   11.0      14     260        25   \n",
       "\n",
       "      rating  \n",
       "0  68.402973  \n",
       "1  59.425505  \n",
       "2  93.704912  \n",
       "3  40.448772  \n",
       "4  37.840594  "
      ]
     },
     "execution_count": 3,
     "metadata": {},
     "output_type": "execute_result"
    }
   ],
   "source": [
    "dfnew.head()\n",
    "#name ,mfr"
   ]
  },
  {
   "cell_type": "code",
   "execution_count": 19,
   "metadata": {},
   "outputs": [],
   "source": [
    "from sklearn.cluster import KMeans\n",
    "\n",
    "kmeans = KMeans(n_clusters=12)\n",
    "\n",
    "kmeans.fit(dfnew)\n",
    "y_kmeans = kmeans.predict(dfnew)"
   ]
  },
  {
   "cell_type": "code",
   "execution_count": 20,
   "metadata": {},
   "outputs": [
    {
     "data": {
      "text/plain": [
       "array([ 7,  8,  7,  5,  1,  1,  2,  4,  4,  0,  3,  3,  1,  4,  3,  4,  5,\n",
       "        4,  6,  6,  0,  4, 11,  4,  5,  4,  0,  4,  2,  1,  0, 11,  6,  5,\n",
       "        5, 11,  4,  3,  4, 10, 10,  6,  5,  4,  2,  5,  3,  4,  3,  5,  5,\n",
       "        6,  9,  9,  5,  2,  5,  2,  6,  6,  2,  2,  2, 11,  4,  2, 10,  1,\n",
       "       10,  6,  0,  3,  3,  4])"
      ]
     },
     "execution_count": 20,
     "metadata": {},
     "output_type": "execute_result"
    }
   ],
   "source": [
    "y_kmeans"
   ]
  },
  {
   "cell_type": "code",
   "execution_count": 22,
   "metadata": {},
   "outputs": [
    {
     "name": "stdout",
     "output_type": "stream",
     "text": [
      "   calories  protein  fat  sodium  fiber  carbo  sugars  potass  vitamins  \\\n",
      "0        70        4    1     130   10.0    5.0       6     280        25   \n",
      "1        70        4    1     260    9.0    7.0       5     320        25   \n",
      "2        50        4    0     140   14.0    8.0       0     330        25   \n",
      "3       110        3    3     140    4.0   10.0       7     160        25   \n",
      "4       120        3    1     200    6.0   11.0      14     260        25   \n",
      "\n",
      "      rating  clusterNo                      namex  \n",
      "0  68.402973          7                  100%_Bran  \n",
      "1  59.425505          8                   All-Bran  \n",
      "2  93.704912          7  All-Bran_with_Extra_Fiber  \n",
      "3  40.448772          5         Cracklin'_Oat_Bran  \n",
      "4  37.840594          1      Post_Nat._Raisin_Bran  \n"
     ]
    }
   ],
   "source": [
    "#dfnew.head()\n",
    "df3 = dfnew.assign(clusterNo = y_kmeans, namex = df['name'])\n",
    "print(df3.head())"
   ]
  },
  {
   "cell_type": "code",
   "execution_count": 24,
   "metadata": {},
   "outputs": [
    {
     "name": "stdout",
     "output_type": "stream",
     "text": [
      "                       namex  clusterNo  calories\n",
      "0                  100%_Bran          7        70\n",
      "1  All-Bran_with_Extra_Fiber          7        50\n"
     ]
    }
   ],
   "source": [
    "from pandasql import sqldf\n",
    "print(sqldf(\"select namex,clusterno,calories from df3 where clusterno=7\"))"
   ]
  },
  {
   "cell_type": "code",
   "execution_count": 25,
   "metadata": {},
   "outputs": [
    {
     "name": "stdout",
     "output_type": "stream",
     "text": [
      "                          namex  clusterNo  calories\n",
      "0                   Apple_Jacks          0       110\n",
      "1                     Corn_Pops          0       110\n",
      "2                   Froot_Loops          0       110\n",
      "3                Fruity_Pebbles          0       110\n",
      "4                          Trix          0       110\n",
      "5         Post_Nat._Raisin_Bran          1       120\n",
      "6                   Raisin_Bran          1       120\n",
      "7                   Bran_Flakes          1        90\n",
      "8                 Fruitful_Bran          1       120\n",
      "9             Total_Raisin_Bran          1       140\n",
      "10            100%_Natural_Bran          2       120\n",
      "11          Frosted_Mini-Wheats          2       100\n",
      "12                        Maypo          2       100\n",
      "13               Quaker_Oatmeal          2       100\n",
      "14               Raisin_Squares          2        90\n",
      "15               Shredded_Wheat          2        80\n",
      "16       Shredded_Wheat_'n'Bran          2        90\n",
      "17    Shredded_Wheat_spoon_size          2        90\n",
      "18      Strawberry_Fruit_Wheats          2        90\n",
      "19                      Basic_4          3       130\n",
      "20                    Bran_Chex          3        90\n",
      "21                     Cheerios          3       110\n",
      "22           Honey_Nut_Cheerios          3       110\n",
      "23         Multi-Grain_Cheerios          3       100\n",
      "24    Nutri-Grain_Almond-Raisin          3       140\n",
      "25                   Wheat_Chex          3       100\n",
      "26                     Wheaties          3       100\n",
      "27               Almond_Delight          4       110\n",
      "28      Apple_Cinnamon_Cheerios          4       110\n",
      "29                 Cap'n'Crunch          4       120\n",
      "..                          ...        ...       ...\n",
      "44       Crispy_Wheat_&_Raisins          5       100\n",
      "45            Grape_Nuts_Flakes          5       100\n",
      "46                   Grape-Nuts          5       110\n",
      "47                         Life          5       100\n",
      "48         Mueslix_Crispy_Blend          5       160\n",
      "49            Nutri-grain_Wheat          5        90\n",
      "50         Oatmeal_Raisin_Crisp          5       130\n",
      "51           Quaker_Oat_Squares          5       100\n",
      "52              Raisin_Nut_Bran          5       100\n",
      "53                    Corn_Chex          6       110\n",
      "54                  Corn_Flakes          6       100\n",
      "55               Golden_Grahams          6       110\n",
      "56                          Kix          6       110\n",
      "57                   Product_19          6       100\n",
      "58                    Rice_Chex          6       110\n",
      "59                Rice_Krispies          6       110\n",
      "60                      Triples          6       110\n",
      "61                    100%_Bran          7        70\n",
      "62    All-Bran_with_Extra_Fiber          7        50\n",
      "63                     All-Bran          8        70\n",
      "64                  Puffed_Rice          9        50\n",
      "65                 Puffed_Wheat          9        50\n",
      "66  Just_Right_Crunchy__Nuggets         10       110\n",
      "67       Just_Right_Fruit_&_Nut         10       140\n",
      "68            Total_Corn_Flakes         10       110\n",
      "69            Total_Whole_Grain         10       100\n",
      "70       Cream_of_Wheat_(Quick)         11       100\n",
      "71                 Golden_Crisp         11       100\n",
      "72           Great_Grains_Pecan         11       120\n",
      "73                       Smacks         11       110\n",
      "\n",
      "[74 rows x 3 columns]\n"
     ]
    }
   ],
   "source": [
    "print(sqldf(\"select namex,clusterno,calories from df3 order by clusterno\"))"
   ]
  },
  {
   "cell_type": "code",
   "execution_count": 71,
   "metadata": {},
   "outputs": [],
   "source": [
    "x = dfnew.iloc[:, [0,1, 2, 3, 4,5,6,7,8]].values\n",
    "y = dfnew.iloc[:,9]"
   ]
  },
  {
   "cell_type": "code",
   "execution_count": 9,
   "metadata": {},
   "outputs": [
    {
     "data": {
      "image/png": "[encoded data removed]",
      "text/plain": [
       "<Figure size 432x288 with 1 Axes>"
      ]
     },
     "metadata": {},
     "output_type": "display_data"
    }
   ],
   "source": [
    "#Finding the optimum number of clusters for k-means classification\n",
    "from sklearn.cluster import KMeans\n",
    "import matplotlib.pyplot as plt\n",
    "wcss = []\n",
    "\n",
    "for i in range(1, 11):\n",
    "    kmeans = KMeans(n_clusters = i, init = 'k-means++', max_iter = 300, n_init = 10, random_state = 0)\n",
    "    kmeans.fit(x)\n",
    "    wcss.append(kmeans.inertia_)\n",
    "    \n",
    "#Plotting the results onto a line graph, allowing us to observe 'The elbow'\n",
    "plt.plot(range(1, 11), wcss)\n",
    "plt.title('The elbow method')\n",
    "plt.xlabel('Number of clusters')\n",
    "plt.ylabel('WCSS') #within cluster sum of squares\n",
    "plt.show()"
   ]
  },
  {
   "cell_type": "code",
   "execution_count": 26,
   "metadata": {},
   "outputs": [],
   "source": [
    "# 8 cluster\n"
   ]
  },
  {
   "cell_type": "code",
   "execution_count": 27,
   "metadata": {},
   "outputs": [
    {
     "data": {
      "image/png": "[encoded data removed]",
      "text/plain": [
       "<Figure size 1080x1080 with 1 Axes>"
      ]
     },
     "metadata": {},
     "output_type": "display_data"
    }
   ],
   "source": [
    "from scipy.cluster.hierarchy import dendrogram, linkage  \n",
    "from matplotlib import pyplot as plt\n",
    "\n",
    "#df = df.set_index('name')\n",
    "#del df.index.name\n",
    "\n",
    "linked = linkage(dfnew, 'single')\n",
    "\n",
    "\n",
    "\n",
    "plt.figure(figsize=(15, 15))  \n",
    "dendrogram(linked, orientation='left',labels=df.index, color_threshold=40, above_threshold_color='grey')\n",
    "plt.show()"
   ]
  },
  {
   "cell_type": "code",
   "execution_count": 151,
   "metadata": {},
   "outputs": [
    {
     "name": "stderr",
     "output_type": "stream",
     "text": [
      "No handles with labels found to put in legend.\n"
     ]
    },
    {
     "data": {
      "text/plain": [
       "<matplotlib.legend.Legend at 0x1f22199c208>"
      ]
     },
     "execution_count": 151,
     "metadata": {},
     "output_type": "execute_result"
    },
    {
     "data": {
      "image/png": "[encoded data removed]",
      "text/plain": [
       "<Figure size 432x288 with 1 Axes>"
      ]
     },
     "metadata": {},
     "output_type": "display_data"
    }
   ],
   "source": [
    "from sklearn.cluster import AgglomerativeClustering\n",
    "import matplotlib as mpl\n",
    "\n",
    "cluster = AgglomerativeClustering(n_clusters=2, affinity='euclidean', linkage='ward')  \n",
    "cluster.fit_predict(x)\n",
    "\n",
    "\n",
    "df4 = dfnew.assign(clusterNo = cluster.labels_)\n",
    "\n",
    "fig, ax = plt.subplots()\n",
    "\n",
    "ax.scatter(x[:,0],x[:,1], c=cluster.labels_, cmap='rainbow')\n",
    "\n",
    "ax.legend(loc='lower right')"
   ]
  },
  {
   "cell_type": "code",
   "execution_count": 165,
   "metadata": {},
   "outputs": [
    {
     "data": {
      "text/html": [
       "<div>\n",
       "<style scoped>\n",
       "    .dataframe tbody tr th:only-of-type {\n",
       "        vertical-align: middle;\n",
       "    }\n",
       "\n",
       "    .dataframe tbody tr th {\n",
       "        vertical-align: top;\n",
       "    }\n",
       "\n",
       "    .dataframe thead th {\n",
       "        text-align: right;\n",
       "    }\n",
       "</style>\n",
       "<table border=\"1\" class=\"dataframe\">\n",
       "  <thead>\n",
       "    <tr style=\"text-align: right;\">\n",
       "      <th></th>\n",
       "      <th>mfr</th>\n",
       "      <th>type</th>\n",
       "      <th>calories</th>\n",
       "      <th>protein</th>\n",
       "      <th>fat</th>\n",
       "      <th>sodium</th>\n",
       "      <th>fiber</th>\n",
       "      <th>carbo</th>\n",
       "      <th>sugars</th>\n",
       "      <th>potass</th>\n",
       "      <th>vitamins</th>\n",
       "      <th>shelf</th>\n",
       "      <th>weight</th>\n",
       "      <th>cups</th>\n",
       "      <th>rating</th>\n",
       "    </tr>\n",
       "  </thead>\n",
       "  <tbody>\n",
       "    <tr>\n",
       "      <th>100%_Bran</th>\n",
       "      <td>N</td>\n",
       "      <td>C</td>\n",
       "      <td>70</td>\n",
       "      <td>4</td>\n",
       "      <td>1</td>\n",
       "      <td>130</td>\n",
       "      <td>10.0</td>\n",
       "      <td>5.0</td>\n",
       "      <td>6</td>\n",
       "      <td>280</td>\n",
       "      <td>25</td>\n",
       "      <td>3</td>\n",
       "      <td>1.00</td>\n",
       "      <td>0.33</td>\n",
       "      <td>68.402973</td>\n",
       "    </tr>\n",
       "    <tr>\n",
       "      <th>All-Bran</th>\n",
       "      <td>K</td>\n",
       "      <td>C</td>\n",
       "      <td>70</td>\n",
       "      <td>4</td>\n",
       "      <td>1</td>\n",
       "      <td>260</td>\n",
       "      <td>9.0</td>\n",
       "      <td>7.0</td>\n",
       "      <td>5</td>\n",
       "      <td>320</td>\n",
       "      <td>25</td>\n",
       "      <td>3</td>\n",
       "      <td>1.00</td>\n",
       "      <td>0.33</td>\n",
       "      <td>59.425505</td>\n",
       "    </tr>\n",
       "    <tr>\n",
       "      <th>All-Bran_with_Extra_Fiber</th>\n",
       "      <td>K</td>\n",
       "      <td>C</td>\n",
       "      <td>50</td>\n",
       "      <td>4</td>\n",
       "      <td>0</td>\n",
       "      <td>140</td>\n",
       "      <td>14.0</td>\n",
       "      <td>8.0</td>\n",
       "      <td>0</td>\n",
       "      <td>330</td>\n",
       "      <td>25</td>\n",
       "      <td>3</td>\n",
       "      <td>1.00</td>\n",
       "      <td>0.50</td>\n",
       "      <td>93.704912</td>\n",
       "    </tr>\n",
       "    <tr>\n",
       "      <th>Cracklin'_Oat_Bran</th>\n",
       "      <td>K</td>\n",
       "      <td>C</td>\n",
       "      <td>110</td>\n",
       "      <td>3</td>\n",
       "      <td>3</td>\n",
       "      <td>140</td>\n",
       "      <td>4.0</td>\n",
       "      <td>10.0</td>\n",
       "      <td>7</td>\n",
       "      <td>160</td>\n",
       "      <td>25</td>\n",
       "      <td>3</td>\n",
       "      <td>1.00</td>\n",
       "      <td>0.50</td>\n",
       "      <td>40.448772</td>\n",
       "    </tr>\n",
       "    <tr>\n",
       "      <th>Post_Nat._Raisin_Bran</th>\n",
       "      <td>P</td>\n",
       "      <td>C</td>\n",
       "      <td>120</td>\n",
       "      <td>3</td>\n",
       "      <td>1</td>\n",
       "      <td>200</td>\n",
       "      <td>6.0</td>\n",
       "      <td>11.0</td>\n",
       "      <td>14</td>\n",
       "      <td>260</td>\n",
       "      <td>25</td>\n",
       "      <td>3</td>\n",
       "      <td>1.33</td>\n",
       "      <td>0.67</td>\n",
       "      <td>37.840594</td>\n",
       "    </tr>\n",
       "  </tbody>\n",
       "</table>\n",
       "</div>"
      ],
      "text/plain": [
       "                          mfr type  calories  protein  fat  sodium  fiber  \\\n",
       "100%_Bran                   N    C        70        4    1     130   10.0   \n",
       "All-Bran                    K    C        70        4    1     260    9.0   \n",
       "All-Bran_with_Extra_Fiber   K    C        50        4    0     140   14.0   \n",
       "Cracklin'_Oat_Bran          K    C       110        3    3     140    4.0   \n",
       "Post_Nat._Raisin_Bran       P    C       120        3    1     200    6.0   \n",
       "\n",
       "                           carbo  sugars  potass  vitamins  shelf  weight  \\\n",
       "100%_Bran                    5.0       6     280        25      3    1.00   \n",
       "All-Bran                     7.0       5     320        25      3    1.00   \n",
       "All-Bran_with_Extra_Fiber    8.0       0     330        25      3    1.00   \n",
       "Cracklin'_Oat_Bran          10.0       7     160        25      3    1.00   \n",
       "Post_Nat._Raisin_Bran       11.0      14     260        25      3    1.33   \n",
       "\n",
       "                           cups     rating  \n",
       "100%_Bran                  0.33  68.402973  \n",
       "All-Bran                   0.33  59.425505  \n",
       "All-Bran_with_Extra_Fiber  0.50  93.704912  \n",
       "Cracklin'_Oat_Bran         0.50  40.448772  \n",
       "Post_Nat._Raisin_Bran      0.67  37.840594  "
      ]
     },
     "execution_count": 165,
     "metadata": {},
     "output_type": "execute_result"
    }
   ],
   "source": [
    "df4.head()\n",
    "df.head()\n"
   ]
  },
  {
   "cell_type": "code",
   "execution_count": 172,
   "metadata": {},
   "outputs": [
    {
     "data": {
      "image/png": "[encoded data removed]",
      "text/plain": [
       "<Figure size 432x288 with 1 Axes>"
      ]
     },
     "metadata": {},
     "output_type": "display_data"
    }
   ],
   "source": [
    "n = df4['clusterNo']\n",
    "\n",
    "fig, ax = plt.subplots()\n",
    "\n",
    "z = x[:,0]\n",
    "y = x[:,1]\n",
    "\n",
    "\n",
    "ax.scatter(z, y, c=cluster.labels_, cmap='rainbow')\n",
    "\n",
    "for i, txt in enumerate(n):\n",
    "    ax.annotate(txt, (z[i], y[i]))"
   ]
  },
  {
   "cell_type": "code",
   "execution_count": 179,
   "metadata": {},
   "outputs": [
    {
     "data": {
      "image/png": "[encoded data removed]",
      "text/plain": [
       "<Figure size 432x288 with 1 Axes>"
      ]
     },
     "metadata": {},
     "output_type": "display_data"
    }
   ],
   "source": [
    "fig, ax = plt.subplots()\n",
    "#cal, pro\n",
    "a1 = sqldf(\"select calories,protein,clusterno from df4 where clusterno=0\")\n",
    "a2 = sqldf(\"select calories,protein,clusterno from df4 where clusterno=1\")\n",
    "\n",
    "ax.scatter(a1['calories'],a1['protein'], color=\"red\", label=\"cluster 0\")\n",
    "ax.scatter(a2['calories'],a2['protein'], color=\"green\", label =\"cluster 1\")\n",
    "\n",
    "ax.legend()\n",
    "ax.grid(True)\n",
    "\n",
    "plt.show()"
   ]
  },
  {
   "cell_type": "code",
   "execution_count": 150,
   "metadata": {},
   "outputs": [
    {
     "name": "stderr",
     "output_type": "stream",
     "text": [
      "C:\\ProgramData\\Anaconda3\\lib\\site-packages\\matplotlib\\cbook\\__init__.py:2446: UserWarning: Saw kwargs ['c', 'color'] which are all aliases for 'color'.  Kept value from 'color'\n",
      "  seen=seen, canon=canonical, used=seen[-1]))\n"
     ]
    },
    {
     "data": {
      "image/png": "[encoded data removed]",
      "text/plain": [
       "<Figure size 432x288 with 1 Axes>"
      ]
     },
     "metadata": {},
     "output_type": "display_data"
    }
   ],
   "source": [
    "fig, ax = plt.subplots()\n",
    "from pandasql import sqldf\n",
    "\n",
    "a1 = sqldf(\"select calories,protein,clusterno from df4 where clusterno=0\")\n",
    "a2 = sqldf(\"select calories,protein,clusterno from df4 where clusterno=1\")\n",
    "\n",
    "#a1['calories']\n",
    "ax.plot(a1['calories'],a1['protein'], c=cluster.labels_, color=\"red\")\n",
    "\n",
    "ax.plot(a2['calories'],a2['protein'], c=cluster.labels_, color=\"green\")\n",
    "plt.show()"
   ]
  },
  {
   "cell_type": "code",
   "execution_count": 183,
   "metadata": {},
   "outputs": [],
   "source": [
    "# Standarize features\n",
    "#from sklearn.preprocessing import StandardScaler\n",
    "#scaler = StandardScaler()\n",
    "#X_std = scaler.fit_transform(X)\n",
    "\n",
    "\n",
    "# Since the clustering is sensitive to range of data. It is advisable to scale the data before proceeding."
   ]
  },
  {
   "cell_type": "code",
   "execution_count": 182,
   "metadata": {},
   "outputs": [
    {
     "name": "stderr",
     "output_type": "stream",
     "text": [
      "No handles with labels found to put in legend.\n"
     ]
    },
    {
     "data": {
      "image/png": "[encoded data removed]",
      "text/plain": [
       "<Figure size 432x288 with 1 Axes>"
      ]
     },
     "metadata": {},
     "output_type": "display_data"
    },
    {
     "data": {
      "image/png": "[encoded data removed]",
      "text/plain": [
       "<Figure size 432x288 with 1 Axes>"
      ]
     },
     "metadata": {},
     "output_type": "display_data"
    }
   ],
   "source": [
    "#Scaling of data\n",
    "from sklearn.preprocessing import StandardScaler\n",
    "ss = StandardScaler()\n",
    "xScale = ss.fit_transform(x)\n",
    "\n",
    "from sklearn.cluster import AgglomerativeClustering\n",
    "import matplotlib as mpl\n",
    "\n",
    "cluster = AgglomerativeClustering(n_clusters=2, affinity='euclidean', linkage='ward')  \n",
    "cluster.fit_predict(xScale)\n",
    "\n",
    "\n",
    "df4 = dfnew.assign(clusterNo = cluster.labels_)\n",
    "\n",
    "fig, ax = plt.subplots()\n",
    "\n",
    "ax.scatter(x[:,0],x[:,1], c=cluster.labels_, cmap='rainbow')\n",
    "\n",
    "ax.legend(loc='lower right')\n",
    "\n",
    "n = df4['clusterNo']\n",
    "\n",
    "fig, ax = plt.subplots()\n",
    "\n",
    "z = x[:,0]\n",
    "y = x[:,1]\n",
    "\n",
    "\n",
    "ax.scatter(z, y, c=cluster.labels_, cmap='rainbow')\n",
    "\n",
    "for i, txt in enumerate(n):\n",
    "    ax.annotate(txt, (z[i], y[i]))"
   ]
  },
  {
   "cell_type": "code",
   "execution_count": null,
   "metadata": {},
   "outputs": [],
   "source": []
  }
 ],
 "metadata": {
  "kernelspec": {
   "display_name": "Python 3",
   "language": "python",
   "name": "python3"
  },
  "language_info": {
   "codemirror_mode": {
    "name": "ipython",
    "version": 3
   },
   "file_extension": ".py",
   "mimetype": "text/x-python",
   "name": "python",
   "nbconvert_exporter": "python",
   "pygments_lexer": "ipython3",
   "version": "3.6.5"
  }
 },
 "nbformat": 4,
 "nbformat_minor": 2
}
