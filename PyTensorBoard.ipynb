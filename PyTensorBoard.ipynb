{
 "cells": [
  {
   "cell_type": "code",
   "execution_count": 1,
   "metadata": {},
   "outputs": [
    {
     "data": {
      "text/plain": [
       "(10000, 5)"
      ]
     },
     "execution_count": 1,
     "metadata": {},
     "output_type": "execute_result"
    }
   ],
   "source": [
    "## Import the library\n",
    "import tensorflow as tf\n",
    "import numpy as np\n",
    "X_train = (np.random.sample((10000,5)))\n",
    "y_train =  (np.random.sample((10000,1)))\n",
    "X_train.shape"
   ]
  },
  {
   "cell_type": "code",
   "execution_count": 3,
   "metadata": {},
   "outputs": [
    {
     "name": "stdout",
     "output_type": "stream",
     "text": [
      "INFO:tensorflow:Using default config.\n",
      "INFO:tensorflow:Using config: {'_model_dir': 'C:\\\\Users\\\\pavan\\\\Downloads\\\\train\\\\linreg', '_tf_random_seed': None, '_save_summary_steps': 100, '_save_checkpoints_steps': None, '_save_checkpoints_secs': 600, '_session_config': allow_soft_placement: true\n",
      "graph_options {\n",
      "  rewrite_options {\n",
      "    meta_optimizer_iterations: ONE\n",
      "  }\n",
      "}\n",
      ", '_keep_checkpoint_max': 5, '_keep_checkpoint_every_n_hours': 10000, '_log_step_count_steps': 100, '_train_distribute': None, '_device_fn': None, '_protocol': None, '_eval_distribute': None, '_experimental_distribute': None, '_service': None, '_cluster_spec': <tensorflow.python.training.server_lib.ClusterSpec object at 0x0000006D10B30EB8>, '_task_type': 'worker', '_task_id': 0, '_global_id_in_cluster': 0, '_master': '', '_evaluation_master': '', '_is_chief': True, '_num_ps_replicas': 0, '_num_worker_replicas': 1}\n"
     ]
    }
   ],
   "source": [
    "feature_columns = [\n",
    "      tf.feature_column.numeric_column('x', shape=X_train.shape[1:])]\n",
    "DNN_reg = tf.estimator.DNNRegressor(feature_columns=feature_columns,\n",
    "# Indicate where to store the log file    \n",
    "     model_dir='C:\\\\Users\\\\pavan\\\\Downloads\\\\train\\\\linreg',    \n",
    "     hidden_units=[500, 300],    \n",
    "     optimizer=tf.train.ProximalAdagradOptimizer(      \n",
    "          learning_rate=0.1,      \n",
    "          l1_regularization_strength=0.001    \n",
    "      )\n",
    ")"
   ]
  },
  {
   "cell_type": "code",
   "execution_count": 4,
   "metadata": {},
   "outputs": [
    {
     "name": "stdout",
     "output_type": "stream",
     "text": [
      "WARNING:tensorflow:From C:\\ProgramData\\Anaconda3\\lib\\site-packages\\tensorflow\\python\\estimator\\inputs\\queues\\feeding_queue_runner.py:62: QueueRunner.__init__ (from tensorflow.python.training.queue_runner_impl) is deprecated and will be removed in a future version.\n",
      "Instructions for updating:\n",
      "To construct input pipelines, use the `tf.data` module.\n",
      "WARNING:tensorflow:From C:\\ProgramData\\Anaconda3\\lib\\site-packages\\tensorflow\\python\\estimator\\inputs\\queues\\feeding_functions.py:500: add_queue_runner (from tensorflow.python.training.queue_runner_impl) is deprecated and will be removed in a future version.\n",
      "Instructions for updating:\n",
      "To construct input pipelines, use the `tf.data` module.\n",
      "INFO:tensorflow:Calling model_fn.\n",
      "INFO:tensorflow:Done calling model_fn.\n",
      "INFO:tensorflow:Create CheckpointSaverHook.\n",
      "INFO:tensorflow:Graph was finalized.\n",
      "INFO:tensorflow:Running local_init_op.\n",
      "INFO:tensorflow:Done running local_init_op.\n",
      "WARNING:tensorflow:From C:\\ProgramData\\Anaconda3\\lib\\site-packages\\tensorflow\\python\\training\\monitored_session.py:804: start_queue_runners (from tensorflow.python.training.queue_runner_impl) is deprecated and will be removed in a future version.\n",
      "Instructions for updating:\n",
      "To construct input pipelines, use the `tf.data` module.\n",
      "INFO:tensorflow:Saving checkpoints for 0 into C:\\Users\\pavan\\Downloads\\train\\linreg\\model.ckpt.\n",
      "INFO:tensorflow:loss = 44.454674, step = 1\n",
      "INFO:tensorflow:global_step/sec: 105.228\n",
      "INFO:tensorflow:loss = 10.386007, step = 101 (0.987 sec)\n",
      "INFO:tensorflow:global_step/sec: 110.793\n",
      "INFO:tensorflow:loss = 11.333216, step = 201 (0.880 sec)\n",
      "INFO:tensorflow:global_step/sec: 116.274\n",
      "INFO:tensorflow:loss = 11.268587, step = 301 (0.846 sec)\n",
      "INFO:tensorflow:global_step/sec: 117.054\n",
      "INFO:tensorflow:loss = 10.285451, step = 401 (0.867 sec)\n",
      "INFO:tensorflow:global_step/sec: 106.589\n",
      "INFO:tensorflow:loss = 9.559314, step = 501 (0.928 sec)\n",
      "INFO:tensorflow:global_step/sec: 116.93\n",
      "INFO:tensorflow:loss = 11.2003, step = 601 (0.857 sec)\n",
      "INFO:tensorflow:global_step/sec: 115.083\n",
      "INFO:tensorflow:loss = 10.301648, step = 701 (0.870 sec)\n",
      "INFO:tensorflow:global_step/sec: 104.294\n",
      "INFO:tensorflow:loss = 11.740391, step = 801 (0.961 sec)\n",
      "INFO:tensorflow:global_step/sec: 108.85\n",
      "INFO:tensorflow:loss = 10.959425, step = 901 (0.919 sec)\n",
      "INFO:tensorflow:global_step/sec: 106.113\n",
      "INFO:tensorflow:loss = 10.872339, step = 1001 (0.943 sec)\n",
      "INFO:tensorflow:global_step/sec: 127.607\n",
      "INFO:tensorflow:loss = 11.394543, step = 1101 (0.784 sec)\n",
      "INFO:tensorflow:global_step/sec: 116.205\n",
      "INFO:tensorflow:loss = 10.529027, step = 1201 (0.857 sec)\n",
      "INFO:tensorflow:global_step/sec: 121.938\n",
      "INFO:tensorflow:loss = 12.462165, step = 1301 (0.833 sec)\n",
      "INFO:tensorflow:global_step/sec: 123.703\n",
      "INFO:tensorflow:loss = 11.283014, step = 1401 (0.795 sec)\n",
      "INFO:tensorflow:global_step/sec: 123.753\n",
      "INFO:tensorflow:loss = 10.33252, step = 1501 (0.809 sec)\n",
      "INFO:tensorflow:global_step/sec: 107.329\n",
      "INFO:tensorflow:loss = 11.810753, step = 1601 (0.934 sec)\n",
      "INFO:tensorflow:global_step/sec: 128.282\n",
      "INFO:tensorflow:loss = 11.993243, step = 1701 (0.780 sec)\n",
      "INFO:tensorflow:global_step/sec: 124.335\n",
      "INFO:tensorflow:loss = 11.071539, step = 1801 (0.801 sec)\n",
      "INFO:tensorflow:global_step/sec: 106.973\n",
      "INFO:tensorflow:loss = 9.237014, step = 1901 (0.936 sec)\n",
      "INFO:tensorflow:global_step/sec: 105.193\n",
      "INFO:tensorflow:loss = 10.898134, step = 2001 (0.951 sec)\n",
      "INFO:tensorflow:global_step/sec: 108.388\n",
      "INFO:tensorflow:loss = 9.885416, step = 2101 (0.923 sec)\n",
      "INFO:tensorflow:global_step/sec: 107.456\n",
      "INFO:tensorflow:loss = 10.889069, step = 2201 (0.931 sec)\n",
      "INFO:tensorflow:global_step/sec: 116.745\n",
      "INFO:tensorflow:loss = 9.93278, step = 2301 (0.856 sec)\n",
      "INFO:tensorflow:global_step/sec: 122.92\n",
      "INFO:tensorflow:loss = 11.791298, step = 2401 (0.815 sec)\n",
      "INFO:tensorflow:global_step/sec: 127.304\n",
      "INFO:tensorflow:loss = 10.84544, step = 2501 (0.786 sec)\n",
      "INFO:tensorflow:global_step/sec: 126.981\n",
      "INFO:tensorflow:loss = 10.183228, step = 2601 (0.789 sec)\n",
      "INFO:tensorflow:global_step/sec: 122.618\n",
      "INFO:tensorflow:loss = 11.591008, step = 2701 (0.814 sec)\n",
      "INFO:tensorflow:global_step/sec: 129.114\n",
      "INFO:tensorflow:loss = 11.08378, step = 2801 (0.777 sec)\n",
      "INFO:tensorflow:global_step/sec: 119.681\n",
      "INFO:tensorflow:loss = 10.051272, step = 2901 (0.834 sec)\n",
      "INFO:tensorflow:Saving checkpoints for 3000 into C:\\Users\\pavan\\Downloads\\train\\linreg\\model.ckpt.\n",
      "INFO:tensorflow:Loss for final step: 9.793272.\n"
     ]
    },
    {
     "data": {
      "text/plain": [
       "<tensorflow.python.estimator.canned.dnn.DNNRegressor at 0x6d10b30b38>"
      ]
     },
     "execution_count": 4,
     "metadata": {},
     "output_type": "execute_result"
    }
   ],
   "source": [
    "# Train the estimator\n",
    "train_input = tf.estimator.inputs.numpy_input_fn(    \n",
    "     x={\"x\": X_train},    \n",
    "     y=y_train, shuffle=False,num_epochs=None)\n",
    "DNN_reg.train(train_input,steps=3000) "
   ]
  },
  {
   "cell_type": "code",
   "execution_count": 6,
   "metadata": {},
   "outputs": [],
   "source": [
    "\n",
    "#(base) C:\\WINDOWS\\system32>tensorboard --logdir=c:/users/pavan/downloads/train/linreg\n",
    "\n",
    "#TensorBoard 1.12.1 at http://radha:6006 (Press CTRL+C to quit)\n"
   ]
  },
  {
   "cell_type": "code",
   "execution_count": null,
   "metadata": {},
   "outputs": [],
   "source": []
  }
 ],
 "metadata": {
  "kernelspec": {
   "display_name": "Python 3",
   "language": "python",
   "name": "python3"
  },
  "language_info": {
   "codemirror_mode": {
    "name": "ipython",
    "version": 3
   },
   "file_extension": ".py",
   "mimetype": "text/x-python",
   "name": "python",
   "nbconvert_exporter": "python",
   "pygments_lexer": "ipython3",
   "version": "3.6.7"
  }
 },
 "nbformat": 4,
 "nbformat_minor": 2
}
