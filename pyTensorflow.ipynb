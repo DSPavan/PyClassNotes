{
 "cells": [
  {
   "cell_type": "code",
   "execution_count": 1,
   "metadata": {},
   "outputs": [
    {
     "name": "stdout",
     "output_type": "stream",
     "text": [
      "C:\\Users\\pavan\n",
      "Tensor(\"truncated_normal:0\", shape=(16, 128, 128, 3), dtype=float32)\n"
     ]
    }
   ],
   "source": [
    "import tensorflow as tf \n",
    "import matplotlib.pyplot as plt\n",
    "import os\n",
    "cwd = os.getcwd()\n",
    "print(cwd)\n",
    "\n",
    "a = tf.truncated_normal([16,128,128,3])\n",
    "sess = tf.Session()\n",
    "sess.run(tf.global_variables_initializer())\n",
    "sess.run(tf.shape(a))\n",
    "\n",
    "b=tf.reshape(a,[16,128*128*3])\n",
    "sess.run(tf.shape(b))\n",
    "print(a)"
   ]
  },
  {
   "cell_type": "code",
   "execution_count": 2,
   "metadata": {},
   "outputs": [
    {
     "name": "stdout",
     "output_type": "stream",
     "text": [
      "loaded py file\n",
      "ld Dataset\n"
     ]
    }
   ],
   "source": [
    "import os\n",
    "os.system(\"python C:\\\\users\\\\radha\\\\desktop\\\\TflowIMG\\\\dataset.py\")\n",
    "print(\"loaded py file\")\n",
    "import dataset\n",
    "print('ld Dataset')\n",
    "#classes = ['dogs', 'cats']\n",
    "#num_classes = len(classes)\n",
    "#import dataset\n",
    "import tensorflow as tf\n",
    "import time\n",
    "from datetime import timedelta\n",
    "import math\n",
    "import random\n",
    "import numpy as np\n",
    "import os\n",
    "\n",
    "#Adding Seed so that random initialization is consistent\n",
    "from numpy.random import seed\n",
    "seed(1)\n",
    "from tensorflow import set_random_seed\n",
    "set_random_seed(2)"
   ]
  },
  {
   "cell_type": "code",
   "execution_count": 3,
   "metadata": {},
   "outputs": [
    {
     "name": "stdout",
     "output_type": "stream",
     "text": [
      "2\n",
      "['dog', 'cat']\n",
      "Going to read training images\n",
      "Now going to read cat files (Index: 0)\n",
      "Now going to read dog files (Index: 1)\n",
      "<dataset.read_train_sets.<locals>.DataSets object at 0x0000004070E22390>\n",
      "Complete reading input data. Will Now print a snippet of it\n",
      "Number of files in Training-set:\t\t160\n"
     ]
    }
   ],
   "source": [
    "batch_size = 32\n",
    "\n",
    "#Prepare input data\n",
    "classes1 = os.listdir('C:\\\\Users\\\\pavan\\\\Downloads\\\\evaluation')\n",
    "classes = ['dog', 'cat']\n",
    "num_classes = len(classes)\n",
    "print(num_classes)\n",
    "print(classes)\n",
    "\n",
    "# 20% of the data will automatically be used for validation\n",
    "validation_size = 0.2\n",
    "img_size = 128\n",
    "num_channels = 3\n",
    "train_path='C:\\\\Users\\\\pavan\\\\Downloads\\\\evaluation'\n",
    "\n",
    "# We shall load all the training and validation images and labels into memory using openCV and use that during training\n",
    "data = dataset.read_train_sets(train_path, img_size, classes1, validation_size=validation_size)\n",
    "print(data)\n",
    "\n",
    "print(\"Complete reading input data. Will Now print a snippet of it\")\n",
    "print(\"Number of files in Training-set:\\t\\t{}\".format(len(data.train.labels)))"
   ]
  },
  {
   "cell_type": "code",
   "execution_count": 5,
   "metadata": {},
   "outputs": [
    {
     "name": "stdout",
     "output_type": "stream",
     "text": [
      "WARNING:tensorflow:From <ipython-input-5-fea674836c46>:15: calling argmax (from tensorflow.python.ops.math_ops) with dimension is deprecated and will be removed in a future version.\n",
      "Instructions for updating:\n",
      "Use the `axis` argument instead\n"
     ]
    }
   ],
   "source": [
    "#\n",
    "tf.summary.FileWriterCache.clear()\n",
    "session = tf.Session()\n",
    "\n",
    "# tf.summary.FileWriter('board_beginner',sess.graph)   # magic board  \n",
    "\n",
    "logdir = 'C:\\\\Users\\\\pavan\\\\Downloads\\\\dt2'\n",
    "writer = tf.summary.FileWriter(logdir)  # create writer\n",
    "writer.add_graph(session.graph)\n",
    "\n",
    "x = tf.placeholder(tf.float32, shape=[None, img_size,img_size,num_channels], name='x')\n",
    "\n",
    "## labels\n",
    "y_true = tf.placeholder(tf.float32, shape=[None, num_classes], name='y_true')\n",
    "y_true_cls = tf.argmax(y_true, dimension=1)\n",
    "\n",
    "##Network graph params\n",
    "filter_size_conv1 = 3 \n",
    "num_filters_conv1 = 32\n",
    "\n",
    "filter_size_conv2 = 3\n",
    "num_filters_conv2 = 32\n",
    "\n",
    "filter_size_conv3 = 3\n",
    "num_filters_conv3 = 64\n",
    "    \n",
    "fc_layer_size = 128\n"
   ]
  },
  {
   "cell_type": "code",
   "execution_count": null,
   "metadata": {},
   "outputs": [],
   "source": []
  },
  {
   "cell_type": "code",
   "execution_count": 6,
   "metadata": {},
   "outputs": [],
   "source": [
    "def create_weights(shape):\n",
    "    return tf.Variable(tf.truncated_normal(shape, stddev=0.05))\n",
    "\n",
    "def create_biases(size):\n",
    "    return tf.Variable(tf.constant(0.05, shape=[size]))\n",
    "\n",
    "\n",
    "\n",
    "def create_convolutional_layer(input,\n",
    "               num_input_channels, \n",
    "               conv_filter_size,        \n",
    "               num_filters):  \n",
    "    \n",
    "    ## We shall define the weights that will be trained using create_weights function.\n",
    "    weights = create_weights(shape=[conv_filter_size, conv_filter_size, num_input_channels, num_filters])\n",
    "    ## We create biases using the create_biases function. These are also trained.\n",
    "    biases = create_biases(num_filters)\n",
    "\n",
    "    ## Creating the convolutional layer\n",
    "    layer = tf.nn.conv2d(input=input,\n",
    "                     filter=weights,\n",
    "                     strides=[1, 1, 1, 1],\n",
    "                     padding='SAME')\n",
    "\n",
    "    layer += biases\n",
    "\n",
    "    ## We shall be using max-pooling.  \n",
    "    layer = tf.nn.max_pool(value=layer,\n",
    "                            ksize=[1, 2, 2, 1],\n",
    "                            strides=[1, 2, 2, 1],\n",
    "                            padding='SAME')\n",
    "    ## Output of pooling is fed to Relu which is the activation function for us.\n",
    "    layer = tf.nn.relu(layer)\n",
    "    \n",
    "    tf.summary.histogram(\"weight\",weights)\n",
    "    tf.summary.histogram(\"Bias\",biases )\n",
    "    tf.summary.histogram(\"activation\",layer)\n",
    "\n",
    "    return layer\n",
    "\n"
   ]
  },
  {
   "cell_type": "code",
   "execution_count": 7,
   "metadata": {},
   "outputs": [],
   "source": [
    "def create_flatten_layer(layer):\n",
    "    #We know that the shape of the layer will be [batch_size img_size img_size num_channels] \n",
    "    # But let's get it from the previous layer.\n",
    "    layer_shape = layer.get_shape()\n",
    "\n",
    "    ## Number of features will be img_height * img_width* num_channels. But we shall calculate it in place of hard-coding it.\n",
    "    num_features = layer_shape[1:4].num_elements()\n",
    "\n",
    "    ## Now, we Flatten the layer so we shall have to reshape to num_features\n",
    "    layer = tf.reshape(layer, [-1, num_features])\n",
    "\n",
    "    return layer"
   ]
  },
  {
   "cell_type": "code",
   "execution_count": 8,
   "metadata": {},
   "outputs": [],
   "source": [
    "def create_fc_layer(input,          \n",
    "             num_inputs,    \n",
    "             num_outputs,\n",
    "             use_relu=True):\n",
    "    \n",
    "    #Let's define trainable weights and biases.\n",
    "    weights = create_weights(shape=[num_inputs, num_outputs])\n",
    "    biases = create_biases(num_outputs)\n",
    "\n",
    "    # Fully connected layer takes input x and produces wx+b.Since, these are matrices, we use matmul function in Tensorflow\n",
    "    layer = tf.matmul(input, weights) + biases\n",
    "    if use_relu:\n",
    "        layer = tf.nn.relu(layer)\n",
    "\n",
    "    tf.summary.histogram(\"weight\",weights)\n",
    "    tf.summary.histogram(\"Bias\",biases )\n",
    "    tf.summary.histogram(\"activation\",layer)\n",
    "    return layer"
   ]
  },
  {
   "cell_type": "code",
   "execution_count": 10,
   "metadata": {},
   "outputs": [
    {
     "name": "stdout",
     "output_type": "stream",
     "text": [
      "WARNING:tensorflow:From <ipython-input-10-9e64b2c25fb7>:32: softmax_cross_entropy_with_logits (from tensorflow.python.ops.nn_ops) is deprecated and will be removed in a future version.\n",
      "Instructions for updating:\n",
      "\n",
      "Future major versions of TensorFlow will allow gradients to flow\n",
      "into the labels input on backprop by default.\n",
      "\n",
      "See `tf.nn.softmax_cross_entropy_with_logits_v2`.\n",
      "\n"
     ]
    },
    {
     "data": {
      "text/plain": [
       "<tf.Tensor 'accuracy:0' shape=() dtype=string>"
      ]
     },
     "execution_count": 10,
     "metadata": {},
     "output_type": "execute_result"
    }
   ],
   "source": [
    "layer_conv1 = create_convolutional_layer(input=x,\n",
    "               num_input_channels=num_channels,\n",
    "               conv_filter_size=filter_size_conv1,\n",
    "               num_filters=num_filters_conv1)\n",
    "layer_conv2 = create_convolutional_layer(input=layer_conv1,\n",
    "               num_input_channels=num_filters_conv1,\n",
    "               conv_filter_size=filter_size_conv2,\n",
    "               num_filters=num_filters_conv2)\n",
    "\n",
    "layer_conv3= create_convolutional_layer(input=layer_conv2,\n",
    "               num_input_channels=num_filters_conv2,\n",
    "               conv_filter_size=filter_size_conv3,\n",
    "               num_filters=num_filters_conv3)\n",
    "          \n",
    "layer_flat = create_flatten_layer(layer_conv3)\n",
    "\n",
    "layer_fc1 = create_fc_layer(input=layer_flat,\n",
    "                     num_inputs=layer_flat.get_shape()[1:4].num_elements(),\n",
    "                     num_outputs=fc_layer_size,\n",
    "                     use_relu=True)\n",
    "\n",
    "layer_fc2 = create_fc_layer(input=layer_fc1,\n",
    "                     num_inputs=fc_layer_size,\n",
    "                     num_outputs=num_classes,\n",
    "                     use_relu=False) \n",
    "\n",
    "y_pred = tf.nn.softmax(layer_fc2,name='y_pred')\n",
    "\n",
    "y_pred_cls = tf.argmax(y_pred, dimension=1)\n",
    "session.run(tf.global_variables_initializer())\n",
    "cross_entropy = tf.nn.softmax_cross_entropy_with_logits(logits=layer_fc2,\n",
    "                                                    labels=y_true)\n",
    "cost = tf.reduce_mean(cross_entropy)\n",
    "optimizer = tf.train.AdamOptimizer(learning_rate=1e-4).minimize(cost)\n",
    "correct_prediction = tf.equal(y_pred_cls, y_true_cls)\n",
    "accuracy = tf.reduce_mean(tf.cast(correct_prediction, tf.float32))\n",
    "\n",
    "\n",
    "session.run(tf.global_variables_initializer()) \n",
    "\n",
    "tf.summary.scalar(\"cross-entropy\", cross_entropy)\n",
    "tf.summary.scalar(\"accuracy\",accuracy)"
   ]
  },
  {
   "cell_type": "code",
   "execution_count": 11,
   "metadata": {},
   "outputs": [],
   "source": [
    "def show_progress(epoch, feed_dict_train, feed_dict_validate, val_loss):\n",
    "    acc = session.run(accuracy, feed_dict=feed_dict_train)\n",
    "    val_acc = session.run(accuracy, feed_dict=feed_dict_validate)\n",
    "    msg = \"Training Epoch {0} --- Training Accuracy: {1:>6.1%}, Validation Accuracy: {2:>6.1%},  Validation Loss: {3:.3f}\"\n",
    "    print(msg.format(epoch + 1, acc, val_acc, val_loss))\n",
    "\n",
    "total_iterations = 0\n",
    "\n",
    "saverx = tf.train.Saver()"
   ]
  },
  {
   "cell_type": "code",
   "execution_count": 14,
   "metadata": {},
   "outputs": [],
   "source": [
    "def train(num_iteration):\n",
    "    global total_iterations\n",
    "    \n",
    "    for i in range(total_iterations,\n",
    "                   total_iterations + num_iteration):\n",
    "\n",
    "        x_batch, y_true_batch, _, cls_batch = data.train.next_batch(batch_size)\n",
    "        x_valid_batch, y_valid_batch, _, valid_cls_batch = data.valid.next_batch(batch_size)\n",
    "\n",
    "        \n",
    "        feed_dict_tr = {x: x_batch,\n",
    "                           y_true: y_true_batch}\n",
    "        feed_dict_val = {x: x_valid_batch,\n",
    "                              y_true: y_valid_batch}\n",
    "\n",
    "        session.run(optimizer, feed_dict=feed_dict_tr)\n",
    "\n",
    "        if i % int(data.train.num_examples/batch_size) == 0: \n",
    "            #s=session.run(merged_summary,feed_dict={x: x_batch,   y_true: y_true_batch})\n",
    "           # write.add_summary(s,i)\n",
    "                 \n",
    "            val_loss = session.run(cost, feed_dict=feed_dict_val)\n",
    "            epoch = int(i / int(data.train.num_examples/batch_size))    \n",
    "            \n",
    "            show_progress(epoch, feed_dict_tr, feed_dict_val, val_loss)\n",
    "            saverx.save(session, 'C:\\\\Users\\\\pavan\\\\Downloads\\\\dt2\\\\dogs-cats-model') \n",
    "\n",
    "\n",
    "    total_iterations += num_iteration"
   ]
  },
  {
   "cell_type": "code",
   "execution_count": 15,
   "metadata": {},
   "outputs": [
    {
     "name": "stdout",
     "output_type": "stream",
     "text": [
      "Training Epoch 1 --- Training Accuracy:  62.5%, Validation Accuracy:  37.5%,  Validation Loss: 0.711\n",
      "Training Epoch 2 --- Training Accuracy:  62.5%, Validation Accuracy:  37.5%,  Validation Loss: 0.720\n",
      "Training Epoch 3 --- Training Accuracy:  68.8%, Validation Accuracy:  43.8%,  Validation Loss: 0.697\n",
      "Training Epoch 4 --- Training Accuracy:  62.5%, Validation Accuracy:  37.5%,  Validation Loss: 0.711\n",
      "Training Epoch 5 --- Training Accuracy:  62.5%, Validation Accuracy:  40.6%,  Validation Loss: 0.705\n",
      "Training Epoch 6 --- Training Accuracy:  71.9%, Validation Accuracy:  43.8%,  Validation Loss: 0.696\n",
      "Training Epoch 7 --- Training Accuracy:  71.9%, Validation Accuracy:  50.0%,  Validation Loss: 0.700\n",
      "Training Epoch 8 --- Training Accuracy:  71.9%, Validation Accuracy:  50.0%,  Validation Loss: 0.696\n",
      "Training Epoch 9 --- Training Accuracy:  71.9%, Validation Accuracy:  46.9%,  Validation Loss: 0.691\n",
      "Training Epoch 10 --- Training Accuracy:  75.0%, Validation Accuracy:  53.1%,  Validation Loss: 0.690\n",
      "Training Epoch 11 --- Training Accuracy:  71.9%, Validation Accuracy:  56.2%,  Validation Loss: 0.686\n",
      "Training Epoch 12 --- Training Accuracy:  71.9%, Validation Accuracy:  56.2%,  Validation Loss: 0.682\n",
      "Training Epoch 13 --- Training Accuracy:  68.8%, Validation Accuracy:  59.4%,  Validation Loss: 0.679\n",
      "Training Epoch 14 --- Training Accuracy:  71.9%, Validation Accuracy:  59.4%,  Validation Loss: 0.674\n",
      "Training Epoch 15 --- Training Accuracy:  71.9%, Validation Accuracy:  59.4%,  Validation Loss: 0.670\n",
      "Training Epoch 16 --- Training Accuracy:  71.9%, Validation Accuracy:  59.4%,  Validation Loss: 0.666\n",
      "Training Epoch 17 --- Training Accuracy:  75.0%, Validation Accuracy:  59.4%,  Validation Loss: 0.662\n",
      "Training Epoch 18 --- Training Accuracy:  75.0%, Validation Accuracy:  59.4%,  Validation Loss: 0.658\n",
      "Training Epoch 19 --- Training Accuracy:  78.1%, Validation Accuracy:  59.4%,  Validation Loss: 0.653\n",
      "Training Epoch 20 --- Training Accuracy:  78.1%, Validation Accuracy:  59.4%,  Validation Loss: 0.648\n"
     ]
    }
   ],
   "source": [
    "train(num_iteration=100)"
   ]
  },
  {
   "cell_type": "code",
   "execution_count": 26,
   "metadata": {},
   "outputs": [
    {
     "name": "stdout",
     "output_type": "stream",
     "text": [
      "C:\\Users\\pavan\n",
      "-f d\n",
      "C:\\Users\\pavan\\dog\\67.jpg\n",
      "INFO:tensorflow:Restoring parameters from C:\\Users\\pavan\\Downloads\\dt2\\dogs-cats-model\n",
      "[[0.42943516 0.5705648 ]]\n",
      "0.42943516\n",
      "this image is a DOG\n",
      "done: Cat 0 :: Dog 1\n"
     ]
    },
    {
     "data": {
      "image/png": "[encoded data removed]",
      "text/plain": [
       "<Figure size 432x288 with 1 Axes>"
      ]
     },
     "metadata": {
      "needs_background": "light"
     },
     "output_type": "display_data"
    }
   ],
   "source": [
    "import tensorflow as tf\n",
    "import numpy as np\n",
    "import os,glob,cv2\n",
    "import sys,argparse\n",
    "\n",
    "train_path='C:\\\\Users\\\\pavan\\\\Downloads\\\\evaluation\\\\'\n",
    "# First, pass the path of the image\n",
    "dir_path = os.path.dirname(os.path.realpath('__file__'))\n",
    "print(dir_path)\n",
    "image_path=sys.argv[1] \n",
    "print(image_path, \"d\")\n",
    "# 4, 67, 137\n",
    "filename = dir_path +'\\\\' +\"dog\\\\67.jpg\"\n",
    "print(filename)\n",
    "image_size=128\n",
    "num_channels=3\n",
    "images = []\n",
    "# Reading the image using OpenCV\n",
    "image = cv2.imread(filename)\n",
    "# Resizing the image to our desired size and preprocessing will be done exactly as done during training\n",
    "image = cv2.resize(image, (image_size, image_size),0,0, cv2.INTER_LINEAR)\n",
    "images.append(image)\n",
    "images = np.array(images, dtype=np.uint8)\n",
    "images = images.astype('float32')\n",
    "images = np.multiply(images, 1.0/255.0) \n",
    "#The input to the network is of shape [None image_size image_size num_channels]. Hence we reshape.\n",
    "x_batch = images.reshape(1, image_size,image_size,num_channels)\n",
    "\n",
    "## Let us restore the saved model \n",
    "sess = tf.Session()\n",
    "# Step-1: Recreate the network graph. At this step only graph is created.\n",
    "saver = tf.train.import_meta_graph('C:\\\\Users\\\\pavan\\\\Downloads\\\\dt2\\\\dogs-cats-model.meta')\n",
    "# Step-2: Now let's load the weights saved using the restore method.\n",
    "saver.restore(sess, tf.train.latest_checkpoint('C:\\\\Users\\\\pavan\\\\Downloads\\\\dt2'))\n",
    "\n",
    "# Accessing the default graph which we have restored\n",
    "graph = tf.get_default_graph()\n",
    "\n",
    "# Now, let's get hold of the op that we can be processed to get the output.\n",
    "# In the original network y_pred is the tensor that is the prediction of the network\n",
    "y_pred = graph.get_tensor_by_name(\"y_pred:0\")\n",
    "\n",
    "## Let's feed the images to the input placeholders\n",
    "x= graph.get_tensor_by_name(\"x:0\") \n",
    "y_true = graph.get_tensor_by_name(\"y_true:0\") \n",
    "y_test_images = np.zeros((1, len(os.listdir(train_path)))) \n",
    "\n",
    "\n",
    "### Creating the feed_dict that is required to be fed to calculate y_pred \n",
    "feed_dict_testing = {x: x_batch, y_true: y_test_images}\n",
    "result=sess.run(y_pred, feed_dict=feed_dict_testing)\n",
    "# result is of this format [probabiliy_of_rose probability_of_sunflower]\n",
    "print(result)\n",
    "print(result[0][0])\n",
    "\n",
    "if(result[0][1] >=0.50):\n",
    "    print(\"this image is a DOG\")\n",
    "else:\n",
    "    print(\"this image is a CAT\")\n",
    "print(\"done: Cat 0 :: Dog 1\")\n",
    "\n",
    "import matplotlib.image as mpimg\n",
    "img=mpimg.imread(filename)\n",
    "imgplot = plt.imshow(img)\n",
    "plt.show()\n"
   ]
  },
  {
   "cell_type": "code",
   "execution_count": null,
   "metadata": {},
   "outputs": [],
   "source": []
  }
 ],
 "metadata": {
  "kernelspec": {
   "display_name": "Python 3",
   "language": "python",
   "name": "python3"
  },
  "language_info": {
   "codemirror_mode": {
    "name": "ipython",
    "version": 3
   },
   "file_extension": ".py",
   "mimetype": "text/x-python",
   "name": "python",
   "nbconvert_exporter": "python",
   "pygments_lexer": "ipython3",
   "version": "3.6.7"
  }
 },
 "nbformat": 4,
 "nbformat_minor": 2
}
