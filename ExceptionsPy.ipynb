{
 "cells": [
  {
   "cell_type": "code",
   "execution_count": 6,
   "metadata": {},
   "outputs": [
    {
     "name": "stdout",
     "output_type": "stream",
     "text": [
      "Handling run-time error: division by zero\n"
     ]
    }
   ],
   "source": [
    "## ZeroDivisionError: division by zero \n",
    "\n",
    "## example are ZeroDivisionError, NameError and TypeError. \n",
    "\n",
    "\n",
    "\n",
    "# exceptions , Handling\n",
    "# try - except\n",
    "#try - except-else\n",
    "# try - except - else- finally\n",
    "\n",
    "# 10 * (1/0)\n",
    "\n",
    "try:\n",
    "    10 * (1/0)\n",
    "except Exception as err:\n",
    "     print('Handling run-time error:', err)"
   ]
  },
  {
   "cell_type": "code",
   "execution_count": 3,
   "metadata": {},
   "outputs": [
    {
     "name": "stdout",
     "output_type": "stream",
     "text": [
      "An exception by! Customized Error\n"
     ]
    }
   ],
   "source": [
    " # 2nd - RAISE\n",
    "\n",
    "try:\n",
    "    raise NameError('Customized Error')\n",
    "except NameError as err:\n",
    "    print('An exception by!',err)"
   ]
  },
  {
   "cell_type": "code",
   "execution_count": 7,
   "metadata": {},
   "outputs": [
    {
     "name": "stdout",
     "output_type": "stream",
     "text": [
      "result is 10.0\n",
      "executing finally clause\n"
     ]
    }
   ],
   "source": [
    "# Finallly\n",
    "def divide(x, y):\n",
    "     try:\n",
    "         result = x / y\n",
    "     \n",
    "     except ZeroDivisionError:\n",
    "         print(\"division by zero! -Error\")\n",
    "     \n",
    "     else:\n",
    "         print(\"result is\", result)\n",
    "     \n",
    "     finally:\n",
    "         print(\"executing finally clause\")    \n",
    "         \n",
    "# divide(10,0)\n",
    "divide(10,1)"
   ]
  },
  {
   "cell_type": "code",
   "execution_count": 8,
   "metadata": {},
   "outputs": [
    {
     "name": "stdout",
     "output_type": "stream",
     "text": [
      "error [Errno 2] No such file or directory: 'abcd.txt'\n"
     ]
    }
   ],
   "source": [
    "try:\n",
    "    fx = open(\"abcd.txt\", \"r\")\n",
    "    fx.read()\n",
    "    fx.close()\n",
    "except Exception as err:\n",
    "    print(\"error\",err)"
   ]
  },
  {
   "cell_type": "code",
   "execution_count": 9,
   "metadata": {},
   "outputs": [
    {
     "name": "stdout",
     "output_type": "stream",
     "text": [
      "A New Exception occured:  6\n"
     ]
    }
   ],
   "source": [
    "# user defined -NOT NOW, after knowing CLASSES - OOP concepts\n",
    "    \n",
    "# A python program to create user-defined exception\n",
    " \n",
    "# class MyError is derived from super class Exception\n",
    "# # Value of Exception is stored in error\n",
    "class MyError(Exception):\n",
    " \n",
    "    # Constructor or Initializer\n",
    "    def __init__(self, value):\n",
    "        self.value = value\n",
    " \n",
    "    # __str__ is to print() the value\n",
    "    def __str__(self):\n",
    "        return(repr(self.value))\n",
    "\n",
    "try:\n",
    "    raise(MyError(3*2))\n",
    "except MyError as error:\n",
    "    print('A New Exception occured: ',error.value)    \n",
    "    "
   ]
  },
  {
   "cell_type": "code",
   "execution_count": 10,
   "metadata": {},
   "outputs": [
    {
     "name": "stdout",
     "output_type": "stream",
     "text": [
      "Enter a number: 5\n",
      "This value is too small, try again!\n",
      "\n",
      "Enter a number: 10\n",
      "Congratulations! You guessed it correctly.\n"
     ]
    }
   ],
   "source": [
    "# define Python user-defined exceptions\n",
    "class Error(Exception):\n",
    "   \"\"\"Base class for other exceptions\"\"\"\n",
    "   pass\n",
    "\n",
    "class ValueTooSmallError(Error):\n",
    "   \"\"\"Raised when the input value is too small\"\"\"\n",
    "   pass\n",
    "\n",
    "class ValueTooLargeError(Error):\n",
    "   \"\"\"Raised when the input value is too large\"\"\"\n",
    "   pass\n",
    "\n",
    "# our main program\n",
    "# user guesses a number until he/she gets it right\n",
    "\n",
    "# you need to guess this number\n",
    "number = 10\n",
    "\n",
    "while True:\n",
    "   try:\n",
    "       i_num = int(input(\"Enter a number: \"))\n",
    "       if i_num < number:\n",
    "           raise ValueTooSmallError\n",
    "       elif i_num > number:\n",
    "           raise ValueTooLargeError\n",
    "       break\n",
    "   except ValueTooSmallError:\n",
    "       print(\"This value is too small, try again!\")\n",
    "       print()\n",
    "   except ValueTooLargeError:\n",
    "       print(\"This value is too large, try again!\")\n",
    "       print()\n",
    "\n",
    "print(\"Congratulations! You guessed it correctly.\")"
   ]
  },
  {
   "cell_type": "code",
   "execution_count": null,
   "metadata": {},
   "outputs": [],
   "source": []
  }
 ],
 "metadata": {
  "kernelspec": {
   "display_name": "Python 3",
   "language": "python",
   "name": "python3"
  },
  "language_info": {
   "codemirror_mode": {
    "name": "ipython",
    "version": 3
   },
   "file_extension": ".py",
   "mimetype": "text/x-python",
   "name": "python",
   "nbconvert_exporter": "python",
   "pygments_lexer": "ipython3",
   "version": "3.6.5"
  }
 },
 "nbformat": 4,
 "nbformat_minor": 2
}
