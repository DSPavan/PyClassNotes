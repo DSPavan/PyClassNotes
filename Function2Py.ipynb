{
 "cells": [
  {
   "cell_type": "code",
   "execution_count": 24,
   "metadata": {},
   "outputs": [],
   "source": [
    "# Finction, Purpose,use, Creating a Function, Calling a function\n",
    "\n",
    "# special functions\n",
    "# *argv, **kwargs\n",
    "# lambda, Map, Zip, reduce, filter - \n",
    "\n",
    "# Decorators\n",
    "# Generators\n",
    "# Iterators\n",
    "## Function file import into another file\n",
    "\n",
    "# BMI userdefined function, full code in  separate file\n"
   ]
  },
  {
   "cell_type": "code",
   "execution_count": 1,
   "metadata": {},
   "outputs": [
    {
     "name": "stdout",
     "output_type": "stream",
     "text": [
      "30\n"
     ]
    }
   ],
   "source": [
    "# function\n",
    "\n",
    "def sum(a=10,b=20):\n",
    "    \"sum of two values\"\n",
    "    c = a+b\n",
    "    return c\n",
    "\n",
    "\n",
    "total = sum()\n",
    "print(total)"
   ]
  },
  {
   "cell_type": "code",
   "execution_count": 2,
   "metadata": {},
   "outputs": [
    {
     "name": "stdout",
     "output_type": "stream",
     "text": [
      "30\n"
     ]
    }
   ],
   "source": [
    "def sum(a,b):\n",
    "    \"sum of two values\"\n",
    "    c = a+b\n",
    "    return c\n",
    "\n",
    "\n",
    "x = 10\n",
    "y = 20\n",
    "total = sum(x,y)\n",
    "print(total)"
   ]
  },
  {
   "cell_type": "code",
   "execution_count": 57,
   "metadata": {},
   "outputs": [
    {
     "name": "stdout",
     "output_type": "stream",
     "text": [
      "50\n",
      "50\n",
      "50\n"
     ]
    }
   ],
   "source": [
    "# 4 ways - !!\n",
    "# Required arguments \n",
    "def test(x,y):\n",
    "    print(x+y)\n",
    "\n",
    "test(20,30)\n",
    "\n",
    "# Default arguments \n",
    "def test(x,y=30):\n",
    "    print(x+y)\n",
    "\n",
    "test(20) # Y value not givn,, From default\n",
    "\n",
    "# Keyword arguments  - Order does not matter\n",
    "test(y=30,x=20)\n",
    "\n",
    "\n"
   ]
  },
  {
   "cell_type": "code",
   "execution_count": 60,
   "metadata": {},
   "outputs": [
    {
     "data": {
      "text/plain": [
       "100"
      ]
     },
     "execution_count": 60,
     "metadata": {},
     "output_type": "execute_result"
    }
   ],
   "source": [
    "# Variable-length arguments \n",
    "def test(x,*y):\n",
    "    for value in y:\n",
    "        #print(x,value)\n",
    "        x = (x+value)\n",
    "        #print(x)\n",
    "    return x\n",
    "\n",
    "test(20,30,50)"
   ]
  },
  {
   "cell_type": "code",
   "execution_count": 4,
   "metadata": {},
   "outputs": [
    {
     "name": "stdout",
     "output_type": "stream",
     "text": [
      "Hi Gudipati  pavan\n"
     ]
    }
   ],
   "source": [
    "def my_function(fname):\n",
    "  print(fname + \" pavan\")\n",
    "\n",
    "my_function(\"Hi Gudipati \")"
   ]
  },
  {
   "cell_type": "code",
   "execution_count": 6,
   "metadata": {},
   "outputs": [
    {
     "name": "stdout",
     "output_type": "stream",
     "text": [
      "Value of total :  30\n"
     ]
    }
   ],
   "source": [
    "# Lambda Functions - Limitation, Only one expression\n",
    "# Function definition is here\n",
    "sum = lambda X, Y : X + Y;\n",
    "\n",
    "# Now you can call sum as a function\n",
    "print (\"Value of total : \", sum( 10, 20 ))"
   ]
  },
  {
   "cell_type": "code",
   "execution_count": 14,
   "metadata": {},
   "outputs": [
    {
     "name": "stdout",
     "output_type": "stream",
     "text": [
      "20\n"
     ]
    }
   ],
   "source": [
    "add = lambda x, y,z : x*y+ z \n",
    "  \n",
    "print (add(2, 5,10)) # Output: 5"
   ]
  },
  {
   "cell_type": "code",
   "execution_count": 7,
   "metadata": {},
   "outputs": [
    {
     "name": "stdout",
     "output_type": "stream",
     "text": [
      "first argument : Hello\n",
      "Next argument through *argv : Welcome\n",
      "Next argument through *argv : to\n",
      "Next argument through *argv : Imarticus\n"
     ]
    }
   ],
   "source": [
    "##  *ARGV \n",
    "# Very important\n",
    "# for group of items inArguments\n",
    "def testify(arg1, *argv):\n",
    "    print (\"first argument :\", arg1)\n",
    "    for arg in argv:\n",
    "        print (\"Next argument through *argv :\", arg)\n",
    "\n",
    "        \n",
    "testify('Hello', 'Welcome', 'to', 'Imarticus')"
   ]
  },
  {
   "cell_type": "code",
   "execution_count": 11,
   "metadata": {},
   "outputs": [
    {
     "name": "stdout",
     "output_type": "stream",
     "text": [
      "first argument : 100\n",
      "Next argument through *argv : 2\n",
      "Arg 2\n",
      "Next argument through *argv : 5\n",
      "Arg 10\n",
      "5 10\n",
      "110\n"
     ]
    }
   ],
   "source": [
    "##  *ARGV \n",
    "# Very important\n",
    "# for group of items inArguments\n",
    "def mulitply(arg1, *argv):\n",
    "    print (\"first argument :\", arg1)\n",
    "    amt = 1;\n",
    "    for arg in argv:\n",
    "        print (\"Next argument through *argv :\", arg)\n",
    "        amt *= arg\n",
    "        print(\"Arg\",amt)\n",
    "    print(arg ,amt)    \n",
    "    return amt+arg1    \n",
    "        \n",
    "\n",
    "    \n",
    "# 100 +( 2*5*N)  = (2,5,10) etc\n",
    "m  = mulitply(100,2,5)\n",
    "print(m)"
   ]
  },
  {
   "cell_type": "code",
   "execution_count": 13,
   "metadata": {},
   "outputs": [
    {
     "name": "stdout",
     "output_type": "stream",
     "text": [
      "arg3 == 3\n",
      "arg2 == two\n",
      "arg1 == 5\n"
     ]
    }
   ],
   "source": [
    "## KWARGS - Dictionary\n",
    "\n",
    "def hello(**kwargs):\n",
    "    if kwargs is not None:\n",
    "        for key, value in kwargs.items():\n",
    "            print (\"%s == %s\" %(key, value))\n",
    "            \n",
    "            \n",
    "kwargs = {\"arg3\": 3, \"arg2\": \"two\",\"arg1\":5}\n",
    "x = hello(**kwargs)"
   ]
  },
  {
   "cell_type": "code",
   "execution_count": 15,
   "metadata": {},
   "outputs": [
    {
     "name": "stdout",
     "output_type": "stream",
     "text": [
      "[2, 4, 6, 8]\n"
     ]
    }
   ],
   "source": [
    "# MAP function - Iteration on List, without using for Loop\n",
    "\n",
    "def multiply2(x):\n",
    "  return x * 2\n",
    "    \n",
    "ans = map(multiply2, [1, 2, 3, 4]) \n",
    "print(list(ans))"
   ]
  },
  {
   "cell_type": "code",
   "execution_count": 16,
   "metadata": {},
   "outputs": [
    {
     "name": "stdout",
     "output_type": "stream",
     "text": [
      "[2, 4, 6, 8]\n"
     ]
    }
   ],
   "source": [
    "# MAP, lambda\n",
    "ans = map(lambda x : x*2, [1, 2, 3, 4]) \n",
    "print(list(ans))"
   ]
  },
  {
   "cell_type": "code",
   "execution_count": 17,
   "metadata": {},
   "outputs": [
    {
     "name": "stdout",
     "output_type": "stream",
     "text": [
      "['python', 'java']\n",
      "[100, 80]\n",
      "[True, False]\n"
     ]
    }
   ],
   "source": [
    "# Dictionary\n",
    "dict_a = [{'name': 'python', 'points': 10}, {'name': 'java', 'points': 8}]\n",
    "  \n",
    "m1 = map(lambda x : x['name'], dict_a) # Output: ['python', 'java']\n",
    "  \n",
    "m2 = map(lambda x : x['points']*10,  dict_a) # Output: [100, 80]\n",
    "\n",
    "m3 = map(lambda x : x['name'] == \"python\", dict_a) # Output: [True, False] \n",
    "\n",
    "\n",
    "print(list(m1))\n",
    "print(list(m2))\n",
    "print(list(m3))"
   ]
  },
  {
   "cell_type": "code",
   "execution_count": 18,
   "metadata": {},
   "outputs": [
    {
     "name": "stdout",
     "output_type": "stream",
     "text": [
      "[2, 4, 6]\n"
     ]
    }
   ],
   "source": [
    "# Filter\n",
    "a = [1, 2, 3, 4, 5, 6]\n",
    "ft = filter(lambda x : x % 2 == 0, a) # Output: [2, 4, 6]\n",
    "print(list(ft))\n"
   ]
  },
  {
   "cell_type": "code",
   "execution_count": 21,
   "metadata": {},
   "outputs": [
    {
     "name": "stdout",
     "output_type": "stream",
     "text": [
      "[(1, 'a'), (2, 'b'), (3, 'c'), (4, 'd'), (5, 'e')]\n"
     ]
    }
   ],
   "source": [
    "# ZIp - Join 2 Lists - Actually Adding two columns side by side - Cbind in R\n",
    "list_a = [1, 2, 3, 4, 5]\n",
    "list_b = ['a', 'b', 'c', 'd', 'e']\n",
    "\n",
    "zipped_list = zip(list_a, list_b)\n",
    "\n",
    "print (list(zipped_list))"
   ]
  },
  {
   "cell_type": "code",
   "execution_count": 20,
   "metadata": {},
   "outputs": [
    {
     "name": "stdout",
     "output_type": "stream",
     "text": [
      "(1, 2, 3)\n",
      "('a', 'b', 'c')\n"
     ]
    }
   ],
   "source": [
    "# zip to unzip\n",
    "zipper_list = [(1, 'a'), (2, 'b'), (3, 'c')]\n",
    " \n",
    "list_a, list_b = zip(*zipper_list)\n",
    "\n",
    "print(list_a)\n",
    "print(list_b)\n"
   ]
  },
  {
   "cell_type": "code",
   "execution_count": 23,
   "metadata": {},
   "outputs": [
    {
     "name": "stdout",
     "output_type": "stream",
     "text": [
      "120\n"
     ]
    }
   ],
   "source": [
    "# Reduce\n",
    "# Reduce into One single value\n",
    "\n",
    "from functools import reduce\n",
    "h = reduce( (lambda x, y: x * y), [1, 2, 3, 4,5] )\n",
    "# ( (1*1)+(2*2)+(383)+(4*4)+(5*5))\n",
    "print(h)\n"
   ]
  },
  {
   "cell_type": "code",
   "execution_count": 25,
   "metadata": {},
   "outputs": [
    {
     "name": "stdout",
     "output_type": "stream",
     "text": [
      "[1, 4, 9, 16]\n"
     ]
    }
   ],
   "source": [
    "# without List comprehension\n",
    "numbers = [1, 2, 3, 4]\n",
    "squares = []\n",
    "\n",
    "for n in numbers:\n",
    "  squares.append(n**2)\n",
    "\n",
    "print(squares)  # Output: [1, 4, 9, 16]"
   ]
  },
  {
   "cell_type": "code",
   "execution_count": 26,
   "metadata": {},
   "outputs": [
    {
     "name": "stdout",
     "output_type": "stream",
     "text": [
      "[1, 4, 9, 16]\n"
     ]
    }
   ],
   "source": [
    "# with List Comprehension - Oneliner/simplified code - for experts\n",
    "\n",
    "numbers = [1, 2, 3, 4]\n",
    "squares = [n**2 for n in numbers]\n",
    "\n",
    "print(squares)  # Output: [1, 4, 9, 16]"
   ]
  },
  {
   "cell_type": "code",
   "execution_count": 41,
   "metadata": {},
   "outputs": [
    {
     "name": "stdout",
     "output_type": "stream",
     "text": [
      "Wrapper function started\n",
      "Hello Friends\n",
      "Wrapper function ended\n"
     ]
    }
   ],
   "source": [
    "# Decorator functions\n",
    "# # define another WRAPPER function which modifies some_func\n",
    "# Returns\n",
    "#  # Wrapper function add something to the passed function and decorator returns the wrapper function\n",
    "\n",
    "# Decorators\n",
    "def decorator_func(some_func):\n",
    "  # define another wrapper function which modifies some_func\n",
    "  def wrapper_func():\n",
    "    print(\"Wrapper function started\")\n",
    "    \n",
    "    some_func()\n",
    "    \n",
    "    print(\"Wrapper function ended\")\n",
    "    \n",
    "  return wrapper_func # Wrapper function add something to the passed function and decorator returns the wrapper function\n",
    "    \n",
    "def wishme():\n",
    "  print (\"Hello Friends\")\n",
    "  \n",
    "say_hello = decorator_func(wishme)\n",
    "\n",
    "say_hello()"
   ]
  },
  {
   "cell_type": "code",
   "execution_count": 48,
   "metadata": {},
   "outputs": [
    {
     "name": "stdout",
     "output_type": "stream",
     "text": [
      "Wrapper function started\n",
      "Hello IMARTICUS\n",
      "Wrapper function ended\n"
     ]
    }
   ],
   "source": [
    "@decorator_func\n",
    "##\n",
    "def say_hello():\n",
    "    print( 'Hello IMARTICUS')\n",
    " \n",
    "   \n",
    "say_hello()\n"
   ]
  },
  {
   "cell_type": "code",
   "execution_count": 49,
   "metadata": {},
   "outputs": [
    {
     "name": "stdout",
     "output_type": "stream",
     "text": [
      "Sum of all the numbers:  19998\n",
      "Time it took to run the function: 0.0010001659393310547\n",
      "\n"
     ]
    }
   ],
   "source": [
    "# Decorators\n",
    "import time\n",
    "def timing_function(some_function):\n",
    "\n",
    "    \"\"\"\n",
    "    Outputs the time a function takes\n",
    "    to execute.\n",
    "    \"\"\"\n",
    "\n",
    "    def wrapper():\n",
    "        t1 = time.time()\n",
    "        some_function()\n",
    "        t2 = time.time()\n",
    "        return \"Time it took to run the function: \" + str((t2 - t1)) + \"\\n\"\n",
    "    return wrapper\n",
    "\n",
    "\n",
    "@timing_function\n",
    "def my_function():\n",
    "    num_list = []\n",
    "    for num in (range(0, 10000)):\n",
    "        #num_list.append(num)\n",
    "        num += num\n",
    "    print(\"Sum of all the numbers: \" , num)\n",
    "\n",
    "\n",
    "print(my_function())"
   ]
  },
  {
   "cell_type": "code",
   "execution_count": 66,
   "metadata": {},
   "outputs": [
    {
     "name": "stdout",
     "output_type": "stream",
     "text": [
      "1\n",
      "<set_iterator object at 0x000000BE861354C8>\n",
      "[3, 5]\n",
      "<class 'set'>\n",
      "<class 'set_iterator'>\n"
     ]
    }
   ],
   "source": [
    "# iterator\n",
    "a_set = {1, 5, 3, 8}\n",
    "b_iterator = iter(a_set) \n",
    "next(b_iterator)\n",
    "print(next(b_iterator))\n",
    "print(b_iterator)\n",
    "print(list(b_iterator))\n",
    "\n",
    "print(type(a_set))\n",
    "print(type(b_iterator))"
   ]
  },
  {
   "cell_type": "code",
   "execution_count": 67,
   "metadata": {},
   "outputs": [
    {
     "name": "stdout",
     "output_type": "stream",
     "text": [
      "1\n",
      "3\n",
      "5\n",
      "7\n",
      "9\n",
      "11\n"
     ]
    }
   ],
   "source": [
    "from itertools import count\n",
    "sequence = count(start=0, step=1)\n",
    "while(next(sequence) <= 10):\n",
    "    print(next(sequence))"
   ]
  },
  {
   "cell_type": "code",
   "execution_count": 68,
   "metadata": {},
   "outputs": [
    {
     "name": "stdout",
     "output_type": "stream",
     "text": [
      "[1, 2, 3, 4, 5, 6, 7, 8, 9, 10]\n"
     ]
    }
   ],
   "source": [
    "# GENERATOR - YIELD\n",
    "def series_generator(low, high):\n",
    "    while low <= high:\n",
    "       yield low\n",
    "       low += 1\n",
    "\n",
    "n_list = []\n",
    "for num in series_generator(1,10):\n",
    "    n_list.append(num)\n",
    "\n",
    "print(n_list)    "
   ]
  },
  {
   "cell_type": "code",
   "execution_count": null,
   "metadata": {},
   "outputs": [],
   "source": [
    "# Global scope\n",
    "Money = 2000\n",
    "def AddMoney():\n",
    "   # Uncomment the following line to fix the code:\n",
    "   ###     global Money\n",
    "   #global Money \n",
    "   Money = Money + 1\n",
    "\n",
    "print (Money)\n",
    "AddMoney()\n",
    "print (Money)\n",
    "\n",
    "## DONOT excute, show the reason and corection"
   ]
  },
  {
   "cell_type": "code",
   "execution_count": 69,
   "metadata": {},
   "outputs": [
    {
     "name": "stdout",
     "output_type": "stream",
     "text": [
      "[5, 10, 15, 20, 25, 30, 35, 40, 45, 50]\n"
     ]
    }
   ],
   "source": [
    "start = 5\n",
    "myList = [1,2,3,4,5,6,7,8,9,10]\n",
    "\n",
    "def multiplyList(start, myList) :\n",
    "     \n",
    "    # Multiply elements one by one\n",
    "    resultA = list(())\n",
    "    for x in myList:\n",
    "         result = start * x \n",
    "         #print(result)\n",
    "         # resultA.append = result\n",
    "         resultA.append(result)\n",
    "    return resultA \n",
    "     \n",
    "\n",
    "print(multiplyList(5, myList))\n",
    "\n",
    "# 'list' object attribute 'append' is read-only"
   ]
  },
  {
   "cell_type": "code",
   "execution_count": 70,
   "metadata": {},
   "outputs": [
    {
     "name": "stdout",
     "output_type": "stream",
     "text": [
      "weight ::  150 height :: 165\n",
      "In pounds :: 330.693\n",
      "In Inches  :: 64.9605\n",
      "BMI :: 55.091\n",
      "**************************************************\n",
      "weight ::  145 height :: 155\n",
      "In pounds :: 319.6699\n",
      "In Inches  :: 61.0235\n",
      "BMI :: 60.348\n",
      "**************************************************\n",
      "weight ::  182 height :: 162\n",
      "In pounds :: 401.24084\n",
      "In Inches  :: 63.7794\n",
      "BMI :: 69.343\n",
      "**************************************************\n"
     ]
    }
   ],
   "source": [
    "# BMI function\n",
    "\n",
    "weightkg = list((150,145,182))\n",
    "heightinCms = list((165,155,162))\n",
    "\n",
    "def BMI(w,h):\n",
    "    for wt, ht in zip(weightkg, heightinCms):\n",
    "        weightconst = 2.20462\n",
    "        # in =cm * 0.39370\n",
    "        heightconst = 0.39370\n",
    "        print(\"weight :: \",wt,\"height ::\", ht)\n",
    "        weightinPounds = float(wt*weightconst)\n",
    "        heightinInches = float(ht*heightconst)\n",
    "        print(\"In pounds ::\",weightinPounds)\n",
    "        print(\"In Inches  ::\",heightinInches)\n",
    "        out =  (weightinPounds / (heightinInches*heightinInches)) *703\n",
    "        print(\"BMI ::\",round(out,3))\n",
    "        print(\"*\"  * 50)\n",
    "        \n",
    "\n",
    "        \n",
    "BMI(weightkg,heightinCms)   "
   ]
  },
  {
   "cell_type": "code",
   "execution_count": 71,
   "metadata": {},
   "outputs": [
    {
     "data": {
      "text/plain": [
       "'C:\\\\Users\\\\radha'"
      ]
     },
     "execution_count": 71,
     "metadata": {},
     "output_type": "execute_result"
    }
   ],
   "source": [
    "# Import\n",
    "import os\n",
    "os.getcwd() "
   ]
  },
  {
   "cell_type": "code",
   "execution_count": 72,
   "metadata": {},
   "outputs": [
    {
     "data": {
      "text/plain": [
       "['',\n",
       " 'C:\\\\ProgramData\\\\Anaconda3\\\\python36.zip',\n",
       " 'C:\\\\ProgramData\\\\Anaconda3\\\\DLLs',\n",
       " 'C:\\\\ProgramData\\\\Anaconda3\\\\lib',\n",
       " 'C:\\\\ProgramData\\\\Anaconda3',\n",
       " 'C:\\\\ProgramData\\\\Anaconda3\\\\lib\\\\site-packages',\n",
       " 'C:\\\\ProgramData\\\\Anaconda3\\\\lib\\\\site-packages\\\\win32',\n",
       " 'C:\\\\ProgramData\\\\Anaconda3\\\\lib\\\\site-packages\\\\win32\\\\lib',\n",
       " 'C:\\\\ProgramData\\\\Anaconda3\\\\lib\\\\site-packages\\\\Pythonwin',\n",
       " 'C:\\\\ProgramData\\\\Anaconda3\\\\lib\\\\site-packages\\\\IPython\\\\extensions',\n",
       " 'C:\\\\Users\\\\radha\\\\.ipython',\n",
       " 'D:\\\\PyFunctions\\\\']"
      ]
     },
     "execution_count": 72,
     "metadata": {},
     "output_type": "execute_result"
    }
   ],
   "source": [
    "import sys\n",
    "sys.path.append('D:\\\\PyFunctions\\\\')\n",
    "sys.path"
   ]
  },
  {
   "cell_type": "code",
   "execution_count": 73,
   "metadata": {},
   "outputs": [
    {
     "name": "stdout",
     "output_type": "stream",
     "text": [
      "weight ::  150 height :: 165\n",
      "In pounds :: 330.693\n",
      "In Inches  :: 64.9605\n",
      "BMI :: 55.091\n",
      "**************************************************\n",
      "weight ::  145 height :: 155\n",
      "In pounds :: 319.6699\n",
      "In Inches  :: 61.0235\n",
      "BMI :: 60.348\n",
      "**************************************************\n",
      "weight ::  182 height :: 162\n",
      "In pounds :: 401.24084\n",
      "In Inches  :: 63.7794\n",
      "BMI :: 69.343\n",
      "**************************************************\n",
      "['BMI', '__builtins__', '__cached__', '__doc__', '__file__', '__loader__', '__name__', '__package__', '__spec__']\n"
     ]
    }
   ],
   "source": [
    "# VERY IMPT - Modules\n",
    "# module - bmi.py  in D:\\PyFunctions\n",
    "\n",
    "# bmi.py , not from Jupyter notebook , ipynb.\n",
    "# save bmi function in a separate file from spyder and save it in one separte folder eg: D:\\PyFunctions\n",
    "# we can save all our user functions here.\n",
    "\n",
    "import bmi\n",
    "\n",
    "weightkg = list((150,145,182))\n",
    "heightinCms = list((165,155,162))\n",
    "\n",
    "BMI(weightkg,heightinCms)    \n",
    "\n",
    "# contents inside a module\n",
    "content = dir(bmi)\n",
    "print( content)"
   ]
  },
  {
   "cell_type": "markdown",
   "metadata": {},
   "source": [
    "Markdown - Shift + Enter = new cell Ctl+Enter = Run View -> Toggle Line numbers\n",
    "You can load External images "
   ]
  },
  {
   "cell_type": "code",
   "execution_count": null,
   "metadata": {},
   "outputs": [],
   "source": []
  }
 ],
 "metadata": {
  "kernelspec": {
   "display_name": "Python 3",
   "language": "python",
   "name": "python3"
  },
  "language_info": {
   "codemirror_mode": {
    "name": "ipython",
    "version": 3
   },
   "file_extension": ".py",
   "mimetype": "text/x-python",
   "name": "python",
   "nbconvert_exporter": "python",
   "pygments_lexer": "ipython3",
   "version": "3.6.5"
  }
 },
 "nbformat": 4,
 "nbformat_minor": 2
}
