{
 "cells": [
  {
   "cell_type": "code",
   "execution_count": 42,
   "id": "b2409b67",
   "metadata": {},
   "outputs": [],
   "source": [
    "# Regular EXpressions\n",
    "# Pattern search\n",
    "# #Regular Expression Patterns\n",
    "#Except for control characters, (+ ? . * ^ $ ( ) [ ] { } | \\), all characters match them"
   ]
  },
  {
   "cell_type": "code",
   "execution_count": 2,
   "id": "9a7e3f0d",
   "metadata": {},
   "outputs": [],
   "source": [
    "import re"
   ]
  },
  {
   "cell_type": "code",
   "execution_count": 47,
   "id": "9b63781a",
   "metadata": {},
   "outputs": [],
   "source": [
    "txt = \"Sachin is cricket legend and God of cricket\"\n",
    "x = re.search(\"^Sachin.*legend\", txt)\n",
    "\n",
    "# . (dot) any chracter\n",
    "# ^  Starts with\n",
    "# $  Ends with\n",
    "# * Zero or more occurrences"
   ]
  },
  {
   "cell_type": "code",
   "execution_count": 48,
   "id": "0304abce",
   "metadata": {},
   "outputs": [],
   "source": [
    "# + One or more occurrences\n",
    "# ? Zero or one occurrences# * Zero or more occurrences\n",
    "#  * Zero or more occurrences\n"
   ]
  },
  {
   "cell_type": "code",
   "execution_count": 16,
   "id": "4a110883",
   "metadata": {},
   "outputs": [
    {
     "data": {
      "text/plain": [
       "<re.Match object; span=(0, 24), match='Sachin is cricket legend'>"
      ]
     },
     "execution_count": 16,
     "metadata": {},
     "output_type": "execute_result"
    }
   ],
   "source": [
    "x"
   ]
  },
  {
   "cell_type": "code",
   "execution_count": 9,
   "id": "dedee43a",
   "metadata": {},
   "outputs": [],
   "source": [
    "## ^   .*  $\n",
    "# Each has its specfic meaning\n",
    "# Metacharacters are characters with a special meaning:\n",
    "# A special sequence is a \\ followed by one of the characters"
   ]
  },
  {
   "cell_type": "code",
   "execution_count": 17,
   "id": "0d48a458",
   "metadata": {},
   "outputs": [
    {
     "data": {
      "text/plain": [
       "'Sachin is cricket legend'"
      ]
     },
     "execution_count": 17,
     "metadata": {},
     "output_type": "execute_result"
    }
   ],
   "source": [
    "x[0]"
   ]
  },
  {
   "cell_type": "code",
   "execution_count": 18,
   "id": "b9370064",
   "metadata": {},
   "outputs": [
    {
     "name": "stdout",
     "output_type": "stream",
     "text": [
      "['God']\n"
     ]
    }
   ],
   "source": [
    "x = re.findall(\"God\", txt)\n",
    "print(x)"
   ]
  },
  {
   "cell_type": "code",
   "execution_count": 19,
   "id": "1bfbb285",
   "metadata": {},
   "outputs": [
    {
     "name": "stdout",
     "output_type": "stream",
     "text": [
      "['cricket', 'cricket']\n"
     ]
    }
   ],
   "source": [
    "x = re.findall(\"cricket\", txt)\n",
    "print(x)"
   ]
  },
  {
   "cell_type": "code",
   "execution_count": 24,
   "id": "657fee8b",
   "metadata": {},
   "outputs": [
    {
     "data": {
      "text/plain": [
       "<re.Match object; span=(9, 17), match=' cricket'>"
      ]
     },
     "execution_count": 24,
     "metadata": {},
     "output_type": "execute_result"
    }
   ],
   "source": [
    "x = re.search(\"\\scricket\", txt)\n",
    "x\n",
    "# If there is more than one match, only the first occurrence of the match will be returned:"
   ]
  },
  {
   "cell_type": "code",
   "execution_count": 31,
   "id": "5a1bc6b5",
   "metadata": {},
   "outputs": [
    {
     "name": "stdout",
     "output_type": "stream",
     "text": [
      "['Sachin', 'is', 'cricket', 'legend', 'and', 'God', 'of', 'cricket']\n"
     ]
    }
   ],
   "source": [
    "x = re.split(\"\\s\", txt)\n",
    "print(x)\n",
    "#\\s. \\d, \\w"
   ]
  },
  {
   "cell_type": "code",
   "execution_count": 30,
   "id": "b9b6dd4f",
   "metadata": {},
   "outputs": [
    {
     "name": "stdout",
     "output_type": "stream",
     "text": [
      "['Sachin', 'is', 'cricket legend and God of cricket']\n"
     ]
    }
   ],
   "source": [
    "x = re.split(\"\\s\", txt, 2)\n",
    "print(x)\n",
    "# only 1 occurance"
   ]
  },
  {
   "cell_type": "code",
   "execution_count": 32,
   "id": "074d5880",
   "metadata": {},
   "outputs": [
    {
     "name": "stdout",
     "output_type": "stream",
     "text": [
      "Sachin__is__cricket__legend__and__God__of__cricket\n"
     ]
    }
   ],
   "source": [
    "# Replace\n",
    "x = re.sub(\"\\s\", \"__\", txt)\n",
    "print(x)"
   ]
  },
  {
   "cell_type": "code",
   "execution_count": 33,
   "id": "69bb00c1",
   "metadata": {},
   "outputs": [],
   "source": [
    "#The Match object has properties and methods used to retrieve information about the search, and the result:\n",
    "\n",
    "#.span() returns a tuple containing the start-, and end positions of the match.\n",
    "#.string returns the string passed into the function\n",
    "#.group() returns the part of the string where there was a match"
   ]
  },
  {
   "cell_type": "code",
   "execution_count": 34,
   "id": "c25689d3",
   "metadata": {},
   "outputs": [
    {
     "name": "stdout",
     "output_type": "stream",
     "text": [
      "<re.Match object; span=(9, 17), match=' cricket'>\n"
     ]
    }
   ],
   "source": [
    "x = re.search(\"\\scricket\", txt)\n",
    "print(x) #this will print an object"
   ]
  },
  {
   "cell_type": "code",
   "execution_count": 35,
   "id": "715f1c57",
   "metadata": {},
   "outputs": [
    {
     "name": "stdout",
     "output_type": "stream",
     "text": [
      "(9, 17)\n"
     ]
    }
   ],
   "source": [
    "print(x.span())"
   ]
  },
  {
   "cell_type": "code",
   "execution_count": 36,
   "id": "772f2157",
   "metadata": {},
   "outputs": [
    {
     "name": "stdout",
     "output_type": "stream",
     "text": [
      "Sachin is cricket legend and God of cricket\n"
     ]
    }
   ],
   "source": [
    "print(x.string)"
   ]
  },
  {
   "cell_type": "code",
   "execution_count": 37,
   "id": "19299a7b",
   "metadata": {},
   "outputs": [
    {
     "name": "stdout",
     "output_type": "stream",
     "text": [
      " cricket\n"
     ]
    }
   ],
   "source": [
    "print(x.group())"
   ]
  },
  {
   "cell_type": "code",
   "execution_count": 39,
   "id": "0b4926c7",
   "metadata": {},
   "outputs": [
    {
     "name": "stdout",
     "output_type": "stream",
     "text": [
      "matchObj.group() :  Cats are smarter than dogs\n",
      "matchObj.group(1) :  Cats\n",
      "matchObj.group(2) :  smarter\n"
     ]
    }
   ],
   "source": [
    "import re\n",
    "\n",
    "line = \"Cats are smarter than dogs\"\n",
    "\n",
    "matchObj = re.match( r'(.*) are (.*?) .*', line, re.M|re.I)\n",
    "\n",
    "if matchObj:\n",
    "   print (\"matchObj.group() : \", matchObj.group())\n",
    "   print (\"matchObj.group(1) : \", matchObj.group(1))\n",
    "   print (\"matchObj.group(2) : \", matchObj.group(2))\n",
    "else:\n",
    "   print (\"No match!!\")"
   ]
  },
  {
   "cell_type": "code",
   "execution_count": 40,
   "id": "7a6de7d1",
   "metadata": {},
   "outputs": [],
   "source": [
    "# (.*) is  a group"
   ]
  },
  {
   "cell_type": "code",
   "execution_count": 41,
   "id": "f9e68d3d",
   "metadata": {},
   "outputs": [
    {
     "name": "stdout",
     "output_type": "stream",
     "text": [
      "Phone Num :  040-905-559-5555 \n",
      "Phone Num :  0409055595555\n"
     ]
    }
   ],
   "source": [
    "import re\n",
    "\n",
    "phone = \"040-905-559-5555 # This is Phone Number - not mine.\"\n",
    "\n",
    "# Delete Python-style comments\n",
    "num = re.sub(r'#.*$', \"\", phone)\n",
    "print (\"Phone Num : \", num)\n",
    "\n",
    "# Remove anything other than digits\n",
    "num = re.sub(r'\\D', \"\", phone)    \n",
    "print (\"Phone Num : \", num)"
   ]
  },
  {
   "cell_type": "code",
   "execution_count": 60,
   "id": "4fd0e239",
   "metadata": {},
   "outputs": [],
   "source": [
    "# More Advanced / detail\n",
    "\n",
    "# \\d\tReturns a match where the string contains digits (numbers from 0-9)\n",
    "# \\D\tReturns a match where the string DOES NOT contain digits"
   ]
  },
  {
   "cell_type": "code",
   "execution_count": 62,
   "id": "4ab07b0b",
   "metadata": {},
   "outputs": [
    {
     "data": {
      "text/plain": [
       "<re.Match object; span=(0, 1), match='0'>"
      ]
     },
     "execution_count": 62,
     "metadata": {},
     "output_type": "execute_result"
    }
   ],
   "source": [
    "x = re.search(\"\\d\", phone)\n",
    "x"
   ]
  },
  {
   "cell_type": "code",
   "execution_count": 64,
   "id": "7c4502b9",
   "metadata": {},
   "outputs": [
    {
     "data": {
      "text/plain": [
       "<re.Match object; span=(0, 7), match='040-905'>"
      ]
     },
     "execution_count": 64,
     "metadata": {},
     "output_type": "execute_result"
    }
   ],
   "source": [
    "#x = re.search(\"\\d+\", phone)\n",
    "\n",
    "x = re.search(\"\\d+\\-\\d+\", phone)\n",
    "\n",
    "x"
   ]
  },
  {
   "cell_type": "code",
   "execution_count": 46,
   "id": "12162a7a",
   "metadata": {},
   "outputs": [
    {
     "name": "stdout",
     "output_type": "stream",
     "text": [
      "['c', 'c', 'c', 'e', 'e', 'e', 'd', 'd', 'd', 'c', 'c', 'e']\n"
     ]
    }
   ],
   "source": [
    "txt = \"Sachin is cricket legend and God of cricket\"\n",
    "x = re.findall(\"[c-e]\", txt)\n",
    "print(x)\n",
    "# bteween  C and E"
   ]
  },
  {
   "cell_type": "code",
   "execution_count": 49,
   "id": "da8c7473",
   "metadata": {},
   "outputs": [],
   "source": [
    "# . (dot) any chracter\n",
    "# ^  Starts with\n",
    "# $  Ends with\n",
    "    "
   ]
  },
  {
   "cell_type": "code",
   "execution_count": 51,
   "id": "66c449aa",
   "metadata": {},
   "outputs": [],
   "source": [
    "# {}\tExactly the specified number of occurrences\n",
    "# |\tEither or\n",
    "# ()\tCapture and group"
   ]
  },
  {
   "cell_type": "code",
   "execution_count": 52,
   "id": "8b0660f4",
   "metadata": {},
   "outputs": [
    {
     "name": "stdout",
     "output_type": "stream",
     "text": [
      "['cricket', 'cricket']\n",
      "Yes, there is at least one match!\n"
     ]
    }
   ],
   "source": [
    "txt = \"Sachin is cricket legend and God of cricket\"\n",
    "x = re.findall(\"cricket|football\", txt)\n",
    "\n",
    "print(x)\n",
    "\n",
    "if x:\n",
    "  print(\"Yes, there is at least one match!\")\n",
    "else:\n",
    "  print(\"No match\")"
   ]
  },
  {
   "cell_type": "code",
   "execution_count": 58,
   "id": "e320b31c",
   "metadata": {},
   "outputs": [
    {
     "name": "stdout",
     "output_type": "stream",
     "text": [
      "['BENET', 'BERET', 'BEWET', 'BIDET']\n"
     ]
    }
   ],
   "source": [
    "#x = re.findall(\"cr.{3}et\", txt)\n",
    "\n",
    "txt = \"BENET  BERET  BEWET BIDET\"\n",
    "x = re.findall(\"B.{2}ET\", txt)\n",
    "\n",
    "print(x)\n",
    "\n"
   ]
  },
  {
   "cell_type": "code",
   "execution_count": 59,
   "id": "ac045682",
   "metadata": {},
   "outputs": [],
   "source": [
    "##################"
   ]
  },
  {
   "cell_type": "code",
   "execution_count": 76,
   "id": "0acd6d1a",
   "metadata": {},
   "outputs": [
    {
     "data": {
      "text/plain": [
       "<re.Match object; span=(0, 1), match='9'>"
      ]
     },
     "execution_count": 76,
     "metadata": {},
     "output_type": "execute_result"
    }
   ],
   "source": [
    "# \\s\tReturns a match where the string contains a white space character\n",
    "# \\S\tReturns a match where the string DOES NOT contain a white space character\n",
    "phone = \"999 This is Phone Number - not mine.\"\n",
    "\n",
    "x = re.search(\"\\S\", phone)\n",
    "\n",
    "x"
   ]
  },
  {
   "cell_type": "code",
   "execution_count": 79,
   "id": "68c9d7c3",
   "metadata": {},
   "outputs": [
    {
     "data": {
      "text/plain": [
       "<re.Match object; span=(3, 4), match=' '>"
      ]
     },
     "execution_count": 79,
     "metadata": {},
     "output_type": "execute_result"
    }
   ],
   "source": [
    "# \\w\tReturns a match where the string contains any word characters \n",
    "   #(characters from a to Z, digits from 0-9, and the underscore _ character)\n",
    "# \\W\tReturns a match where the string DOES NOT contain any word characters\n",
    "\n",
    "phone = \"999 This is Phone Number - not mine.\"\n",
    "\n",
    "x = re.search(\"\\W\", phone)\n",
    "\n",
    "x"
   ]
  },
  {
   "cell_type": "code",
   "execution_count": 85,
   "id": "d76e5f2a",
   "metadata": {},
   "outputs": [
    {
     "name": "stdout",
     "output_type": "stream",
     "text": [
      "['mine.']\n",
      "Yes, there is a match!\n"
     ]
    }
   ],
   "source": [
    "x = re.findall(\"mine\\.\\Z\", phone)\n",
    "# \\Z  or $\n",
    "\n",
    "print(x)\n",
    "\n",
    "if x:\n",
    "  print(\"Yes, there is a match!\")\n",
    "else:\n",
    "  print(\"No match\")\n"
   ]
  },
  {
   "cell_type": "code",
   "execution_count": 86,
   "id": "9bb7c69d",
   "metadata": {},
   "outputs": [],
   "source": [
    "# A set is a set of characters inside a pair of square brackets [] with a special meaning:"
   ]
  },
  {
   "cell_type": "code",
   "execution_count": 88,
   "id": "2e9ea93d",
   "metadata": {},
   "outputs": [],
   "source": [
    "# [arn]\tReturns a match where one of the specified characters (a, r, or n) are present\n",
    "# [a-n]\tReturns a match for any lower case character, alphabetically between a and n\n",
    "\n",
    "# [0-9]\tReturns a match for any digit between 0 and 9\n",
    "# [0-5][0-9]\tReturns a match for any two-digit numbers from 00 and 59\n",
    "# [a-zA-Z]\tReturns a match for any character alphabetically between a and z, lower case OR upper case\n"
   ]
  },
  {
   "cell_type": "code",
   "execution_count": 89,
   "id": "9eac4d4c",
   "metadata": {},
   "outputs": [
    {
     "name": "stdout",
     "output_type": "stream",
     "text": [
      "['14', '45']\n"
     ]
    }
   ],
   "source": [
    "txt = \"8 times before 14:45 AM\"\n",
    "\n",
    "#Check if the string has any two-digit numbers, from 00 to 59:\n",
    "\n",
    "x = re.findall(\"[0-5][0-9]\", txt)\n",
    "\n",
    "print(x)"
   ]
  },
  {
   "cell_type": "code",
   "execution_count": 90,
   "id": "005e6a97",
   "metadata": {},
   "outputs": [],
   "source": [
    "# matchObj = re.match( r'(.*) are (.*?) .*', line, re.M|re.I)"
   ]
  },
  {
   "cell_type": "code",
   "execution_count": 91,
   "id": "c4a8defa",
   "metadata": {},
   "outputs": [
    {
     "name": "stdout",
     "output_type": "stream",
     "text": [
      "Match!\n"
     ]
    }
   ],
   "source": [
    "import re\n",
    "pattern = r\"Pavan\"\n",
    "sequence = \"Pavan\"\n",
    "if re.match(pattern, sequence):\n",
    "  print(\"Match!\")\n",
    "else: print(\"Not a match!\")"
   ]
  },
  {
   "cell_type": "code",
   "execution_count": 95,
   "id": "80b0b675",
   "metadata": {},
   "outputs": [
    {
     "data": {
      "text/plain": [
       "'098765432'"
      ]
     },
     "execution_count": 95,
     "metadata": {},
     "output_type": "execute_result"
    }
   ],
   "source": [
    "re.search(r'\\d{9,10}', '098765432').group()"
   ]
  },
  {
   "cell_type": "code",
   "execution_count": 96,
   "id": "bc4432fc",
   "metadata": {},
   "outputs": [
    {
     "name": "stdout",
     "output_type": "stream",
     "text": [
      "support@pavan.com\n",
      "support\n",
      "pavan.com\n"
     ]
    }
   ],
   "source": [
    "email_address = 'Please contact us at: support@pavan.com'\n",
    "match = re.search(r'([\\w\\.-]+)@([\\w\\.-]+)', email_address)\n",
    "if match:\n",
    "  print(match.group()) # The whole matched text\n",
    "  print(match.group(1)) # The username (group 1) \n",
    "  print(match.group(2)) # The host (group 2)"
   ]
  },
  {
   "cell_type": "code",
   "execution_count": 97,
   "id": "7977221d",
   "metadata": {},
   "outputs": [
    {
     "name": "stdout",
     "output_type": "stream",
     "text": [
      "support@pavan.com\n",
      "xyz@ihub.com\n"
     ]
    }
   ],
   "source": [
    "email_address = \"Please contact us at: support@pavan.com, xyz@ihub.com\"\n",
    "\n",
    "#'addresses' is a list that stores all the possible match\n",
    "addresses = re.findall(r'[\\w\\.-]+@[\\w\\.-]+', email_address)\n",
    "for address in addresses: \n",
    "    print(address)"
   ]
  },
  {
   "cell_type": "code",
   "execution_count": 98,
   "id": "97712162",
   "metadata": {},
   "outputs": [],
   "source": [
    "# Notes"
   ]
  },
  {
   "cell_type": "code",
   "execution_count": 99,
   "id": "26e1d828",
   "metadata": {},
   "outputs": [],
   "source": [
    "# 1. re.match(pattern, string, flags=0)\n",
    "# re.I Performs case-insensitive matching . \n",
    "# re.M Makes $ matchthe end of a line  and ^ for starting\n",
    "\n",
    "\n",
    "\n",
    "# 2. This function searches for first occurrence of RE pattern within string with optional flags.\n",
    "# re.search(pattern, string, flags=0)\n",
    "\n",
    "# The re.search function returns a match object on success, none on failure.\n",
    "# We use group(num) or groups() function of match object to get matched expression.\n",
    "\n",
    "# MATCH checks for a match only at the beginning of the string, \n",
    "# while SEARCH checks for a match anywhere in the string (this is what Perl does by default)."
   ]
  },
  {
   "cell_type": "code",
   "execution_count": 101,
   "id": "16a13cd1",
   "metadata": {},
   "outputs": [
    {
     "name": "stdout",
     "output_type": "stream",
     "text": [
      "No match!!\n",
      "search --> searchObj.group() :  dogs\n"
     ]
    }
   ],
   "source": [
    "line = \"Cats are smarter than dogs\";\n",
    "\n",
    "matchObj = re.match( r'dogs', line, re.M|re.I)\n",
    "if matchObj:\n",
    "   print(\"match --> matchObj.group() : \", matchObj.group())\n",
    "else:\n",
    "   print(\"No match!!\")\n",
    "\n",
    "searchObj = re.search( r'dogs', line, re.M|re.I)\n",
    "if searchObj:\n",
    "   print(\"search --> searchObj.group() : \", searchObj.group())\n",
    "else:\n",
    "   print(\"Nothing found!!\")"
   ]
  },
  {
   "cell_type": "code",
   "execution_count": null,
   "id": "2d008441",
   "metadata": {},
   "outputs": [],
   "source": []
  }
 ],
 "metadata": {
  "kernelspec": {
   "display_name": "Python 3",
   "language": "python",
   "name": "python3"
  },
  "language_info": {
   "codemirror_mode": {
    "name": "ipython",
    "version": 3
   },
   "file_extension": ".py",
   "mimetype": "text/x-python",
   "name": "python",
   "nbconvert_exporter": "python",
   "pygments_lexer": "ipython3",
   "version": "3.8.8"
  }
 },
 "nbformat": 4,
 "nbformat_minor": 5
}
