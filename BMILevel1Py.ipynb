{
 "cells": [
  {
   "cell_type": "code",
   "execution_count": 4,
   "metadata": {},
   "outputs": [
    {
     "name": "stdout",
     "output_type": "stream",
     "text": [
      "330.693\n",
      "64.9605\n"
     ]
    }
   ],
   "source": [
    "weightkg = 150\n",
    "heightinCms = 165\n",
    "\n",
    "weightconst = 2.20462\n",
    "# in =cm * 0.39370\n",
    "heightconst = 0.39370\n",
    "\n",
    "weightinPounds = weightkg*weightconst\n",
    "heightinInches = heightinCms*heightconst\n",
    "\n",
    "print(weightinPounds)\n",
    "print(heightinInches)\n"
   ]
  },
  {
   "cell_type": "code",
   "execution_count": 5,
   "metadata": {},
   "outputs": [
    {
     "name": "stdout",
     "output_type": "stream",
     "text": [
      "55.091120934930046\n"
     ]
    }
   ],
   "source": [
    "out =  (weightinPounds / (heightinInches*heightinInches)) *703\n",
    "print(out)"
   ]
  },
  {
   "cell_type": "code",
   "execution_count": 51,
   "metadata": {},
   "outputs": [
    {
     "name": "stdout",
     "output_type": "stream",
     "text": [
      "401.24084\n",
      "63.7794\n"
     ]
    }
   ],
   "source": [
    "weightkg = list((150,145,182))\n",
    "heightinCms = list((165,155,162))\n",
    "\n",
    "# TypeError: 'float' object is not subscriptable\n",
    "\n",
    "weightinPounds = float(weightkg[2]*weightconst)\n",
    "heightinInches = float(heightinCms[2]*heightconst)\n",
    "print(weightinPounds)\n",
    "print(heightinInches)\n",
    "\n"
   ]
  },
  {
   "cell_type": "code",
   "execution_count": 52,
   "metadata": {},
   "outputs": [
    {
     "name": "stdout",
     "output_type": "stream",
     "text": [
      "The zipped result is : [(150, 165), (145, 155), (182, 162)]\n",
      "(150, 145, 182) (165, 155, 162)\n",
      "150\n",
      "330.693\n",
      "64.9605\n"
     ]
    }
   ],
   "source": [
    "# join 2 Columns of data, as many columns as you can !! Azip - Unzip\n",
    "# Not Complex, need Bit of Logic and Patience\n",
    "\n",
    "# using zip() to map values\n",
    "mapped = zip(weightkg,heightinCms)\n",
    " \n",
    "# converting values to print as list\n",
    "mapped = list(mapped)\n",
    " \n",
    "# printing resultant values \n",
    "print (\"The zipped result is : \",end=\"\")\n",
    "print (mapped)\n",
    "\n",
    "# unzipping values\n",
    "wt,ht= zip(*mapped)\n",
    "print(wt, ht)\n",
    "print(wt[0])\n",
    "\n",
    "weightinPounds = float(wt[0]*weightconst)\n",
    "heightinInches = float(ht[0]*heightconst)\n",
    "\n",
    "print(weightinPounds)\n",
    "print(heightinInches)\n"
   ]
  },
  {
   "cell_type": "code",
   "execution_count": 53,
   "metadata": {},
   "outputs": [
    {
     "name": "stdout",
     "output_type": "stream",
     "text": [
      "{150: 165, 145: 155, 182: 162}\n",
      "165\n",
      "dict_keys([150, 145, 182])\n",
      "dict_values([165, 155, 162])\n",
      "330.693\n",
      "64.9605\n"
     ]
    }
   ],
   "source": [
    "# dict\n",
    "# dictionary with integer keys\n",
    "my_dict = {150: 165, 145: 155, 182:162}\n",
    "print(my_dict)\n",
    "\n",
    "X = my_dict.get(150)\n",
    "print(X)\n",
    "\n",
    "print(my_dict.keys())   # Prints all the keys\n",
    "print(my_dict.values()) # Prints all the values\n",
    "\n",
    "A = list(my_dict.keys())\n",
    "B = list(my_dict.values())\n",
    "\n",
    "weightinPounds = float(A[0]*weightconst)\n",
    "heightinInches = float(B[0]*heightconst)\n",
    "\n",
    "print(weightinPounds)\n",
    "print(heightinInches)\n"
   ]
  },
  {
   "cell_type": "code",
   "execution_count": 54,
   "metadata": {},
   "outputs": [
    {
     "name": "stdout",
     "output_type": "stream",
     "text": [
      "weight ::  150 height :: 165\n",
      "In pounds :: 330.693\n",
      "In Inches  :: 64.9605\n",
      "BMI :: 55.091\n",
      "**************************************************\n",
      "weight ::  145 height :: 155\n",
      "In pounds :: 319.6699\n",
      "In Inches  :: 61.0235\n",
      "BMI :: 60.348\n",
      "**************************************************\n",
      "weight ::  182 height :: 162\n",
      "In pounds :: 401.24084\n",
      "In Inches  :: 63.7794\n",
      "BMI :: 69.343\n",
      "**************************************************\n"
     ]
    }
   ],
   "source": [
    "weightkg = list((150,145,182))\n",
    "heightinCms = list((165,155,162))\n",
    "\n",
    "for wt, ht in zip(weightkg, heightinCms):\n",
    "    print(\"weight :: \",wt,\"height ::\", ht)\n",
    "    weightinPounds = float(wt*weightconst)\n",
    "    heightinInches = float(ht*heightconst)\n",
    "    print(\"In pounds ::\",weightinPounds)\n",
    "    print(\"In Inches  ::\",heightinInches)\n",
    "    out =  (weightinPounds / (heightinInches*heightinInches)) *703\n",
    "    print(\"BMI ::\",round(out,3))\n",
    "    print(\"*\"  * 50)\n",
    "    \n",
    "        \n",
    "\n",
    "   "
   ]
  },
  {
   "cell_type": "code",
   "execution_count": 59,
   "metadata": {},
   "outputs": [
    {
     "name": "stdout",
     "output_type": "stream",
     "text": [
      "weight ::  150 height :: 165\n",
      "In pounds :: 330.693\n",
      "In Inches  :: 64.9605\n",
      "BMI :: 55.091\n",
      "**************************************************\n",
      "weight ::  145 height :: 155\n",
      "In pounds :: 319.6699\n",
      "In Inches  :: 61.0235\n",
      "BMI :: 60.348\n",
      "**************************************************\n",
      "weight ::  182 height :: 162\n",
      "In pounds :: 401.24084\n",
      "In Inches  :: 63.7794\n",
      "BMI :: 69.343\n",
      "**************************************************\n"
     ]
    }
   ],
   "source": [
    "# From Dictionary\n",
    "\n",
    "my_dict = {150: 165, 145: 155, 182:162}\n",
    "#print(my_dict)\n",
    "for wt, ht in my_dict.items():\n",
    "    print(\"weight :: \",wt,\"height ::\", ht)\n",
    "    weightinPounds = float(wt*weightconst)\n",
    "    heightinInches = float(ht*heightconst)\n",
    "    print(\"In pounds ::\",weightinPounds)\n",
    "    print(\"In Inches  ::\",heightinInches)\n",
    "    out =  (weightinPounds / (heightinInches*heightinInches)) *703\n",
    "    print(\"BMI ::\",round(out,3))\n",
    "    print(\"*\"  * 50)\n"
   ]
  },
  {
   "cell_type": "code",
   "execution_count": null,
   "metadata": {},
   "outputs": [],
   "source": []
  }
 ],
 "metadata": {
  "kernelspec": {
   "display_name": "Python 3",
   "language": "python",
   "name": "python3"
  },
  "language_info": {
   "codemirror_mode": {
    "name": "ipython",
    "version": 3
   },
   "file_extension": ".py",
   "mimetype": "text/x-python",
   "name": "python",
   "nbconvert_exporter": "python",
   "pygments_lexer": "ipython3",
   "version": "3.6.5"
  }
 },
 "nbformat": 4,
 "nbformat_minor": 2
}
