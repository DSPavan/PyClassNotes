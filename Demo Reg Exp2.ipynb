{
 "cells": [
  {
   "cell_type": "code",
   "execution_count": 4,
   "id": "6e64da39",
   "metadata": {},
   "outputs": [
    {
     "data": {
      "text/plain": [
       "('27', '1835')"
      ]
     },
     "execution_count": 4,
     "metadata": {},
     "output_type": "execute_result"
    }
   ],
   "source": [
    "import re\n",
    "\n",
    "m = re.search(r\"(\\d+)\\.(\\d+)\", \"27.1835\")\n",
    "m.groups()"
   ]
  },
  {
   "cell_type": "code",
   "execution_count": 10,
   "id": "47d95b5f",
   "metadata": {},
   "outputs": [
    {
     "name": "stdout",
     "output_type": "stream",
     "text": [
      "1835\n"
     ]
    }
   ],
   "source": [
    "print(m.group(2))"
   ]
  },
  {
   "cell_type": "code",
   "execution_count": 9,
   "id": "d781ccf1",
   "metadata": {},
   "outputs": [
    {
     "data": {
      "text/plain": [
       "'27.1835'"
      ]
     },
     "execution_count": 9,
     "metadata": {},
     "output_type": "execute_result"
    }
   ],
   "source": [
    "m.group(0)"
   ]
  },
  {
   "cell_type": "code",
   "execution_count": 7,
   "id": "9612d3c7",
   "metadata": {},
   "outputs": [
    {
     "name": "stdout",
     "output_type": "stream",
     "text": [
      "('PINEAPPLE', '20')\n",
      "PINEAPPLE\n",
      "20\n"
     ]
    }
   ],
   "source": [
    "import re\n",
    "\n",
    "target_string = \"The price of PINEAPPLE ice cream is 20\"\n",
    "\n",
    "# two groups enclosed in separate ( and ) bracket\n",
    "result = re.search(r\"(\\b[A-Z]+\\b).+(\\b\\d+)\", target_string)\n",
    "\n",
    "# Extract matching values of all groups\n",
    "print(result.groups())\n",
    "# Output ('PINEAPPLE', '20')\n",
    "\n",
    "# Extract match value of group 1\n",
    "print(result.group(1))\n",
    "# Output 'PINEAPPLE'\n",
    "\n",
    "# Extract match value of group 2\n",
    "print(result.group(2))\n",
    "# Output 20"
   ]
  },
  {
   "cell_type": "code",
   "execution_count": 13,
   "id": "c0cee17d",
   "metadata": {},
   "outputs": [
    {
     "name": "stdout",
     "output_type": "stream",
     "text": [
      "('PINEAPPLE', '20')\n",
      "('MANGO', '30')\n",
      "('CHOCOLATE', '40')\n"
     ]
    }
   ],
   "source": [
    "import re\n",
    "\n",
    "target_string = \"The price of ice-creams PINEAPPLE 20 MANGO 30 CHOCOLATE 40\"\n",
    "\n",
    "# two groups enclosed in separate ( and ) bracket\n",
    "# group 1: find all uppercase letter\n",
    "# group 2: find all numbers\n",
    "# you can compile a pattern or directly pass to the finditer() method\n",
    "pattern = re.compile(r\"(\\b[A-Z]+\\b).(\\b\\d+\\b)\")\n",
    "\n",
    "# find all matches to groups\n",
    "for match in pattern.finditer(target_string):\n",
    "    # extract words\n",
    "    print(match.group(1,2))\n",
    "    # extract numbers\n",
    "    #print(match.group(2))"
   ]
  },
  {
   "cell_type": "code",
   "execution_count": 12,
   "id": "1345bcef",
   "metadata": {},
   "outputs": [
    {
     "name": "stdout",
     "output_type": "stream",
     "text": [
      "('PINEAPPLE', '20')\n"
     ]
    }
   ],
   "source": [
    "print(result.group(1, 2))"
   ]
  },
  {
   "cell_type": "code",
   "execution_count": null,
   "id": "65bf2f22",
   "metadata": {},
   "outputs": [],
   "source": []
  }
 ],
 "metadata": {
  "kernelspec": {
   "display_name": "Python 3",
   "language": "python",
   "name": "python3"
  },
  "language_info": {
   "codemirror_mode": {
    "name": "ipython",
    "version": 3
   },
   "file_extension": ".py",
   "mimetype": "text/x-python",
   "name": "python",
   "nbconvert_exporter": "python",
   "pygments_lexer": "ipython3",
   "version": "3.8.8"
  }
 },
 "nbformat": 4,
 "nbformat_minor": 5
}
